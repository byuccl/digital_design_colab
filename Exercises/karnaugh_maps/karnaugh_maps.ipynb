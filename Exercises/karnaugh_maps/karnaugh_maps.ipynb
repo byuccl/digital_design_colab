{
 "cells": [
  {
   "cell_type": "code",
   "execution_count": null,
   "metadata": {
    "cellView": "form",
    "id": "ls-IUqhWZuYf"
   },
   "outputs": [],
   "source": [
    "#@markdown ## **Setup**\n",
    "\n",
    "import ipywidgets as widgets\n",
    "from ipywidgets import GridspecLayout\n",
    "from ipywidgets import AppLayout, Button, Layout, jslink, IntText, IntSlider\n",
    "import requests\n",
    "#Creates a text document using the Raw github url. This text document will be used as a .py file for imports\n",
    "def import_text(text):\n",
    "  url = 'https://raw.githubusercontent.com/byuccl/digital_design_colab2/master/Exercises/karnaugh_maps/files/%s' % text\n",
    "  resp = requests.get(url)\n",
    "  with open(text, 'wb') as f:\n",
    "    f.write(resp.content)\n",
    "\n",
    "\n",
    "import_text(\"karnaugh_template.py\")\n",
    "\n",
    "\n",
    "\n",
    "\n",
    "#Load in the files as functions\n",
    "from karnaugh_template import *\n"
   ]
  },
  {
   "cell_type": "markdown",
   "metadata": {},
   "source": [
    "### Karnaugh Map Overview\n",
    "We have seen earlier that it can be quite hard to find the smallest boolean function.  \n",
    "Often, we never know how much further we need to go in our simplification.  \n",
    "This is where, Karnuagh maps come in. Karnaugh Maps provide a systematic way to achieve this simplification\n",
    "\n",
    "Consider the function F(A,B) = A'B' + A'B  \n",
    "This function simplifies to A' using Boolean Algebra. Below is the function represented by a truth table:\n",
    "\n",
    "|A|B|F(A,B)|\n",
    "|-|-|-|\n",
    "|0|0|1|\n",
    "|0|1|1|\n",
    "|1|0|0|\n",
    "|1|1|0|\n",
    "\n",
    "\n",
    "It can often be hard to spot what technique we should apply and how to do it. Thats where   \n",
    "Karnaugh Map's can come into play\n",
    "\n",
    "### Introduction to Grey Code\n",
    "First lets quickly discuss grey code. Grey code is a binary sequence where two successive values differ in only one bit. Grey code is ordering binary not in numerical order, but havinig each term only change by one bit. For example instead of `00`->`01`->`10`->`11` in our truth table, we use   \n",
    "`00`->`01`->`11`->`10`. Why do this? This allows us to spot patterns in the truth table better.\n",
    "For example, the following tabele is in a numerical ordering:\n",
    "\n",
    "|A|B|F(A,B)|\n",
    "|-|-|-|\n",
    "|0|0|0|\n",
    "|0|1|1|\n",
    "|1|0|0|\n",
    "|1|1|1|\n",
    "\n",
    "WHile this table is sorted using Grey Code:\n",
    "\n",
    "|A|B|F(A,B)|\n",
    "|-|-|-|\n",
    "|0|0|0|\n",
    "|0|1|1|\n",
    "|1|1|1|\n",
    "|1|0|0|\n",
    "\n",
    "\n",
    "Using Grey code, it becomes much easier to see that F = B in the truth table. \n",
    "\n",
    "We can use a Karnuagh Map (KMap) that uses grey code to easily spot the group's of 1's (min-terms) that can be combined to simplify the expression\n",
    "\n",
    "Example Karnaugh Map for Function F = B:\n",
    "\n",
    "|B\\A|0|1|\n",
    "|-|-|-|\n",
    "|0|0|1|\n",
    "|1|0|1|\n",
    "\n",
    "In this map, by sorting this way we can see the function simplifies down to B.\n",
    "\n",
    "When we have KMaps we can find the largest squares to find the min-terms. How does this work?  \n",
    "Well using the previous example, we can draw a square around the two `1`s. We then ask what is related in this box? In this case its that in both B is true. So we can add B to the equation.\n",
    "\n",
    "\n",
    "### Wrapping  \n",
    "We can represent KMaps with 3 inputs like this. (They can also be rotated)\n",
    "\n",
    "Consider a complex Karnaugh Map with overlaps:\n",
    "\n",
    "|BC\\A|0|1|\n",
    "|-|-|-|\n",
    "|00|0|1|\n",
    "|01|1|0|\n",
    "|11|1|0|\n",
    "|10|0|1|\n",
    "\n",
    "Rule of Group Sizes in Karnaugh Maps:\n",
    "Each side of a group in a Karnaugh Map should be a power of 2 (e.g., 1x1, 2x2, 1x2). This rule helps ensure that all groupings align with Grey code changes and simplification rules.\n",
    "\n",
    "Wrap-Up and Special Cases:\n",
    "Karnaugh Maps can also handle special cases, such as when four inputs are used, and each corner of the map is a '1'. This specific arrangement can simplify to B′D′B′D′, illustrating the power of spatial grouping in simplification.\n",
    "\n",
    "There is a special case for the four input grid where each corner is selected. It is demonstrated in the following table:\n",
    "\n",
    "|CD\\AB|00|01|11|10|\n",
    "|-|-|-|-|-|\n",
    "|00|1|0|0|1|\n",
    "|01|0|0|0|0|\n",
    "|11|0|0|0|0|\n",
    "|10|1|0|0|1|\n",
    "\n",
    "The corners where the '1's appear signify that the output is true when either both pairs (C, D) and (A, B) are both 0 or both pairs are different from each other.\n",
    "These corners can be connected in what we call the \"wrap around\" method, a unique property of K-Maps where the edges of the map are considered adjacent. This adjacency allows for looping around the map to form a group.\n",
    "For this particular case, the grouping reflects when both A and D are not equal to B and C respectively.\n",
    "\n",
    "Deriving the Boolean Expression:\n",
    "\n",
    "    The '1's at CD\\AB = 00\\00 and 10\\10 can be combined to form B‾D‾BD (B and D are both 0).\n",
    "    The '1's at CD\\AB = 00\\10 and 10\\00 can be combined to form BDBD (B and D are both 1).\n",
    "    These two expressions reflect conditions where B and D differ in their logic state.\n",
    "\n",
    "It can be simplified in this case to B'D'.\n",
    "\n",
    "\n",
    "Advanced Karnaugh Maps:\n",
    "Karnaugh Maps can extend to 3D for five or more variables, though this is complex and not typically covered at introductory levels.\n"
   ]
  },
  {
   "cell_type": "code",
   "execution_count": null,
   "metadata": {},
   "outputs": [],
   "source": [
    "print_km_grid(1)"
   ]
  },
  {
   "cell_type": "code",
   "execution_count": null,
   "metadata": {},
   "outputs": [],
   "source": [
    "print_km_grid(2)"
   ]
  },
  {
   "cell_type": "code",
   "execution_count": null,
   "metadata": {},
   "outputs": [],
   "source": [
    "print_km_grid(3)"
   ]
  },
  {
   "cell_type": "code",
   "execution_count": null,
   "metadata": {},
   "outputs": [],
   "source": [
    "print_km_grid(4)"
   ]
  },
  {
   "attachments": {},
   "cell_type": "markdown",
   "metadata": {},
   "source": [
    "Click [Here](https://colab.research.google.com/github/byuccl/digital_design_colab2/blob/master/Exercises/binary_hex/binary_hex.ipynb) to move on to the Binary and Hexadecimal Lesson."
   ]
  }
 ],
 "metadata": {
  "kernelspec": {
   "display_name": "Python 3",
   "language": "python",
   "name": "python3"
  },
  "language_info": {
   "codemirror_mode": {
    "name": "ipython",
    "version": 3
   },
   "file_extension": ".py",
   "mimetype": "text/x-python",
   "name": "python",
   "nbconvert_exporter": "python",
   "pygments_lexer": "ipython3",
   "version": "3.10.12"
  },
  "orig_nbformat": 4,
  "vscode": {
   "interpreter": {
    "hash": "916dbcbb3f70747c44a77c7bcd40155683ae19c65e1c03b4aa3499c5328201f1"
   }
  }
 },
 "nbformat": 4,
 "nbformat_minor": 2
}
