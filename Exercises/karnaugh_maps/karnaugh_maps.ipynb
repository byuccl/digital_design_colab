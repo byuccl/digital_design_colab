{
 "cells": [
  {
   "cell_type": "markdown",
   "metadata": {},
   "source": [
    "## **Setup**\n",
    "Click the Play Button. No need to expand. Do not touch this. "
   ]
  },
  {
   "cell_type": "code",
   "execution_count": null,
   "metadata": {},
   "outputs": [],
   "source": [
    "#@title Import Files from Repo\n",
    "import ipywidgets as widgets\n",
    "from ipywidgets import GridspecLayout\n",
    "from ipywidgets import AppLayout, Button, Layout, jslink, IntText, IntSlider\n",
    "import requests\n",
    "#Creates a text document using the Raw github url. This text document will be used as a .py file for imports\n",
    "def import_text(text):\n",
    "  url = 'https://raw.githubusercontent.com/byuccl/digital_design_colab2/master/Exercises/karnaugh_maps/files/%s' % text\n",
    "  resp = requests.get(url)\n",
    "  with open(text, 'wb') as f:\n",
    "    f.write(resp.content)\n",
    "\n",
    "\n",
    "import_text(\"karnaugh.py\")\n",
    "\n",
    "\n",
    "\n",
    "\n",
    "#Load in the files as functions\n",
    "from karnaugh import *\n"
   ]
  },
  {
   "cell_type": "markdown",
   "metadata": {},
   "source": [
    "###  Karnaugh map Overview\n",
    "We have seen earlier that it can be quite hard to find the smallest boolean function.  \n",
    "Often, we never know how much further we need to go in our simplification.  \n",
    "This is where, Karnuagh maps come in. They give us a way to find the simplest  \n",
    "equation for the given function.  \n",
    "\n",
    "For example we have the function F(A,B) = A'B' A'B  \n",
    "Using simplification techniques this cana become A'.\n",
    "|A|B|F(A,B)|\n",
    "|-|-|-|\n",
    "|0|0|1|\n",
    "|0|1|1|\n",
    "|1|0|0|\n",
    "|1|1|0|\n",
    "\n",
    "It can often be hard to spot what technique we should apply and how to do it. Thats where   \n",
    "Karnaugh map scan come into play\n",
    "\n",
    "First lets quickly discuss grey code. Grey code is ordering binary not in numerical order, but havinig each term only change by one bit. For example instead of `00`->`01`->`10`->`11` in our truth table, we use   \n",
    "`00`->`01`->`11`->`10`. Why do this? This allows us to spot patterns in the truth table better.\n",
    "For example:\n",
    "|A|B|F(A,B)|\n",
    "|-|-|-|\n",
    "|0|0|0|\n",
    "|0|1|1|\n",
    "|1|0|0|\n",
    "|1|1|1|\n",
    "\n",
    "With Grey Code\n",
    "|A|B|F(A,B)|\n",
    "|-|-|-|\n",
    "|0|0|0|\n",
    "|0|1|1|\n",
    "|1|1|1|\n",
    "|1|0|0|\n",
    "\n",
    "\n",
    "With grey code it becomes much easier to spot that the functions if F = B.  \n",
    "\n",
    "We can use a Karnuagh Map (KMap) that uses grey code to easily spot the minterms in an expression.\n",
    "\n",
    "|B\\A|0|1|\n",
    "|-|-|-|\n",
    "|0|0|1|\n",
    "|1|0|1|\n",
    "\n",
    "\n",
    "\n",
    "When we have KMaps we can find the largest squares to find the min-terms. How does this work?  \n",
    "Well using the previous example, we can draw a square around the two `1`s. We then ask what is related in this box? In this case its that in both B is true. So we can add B to the equation.\n",
    "\n",
    "Now lets look at another arbitrary truth table.\n",
    "\n",
    "And here is the KMap.\n",
    "\n",
    "Looking at this we can see that there are two boxes we can draw and they overlap.  \n",
    "One box is A', the other is B. \n",
    "\n",
    "### Wrapping  \n",
    "We can represent KMaps with 3 inputs like this. (They can also be rotated)\n",
    "|BC\\A|0|1|\n",
    "|-|-|-|\n",
    "|00|0|1|\n",
    "|01|1|0|\n",
    "|11|1|0|\n",
    "|10|0|1|\n",
    "\n",
    "In this case There is a 1 in the top right corner, and a one in the bottom corner. Because of how grey code loops, these `1`s are still adjacent. So we can draw a box around.\n",
    "This gives us the equation AC'.\n",
    "\n",
    "What if we can draw some overlapping boxes?\n",
    "In that case, if a box is covered by other cases, it is not needed.  \n",
    "For example\n",
    "//Figure 12.8\n",
    "\n",
    "\n",
    "We can also circle more than two `1`s. This allows us to do more simplifying faster.  \n",
    "\n",
    "\n",
    "How many squares can fit in a certain box? The simple rule is that each side needs to have a dimension equal to a power of 2. What this means is we can have a 2x4 box, or a 1x1, but not a 2x3 or 3x5..\n",
    "\n",
    "|CD\\AB|00|01|11|10|\n",
    "|-|-|-|-|-|\n",
    "|00|1|0|0|1|\n",
    "|01|0|0|0|0|\n",
    "|11|0|0|0|0|\n",
    "|10|1|0|0|1|\n",
    "\n",
    "There is a special case for the four input grid where each corner is selected. It can be simplified in this case to B'D'.\n",
    "\n",
    "\n",
    "Where is the 5 input KMap? Well is 3D so please stop asking.\n",
    "\n"
   ]
  },
  {
   "cell_type": "code",
   "execution_count": null,
   "metadata": {},
   "outputs": [],
   "source": [
    "print_km_grid(1)"
   ]
  },
  {
   "cell_type": "code",
   "execution_count": null,
   "metadata": {},
   "outputs": [],
   "source": [
    "print_km_grid(2)"
   ]
  },
  {
   "cell_type": "code",
   "execution_count": null,
   "metadata": {},
   "outputs": [],
   "source": [
    "print_km_grid(3)"
   ]
  },
  {
   "cell_type": "code",
   "execution_count": null,
   "metadata": {},
   "outputs": [],
   "source": [
    "print_km_grid(4)"
   ]
  }
 ],
 "metadata": {
  "kernelspec": {
   "display_name": "Python 3.9.15 64-bit",
   "language": "python",
   "name": "python3"
  },
  "language_info": {
   "name": "python",
   "version": "3.9.15"
  },
  "orig_nbformat": 4,
  "vscode": {
   "interpreter": {
    "hash": "f9f85f796d01129d0dd105a088854619f454435301f6ffec2fea96ecbd9be4ac"
   }
  }
 },
 "nbformat": 4,
 "nbformat_minor": 2
}
