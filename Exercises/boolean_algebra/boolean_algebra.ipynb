{
  "cells": [
    {
      "cell_type": "code",
      "execution_count": null,
      "metadata": {
        "cellView": "form",
        "id": "ls-IUqhWZuYf"
      },
      "outputs": [],
      "source": [
        "#@markdown ## **Setup**\n",
        "import ipywidgets as widgets\n",
        "from ipywidgets import GridspecLayout\n",
        "from ipywidgets import AppLayout, Button, Layout, jslink, IntText, IntSlider\n",
        "import requests\n",
        "#Creates a text document using the Raw github url. This text document will be used as a .py file for imports\n",
        "def import_text(location, file):\n",
        "  url = 'https://raw.githubusercontent.com/byuccl/digital_design_colab2/master/%s/%s' % (location, file)\n",
        "  resp = requests.get(url)\n",
        "  with open(file, 'wb') as f:\n",
        "    f.write(resp.content)\n",
        "\n",
        "\n",
        "import_text(\"Exercises/boolean_algebra/files/\", \"mcBoolean.py\")\n",
        "import_text(\"Exercises/boolean_algebra/files/\", \"tt_boolean.py\")\n",
        "import_text(\"Exercises/boolean_algebra/files/\", \"mcTest.py\")\n",
        "import_text(\"Templates/\", \"mcTest.py\")\n",
        "\n",
        "#Load in the files as functions\n",
        "from tt_boolean import *\n",
        "from mcBoolean import *\n",
        "from mcTest import * \n",
        "create_mc_dict(get_data())\n",
        "\n"
      ]
    },
    {
      "cell_type": "markdown",
      "metadata": {
        "id": "07eVrZHVZuYh"
      },
      "source": [
        "## **And, Or and Truth Tables**\n",
        "\n",
        "Boolean Algebra is named after George Boole, the 19th century mathematician who developed it. It is algebra involving True and False.   \n",
        "\n",
        "True is equal to one and false is equal to 0.  \n",
        "\n",
        "Like other algebra you are familiar with, boolean algebra contains operators.  \n",
        "AND/*: if X AND Y are true, the result is true, else the result is false.  \n",
        "OR/+: if X OR Y are true, the result is true, else the result is false.   \n",
        "NOT/': if X is true, the result is false, if X is false, the result is TRUE  \n",
        "\n",
        "We use a truth table to show all possible combinations  \n",
        "\n",
        "#### AND \n",
        "| A | B | A\\*B |\n",
        "|---|---|-----|\n",
        "| 0 | 0 |  0   |\n",
        "| 0  |  1 |  0   |\n",
        "| 1  | 0  |  0   |\n",
        "|1|1|1|\n",
        "\n",
        "#### OR \n",
        "| A | B | A+B |\n",
        "|---|---|-----|\n",
        "| 0 | 0 |  0   |\n",
        "| 0  |  1 |  1   |\n",
        "| 1  | 0  |  1   |\n",
        "|1|1|1|\n",
        "\n",
        "#### NOT \n",
        "| A |  A' |\n",
        "|---|-----|\n",
        "| 0 |   1   |\n",
        "| 1  |   0   |\n",
        "\n"
      ]
    },
    {
      "cell_type": "markdown",
      "metadata": {
        "id": "zs8_a3ROZuYi"
      },
      "source": [
        "### **Truth Tables for harder functions**\n",
        "\n",
        "We can construct a truth table for any given function.\n",
        "#### A and B or !A AND !B  \n",
        " \n",
        "| A | B | A*B + A\\'*B\\' |\n",
        "|---|---|-----|\n",
        "| 0 | 0 |  1   |\n",
        "| 0  |  1 |  0   |\n",
        "| 1  | 0  |  0   |\n",
        "|1|1|1|\n",
        "\n",
        "\n",
        "\n",
        "If we are given any truth table, we can create a function for it. \n",
        "\n",
        "#### Arbitrary Function\n",
        "| A | B | F1 |\n",
        "|---|---|-----|\n",
        "| 0 | 0 |  1   |\n",
        "| 0  |  1 |  1   |\n",
        "| 1  | 0  |  0   |\n",
        "|1|1|1|\n",
        "\n",
        "\n",
        "We can do this by evaluating each line one at a time and adding them together.  \n",
        "The first row is when both inputs are false. (A\\' \\* B\\')  \n",
        "The second row is when A is false and B is true (A\\' \\* B)  \n",
        "The third row is false so we can skip it.   \n",
        "The fourth row is when both A and B are true (A \\* B)  \n",
        "We can then 'add' these together (A\\' \\* B\\')+(A\\' \\* B) + (A \\* B) \n",
        "\n",
        "\n",
        "As you can probably tell, this method can be difficult because we will end up with a lot of statements.  \n",
        "This is where different rules and reductions can help us out. \n",
        "\n",
        "#### Theorems:\n",
        "Single Variable:\n",
        "\n",
        "* A \\* 0 = 0 \n",
        "* A + 0 = A \n",
        "* A \\* 1 = A \n",
        "* A + 1 = 1 \n",
        "* A \\* A = A \n",
        "* A + A = A  \n",
        "* A \\* A\\'= 0 \n",
        "* A + A\\' = 1\n",
        "\n",
        "Two Variable:\n",
        "\n",
        "* A + A\\' * B = A + B  \n",
        "\n",
        "Commutative:\n",
        "\n",
        "* A \\* B = B \\* A\n",
        "* A + B = B + A\n",
        "* A \\* B + C != B + C \\* A\n",
        "\n",
        "Distributive:\n",
        "* A \\* (B + C) = A \\* B + A \\* C\n",
        "\n",
        "Simplification:  \n",
        "* A \\* B\\' + A \\* B = A  \n",
        "* (A + B\\')(A + B) = A  \n",
        "\n",
        "\n",
        "Armed with these new tools, lets fix the above example (A\\' \\* B\\')+(A\\' \\* B) + (A \\* B)\n",
        "1. We can see that the first two statements (A\\' \\* B\\') + (A\\' \\* B) matches the first simplification rule.  \n",
        "2. We can then rewrite this as A\\'.\n",
        "3. Now we have A' + (A \\* B)\n",
        "4. Now we can rewrite this as A' + B\n",
        "\n",
        "One difficulty with boolean algrebra is that there isn't just one way to simplify and there is no one function that is the canonical simplest function.  \n",
        "\n",
        "Note: A truth table will have $2^n$ number of rows, where n is the number of inputs. For example, with A and B, 2 inputs, the truth table will have $2^2$ or 4 rows. With A, B and C that becomes 8.\n",
        "\n"
      ]
    },
    {
      "attachments": {},
      "cell_type": "markdown",
      "metadata": {
        "id": "bGXwYewVZuYn"
      },
      "source": [
        "### Truth table -> function\n",
        "\n",
        "Which of the following match the given truth table?\n",
        "\n",
        "1.\n",
        "\n",
        "| A | B | F1 |\n",
        "|---|---|-----|\n",
        "| 0 | 0 |  1   |\n",
        "| 0  |  1 |  1   |\n",
        "| 1  | 0  |  1   |\n",
        "|1|1|0|\n",
        "\n",
        "\n",
        "\n",
        "\n",
        "\n"
      ]
    },
    {
      "cell_type": "code",
      "execution_count": null,
      "metadata": {
        "cellView": "form",
        "id": "zusFSicWZuYo"
      },
      "outputs": [],
      "source": [
        "#@title Question 1\n",
        "print_mc_grid(1)\n",
        "\n"
      ]
    },
    {
      "cell_type": "markdown",
      "metadata": {
        "id": "zthsQ9oUZuYp"
      },
      "source": [
        "2.)\n",
        "\n",
        "| A | B | C | F2 |\n",
        "|---|---|----|---|\n",
        "| 0 | 0 | 0 | 0 |\n",
        "| 0  | 0 | 1 | 0 |\n",
        "| 0 | 1 |  0 |1|\n",
        "| 0  |  1 | 1 |1|\n",
        "| 1  | 0  | 0 | 0|\n",
        "| 1 | 0 | 1 |1|\n",
        "| 1 | 1 | 0 |0|\n",
        "|1|1|1| 1|\n"
      ]
    },
    {
      "cell_type": "code",
      "execution_count": null,
      "metadata": {
        "cellView": "form",
        "id": "fE5SXh0RZuYq"
      },
      "outputs": [],
      "source": [
        "#@title Question 2\n",
        "print_mc_grid(2)\n"
      ]
    },
    {
      "cell_type": "markdown",
      "metadata": {
        "id": "2mhLIAb-ZuYr"
      },
      "source": [
        "3.\n",
        "\n",
        "| A | B | C | F2 |\n",
        "|---|---|----|---|\n",
        "| 0 | 0 | 0 | 1 |\n",
        "| 0  | 0 | 1 | 0 |\n",
        "| 0 | 1 |  0 |1|\n",
        "| 0  |  1 | 1 |1|\n",
        "| 1  | 0  | 0 | 1|\n",
        "| 1 | 0 | 1 |0|\n",
        "| 1 | 1 | 0 |0|\n",
        "|1|1|1| 0|  \n",
        "\n"
      ]
    },
    {
      "cell_type": "code",
      "execution_count": null,
      "metadata": {
        "cellView": "form",
        "id": "EhHPWv91ZuYv"
      },
      "outputs": [],
      "source": [
        "#@title Question 3\n",
        "print_mc_grid(3)\n"
      ]
    },
    {
      "cell_type": "markdown",
      "metadata": {
        "id": "Iw7eBEVEZuYw"
      },
      "source": [
        "4. \n",
        "\n",
        "\n",
        "|A| B | C | D | F4|\n",
        "|-|---|---|-----|-|\n",
        "|0| 0 | 0 |  0   | 0 |\n",
        "|0| 0  |  0 |  1   | 0|\n",
        "| 0 |0  | 1  |  0   | 0|\n",
        "|0 | 0 | 1 | 1 | 1|\n",
        "| 0|1 | 0 |  0   |0|\n",
        "| 0|1  |  0 |  1   |0|\n",
        "| 0|1  | 1  |  0   |0|\n",
        "|0|1|1|1|1|\n",
        "| 1|0 | 0 |  0 |0|\n",
        "|1| 0  |  0 |  1   |0|\n",
        "|1| 0  | 1  |  0   |0|\n",
        "|1|0|1|1|1|\n",
        "| 1|1 | 0 |  0   |1|\n",
        "|1| 1  |  0 |   1  |0|\n",
        "|1| 1  | 1  |  0   |1|\n",
        "|1|1|1|1|1|\n"
      ]
    },
    {
      "cell_type": "code",
      "execution_count": null,
      "metadata": {
        "cellView": "form",
        "id": "ZWkYuqX2ZuYx"
      },
      "outputs": [],
      "source": [
        "#@title Question 4\n",
        "print_mc_grid(4)\n"
      ]
    },
    {
      "cell_type": "markdown",
      "metadata": {
        "id": "ofk5uPn-ZuYx"
      },
      "source": [
        "### Function -> Truth Table\n",
        "\n",
        "\n"
      ]
    },
    {
      "cell_type": "code",
      "execution_count": null,
      "metadata": {
        "cellView": "form",
        "id": "xT-2e3nZZuYy"
      },
      "outputs": [],
      "source": [
        "#@title Question 1\n",
        "print_tt_grid(1)"
      ]
    },
    {
      "cell_type": "code",
      "execution_count": null,
      "metadata": {
        "cellView": "form",
        "id": "6FbemnltZuYy"
      },
      "outputs": [],
      "source": [
        "#@title Question 2\n",
        "print_tt_grid(2)"
      ]
    },
    {
      "cell_type": "code",
      "execution_count": null,
      "metadata": {
        "cellView": "form",
        "id": "twb5h5lKZuYz"
      },
      "outputs": [],
      "source": [
        "#@title Question 3\n",
        "print_tt_grid(3)"
      ]
    },
    {
      "cell_type": "code",
      "execution_count": null,
      "metadata": {
        "cellView": "form",
        "id": "fZ9W3YpeZuYz"
      },
      "outputs": [],
      "source": [
        "#@title Question 4\n",
        "print_tt_grid(4)"
      ]
    },
    {
      "attachments": {},
      "cell_type": "markdown",
      "metadata": {},
      "source": [
        "Click [Here](https://colab.research.google.com/github/byuccl/digital_design_colab2/blob/master/Exercises/gates/gates.ipynb) to move on to the Logic Gates Lesson."
      ]
    }
  ],
  "metadata": {
    "colab": {
      "provenance": []
    },
    "kernelspec": {
      "display_name": "Python 3.10.6 64-bit",
      "language": "python",
      "name": "python3"
    },
    "language_info": {
      "name": "python",
      "version": "3.10.6"
    },
    "orig_nbformat": 4,
    "vscode": {
      "interpreter": {
        "hash": "e7370f93d1d0cde622a1f8e1c04877d8463912d04d973331ad4851f04de6915a"
      }
    }
  },
  "nbformat": 4,
  "nbformat_minor": 0
}
