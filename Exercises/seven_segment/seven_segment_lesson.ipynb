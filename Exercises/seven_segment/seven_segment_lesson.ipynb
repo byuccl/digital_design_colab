{
  "cells": [
    {
      "cell_type": "markdown",
      "metadata": {
        "id": "yBUsK8h1iaS3"
      },
      "source": [
        "## **Setup**"
      ]
    },
    {
      "cell_type": "code",
      "execution_count": null,
      "metadata": {
        "id": "FS8mVZX4iZ0x",
        "cellView": "form"
      },
      "outputs": [],
      "source": [
        "#@title Import Files from Repo\n",
        "import ipywidgets as widgets\n",
        "from ipywidgets import GridspecLayout\n",
        "from ipywidgets import AppLayout, Button, Layout, jslink, IntText, IntSlider\n",
        "import requests\n",
        "def import_text(location, file):\n",
        "  url = 'https://raw.githubusercontent.com/byuccl/digital_design_colab/master/%s/%s' % (location, file)\n",
        "  resp = requests.get(url)\n",
        "  with open(file, 'wb') as f:\n",
        "    f.write(resp.content)\n",
        "\n",
        "import_text(\"Exercises/seven_segment/files/\", \"seven_segment_widget.py\")\n",
        "import_text(\"Exercises/seven_segment/files/\", \"seven_segment_decoder.py.py\")\n",
        "\n",
        "from seven_segment_widget import *\n",
        "from seven_segment_decoder import *"
      ]
    },
    {
      "cell_type": "markdown",
      "metadata": {
        "id": "tGwsq0_EvLO_"
      },
      "source": [
        "\n",
        "## How the Seven Segment Display Works\n",
        "\n",
        "\n"
      ]
    },
    {
      "cell_type": "markdown",
      "metadata": {
        "id": "u8A2ZyBixMeH"
      },
      "source": [
        "<br>\n",
        "\n",
        "![picture](https://raw.githubusercontent.com/byuccl/digital_design_colab/master/Exercises/seven_segment/media/display.jpg)\n",
        "\n",
        "Seven Segment displays are a commonly used type of display that consist of 7 separate LED segments that can be turned on in different combinations to produce numbers and letters.\n",
        "\n",
        "![picture](https://raw.githubusercontent.com/byuccl/digital_design_colab/master/Exercises/seven_segment/media/segments.png)  \n",
        "\n",
        "<br>\n",
        "\n",
        "Each segment of the display is controlled by a different a signal which will be referred to as segment `a` through segment `g` as shown above. Using different combinations of the seven signals, you can display numbers between `0` and `9`, and letters from `A` to `F`. The 8th signal that gets sent to the display is for the dot.  \n",
        "\n",
        "<br>\n",
        "\n",
        "![picture](https://raw.githubusercontent.com/byuccl/digital_design_colab/master/Exercises/seven_segment/media/hex_segments.png)  \n",
        "\n",
        "\n",
        "\n",
        "So how exactly does this work? To keep it simple, because the LED segments share a common cathode, there needs to be a voltage drop from anode to cathode. This means that to turn on a signal, give it a value of `0` and to turn it off give it a value of `1`.\n",
        "\n",
        "Experiment with the widget below and then fill in all the values for the 16 Hex Values.\n",
        "\n",
        "\n"
      ]
    },
    {
      "cell_type": "code",
      "execution_count": null,
      "metadata": {
        "id": "FcsgxBTmCuXn",
        "cellView": "form"
      },
      "outputs": [],
      "source": [
        "#@title Seven Segment Widget\n",
        "\n",
        "x = create_7b_grid()\n",
        "y = create_7_grid()\n",
        "z= create_7b_grid()\n",
        "display(widgets.HBox([x,y,z]))\n",
        "\n",
        "value_list = create_value_grid()\n",
        "value_list[1,7].on_click(update_seven)\n",
        "display(value_list)\n"
      ]
    },
    {
      "cell_type": "code",
      "source": [
        "#@title Seven Segment Decoder\n",
        "display(first_row)\n",
        "display(second_row)\n",
        "display(third_row)\n",
        "display(main_block)"
      ],
      "metadata": {
        "cellView": "form",
        "id": "zZIope31TqPt"
      },
      "execution_count": null,
      "outputs": []
    },
    {
      "cell_type": "markdown",
      "metadata": {
        "id": "Mj6UYRUWxXDC"
      },
      "source": [
        "### Driving an Anode"
      ]
    },
    {
      "cell_type": "markdown",
      "metadata": {
        "id": "qGv0sWh5Dw0y"
      },
      "source": [
        "Anodes are what determines which of the 4 Seven Segment displays are lit. If the anode is `0` for a particular panel it will be on. So if `0000` is driven all the panels will be on.\n",
        "<br>\n",
        "\n",
        "![picture](https://raw.githubusercontent.com/byuccl/digital_design_colab/master/Exercises/seven_segment/media/cathode.jpg)  \n",
        "\n",
        "<br>\n",
        "\n",
        "The problem with the anodes is that they are all driven by the same exact wires to determine what segments are on. As a result, they will naturally show the same image on all four digits.   \n",
        "\n",
        "To resolve this, seven segment displays actually are often programmed to quickly switch between the four different displays faster than the human eye can distinguish, so that the 4 displays appear to show different images at the same time when in reality they are displayed one at a time.\n",
        "\n"
      ]
    }
  ],
  "metadata": {
    "colab": {
      "provenance": [],
      "collapsed_sections": [
        "yBUsK8h1iaS3"
      ]
    },
    "kernelspec": {
      "display_name": "Python 3.10.6 64-bit",
      "language": "python",
      "name": "python3"
    },
    "language_info": {
      "name": "python",
      "version": "3.10.6"
    },
    "vscode": {
      "interpreter": {
        "hash": "916dbcbb3f70747c44a77c7bcd40155683ae19c65e1c03b4aa3499c5328201f1"
      }
    }
  },
  "nbformat": 4,
  "nbformat_minor": 0
}