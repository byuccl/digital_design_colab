{
  "cells": [
    {
      "cell_type": "markdown",
      "metadata": {
        "id": "yBUsK8h1iaS3"
      },
      "source": [
        "## **Setup**"
      ]
    },
    {
      "cell_type": "code",
      "execution_count": null,
      "metadata": {
        "cellView": "form",
        "id": "FS8mVZX4iZ0x"
      },
      "outputs": [],
      "source": [
        "#@title Import Files from Repo\n",
        "import ipywidgets as widgets\n",
        "from ipywidgets import GridspecLayout\n",
        "from ipywidgets import AppLayout, Button, Layout, jslink, IntText, IntSlider\n",
        "import requests\n",
        "def import_text(location, file):\n",
        "  url = 'https://raw.githubusercontent.com/byuccl/digital_design_colab/master/%s/%s' % (location, file)\n",
        "  resp = requests.get(url)\n",
        "  with open(file, 'wb') as f:\n",
        "    f.write(resp.content)\n",
        "\n",
        "import_text(\"Exercises/seven_segment/files/\", \"seven_segment_decoder.py\")\n",
        "\n",
        "from seven_segment_decoder import *"
      ]
    },
    {
      "cell_type": "code",
      "execution_count": null,
      "metadata": {},
      "outputs": [],
      "source": [
        "#@title Seven Segment Widget\n",
        "import ipywidgets as widgets\n",
        "from ipywidgets import GridspecLayout\n",
        "from ipywidgets import AppLayout, Button, Layout, jslink, IntText\n",
        "#Seven Segment Display\n",
        "def create_expanded_button(description=\"\", button_style='', width='50px', height='50px'):\n",
        "    return Button(description=description, button_style=button_style, layout=Layout(height=height, width=width))\n",
        "def create_7_grid():\n",
        " grid = GridspecLayout(5,1, width='105px') #Middle Column\n",
        " grid[0,0] = create_expanded_button(button_style = \"Danger\", width = '100px')\n",
        " grid[1,0] = create_expanded_button(width = '100px', height = '65px')\n",
        " grid [2,0] = create_expanded_button(button_style = \"Danger\", width = '100px')\n",
        " grid [3,0] = create_expanded_button(width = '100px',  height= '65px')\n",
        " grid [4,0] = create_expanded_button(button_style = \"Danger\", width = '100px')\n",
        " return grid\n",
        "\n",
        "def create_7b_grid(): #Side Columns\n",
        " grid = GridspecLayout(2, 1, width='54px')\n",
        " grid[0,0] = create_expanded_button(height=\"150px\", width=\"50px\", button_style=\"Danger\")\n",
        " grid[1,0] = create_expanded_button(height=\"150px\", width=\"50px\", button_style=\"Danger\")\n",
        " return grid\n",
        "\n",
        "x = create_7b_grid()\n",
        "y = create_7_grid()\n",
        "z= create_7b_grid()\n",
        "\n",
        "#Value Entry\n",
        "def cbi(): #Create Bounded Int\n",
        "  return widgets.BoundedIntText(min = 0, max = 1, layout=Layout(height=\"auto\", width=\"50px\"))\n",
        "def create_value_grid():\n",
        "  grid = GridspecLayout(2,8, width = '500px')\n",
        "  for i in range (7):\n",
        "    grid[1,i] = cbi()\n",
        "  i = 0\n",
        "  for letter in  reversed(['a','b','c','d','e','f','g']):\n",
        "    grid[0,i] = Button(description=letter, button_style = 'info',layout=Layout(height=\"auto\", width=\"50px\"))\n",
        "    i += 1\n",
        "  grid[1,7] = Button(description = \"Show\", button_style = 'primary',layout=Layout(height=\"auto\", width=\"100px\"))\n",
        "  return grid\n",
        "value_list = create_value_grid()\n",
        "def update_seven(self):\n",
        "  if(value_list[1,6].value == 1):\n",
        "    y[0,0].button_style = ''#a\n",
        "  else:\n",
        "    y[0,0].button_style = 'Danger'\n",
        "\n",
        "  #b\n",
        "  if(value_list[1,5].value == 1):\n",
        "    z[0,0].button_style = ''\n",
        "  else:\n",
        "    z[0,0].button_style = 'Danger'\n",
        "  #c\n",
        "  if(value_list[1,4].value == 1):\n",
        "    z[1,0].button_style = ''\n",
        "  else:\n",
        "    z[1,0].button_style = 'Danger'\n",
        "  #d\n",
        "  if(value_list[1,3].value == 1):\n",
        "    y[4,0].button_style = ''\n",
        "  else:\n",
        "    y[4,0].button_style = 'Danger'\n",
        "  #e\n",
        "  if(value_list[1,2].value == 1):\n",
        "    x[1,0].button_style = ''\n",
        "  else:\n",
        "    x[1,0].button_style = 'Danger'\n",
        "  #f\n",
        "  if(value_list[1,1].value == 1):\n",
        "    x[0,0].button_style = ''\n",
        "  else:\n",
        "    x[0,0].button_style = 'Danger'\n",
        "  #g\n",
        "  if(value_list[1,0].value == 1):\n",
        "    y[2,0].button_style = ''\n",
        "  else:\n",
        "    y[2,0].button_style = 'Danger'\n",
        "value_list[1,7].on_click(update_seven)"
      ]
    },
    {
      "cell_type": "markdown",
      "metadata": {
        "id": "tGwsq0_EvLO_"
      },
      "source": [
        "\n",
        "## How the Seven Segment Display Works\n",
        "\n",
        "\n"
      ]
    },
    {
      "cell_type": "markdown",
      "metadata": {
        "id": "u8A2ZyBixMeH"
      },
      "source": [
        "<br>\n",
        "\n",
        "![picture](https://raw.githubusercontent.com/byuccl/digital_design_colab/master/Exercises/seven_segment/media/display.jpg)\n",
        "\n",
        "Seven Segment displays are a commonly used type of display that consist of 7 separate LED segments that can be turned on in different combinations to produce numbers and letters.\n",
        "\n",
        "![picture](https://raw.githubusercontent.com/byuccl/digital_design_colab/master/Exercises/seven_segment/media/segments.png)  \n",
        "\n",
        "<br>\n",
        "\n",
        "Each segment of the display is controlled by a different a signal which will be referred to as segment `a` through segment `g` as shown above. Using different combinations of the seven signals, you can display numbers between `0` and `9`, and letters from `A` to `F`. The 8th signal that gets sent to the display is for the dot.  \n",
        "\n",
        "<br>\n",
        "\n",
        "![picture](https://raw.githubusercontent.com/byuccl/digital_design_colab/master/Exercises/seven_segment/media/hex_segments.png)  \n",
        "\n",
        "\n",
        "\n",
        "So how exactly does this work? To keep it simple, because the LED segments share a common cathode, there needs to be a voltage drop from anode to cathode. This means that to turn on a signal, give it a value of `0` and to turn it off give it a value of `1`.\n",
        "\n",
        "Experiment with the widget below and then fill in all the values for the 16 Hex Values.\n",
        "\n",
        "\n"
      ]
    },
    {
      "cell_type": "code",
      "execution_count": null,
      "metadata": {
        "cellView": "form",
        "id": "FcsgxBTmCuXn"
      },
      "outputs": [],
      "source": [
        "#@title Seven Segment Widget\n",
        "\n",
        "display(widgets.HBox([x,y,z]))\n",
        "display(value_list)\n"
      ]
    },
    {
      "cell_type": "code",
      "execution_count": null,
      "metadata": {
        "cellView": "form",
        "id": "zZIope31TqPt"
      },
      "outputs": [],
      "source": [
        "#@title Seven Segment Decoder\n",
        "display(first_row)\n",
        "display(second_row)\n",
        "display(third_row)\n",
        "display(main_block)"
      ]
    },
    {
      "cell_type": "markdown",
      "metadata": {
        "id": "Mj6UYRUWxXDC"
      },
      "source": [
        "### Driving an Anode"
      ]
    },
    {
      "cell_type": "markdown",
      "metadata": {
        "id": "qGv0sWh5Dw0y"
      },
      "source": [
        "Anodes are what determines which of the 4 Seven Segment displays are lit. If the anode is `0` for a particular panel it will be on. So if `0000` is driven all the panels will be on.\n",
        "<br>\n",
        "\n",
        "![picture](https://raw.githubusercontent.com/byuccl/digital_design_colab/master/Exercises/seven_segment/media/cathode.jpg)  \n",
        "\n",
        "<br>\n",
        "\n",
        "The problem with the anodes is that they are all driven by the same exact wires to determine what segments are on. As a result, they will naturally show the same image on all four digits.   \n",
        "\n",
        "To resolve this, seven segment displays actually are often programmed to quickly switch between the four different displays faster than the human eye can distinguish, so that the 4 displays appear to show different images at the same time when in reality they are displayed one at a time.\n",
        "\n"
      ]
    }
  ],
  "metadata": {
    "colab": {
      "collapsed_sections": [
        "yBUsK8h1iaS3"
      ],
      "provenance": []
    },
    "kernelspec": {
      "display_name": "Python 3.10.6 64-bit",
      "language": "python",
      "name": "python3"
    },
    "language_info": {
      "name": "python",
      "version": "3.10.6"
    },
    "vscode": {
      "interpreter": {
        "hash": "916dbcbb3f70747c44a77c7bcd40155683ae19c65e1c03b4aa3499c5328201f1"
      }
    }
  },
  "nbformat": 4,
  "nbformat_minor": 0
}
