{
  "cells": [
    {
      "cell_type": "code",
      "execution_count": null,
      "metadata": {
        "cellView": "form",
        "id": "oc40uINY-CKu"
      },
      "outputs": [],
      "source": [
        "#@markdown ## **Setup**\n",
        "import ipywidgets as widgets\n",
        "from ipywidgets import GridspecLayout\n",
        "from ipywidgets import AppLayout, Button, Layout, jslink, IntText, IntSlider\n",
        "import requests\n",
        "#Creates a text document using the Raw github url. This text document will be used as a .py file for imports\n",
        "def import_text(location, file):\n",
        "  url = 'https://raw.githubusercontent.com/byuccl/digital_design_colab2/master/%s/%s' % (location, file)\n",
        "  resp = requests.get(url)\n",
        "  with open(file, 'wb') as f:\n",
        "    f.write(resp.content)\n",
        "\n",
        "\n",
        "import_text(\"Exercises/twos_compliment/files/\", \"frq_twos.py\")\n",
        "import_text(\"Templates/\", \"frqTemplate.py\")\n",
        "\n",
        "\n",
        "\n",
        "\n",
        "#Load in the files as functions\n",
        "from frq_twos import *\n",
        "from frqTemplate import * \n",
        "create_frq_dictionary(get_data())\n"
      ]
    },
    {
      "cell_type": "markdown",
      "metadata": {
        "id": "2RJahxyX-CKw"
      },
      "source": [
        "### How to represent Negative Binary Numbers"
      ]
    },
    {
      "attachments": {},
      "cell_type": "markdown",
      "metadata": {
        "id": "R26nVSqA-CKy"
      },
      "source": [
        "What do we do if we want to represent a negative number in binary? A simple way would be to have the most significant bit assigned to represent if it was negative or positive. \n",
        "\n",
        "This is called a sign-magnitude number. A most significant `1` is negative and a most significant `0` is positive. So `1001` would be `-1`, and `0001` would be `1`. \n",
        "\n",
        "There is one problem here.\n",
        "\n",
        "With 4 bits, we have 16 unique combinations, and each can represent a unique value. The problem with this method is that there are two ways to represent 0. `1000` and `0000` are both ways to represent 0, and aren't unique. This means that only 15 values can be represented.<br>This may seem like a small thing, but when every bit matters, it can add up.\n",
        "<br><br>\n",
        "This is where two’s complement solves this problem. Instead of having the MSB (most significant bit) be used to represent negative or positive, the MSB is equal to its regular value but negative.\n",
        "So `1000` is equal to `-8`, and `1111` is equal to `-1`. Instead of only being able to represent `-7` to `7`, it can now represent `-8` to `7`.  \n"
      ]
    },
    {
      "cell_type": "markdown",
      "metadata": {
        "id": "9YoB2fQd-CKz"
      },
      "source": [
        "###Inverting Two's Complement"
      ]
    },
    {
      "attachments": {},
      "cell_type": "markdown",
      "metadata": {
        "id": "a4nUqwXF-CKz"
      },
      "source": [
        "If it was just a sign-magnitude number, we could flip the most significant bit to invert it, but doing that with two’s complement doesn’t quite work. Inverting the MSB in `1001`, which is  `-7`, would be `0001`, which is `1`. Instead, we will flip every single bit. Inverting `1001` then becomes `0110`, respectively `-7` and `6`, which is close. So all we have to do is add `1`, resulting in `0111`, which is equal to `7`.   \n",
        "\n",
        "Therefore, in order to flip the sign of a two’s complement, all you have to do is flip every single bit and add one.\n"
      ]
    },
    {
      "attachments": {},
      "cell_type": "markdown",
      "metadata": {
        "id": "460O2oQX-CK0"
      },
      "source": [
        "Adding binary numbers is very similar to basic elementary addition. You add column by column, and you carry over a one if a column adds up to 2 or 3.   \n",
        "\n",
        "\\\n",
        "\\\n",
        "Example 1:  \n",
        "\n",
        "&nbsp;&nbsp;&nbsp;0110 &nbsp;&nbsp;&nbsp;&nbsp;(6<sub>10</sub>)  \n",
        "<u>+ 0001</u> &nbsp;&nbsp;&nbsp;&nbsp;(1<sub>10</sub>)  \n",
        "&nbsp;&nbsp;&nbsp;0111    &nbsp;&nbsp;&nbsp;&nbsp;(7<sub>10</sub>)  \n",
        "\n",
        "\\\n",
        "\\\n",
        "Example 2:  \n",
        "<sub>&nbsp;&nbsp;&nbsp;${\\scriptsize 1}$&nbsp;${\\scriptsize 1}$ </sub>  \n",
        "&nbsp;&nbsp;&nbsp;0110 &nbsp;&nbsp;&nbsp;&nbsp;(6<sub>10</sub>)  \n",
        "<u>+ 0010 </u> &nbsp;&nbsp;&nbsp;&nbsp;(2<sub>10</sub>)  \n",
        "&nbsp;&nbsp;&nbsp;1000    &nbsp;&nbsp;&nbsp;&nbsp;(8<sub>10</sub>)  \n",
        " \n",
        "\n",
        "\n",
        "\n"
      ]
    },
    {
      "cell_type": "markdown",
      "metadata": {
        "id": "7sNwINIM-CK1"
      },
      "source": [
        "### Overflow"
      ]
    },
    {
      "attachments": {},
      "cell_type": "markdown",
      "metadata": {
        "id": "D6x7FF90-CK1"
      },
      "source": [
        "But there is a problem. When adding binary numbers in hardware, we have a set number of wires. This means we only have so many bits assigned to each signal. 4 bits can only hold a value up to `15` if its unsigned. What happens if we add `14` and `14`?\n",
        "This is called overflow.\n",
        "\n",
        "\n",
        "  \n",
        "<sub>&nbsp;${\\scriptsize 1}$&nbsp;${\\scriptsize 1}$&nbsp;${\\scriptsize 1}$ </sub>  \n",
        "&nbsp;&nbsp;&nbsp;1110 &nbsp;&nbsp;&nbsp;&nbsp;(14<sub>10</sub>)  \n",
        "<u>+ 1110 </u> &nbsp;&nbsp;&nbsp;&nbsp;(14<sub>10</sub>)  \n",
        "&nbsp;11100    &nbsp;&nbsp;&nbsp;&nbsp;(28<sub>10</sub>)  \n",
        "\n",
        "\n",
        "There is a simple problem: this number is actually 5 bits long and not 4. So when each bit is tied to a wire, and we have 4 wires, where does the 5th bit go? Often it is discarded and we should just be more careful to avoid overflow.\n",
        "This can cause an error in the program as `11100` (28) would become `1100` (12). The output is not what is expected and can lead to errors and bugs. There are no automatic checks for overflow, so programmers must be aware of this.\n",
        "\n",
        "Another problem is this: If we added two Two's Complement numbers, there is no guarantee that the resulting two's complement number would be correct. That is, unless we sign extend. \n"
      ]
    },
    {
      "cell_type": "markdown",
      "metadata": {
        "id": "Dy4zALY3-CK3"
      },
      "source": [
        "## Examples"
      ]
    },
    {
      "cell_type": "code",
      "execution_count": null,
      "metadata": {
        "cellView": "form",
        "id": "yrvMTti3-CK4"
      },
      "outputs": [],
      "source": [
        "#@markdown Q1\n",
        "print_frq_grid(1)"
      ]
    },
    {
      "cell_type": "code",
      "execution_count": null,
      "metadata": {
        "cellView": "form",
        "id": "yMu7OmeQ-CK5"
      },
      "outputs": [],
      "source": [
        "#@markdown Q2\n",
        "print_frq_grid(2)"
      ]
    },
    {
      "cell_type": "code",
      "execution_count": null,
      "metadata": {
        "cellView": "form",
        "id": "MyV3zPsL-CK5"
      },
      "outputs": [],
      "source": [
        "#@markdown Q3\n",
        "print_frq_grid(3)"
      ]
    },
    {
      "cell_type": "code",
      "execution_count": null,
      "metadata": {
        "cellView": "form",
        "id": "9MlDEUlZ-CK6"
      },
      "outputs": [],
      "source": [
        "#@markdown Q4\n",
        "print_frq_grid(4)"
      ]
    },
    {
      "cell_type": "code",
      "execution_count": null,
      "metadata": {
        "cellView": "form",
        "id": "3nbD7B25-CK6"
      },
      "outputs": [],
      "source": [
        "#@markdown Q5\n",
        "print_frq_grid(5)"
      ]
    },
    {
      "cell_type": "code",
      "execution_count": null,
      "metadata": {
        "cellView": "form",
        "id": "8usFQXMg-CK7"
      },
      "outputs": [],
      "source": [
        "#@markdown Q6\n",
        "print_frq_grid(6)"
      ]
    },
    {
      "cell_type": "code",
      "execution_count": null,
      "metadata": {
        "cellView": "form",
        "id": "YAhrHxK_-CK7"
      },
      "outputs": [],
      "source": [
        "#@markdown Q7\n",
        "print_frq_grid(7)"
      ]
    },
    {
      "cell_type": "code",
      "execution_count": null,
      "metadata": {
        "cellView": "form",
        "id": "IuYc104p-CK7"
      },
      "outputs": [],
      "source": [
        "#@markdown Q8\n",
        "print_frq_grid(8)"
      ]
    },
    {
      "attachments": {},
      "cell_type": "markdown",
      "metadata": {},
      "source": [
        "Click [Here](https://colab.research.google.com/github/byuccl/digital_design_colab2/blob/master/Exercises/addition_subtraction/addition_subtraction.ipynb) to move on to the Addition and Subtraction Lesson."
      ]
    }
  ],
  "metadata": {
    "colab": {
      "provenance": []
    },
    "kernelspec": {
      "display_name": "Python 3.10.6 64-bit",
      "language": "python",
      "name": "python3"
    },
    "language_info": {
      "codemirror_mode": {
        "name": "ipython",
        "version": 3
      },
      "file_extension": ".py",
      "mimetype": "text/x-python",
      "name": "python",
      "nbconvert_exporter": "python",
      "pygments_lexer": "ipython3",
      "version": "3.10.6"
    },
    "orig_nbformat": 4,
    "vscode": {
      "interpreter": {
        "hash": "e7370f93d1d0cde622a1f8e1c04877d8463912d04d973331ad4851f04de6915a"
      }
    }
  },
  "nbformat": 4,
  "nbformat_minor": 0
}
