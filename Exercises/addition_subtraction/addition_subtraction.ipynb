{
  "cells": [
    {
      "cell_type": "code",
      "execution_count": 1,
      "metadata": {
        "cellView": "form",
        "id": "KUO5OIQE-CQs"
      },
      "outputs": [],
      "source": [
        "#@markdown ## **Setup**\n",
        "import ipywidgets as widgets\n",
        "from ipywidgets import GridspecLayout\n",
        "from ipywidgets import AppLayout, Button, Layout, jslink, IntText, IntSlider\n",
        "import requests\n",
        "#Creates a text document using the Raw github url. This text document will be used as a .py file for imports\n",
        "def import_text(location, file):\n",
        "  url = 'https://raw.githubusercontent.com/byuccl/digital_design_colab2/master/%s/%s' % (location, file)\n",
        "  resp = requests.get(url)\n",
        "  with open(file, 'wb') as f:\n",
        "    f.write(resp.content)\n",
        "\n",
        "\n",
        "import_text(\"Exercises/addition_subtraction/files/\", \"frq_add_sub.py\")\n",
        "import_text(\"Templates/\", \"frqTemplate.py\")\n",
        "\n",
        "\n",
        "\n",
        "\n",
        "#Load in the files as functions\n",
        "from frq_add_sub import *\n",
        "from frqTemplate import * \n",
        "create_frq_dictionary(get_data())\n"
      ]
    },
    {
      "attachments": {},
      "cell_type": "markdown",
      "metadata": {
        "id": "AX2tDDaB-CQv"
      },
      "source": [
        "### Adding Two's Complement"
      ]
    },
    {
      "attachments": {},
      "cell_type": "markdown",
      "metadata": {
        "id": "qUXSJmZT-CQw"
      },
      "source": [
        "Adding two’s complement is very similar to adding unsigned binary.\n",
        "\n",
        "<sub>&nbsp;&nbsp;&nbsp;&nbsp;&nbsp;&nbsp;&nbsp;&nbsp;&nbsp;${\\scriptsize 1}$ </sub>  \n",
        "&nbsp;&nbsp;&nbsp;1001 &nbsp;&nbsp;&nbsp;&nbsp;(-7<sub>10</sub>)  \n",
        "<u>+ 0101 </u> &nbsp;&nbsp;&nbsp;&nbsp;(5<sub>10</sub>)  \n",
        "&nbsp;&nbsp;&nbsp;1110 &nbsp;&nbsp;&nbsp;&nbsp;(-2<sub>10</sub>) \n",
        "\n",
        "However, when there is overflow things get a little weird. Sometimes you can just append the final carry output to the left side, but sometimes it doesn't work.  \n",
        "<sub>&nbsp;${\\scriptsize 1}$&nbsp;&nbsp;&nbsp;${\\scriptsize 1}$ ${\\scriptsize 1}$</sub>  \n",
        "&nbsp;&nbsp;&nbsp;1001 &nbsp;&nbsp;&nbsp;&nbsp;(-7<sub>10</sub>)  \n",
        "<u>+ 1011 </u> &nbsp;&nbsp;&nbsp;&nbsp;(-5<sub>10</sub>)  \n",
        "&nbsp;10100 &nbsp;&nbsp;&nbsp;&nbsp;(-12<sub>10</sub>)  \n",
        "_____  \n",
        "\n",
        "<sub>&nbsp;${\\scriptsize 1}$&nbsp;${\\scriptsize 1}$ &nbsp;&nbsp;${\\scriptsize 1}$</sub>  \n",
        "&nbsp;&nbsp;&nbsp;1101 &nbsp;&nbsp;&nbsp;&nbsp;(-3<sub>10</sub>)  \n",
        "<u>+ 0101 </u> &nbsp;&nbsp;&nbsp;&nbsp;(5<sub>10</sub>)  \n",
        "&nbsp;10010 &nbsp;&nbsp;&nbsp;&nbsp;(-14<sub>10</sub>)  \n",
        "\n",
        "A solution is to sign extend before doing the computation. This means if the MSB is a 0, put an extra 0 at the start, and if the MSB is a 1 put an extra 1 at the start. This does not change the value of the numbers.\n",
        "\n",
        "1101 -> 11101  \n",
        "0101 -> 00101 \n",
        "\n",
        "So now we add:\n",
        "\n",
        "<sub>&nbsp;${\\scriptsize 1}$&nbsp;${\\scriptsize 1}$&nbsp;${\\scriptsize 1}$ &nbsp;&nbsp;${\\scriptsize 1}$</sub>  \n",
        "&nbsp;&nbsp;&nbsp;11101 &nbsp;&nbsp;&nbsp;&nbsp;(-3<sub>10</sub>)  \n",
        "<u>+ 00101 </u> &nbsp;&nbsp;&nbsp;&nbsp;(5<sub>10</sub>)  \n",
        "&nbsp;&nbsp;&nbsp;00010 &nbsp;&nbsp;&nbsp;&nbsp;(2<sub>10</sub>)  \n",
        "\n",
        "You throw away the final carry out bit and are left with a 5 bit number. Now we see that -3 + 5 actually does equal 2. This method will always work, but it requires extra logic to sign extend and uses one more bit when implemented in hardware. Sometimes it is better to just detect overflow so you know when to ignore erroneous results.  \n",
        "\n",
        "This works because sign-extending a Two's Complement number doesn't change its value. For example, `101` is equal to `11111101` and `0000001` is equal to `01`.\n",
        "\n",
        "\n"
      ]
    },
    {
      "attachments": {},
      "cell_type": "markdown",
      "metadata": {
        "id": "9YPAVbZU-CQx"
      },
      "source": [
        "### Sign Extension"
      ]
    },
    {
      "attachments": {},
      "cell_type": "markdown",
      "metadata": {
        "id": "npeJBpai-CQy"
      },
      "source": [
        "\n",
        "A simple solution to overflow is to make your numbers wider. This also allows us to add two numbers with different bit lengths, since the MSB needs to line up. For example when adding a 3 bit and a 4 bit wide number, we can extend the 3 bit number to 4 bits allowing us to add them together.  \n",
        "\n",
        "To extend a Two's complement number, just repeat the MSB. For example, to make `0110` wider just add `0`s to the front: `00110`, `0000110` etc. This does not change the value. This also works for negative numbers. `111` becomes `1111` becomes `1111111` etc. All these still equal `-1`.  \n",
        "\n",
        "\n"
      ]
    },
    {
      "attachments": {},
      "cell_type": "markdown",
      "metadata": {
        "id": "DXsTDFu8-CQy"
      },
      "source": [
        "\n",
        "### Subtracting Two's Complement"
      ]
    },
    {
      "attachments": {},
      "cell_type": "markdown",
      "metadata": {
        "id": "iAilaJtA-CQz"
      },
      "source": [
        "There are two ways to subtract two’s complement numbers.  \n",
        " One is to just invert the second value, then add them together. (This is the most practical for hardware implementation)     \n",
        " The other is to subtract using borrows instead of carry overs (just like you did in elementary school)."
      ]
    },
    {
      "attachments": {},
      "cell_type": "markdown",
      "metadata": {
        "id": "7cCLwx4s-CQz"
      },
      "source": [
        "## Examples"
      ]
    },
    {
      "cell_type": "code",
      "execution_count": null,
      "metadata": {
        "cellView": "form",
        "id": "56rpE9st-CQ0"
      },
      "outputs": [],
      "source": [
        "#@markdown Q1\n",
        "print_frq_grid(1)"
      ]
    },
    {
      "cell_type": "code",
      "execution_count": null,
      "metadata": {
        "cellView": "form",
        "id": "OEklN5fX-CQ1"
      },
      "outputs": [],
      "source": [
        "#@markdown Q2\n",
        "print_frq_grid(2)"
      ]
    },
    {
      "cell_type": "code",
      "execution_count": null,
      "metadata": {
        "cellView": "form",
        "id": "nQE4bGA7-CQ1"
      },
      "outputs": [],
      "source": [
        "#@markdown Q3\n",
        "print_frq_grid(3)"
      ]
    },
    {
      "cell_type": "code",
      "execution_count": null,
      "metadata": {
        "cellView": "form",
        "id": "XVou_2cT-CQ1"
      },
      "outputs": [],
      "source": [
        "#@markdown Q4\n",
        "print_frq_grid(4)"
      ]
    },
    {
      "cell_type": "code",
      "execution_count": null,
      "metadata": {
        "cellView": "form",
        "id": "C6JADyFs-CQ1"
      },
      "outputs": [],
      "source": [
        "#@markdown Q5\n",
        "print_frq_grid(5)"
      ]
    },
    {
      "cell_type": "code",
      "execution_count": null,
      "metadata": {
        "cellView": "form",
        "id": "EPpR3gZb-CQ2"
      },
      "outputs": [],
      "source": [
        "#@markdown Q6\n",
        "print_frq_grid(6)"
      ]
    },
    {
      "cell_type": "code",
      "execution_count": null,
      "metadata": {
        "cellView": "form",
        "id": "R7rH6mTu-CQ2"
      },
      "outputs": [],
      "source": [
        "#@markdown Q7\n",
        "print_frq_grid(7)"
      ]
    },
    {
      "cell_type": "code",
      "execution_count": null,
      "metadata": {
        "cellView": "form",
        "id": "QECEAUug-CQ2"
      },
      "outputs": [],
      "source": [
        "#@markdown Q8\n",
        "print_frq_grid(8)"
      ]
    },
    {
      "cell_type": "code",
      "execution_count": null,
      "metadata": {
        "cellView": "form",
        "id": "75IZZZBU-CQ2"
      },
      "outputs": [],
      "source": [
        "#@markdown Q9\n",
        "print_frq_grid(9)"
      ]
    },
    {
      "cell_type": "code",
      "execution_count": null,
      "metadata": {
        "cellView": "form",
        "id": "2-PGohQ3-CQ2"
      },
      "outputs": [],
      "source": [
        "#@markdown Q10\n",
        "print_frq_grid(10)"
      ]
    },
    {
      "attachments": {},
      "cell_type": "markdown",
      "metadata": {},
      "source": [
        "Click [Here](https://colab.research.google.com/github/byuccl/digital_design_colab2/blob/master/Exercises/luts_and_mux/luts_and_mux.ipynb) to move on to the Luts and Mux Lesson."
      ]
    }
  ],
  "metadata": {
    "colab": {
      "provenance": []
    },
    "kernelspec": {
      "display_name": "Python 3.10.6 64-bit",
      "language": "python",
      "name": "python3"
    },
    "language_info": {
      "codemirror_mode": {
        "name": "ipython",
        "version": 3
      },
      "file_extension": ".py",
      "mimetype": "text/x-python",
      "name": "python",
      "nbconvert_exporter": "python",
      "pygments_lexer": "ipython3",
      "version": "3.10.12"
    },
    "orig_nbformat": 4,
    "vscode": {
      "interpreter": {
        "hash": "e7370f93d1d0cde622a1f8e1c04877d8463912d04d973331ad4851f04de6915a"
      }
    }
  },
  "nbformat": 4,
  "nbformat_minor": 0
}
