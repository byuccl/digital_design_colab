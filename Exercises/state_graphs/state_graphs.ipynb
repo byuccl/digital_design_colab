{
 "cells": [
  {
   "cell_type": "markdown",
   "metadata": {},
   "source": [
    "## **Setup**\n",
    "Click the Play Button. No need to expand. Do not touch this. "
   ]
  },
  {
   "cell_type": "code",
   "execution_count": null,
   "metadata": {},
   "outputs": [],
   "source": [
    "#@title Import Files from Repo\n",
    "import ipywidgets as widgets\n",
    "from ipywidgets import GridspecLayout\n",
    "from ipywidgets import AppLayout, Button, Layout, jslink, IntText, IntSlider\n",
    "import requests\n",
    "#Creates a text document using the Raw github url. This text document will be used as a .py file for imports\n",
    "def import_text(text):\n",
    "  url = 'https://raw.githubusercontent.com/byuccl/digital_design_colab2/master/Exercises/state_graphs/files/%s' % text\n",
    "  resp = requests.get(url)\n",
    "  with open(text, 'wb') as f:\n",
    "    f.write(resp.content)\n",
    "\n",
    "\n",
    "import_text(\"ms_sg.py\")\n",
    "\n",
    "\n",
    "\n",
    "\n",
    "from ms_sg import *\n"
   ]
  },
  {
   "cell_type": "markdown",
   "metadata": {},
   "source": [
    "## State Machines"
   ]
  },
  {
   "cell_type": "markdown",
   "metadata": {},
   "source": [
    "Think about a vending machine. It waits for someone to approach. It then waits for you to enter the code for the snack you want. Then it takes your money from you for the snack. Then it gives you the snack. It also has to be ready in case the user cancels their choice, takes too long or messes up the payment, and then it resets and waits for new instructions.\n",
    "\n",
    "There are 4 unique modes the vending machine can be in.\n",
    "1. Waiting for a user\n",
    "2. Entering a selectiion\n",
    "3. Waiting for payment\n",
    "4. Dispensing Food\n",
    "\n",
    "This is called a state machine. Each mode is called a state. The circuit can remember what state it is in. When certain conditions are met, the circuit will transition to a different state. The circuit does certain actions depending on what state it is in. The two big parts of a state machine are the actions and transitions. Actions are things that happen in a state and transitions are the conditions necessary to change states.\n",
    "\n",
    "We can represent this with a state graph.\n",
    "\n",
    "<img src=\"https://raw.githubusercontent.com/byuccl/digital_design_colab/main/State_Machine/media/state_machine.drawio.svg\"\n",
    "width=\"500\" height=\"300\" style=\"display: block; margin: 0 auto \" />\n",
    "<br>\n",
    "\n",
    "Each circle on the graph is a state that the machine can be in. Each arrow is a possible transition that can be made from one state to another. The label for each arrow is the variable which the transition is dependent upon. If the machine is in \"Entering a choice\" it can either move to \"Waiting for Payment\" or \"IDLE\" depending on which signal it recieves. By representing your design with a state graph, it is easy to visualize it's functionality and also find places where potential problems could arise. Additionally, it is easy to take the next step and move from a state graph to coding the hardware implementation in SystemVerilog."
   ]
  },
  {
   "cell_type": "markdown",
   "metadata": {},
   "source": [
    "### Outputs\n",
    "\n",
    "Another thing that is useful to include in a state machine is outputs. Outputs, also called actions, are how the machine interacts with the world around it. For example, you could have a yellow LED light up while it is in the \"Waiting for Payment\" state, and a green LED light up while it is in the \"Dispensing Food\" state. Outputs also include everything the state machine does, including dispensing the food. But some outputs shouldn't be only dependent on the state. You could have a noise that plays when it switches to the \"Entering a choice\" state, but you wouldn't want it to keep playing the whole time someone is making their decision. You could make the output dependent on a stop signal from a timer in addition to the state that this is in, or maybe it only occurs on the transition.\n",
    "\n",
    "The LED outputs mentioned are know as Moore outputs. A Moore output is dependent only on the current state, and ignores all other signals. The sound output is an example of a Mealy output. Mealy outputs are dependent on the current state and another signal. These are often high as the state machine switches states. Because of this, Mealy outputs will be written next to transition lines on the State Graph, and Moore outputs will be written next to the state it is dependent on. "
   ]
  },
  {
   "cell_type": "markdown",
   "metadata": {},
   "source": [
    "### Example 2\n",
    "\n",
    "Think of a washer-dryer combo at a laundromat.\n",
    "\n",
    "It waits for someone to put in some coins. If coins are inserted, it waits for a button to be pressed to choose the service. If there are enough coins, it can be set to wash, dry or both. It then enters either the wash or dry cycle. If both were selected it will enter dry after washing is done. When dry finishes the machine goes back into idle state.\n",
    "\n",
    "It has the following states:\n",
    "1. Idle\n",
    "2. Waiting for selection.\n",
    "3. Washing\n",
    "4. Drying\n",
    "5. Done\n",
    "\n",
    "\n",
    "<img src=\"https://raw.githubusercontent.com/byuccl/digital_design_colab/main/State_Machine/media/washing_machine.drawio.svg\"\n",
    "width=\"500\" height=\"300\" style=\"display: block; margin: 0 auto \" />\n",
    "<br>\n",
    "\n",
    "The buttons and coins are used to switch it between the different states.  \n",
    "\n",
    "Though not everything is listed, this state machine also includes a few Moore outputs. For example, while in the DONE state, the beeping signal is high which drives the beep sound maker. An example of a Mealy Output would be the machine doing what it needs to switch from Washing to Drying."
   ]
  },
  {
   "cell_type": "markdown",
   "metadata": {},
   "source": [
    "### Potential Mistakes\n",
    "\n",
    "\n",
    "There are some things one should be aware of when creating a state machine. There are two cases which can create a bad state machine. They are incomplete and conflicting states. Take look at the transitions out of state A in the following graphs.\n",
    "\n",
    "<img src=\"https://raw.githubusercontent.com/byuccl/digital_design_colab/main/State_Machine/media/StateGrapeTypes.drawio.svg\"\n",
    "width=\"2000\" height=\"340\" style=\"display: block; margin: 0 auto \" />\n",
    "<br>\n",
    "\n",
    "Incomplete State:\n",
    "In the second graph, there are certain conditions that will result in nothing happening. This will cause unknown behavior. For example, if both X and Y are low, there is no defined path. To check for Incomplete states, you can create a truth table of all possible values and make sure each has an outcome. An easy solution for coding is to use an else statement that sets the next state as the current state.\n",
    "\n",
    "Conflicting State:\n",
    "In this example, the same inputs can result in either state triggering which is undefined behavior. If X and Y are both high, it is told to go to both state B and C. Which one will win out is impossible to tell. This can be fixed by removing overlap and using specific logic.\n",
    "\n",
    "\n"
   ]
  },
  {
   "cell_type": "code",
   "execution_count": null,
   "metadata": {},
   "outputs": [],
   "source": [
    "#Questions\n",
    "#Create a state machine, have 4 questions on incomplete, complete\n",
    "#full and nto full or whatever\n",
    "#Which ones are Mealy, Which ones are Moore"
   ]
  },
  {
   "cell_type": "code",
   "execution_count": null,
   "metadata": {},
   "outputs": [],
   "source": [
    "#@title  { display-mode: \"form\" }\n",
    "#@title  { display-mode: \"form\" }\n",
    "#@markdown Use this diagram for the following questions\n",
    "#@markdown <p align=\"left\"> <img src=\"https://raw.githubusercontent.com/byuccl/digital_design_colab2/master/Exercises/state_graphs/media/state_graph_a.drawio.svg\" width=\"250\" height=\"\" style=\"display: block; margin: 0 auto\" /> </p>\n",
    "#@markdown \n",
    "print_frq_grid(1)\n",
    "print('\\n\\n')\n",
    "print_frq_grid(2)"
   ]
  }
 ],
 "metadata": {
  "kernelspec": {
   "display_name": "Python 3.9.15 64-bit",
   "language": "python",
   "name": "python3"
  },
  "language_info": {
   "name": "python",
   "version": "3.9.15"
  },
  "orig_nbformat": 4,
  "vscode": {
   "interpreter": {
    "hash": "f9f85f796d01129d0dd105a088854619f454435301f6ffec2fea96ecbd9be4ac"
   }
  }
 },
 "nbformat": 4,
 "nbformat_minor": 2
}
