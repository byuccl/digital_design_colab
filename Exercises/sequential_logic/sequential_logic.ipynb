{
 "cells": [
  {
   "cell_type": "markdown",
   "metadata": {},
   "source": [
    "## **Setup**\n",
    "Click the Play Button. No need to expand. Do not touch this. "
   ]
  },
  {
   "cell_type": "code",
   "execution_count": null,
   "metadata": {},
   "outputs": [],
   "source": [
    "\n"
   ]
  },
  {
   "cell_type": "markdown",
   "metadata": {},
   "source": [
    "### Sequential Logic\n",
    "\n",
    "Instead of using `always_comb` blocks we will now use a `always_ff` block. The standard is `always_ff @(posedge clk)`  \n",
    "\n",
    "`@(posedge clk)` means that the block will trigger every time the signal, in the case `clk`, goes from low to high. \n",
    "\n",
    "The simplest example is a counter.\n",
    "\n",
    "```\n",
    "always_ff @(posedge clk) begin\n",
    "q<= q + 1;\n",
    "end\n",
    "```\n",
    "\n",
    "Once per clock cycle, `q` will increase by one. \n",
    "\n",
    "This is the basic element of our stopwatch. A simple sequential counter. Using some if/else statements we can have it reset when Q reaches a certain value. \n",
    "\n",
    "Though one obvious problem is that a clock cycle is a very small fraction of a second. With a 100MHZ clock, the counter goes up every 0.00000001 seconds. \n",
    "\n",
    "So we must calculate how many cycles we want before one hundreth of a second passes. \n",
    "Then we will use the rollover value, a separate signal that is high after the counter resets, to increment the next module. "
   ]
  },
  {
   "cell_type": "markdown",
   "metadata": {},
   "source": [
    "What is the advantage to using sequential logic? \n",
    "The biggest reason is that by using Flip-Flops, sequential logic allows data values to be stored.  \n",
    "This can be seen in the counter, in that `q` stores the counter value.  \n",
    "Combinational logic does not allow any values to be stored.  \n",
    "You can think about it like this, in Combinational logic all outputs are directly related to the input. For example, X+Y=Z.   \n",
    "In sequential logic, all outputs are related to the input and the current state. For example, X+Y=X. In this example, we can use the current state of X to calculate Y.  So since we need to store the value of a counter, if we were to code a counter we would use sequential logic. "
   ]
  },
  {
   "cell_type": "markdown",
   "metadata": {},
   "source": [
    "###__Sequential Logic Tips and Tricks__ \n",
    "#### Reset\n",
    "We need a way to restart the circuit. As a general rule, all circuits that use flip flops should have a reset. When reset is high, no matter the other inputs, all flip flops should go to `0`. In this case it would be the counters.\n",
    "\n",
    "\n",
    "There are two kinds of resets, Asynchronous and Synchronous. Synchronous reset on the clock cycle, while Asynchronous occurs right when the value is switched.\n",
    "\n",
    "Example:\n",
    "```\n",
    "always_ff @(posedge clk)begin\n",
    "if(reset)\n",
    "    a<=0;\n",
    "else\n",
    "    a<=a+1;\n",
    "```\n",
    "#### Always_ff blocks\n",
    "Instead of using an `=` like in `always_comb`, `always_ff` uses an `<=`. If you use an `=` your code may have undefined behavior. \n",
    "\n",
    "#### Defaults\n",
    "If a signal is not set in a branch, it will be assumed to be set to itself.  \n",
    "Example:  \n",
    "```\n",
    "always_ff @(posedge clk)begin\n",
    "if(reset)\n",
    "    a<=0;\n",
    "else if(increment)\n",
    "    a<=a+1;\n",
    "```\n",
    "If increment is low, then `a<=a` is implied. This just makes it easier to write our code.\n",
    "\n",
    "#### Combining styles\n",
    "In most cases, you will need to use both Combinational and Sequential logic in the same project. \n",
    "Don't assign a variable in both combinational and sequential logic or an error will be thrown. \n",
    "For example: \n",
    "```\n",
    "always_comb \n",
    " a = 1'b1;\n",
    "\n",
    "always_ff @(posedge clk)\n",
    " a <= 1'b0;\n",
    "```"
   ]
  },
  {
   "cell_type": "markdown",
   "metadata": {},
   "source": []
  }
 ],
 "metadata": {
  "kernelspec": {
   "display_name": "Python 3.9.15 64-bit",
   "language": "python",
   "name": "python3"
  },
  "language_info": {
   "name": "python",
   "version": "3.9.15"
  },
  "orig_nbformat": 4,
  "vscode": {
   "interpreter": {
    "hash": "f9f85f796d01129d0dd105a088854619f454435301f6ffec2fea96ecbd9be4ac"
   }
  }
 },
 "nbformat": 4,
 "nbformat_minor": 2
}
