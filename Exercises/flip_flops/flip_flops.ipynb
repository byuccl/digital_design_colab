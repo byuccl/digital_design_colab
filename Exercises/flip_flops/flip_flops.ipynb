{
 "cells": [
  {
   "cell_type": "markdown",
   "metadata": {},
   "source": [
    "## **Setup**\n",
    "Click the Play Button. No need to expand. Do not touch this. "
   ]
  },
  {
   "attachments": {},
   "cell_type": "markdown",
   "metadata": {},
   "source": [
    "####Clock\n",
    "\n",
    "\n",
    "You've probably seen a computer say that it has a 2.1 GHZ clock speed. This means that it clocks goes from `1` to `0` 2.1*10^9 times every a second.   \n",
    "<br>\n",
    "\n",
    "The clock is used in making sure all parts of the circuit are synchronized. We have only been working with combination logic which doesn't require a clock, but now we will discuss sequential logic. \n",
    "\n",
    "As you've noticed, one downside of combinational logic is that our circuit cannot store any values. We will now discuss how gate level logic could store a value in a circuit."
   ]
  },
  {
   "attachments": {},
   "cell_type": "markdown",
   "metadata": {},
   "source": [
    "#Flip Flops\n",
    "What if we want to store a value?  \n",
    "What if we want to temporarily store a `1` somewhere?  \n",
    "This is where flip flops come in.  A flip flop stores a single bit.  \n",
    "\n",
    "The first example is the SR latch:  \n",
    "\n",
    "<img src=\"https://raw.githubusercontent.com/byuccl/digital_design_colab/main/Stopwatch/media/srlatch(1).svg\"\n",
    "width=\"400\" height=\"200\" style=\"display: block; margin: 0 auto \" />\n",
    "<br> \n",
    "\n",
    "It has 2 inputs, `S` which is the data, and `R` which is a reset. Its output is `Q`. If `S` is high then the circuit will go high as well and stay there. Reset can be used to make the circuit go low and stay there. The value of `Q` stores a bit. There is also always a `Q'` value. Though this has some problems, if `S` is `0` this does not cause `Q` to be `0`. Also if `S` and `R` are high, the behavior is unknown.  \n",
    "\n",
    "<br><br>\n",
    "Next is the Gated SR Latch:  \n",
    "<br>\n",
    "<img src=\"https://raw.githubusercontent.com/byuccl/digital_design_colab/main/Stopwatch/media/gatedsrlatch.svg\"\n",
    "width=\"400\" height=\"200\" style=\"display: block; margin: 0 auto \" />\n",
    "<br>\n",
    "\n",
    "The problem above is that if S or R change, then Q will usually change as well. This isn't the best \n",
    "To better control the latch we will use a `GATE` signal. In this example and in general, it is driven by the `clk` signal. The value of `Q` can only change whlie `GATE` is high. This means if `GATE` is `1` and `S` is `0` then `Q` will become `0`.   \n",
    "<br>\n",
    "<br>\n",
    "Finally, the Gated D Latch: \n",
    "\n",
    "<br>\n",
    "\n",
    "\n",
    "<img src=\"https://raw.githubusercontent.com/byuccl/digital_design_colab/main/Stopwatch/media/gateddlatch.svg\"\n",
    "width=\"400\" height=\"200\" style=\"display: block; margin: 1000 \" />  \n",
    "<br>\n",
    "To simplify the design more, we will only have two inputs, `D` which will be the data (a combination of `S` and `R`), and `clk`.  \n",
    "We can replace the `R` signal with an inverter attached to `S`, which we will now call `D`.  This makes a Gated D Latch which looks like this. Whenver `clk` is high, `Q` will become whatever `D` is. This fixes the earlier problem, where if `R` and `S` were the same they would cause undefined behavior, because they will always be different.\n",
    "\n",
    "<br>\n",
    "<br>\n",
    "<br>\n",
    "\n",
    "\n",
    "<img src=\"https://raw.githubusercontent.com/byuccl/digital_design_colab/main/Stopwatch/media/latch.svg\"\n",
    "width=\"400\" height=\"200\" style=\"display: block; margin: 1000 \" />  \n",
    "<br>  \n",
    "\n",
    "Gated D Latches are so common this symbol is used to represent it. There is a small problem though, if `D` is changed to quickly, it can cause a race. The signal will rush from `D` and split. The two different paths will race each other. It is unknown which path will win, especially since the `clk` signal will turn quickly after. This means that we don't know what the value of `Q` will be, which isn't good.\n",
    "<img src=\"https://raw.githubusercontent.com/byuccl/digital_design_colab/main/Stopwatch/media/masterslave.svg\"\n",
    "width=\"400\" height=\"200\" style=\"display: block; margin: 1000 \" />  \n",
    "<br>\n",
    "To prevent metastability (where we are unsure of the states of the circuit) and to use the rising clock edge we utilize a Master-Slave Flip Flop design. This results in a latch where the output only changes on the rising edge (when the CLK goes from low to high) of falling edge (where the CLK goes from high to low) of the CLK signal. \n"
   ]
  },
  {
   "cell_type": "markdown",
   "metadata": {},
   "source": []
  }
 ],
 "metadata": {
  "kernelspec": {
   "display_name": "Python 3",
   "language": "python",
   "name": "python3"
  },
  "language_info": {
   "name": "python",
   "version": "3.8.10"
  },
  "orig_nbformat": 4,
  "vscode": {
   "interpreter": {
    "hash": "31f2aee4e71d21fbe5cf8b01ff0e069b9275f58929596ceb00d14d90e3e16cd6"
   }
  }
 },
 "nbformat": 4,
 "nbformat_minor": 2
}
