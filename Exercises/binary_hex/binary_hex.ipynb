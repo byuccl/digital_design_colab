{
  "cells": [
    {
      "cell_type": "markdown",
      "metadata": {
        "id": "bZA3hSjLPS4L"
      },
      "source": [
        "## **Setup**\n",
        "Click the Play Button. No need to expand. Do not touch this. "
      ]
    },
    {
      "cell_type": "code",
      "execution_count": null,
      "metadata": {
        "cellView": "form",
        "id": "M66G8rnfOz8o"
      },
      "outputs": [],
      "source": [
        "#@title Set Up Widgets\n",
        "import ipywidgets as widgets\n",
        "from ipywidgets import GridspecLayout\n",
        "from ipywidgets import AppLayout, Button, Layout, jslink, IntText, IntSlider"
      ]
    },
    {
      "cell_type": "code",
      "execution_count": null,
      "metadata": {
        "cellView": "form",
        "id": "xwmWBW7XfNEE"
      },
      "outputs": [],
      "source": [
        "#@title Import Files from Repo\n",
        "\n",
        "import requests\n",
        "def import_text(text):\n",
        "  url = 'https://raw.githubusercontent.com/westonMS/tempColab/master/Exercises/binary_hex/files/%s' %text\n",
        "  resp = requests.get(url)\n",
        "  with open(text, 'wb') as f:\n",
        "    f.write(resp.content)\n",
        "\n",
        "# import_text(\"quiz_dict.py\")\n",
        "import_text(\"tt_widget.py\")\n",
        "import_text(\"frquestion.py\")\n",
        "# import_text(\"mcquestion.py\")\n",
        "\n",
        "import tt_widget as tt\n",
        "# import quiz_dict as quiz_bot \n",
        "from frquestion import *\n",
        "# from mcquestion import *\n",
        "def quiz_func(a):\n",
        "  quiz_bot.quiz_func(a)\n",
        "\n",
        "# !git clone https://github.com/westonMS/tempColab.git"
      ]
    },
    {
      "cell_type": "markdown",
      "metadata": {
        "id": "LWdMfDHvPbyA"
      },
      "source": [
        "## **Number Systems**"
      ]
    },
    {
      "cell_type": "markdown",
      "metadata": {
        "id": "hALne8FpPmM0"
      },
      "source": [
        "One of the first things we learned as children was how to count. We would from 0 to 9, and then put a 1 in front of each number and repeated the process to count from 10 to 19. The thing that we don't often think about is that the decision to add a new digit at 10 was completely arbitrary. For example, we could count from 0 to 4, and then add a digit and restart for the next number. This means that to count to our version of 10, you would go:  \n",
        "\n",
        "1,2,3,4,10,11,12,13,14,20  \n",
        "\n",
        "In this case when you go from 4 to 10, the first digit represents the \"fives place\" and the second digit represents the \"ones place\" (10 = 5+0 and 11 = 5+1). This would be a base 5 number system, as opposed to our standard base 10 number system. You could use any number as a base. You could have a really small base, like base 2, or you could have a base bigger that usual like 16. Binary is simply to count using a base 2 number system."
      ]
    },
    {
      "cell_type": "markdown",
      "metadata": {
        "id": "mr60gMMuaa8F"
      },
      "source": [
        "## **Binary**"
      ]
    },
    {
      "attachments": {},
      "cell_type": "markdown",
      "metadata": {
        "id": "WTpfRHcvafB_"
      },
      "source": [
        "Let's break down a decimal number (base 10), and a binary number (base 2). We can denote the base of the number with a subscript.\n",
        "\n",
        "1496<sub>10</sub> = 1000 + 400 + 90 + 9  \n",
        "&emsp;&emsp;&emsp;&nbsp; = 1 * 10<sup>3</sup> + 4 * 10<sup>2</sup> + 9 * 10<sup>1</sup> + 9 * 10<sup>0</sup> = 1496<sub>10</sub>\n",
        "\n",
        "11001<sub>2</sub> = 1 * 2<sup>4</sup> + 1 * 2<sup>3</sup> + 0 * 2<sup>2</sup> + 0 * 2<sup>1</sup> + 1 * 2<sup>0</sup>  \n",
        "&emsp;&emsp;&emsp;&nbsp; = 16 + 8 + 0 + 0 + 1 = 25<sub>10</sub>\n",
        "\n",
        "So each place in a binary number corresponds to a power of 2. You add up the values corresponding to each 1 to turn a binary number into a decimal number. Each 1 or zero is referred to as a bit (binary digit). The bit on the far left is called the MSB (Most Significant Bit) and the bit on the far right is called the LSB (Least Significant Bit). The MSB is the most significant, or important, bit becuase it has the most impact on the number. \n",
        "\n",
        "For example, in the number 1496<sub>10</sub>, the most significant 'bit' or number is the 1, as 1000 is significantly larger and has more of an impact on the number than the 6 does.\n",
        "\n",
        "Similarly, the LSB is called the least significant bit because it has the least impact on the number. In the example above, 6 is the least significant 'bit' or number as 1490 isn't that different from 1496.\n",
        "\n",
        "Now what if you want to represent a decimal number in binary? Let's try converting the number 53 into binary. You first want to find the largest power of 2 that can fit into 53. In this case it is 32 or 2<sup>5</sup>. This will be the MSB. Now we can start to lay out our binary number with this information.  \n",
        "\n",
        "<sub>${\\scriptsize 32}$ ${\\scriptsize 16}$ &nbsp;${\\scriptsize 8}$ ${\\scriptsize 4}$ &nbsp;${\\scriptsize 2}$ &nbsp;${\\scriptsize 1}$</sub>  \n",
        "&nbsp;1&nbsp; _ &nbsp;_ _ &nbsp;_ _  \n",
        "\n",
        "We can find the remaining value that is not yet represented by subtracting 32 from 53 so our new target is 53 - 32 = 21. Now we can repeat the process, what is the biggest power of 2 that can fit into 21? The answer is 16 or 2<sup>4</sup>, so now we can fill it in.\n",
        "\n",
        "<sub>${\\scriptsize 32}$ ${\\scriptsize 16}$ &nbsp;${\\scriptsize 8}$ ${\\scriptsize 4}$ &nbsp;${\\scriptsize 2}$ &nbsp;${\\scriptsize 1}$</sub>  \n",
        "&nbsp;1&nbsp; 1 &nbsp;_ _ &nbsp;_ _  \n",
        "\n",
        "We just keep repeating this process until we have fill out every bit.\n",
        "\n",
        "&nbsp;21 - 16 = 5, so the biggest power of 2 is 4.\n",
        "\n",
        "<sub>${\\scriptsize 32}$ ${\\scriptsize 16}$ &nbsp;${\\scriptsize 8}$ ${\\scriptsize 4}$ &nbsp;${\\scriptsize 2}$ &nbsp;${\\scriptsize 1}$</sub>  \n",
        "&nbsp;1&nbsp; 1 0 1 &nbsp;_ _  \n",
        "\n",
        "&nbsp;5 - 4 = 1, so the biggest power of 2 is 1.\n",
        "\n",
        "<sub>${\\scriptsize 32}$ ${\\scriptsize 16}$ &nbsp;${\\scriptsize 8}$ ${\\scriptsize 4}$ &nbsp;${\\scriptsize 2}$ &nbsp;${\\scriptsize 1}$</sub>  \n",
        "&nbsp;1 &nbsp;1 0 1 0 1  \n",
        "\n",
        "So 53<sub>10</sub> is 110101 in binary. "
      ]
    },
    {
      "cell_type": "markdown",
      "metadata": {
        "id": "TLtctZM8JbqX"
      },
      "source": [
        "### **Binary Practice**"
      ]
    },
    {
      "cell_type": "code",
      "execution_count": null,
      "metadata": {
        "cellView": "form",
        "id": "47QYQDmyJ03H"
      },
      "outputs": [],
      "source": [
        "#@title Q1\n",
        "frq_1[0,2].on_click(check_frq_1)\n",
        "header_button = create_expanded_button('Binary Question 1', 'primary', '500px')\n",
        "widgets.VBox([AppLayout(header=header_button,footer=None),frq_1])"
      ]
    },
    {
      "cell_type": "code",
      "execution_count": null,
      "metadata": {
        "cellView": "form",
        "id": "-JOd0xwDN2j4"
      },
      "outputs": [],
      "source": [
        "#@title Q2\n",
        "frq_2[0,2].on_click(check_frq_2)\n",
        "header_button = create_expanded_button('Binary Question 1', 'primary', '500px')\n",
        "widgets.VBox([AppLayout(header=header_button,footer=None),frq_2])"
      ]
    },
    {
      "cell_type": "code",
      "execution_count": null,
      "metadata": {
        "cellView": "form",
        "id": "BDwXGsmwN3Cw"
      },
      "outputs": [],
      "source": [
        "#@title Q3\n",
        "frq_3[0,2].on_click(check_frq_3)\n",
        "header_button = create_expanded_button('Binary Question 1', 'primary', '500px')\n",
        "widgets.VBox([AppLayout(header=header_button,footer=None),frq_3])"
      ]
    },
    {
      "cell_type": "code",
      "execution_count": null,
      "metadata": {
        "cellView": "form",
        "id": "QYtQXZ9_N3o1"
      },
      "outputs": [],
      "source": [
        "#@title Q4\n",
        "frq_4[0,2].on_click(check_frq_4)\n",
        "header_button = create_expanded_button('Binary Question 1', 'primary', '500px')\n",
        "widgets.VBox([AppLayout(header=header_button,footer=None),frq_4])"
      ]
    },
    {
      "cell_type": "code",
      "execution_count": null,
      "metadata": {
        "cellView": "form",
        "id": "djjb7-DKN4IA"
      },
      "outputs": [],
      "source": [
        "#@title Q5\n",
        "frq_5[0,2].on_click(check_frq_5)\n",
        "header_button = create_expanded_button('Binary Question 1', 'primary', '500px')\n",
        "widgets.VBox([AppLayout(header=header_button,footer=None),frq_5])"
      ]
    },
    {
      "cell_type": "code",
      "execution_count": null,
      "metadata": {
        "cellView": "form",
        "id": "FAxUscDiN4eo"
      },
      "outputs": [],
      "source": [
        "#@title Q6\n",
        "frq_6[0,2].on_click(check_frq_6)\n",
        "header_button = create_expanded_button('Binary Question 1', 'primary', '500px')\n",
        "widgets.VBox([AppLayout(header=header_button,footer=None),frq_6])"
      ]
    },
    {
      "cell_type": "markdown",
      "metadata": {
        "id": "AJbCbyA2Q0M-"
      },
      "source": [
        "## **Hexadecimal**"
      ]
    },
    {
      "cell_type": "markdown",
      "metadata": {
        "id": "Pxx4uiuERMov"
      },
      "source": [
        "After working with binary numbers for a while, you start to get tired of writing all the 1's and 0's. Or maybe you want to write a binary number is a smaller space. You can use hexadecimal to make binary numbers more compact. Hexadecimal (hex) is a base 16 number system. That means we can count up to 16 before needing another digit. But wait, we only have digits 0-9, how can we represent 10 or 11 with just one digit? The convention is to use the first 6 letters of the alphabet to reach 15. This means that to count to 16<sub>10</sub> , you would go:\n",
        "\n",
        "1,2,3,4,5,6,7,8,9,A,B,C,D,E,F,10\n",
        "\n",
        "\n",
        "The process for converting a hex number to decimal is exaclty the same as with binary.\n",
        "\n",
        "2a7<sub>16</sub> = 2 * 16<sup>2</sup> + 10 * 16<sup>1</sup> + 7 * 16<sup>0</sup>  \n",
        "&emsp;&emsp;&nbsp;&nbsp;&nbsp; = 2 * 256 + 10 * 16 + 7 * 1  \n",
        "&emsp;&emsp;&nbsp;&nbsp;&nbsp; = 512 + 160 + 1 = 673<sub>10</sub>\n",
        "\n",
        "However, hex is truly useful becuase of how easy it is to convert between binary and hex. Since 16 is a power of 2 (2<sup>4</sup>), we can break up a long binary number into groups of 4 and convert each group to hex independantly. For example, if we are given the binary number 00101101 we could convert it to hexadecimal quite easily. First we break it up into groups of 4 and then we convert each set of 4 to hex.\n",
        "\n",
        "0010<sub>2</sub> = 0 + 0 + 2 + 0 = 2<sub>16</sub>  \n",
        "1101<sub>2</sub> = 8 + 4 + 0 + 1 = 13 = D<sub>16</sub>\n",
        "\n",
        "So the 8 digit binary number 00101101 can be represented with a 2 digit hex number as 2D<sub>2</sub>. Once you have practiced doing this conversion, it is very easy to convert a 4 bit binary number to hex. All of the 4 bit conversions are summarized in this table.\n",
        "\n",
        "![picture](https://raw.githubusercontent.com/westonMS/tempColab/master/Exercises/binary_hex/media/hex_table.png)\n",
        "\n",
        "\n",
        "With this strategy even very long binary numbers can be converted easily. For example, lets convert the 32 bit number 11111010011010110010110101101000.  \n",
        "\n",
        "1111 1010 0110 1011 0010 1101 0110 1000\n",
        "\n",
        "&emsp;F&emsp;&emsp;A &emsp;&nbsp; 6&emsp;&emsp;B&emsp;&emsp;2 &emsp;&nbsp; D&emsp;&emsp;6 &emsp;&nbsp; 8\n",
        "\n",
        "\n"
      ]
    },
    {
      "cell_type": "markdown",
      "metadata": {
        "id": "2huOYC0Xggin"
      },
      "source": [
        "### **Hexadecimal Practice**"
      ]
    },
    {
      "cell_type": "code",
      "execution_count": null,
      "metadata": {
        "cellView": "form",
        "id": "cZ2XwPhFgegM"
      },
      "outputs": [],
      "source": [
        "#@title Q1\n",
        "frq_7[0,2].on_click(check_frq_7)\n",
        "header_button = create_expanded_button('Hex Question 1', 'primary', '500px')\n",
        "widgets.VBox([AppLayout(header=header_button,footer=None),frq_7])"
      ]
    },
    {
      "cell_type": "code",
      "execution_count": null,
      "metadata": {
        "cellView": "form",
        "id": "dTQ_6Do5geVD"
      },
      "outputs": [],
      "source": [
        "#@title Q2\n",
        "frq_8[0,2].on_click(check_frq_8)\n",
        "header_button = create_expanded_button('Hex Question 2', 'primary', '500px')\n",
        "widgets.VBox([AppLayout(header=header_button,footer=None),frq_8])"
      ]
    },
    {
      "cell_type": "code",
      "execution_count": null,
      "metadata": {
        "cellView": "form",
        "id": "F1A03HDugeQ7"
      },
      "outputs": [],
      "source": [
        "#@title Q3\n",
        "frq_9[0,2].on_click(check_frq_9)\n",
        "header_button = create_expanded_button('Hex Question 3', 'primary', '500px')\n",
        "widgets.VBox([AppLayout(header=header_button,footer=None),frq_9])"
      ]
    },
    {
      "cell_type": "code",
      "execution_count": null,
      "metadata": {
        "cellView": "form",
        "id": "S0x2U3UcgeKF"
      },
      "outputs": [],
      "source": [
        "#@title Q4\n",
        "frq_10[0,2].on_click(check_frq_10)\n",
        "header_button = create_expanded_button('Hex Question 4', 'primary', '500px')\n",
        "widgets.VBox([AppLayout(header=header_button,footer=None),frq_10])"
      ]
    },
    {
      "cell_type": "code",
      "execution_count": null,
      "metadata": {
        "cellView": "form",
        "id": "K3uxCwsPgeBD"
      },
      "outputs": [],
      "source": [
        "#@title Q5\n",
        "frq_11[0,2].on_click(check_frq_11)\n",
        "header_button = create_expanded_button('Hex Question 5', 'primary', '500px')\n",
        "widgets.VBox([AppLayout(header=header_button,footer=None),frq_11])"
      ]
    },
    {
      "cell_type": "code",
      "execution_count": null,
      "metadata": {
        "cellView": "form",
        "id": "FqRjowSvhYhV"
      },
      "outputs": [],
      "source": [
        "#@title Q6\n",
        "frq_12[0,2].on_click(check_frq_12)\n",
        "header_button = create_expanded_button('Hex Question 6', 'primary', '500px')\n",
        "widgets.VBox([AppLayout(header=header_button,footer=None),frq_12])"
      ]
    }
  ],
  "metadata": {
    "colab": {
      "provenance": []
    },
    "kernelspec": {
      "display_name": "Python 3",
      "language": "python",
      "name": "python3"
    },
    "language_info": {
      "name": "python",
      "version": "3.10.10"
    },
    "vscode": {
      "interpreter": {
        "hash": "97cc609b13305c559618ec78a438abc56230b9381f827f22d070313b9a1f3777"
      }
    }
  },
  "nbformat": 4,
  "nbformat_minor": 0
}
