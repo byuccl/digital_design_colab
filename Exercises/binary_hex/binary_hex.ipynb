{
  "cells": [
    {
      "cell_type": "markdown",
      "metadata": {
        "id": "bZA3hSjLPS4L"
      },
      "source": [
        "## **Setup**\n",
        "Click the Play Button. No need to expand. Do not touch this. "
      ]
    },
    {
      "cell_type": "code",
      "execution_count": 3,
      "metadata": {
        "cellView": "form",
        "id": "M66G8rnfOz8o"
      },
      "outputs": [],
      "source": [
        "#@title Set Up Widgets\n",
        "import ipywidgets as widgets\n",
        "from ipywidgets import GridspecLayout\n",
        "from ipywidgets import AppLayout, Button, Layout, jslink, IntText, IntSlider"
      ]
    },
    {
      "cell_type": "code",
      "execution_count": 5,
      "metadata": {
        "cellView": "form",
        "id": "xwmWBW7XfNEE"
      },
      "outputs": [],
      "source": [
        "#@title Import Files from Repo\n",
        "\n",
        "import requests\n",
        "def import_text(location, file):\n",
        "  url = 'https://raw.githubusercontent.com/byuccl/digital_design_colab2/master/%s/%s' % (location, file)\n",
        "  resp = requests.get(url)\n",
        "  with open(file, 'wb') as f:\n",
        "    f.write(resp.content)\n",
        "\n",
        "import_text(\"Exercises/addition_subtraction/files/\", \"frqBH.py\")\n",
        "import_text(\"Templates/\", \"frqTemplate.py\")\n",
        "\n",
        "from frqBH import *\n",
        "from frqTemplate import * \n",
        "create_frq_dictionary(get_data())"
      ]
    },
    {
      "cell_type": "markdown",
      "metadata": {
        "id": "LWdMfDHvPbyA"
      },
      "source": [
        "## **Number Systems**"
      ]
    },
    {
      "cell_type": "markdown",
      "metadata": {
        "id": "hALne8FpPmM0"
      },
      "source": [
        "One of the first things we learned as children was how to count. We would count in the base 10 system starting at 0 and counting until 9. Once we ran out of numbers we simply added a 1 to each number, then a 2 and continued onward. We have become so comfortable with this system that we have forgotten that we can count in any base system. The base number simply declares how many digits we have to work with. For example a base 5 system would count 0, 1, 2, 3, 4 then in order to count any higher we need to add a 1 to each number then a 2 and continue onward.... \n",
        "\n",
        "Base 5:  0, 1, 2, 3, 4, 10, 11, 12, 13, 14, 20, 21, 22, 23, 24, 30<br>\n",
        "Base 10: 0, 1, 2, 3, 4,  5,  6,  7,  8,  9, 10, 11, 12, 13, 14, 15\n",
        "\n",
        "This may seem a little strange at first. However, it is a perfectly valid counting system. We are also not limited to a base smaller than 10. A popular base in computer enginering is base 16. In order to get this many digits we need to invent some new symbols. The convention is to start using letters. \n",
        "\n",
        "Base 16: 0, 1, 2, 3, 4, 5, 6, 7, 8, 9,  a,  b,  c,  d,  e,  f, 10<br>\n",
        "Base 10: 0, 1, 2, 3, 4, 5, 6, 7, 8, 9, 10, 11, 12, 13, 14, 15, 16\n",
        "\n",
        "Though the options for systems is endless the most important when dealing with computers is Binary or a base 2 system. This is what a computer uses to process information and will be vital to understand when learning digital design. \n"
      ]
    },
    {
      "cell_type": "markdown",
      "metadata": {
        "id": "mr60gMMuaa8F"
      },
      "source": [
        "## **Binary**"
      ]
    },
    {
      "cell_type": "markdown",
      "metadata": {
        "id": "WTpfRHcvafB_"
      },
      "source": [
        "*Why Binary?*   \n",
        "\n",
        "Humans have analog senses that read input from 0 to infinity. Computers on the other hand are digital.  \n",
        "They can only see things as off or on. This means that if they want to represent something   \n",
        "they must do it in a series of offs and ons. We use a 0 to represent off and a 1 to represent on.  \n",
        "\n",
        "*Using binary*  \n",
        "\n",
        "Let's break down a decimal number (base 10), and a binary number (base 2). We can denote the base of the number with a subscript.\n",
        "\n",
        "1496<sub>10</sub> = 1000 + 400 + 90 + 9  \n",
        "&emsp;&emsp;&emsp;&nbsp; = 1 * 10<sup>3</sup> + 4 * 10<sup>2</sup> + 9 * 10<sup>1</sup> + 9 * 10<sup>0</sup> = 1496<sub>10</sub>\n",
        "\n",
        "11001<sub>2</sub> = 1 * 2<sup>4</sup> + 1 * 2<sup>3</sup> + 0 * 2<sup>2</sup> + 0 * 2<sup>1</sup> + 1 * 2<sup>0</sup>  \n",
        "&emsp;&emsp;&emsp;&nbsp; = 16 + 8 + 0 + 0 + 1 = 25<sub>10</sub>\n",
        "\n",
        "Each place in a binary number corresponds to a power of 2. You add up the values corresponding to each one to turn a binary number into a decimal number. Each 1 or zero is referred to as a bit (binary digit). The bit on the far left is called the MSB (Most Significant Bit) and the bit on the far right is called the LSB (Least Significant Bit). The MSB is the most significant bit becuase it represents the highest power in the number therefore having the greatest impact on it's value. For example, in the number 1496<sub>10</sub>, the most significant 'bit' or number is the 1, as 1000 is significantly larger and has more of an impact on the number than the 6 does. Similarly, the LSB is called the least significant bit because it has the least impact on the number. In the example above, 6 is the least significant 'bit' or number as 1490 isn't that different from 1496.\n",
        "\n",
        "Now what if you want to represent a decimal number in binary? Let's try converting the number 53 into binary. You first want to find the largest power of 2 that can fit into 53. In this case it is 32 or 2<sup>5</sup>. This will be the MSB. Now we can start to lay out our binary number with this information.  \n",
        "\n",
        "<sub>${\\scriptsize 32}$ ${\\scriptsize 16}$ &nbsp;${\\scriptsize 8}$ ${\\scriptsize 4}$ &nbsp;${\\scriptsize 2}$ &nbsp;${\\scriptsize 1}$</sub>  \n",
        "&nbsp;1&nbsp; _ &nbsp;_ _ &nbsp;_ _  \n",
        "\n",
        "We can find the remaining value that is not yet represented by subtracting 32 from 53 so our new target is 53 - 32 = 21. Now we can repeat the process, what is the biggest power of 2 that can fit into 21? The answer is 16 or 2<sup>4</sup>, so now we can fill it in.\n",
        "\n",
        "<sub>${\\scriptsize 32}$ ${\\scriptsize 16}$ &nbsp;${\\scriptsize 8}$ ${\\scriptsize 4}$ &nbsp;${\\scriptsize 2}$ &nbsp;${\\scriptsize 1}$</sub>  \n",
        "&nbsp;1&nbsp; 1 &nbsp;_ _ &nbsp;_ _  \n",
        "\n",
        "We just keep repeating this process until we have fill out every bit.\n",
        "\n",
        "&nbsp;21 - 16 = 5, so the biggest power of 2 is 4.\n",
        "\n",
        "<sub>${\\scriptsize 32}$ ${\\scriptsize 16}$ &nbsp;${\\scriptsize 8}$ ${\\scriptsize 4}$ &nbsp;${\\scriptsize 2}$ &nbsp;${\\scriptsize 1}$</sub>  \n",
        "&nbsp;1&nbsp; 1 0 1 &nbsp;_ _  \n",
        "\n",
        "&nbsp;5 - 4 = 1, so the biggest power of 2 is 1.\n",
        "\n",
        "<sub>${\\scriptsize 32}$ ${\\scriptsize 16}$ &nbsp;${\\scriptsize 8}$ ${\\scriptsize 4}$ &nbsp;${\\scriptsize 2}$ &nbsp;${\\scriptsize 1}$</sub>  \n",
        "&nbsp;1 &nbsp;1 0 1 0 1  \n",
        "\n",
        "Therefore 53<sub>10</sub> is 110101 in binary. "
      ]
    },
    {
      "cell_type": "markdown",
      "metadata": {
        "id": "TLtctZM8JbqX"
      },
      "source": [
        "### **Binary Practice**"
      ]
    },
    {
      "cell_type": "code",
      "execution_count": 6,
      "metadata": {
        "cellView": "form",
        "id": "47QYQDmyJ03H"
      },
      "outputs": [
        {
          "data": {
            "application/vnd.jupyter.widget-view+json": {
              "model_id": "3b101ddd755f429d9f9801f5285d8aae",
              "version_major": 2,
              "version_minor": 0
            },
            "text/plain": [
              "VBox(children=(Button(button_style='primary', description='Q1', layout=Layout(height='auto', width='550px'), s…"
            ]
          },
          "metadata": {},
          "output_type": "display_data"
        }
      ],
      "source": [
        "#@title Q1\n",
        "print_frq_grid(1)"
      ]
    },
    {
      "cell_type": "code",
      "execution_count": 7,
      "metadata": {
        "cellView": "form",
        "id": "-JOd0xwDN2j4"
      },
      "outputs": [
        {
          "data": {
            "application/vnd.jupyter.widget-view+json": {
              "model_id": "f4b38942fd2d4b2d92b39b545f5131e0",
              "version_major": 2,
              "version_minor": 0
            },
            "text/plain": [
              "VBox(children=(Button(button_style='primary', description='Q2', layout=Layout(height='auto', width='550px'), s…"
            ]
          },
          "metadata": {},
          "output_type": "display_data"
        }
      ],
      "source": [
        "#@title Q2\n",
        "print_frq_grid(2)"
      ]
    },
    {
      "cell_type": "code",
      "execution_count": 18,
      "metadata": {
        "cellView": "form",
        "id": "BDwXGsmwN3Cw"
      },
      "outputs": [
        {
          "data": {
            "application/vnd.jupyter.widget-view+json": {
              "model_id": "3d8b1430e41e425cadef304b8b5e7d83",
              "version_major": 2,
              "version_minor": 0
            },
            "text/plain": [
              "VBox(children=(Button(button_style='primary', description='Q3', layout=Layout(height='auto', width='550px'), s…"
            ]
          },
          "metadata": {},
          "output_type": "display_data"
        }
      ],
      "source": [
        "#@title Q3\n",
        "print_frq_grid(3)"
      ]
    },
    {
      "cell_type": "code",
      "execution_count": 19,
      "metadata": {
        "cellView": "form",
        "id": "QYtQXZ9_N3o1"
      },
      "outputs": [
        {
          "data": {
            "application/vnd.jupyter.widget-view+json": {
              "model_id": "b83766aa8661428ab7c45ad3565a5fd9",
              "version_major": 2,
              "version_minor": 0
            },
            "text/plain": [
              "VBox(children=(Button(button_style='primary', description='Q4', layout=Layout(height='auto', width='550px'), s…"
            ]
          },
          "metadata": {},
          "output_type": "display_data"
        }
      ],
      "source": [
        "#@title Q4\n",
        "print_frq_grid(4)"
      ]
    },
    {
      "cell_type": "code",
      "execution_count": 20,
      "metadata": {
        "cellView": "form",
        "id": "djjb7-DKN4IA"
      },
      "outputs": [
        {
          "data": {
            "application/vnd.jupyter.widget-view+json": {
              "model_id": "ab84eb6ddeac4df1bfe86b3f505db593",
              "version_major": 2,
              "version_minor": 0
            },
            "text/plain": [
              "VBox(children=(Button(button_style='primary', description='Q5', layout=Layout(height='auto', width='550px'), s…"
            ]
          },
          "metadata": {},
          "output_type": "display_data"
        }
      ],
      "source": [
        "#@title Q5\n",
        "print_frq_grid(5)"
      ]
    },
    {
      "cell_type": "code",
      "execution_count": 21,
      "metadata": {
        "cellView": "form",
        "id": "FAxUscDiN4eo"
      },
      "outputs": [
        {
          "data": {
            "application/vnd.jupyter.widget-view+json": {
              "model_id": "b41761fd103f44a9a07ba313d5eadee0",
              "version_major": 2,
              "version_minor": 0
            },
            "text/plain": [
              "VBox(children=(Button(button_style='primary', description='Q6', layout=Layout(height='auto', width='550px'), s…"
            ]
          },
          "metadata": {},
          "output_type": "display_data"
        }
      ],
      "source": [
        "#@title Q6\n",
        "print_frq_grid(6)"
      ]
    },
    {
      "cell_type": "markdown",
      "metadata": {
        "id": "AJbCbyA2Q0M-"
      },
      "source": [
        "## **Hexadecimal**"
      ]
    },
    {
      "cell_type": "markdown",
      "metadata": {
        "id": "Pxx4uiuERMov"
      },
      "source": [
        "After working with binary numbers for a while, you start to get tired of writing all the 1's and 0's. Or maybe you want to write a binary number in a smaller space. You can use hexadecimal to make binary numbers more compact. Hexadecimal (hex) is a base 16 number system. That means we can count up to 16 before needing another digit. But wait, we only have digits 0-9, how can we represent 10 or 11 with just one digit? The convention is to use the first 6 letters of the alphabet to reach 15. This means that to count to 16<sub>10</sub> , you would go:\n",
        "\n",
        "Base 16: 1, 2, 3, 4, 5, 6, 7, 8, 9,  A,  B,  C,  D,  E,  F, 10<br>\n",
        "Base 10: 1, 2, 3, 4, 5, 6, 7, 8, 9, 10, 11, 12, 13, 14, 15, 16\n",
        "\n",
        "\n",
        "The process for converting a hex number to decimal is exaclty the same as with binary.\n",
        "\n",
        "2a7<sub>16</sub> = 2 * 16<sup>2</sup> + 10 * 16<sup>1</sup> + 7 * 16<sup>0</sup>  \n",
        "&emsp;&emsp;&nbsp;&nbsp;&nbsp; = 2 * 256 + 10 * 16 + 7 * 1  \n",
        "&emsp;&emsp;&nbsp;&nbsp;&nbsp; = 512 + 160 + 1 = 673<sub>10</sub>\n",
        "\n",
        "However, hex is useful becuase of how easy it is to convert between binary and hex. Since 16 is a power of 2 (2<sup>4</sup>), we can break up a long binary number into groups of 4 and convert each group to hex independantly. For example, if we are given the binary number 00101101 we could convert it to hexadecimal quite easily. First we break it up into groups of 4 and then we convert each set of 4 to hex.\n",
        "\n",
        "0010<sub>2</sub> = 0 + 0 + 2 + 0 = 2<sub>16</sub>  \n",
        "1101<sub>2</sub> = 8 + 4 + 0 + 1 = 13 = D<sub>16</sub>\n",
        "\n",
        "So the 8 digit binary number 00101101 can be represented with a 2 digit hex number as 2D<sub>16</sub>. Once you have practiced doing this conversion, it is very easy to convert a 4 bit binary number to hex. All of the 4 bit conversions are summarized in this table.\n",
        "\n",
        "![picture](https://raw.githubusercontent.com/westonMS/tempColab/master/Exercises/binary_hex/media/hex_table.png)\n",
        "\n",
        "\n",
        "With this strategy even very long binary numbers can be converted easily. For example, lets convert the 32 bit number 11111010011010110010110101101000.  \n",
        "\n",
        "1111 1010 0110 1011 0010 1101 0110 1000\n",
        "\n",
        "&emsp;F&emsp;&emsp;A &emsp;&nbsp; 6&emsp;&emsp;B&emsp;&emsp;2 &emsp;&nbsp; D&emsp;&emsp;6 &emsp;&nbsp; 8\n",
        "\n",
        "\n"
      ]
    },
    {
      "cell_type": "markdown",
      "metadata": {
        "id": "2huOYC0Xggin"
      },
      "source": [
        "### **Hexadecimal Practice**\n",
        "\n",
        "**Make sure hex values are entered as *CAPITALIZED* letters!** "
      ]
    },
    {
      "cell_type": "code",
      "execution_count": 22,
      "metadata": {
        "cellView": "form",
        "id": "cZ2XwPhFgegM"
      },
      "outputs": [
        {
          "data": {
            "application/vnd.jupyter.widget-view+json": {
              "model_id": "20e6fb83df4a4450a96934752684561d",
              "version_major": 2,
              "version_minor": 0
            },
            "text/plain": [
              "VBox(children=(Button(button_style='primary', description='Q7', layout=Layout(height='auto', width='550px'), s…"
            ]
          },
          "metadata": {},
          "output_type": "display_data"
        }
      ],
      "source": [
        "#@title Q1\n",
        "print_frq_grid(7)"
      ]
    },
    {
      "cell_type": "code",
      "execution_count": 23,
      "metadata": {
        "cellView": "form",
        "id": "dTQ_6Do5geVD"
      },
      "outputs": [
        {
          "data": {
            "application/vnd.jupyter.widget-view+json": {
              "model_id": "897162a5f67446b4afbeeb1b4ea8bf17",
              "version_major": 2,
              "version_minor": 0
            },
            "text/plain": [
              "VBox(children=(Button(button_style='primary', description='Q8', layout=Layout(height='auto', width='550px'), s…"
            ]
          },
          "metadata": {},
          "output_type": "display_data"
        }
      ],
      "source": [
        "#@title Q2\n",
        "print_frq_grid(8)"
      ]
    },
    {
      "cell_type": "code",
      "execution_count": 24,
      "metadata": {
        "cellView": "form",
        "id": "F1A03HDugeQ7"
      },
      "outputs": [
        {
          "data": {
            "application/vnd.jupyter.widget-view+json": {
              "model_id": "537e8dca7711444a810167c0cb2e12e2",
              "version_major": 2,
              "version_minor": 0
            },
            "text/plain": [
              "VBox(children=(Button(button_style='primary', description='Q9', layout=Layout(height='auto', width='550px'), s…"
            ]
          },
          "metadata": {},
          "output_type": "display_data"
        }
      ],
      "source": [
        "#@title Q3\n",
        "print_frq_grid(9)"
      ]
    },
    {
      "cell_type": "code",
      "execution_count": 25,
      "metadata": {
        "cellView": "form",
        "id": "S0x2U3UcgeKF"
      },
      "outputs": [
        {
          "data": {
            "application/vnd.jupyter.widget-view+json": {
              "model_id": "7c7232f074d243b384e67929f6fb7c8e",
              "version_major": 2,
              "version_minor": 0
            },
            "text/plain": [
              "VBox(children=(Button(button_style='primary', description='Q10', layout=Layout(height='auto', width='550px'), …"
            ]
          },
          "metadata": {},
          "output_type": "display_data"
        }
      ],
      "source": [
        "#@title Q4\n",
        "print_frq_grid(10)"
      ]
    },
    {
      "cell_type": "code",
      "execution_count": 26,
      "metadata": {
        "cellView": "form",
        "id": "K3uxCwsPgeBD"
      },
      "outputs": [
        {
          "data": {
            "application/vnd.jupyter.widget-view+json": {
              "model_id": "3e152d8802164c30b8332e0d0f140c0b",
              "version_major": 2,
              "version_minor": 0
            },
            "text/plain": [
              "VBox(children=(Button(button_style='primary', description='Q11', layout=Layout(height='auto', width='550px'), …"
            ]
          },
          "metadata": {},
          "output_type": "display_data"
        }
      ],
      "source": [
        "#@title Q5\n",
        "print_frq_grid(11)"
      ]
    },
    {
      "cell_type": "code",
      "execution_count": 27,
      "metadata": {
        "cellView": "form",
        "id": "FqRjowSvhYhV"
      },
      "outputs": [
        {
          "data": {
            "application/vnd.jupyter.widget-view+json": {
              "model_id": "45e887016a1b45aca62937dc3f1290c8",
              "version_major": 2,
              "version_minor": 0
            },
            "text/plain": [
              "VBox(children=(Button(button_style='primary', description='Q12', layout=Layout(height='auto', width='550px'), …"
            ]
          },
          "metadata": {},
          "output_type": "display_data"
        }
      ],
      "source": [
        "#@title Q6\n",
        "print_frq_grid(12)"
      ]
    },
    {
      "attachments": {},
      "cell_type": "markdown",
      "metadata": {},
      "source": [
        "Click [Here](https://colab.research.google.com/github/byuccl/digital_design_colab2/blob/master/Tutorials/xdc_tutorial/xdc_tutorial.ipynb) to move on to the XDC Tutorial."
      ]
    }
  ],
  "metadata": {
    "colab": {
      "collapsed_sections": [
        "bZA3hSjLPS4L"
      ],
      "provenance": []
    },
    "kernelspec": {
      "display_name": "Python 3.10.6 64-bit",
      "language": "python",
      "name": "python3"
    },
    "language_info": {
      "codemirror_mode": {
        "name": "ipython",
        "version": 3
      },
      "file_extension": ".py",
      "mimetype": "text/x-python",
      "name": "python",
      "nbconvert_exporter": "python",
      "pygments_lexer": "ipython3",
      "version": "3.10.6"
    },
    "vscode": {
      "interpreter": {
        "hash": "e7370f93d1d0cde622a1f8e1c04877d8463912d04d973331ad4851f04de6915a"
      }
    }
  },
  "nbformat": 4,
  "nbformat_minor": 0
}
