{
 "cells": [
  {
   "cell_type": "markdown",
   "metadata": {},
   "source": [
    "## **Setup**\n",
    "Click the Play Button. No need to expand. Do not touch this. "
   ]
  },
  {
   "attachments": {},
   "cell_type": "markdown",
   "metadata": {},
   "source": [
    "***Truth Tables***:\n",
    "When dealing with gates you can draw out a truth table. This represents all of the possible combinations of inputs and their expected outputs. For a single 2-input gate there are 4 possible input combinations: `00`, `01`, `10`, and `11`.\n",
    "\n",
    "Each digit of the input combination represents a single input wire/signal. Whether that input/signal is high or low is represented by a `1` or a `0`. `1` is high while a `0` is low. In other words, a `1` means that the signal is on, while a `0` means that it is off. \n",
    "\n",
    "Each input combination will output either a `1` or `0`. If multiple gates are present, and there are more input wires, the number of possible inputs will increase exponentially.\n",
    "\n",
    "***NOTE***: In all of these examples the gates have just 2 inputs. But often you may want a gate to have more inputs. Gates can have more than just 2 inputs. So the same rules apply to a gate with more than 2 inputs."
   ]
  },
  {
   "attachments": {},
   "cell_type": "markdown",
   "metadata": {},
   "source": [
    "### AND, OR, NOT\n",
    "![picture](https://raw.githubusercontent.com/westonMS/tempColab/main/gates/media/andgate.png)\n",
    "AND: The output is true when both inbuts a, and b are true.\n",
    "Just think of the  word AND. If input A AND input B are 1, then the output is also 1. Else, the output is 0.\n",
    "![picture](https://raw.githubusercontent.com/anon36424/digital_design_colab/main/Dataflow/media/orgate.png)\n",
    "OR: The output is true when either inputs a, or b are true.\n",
    "Just think of the English word OR. If input A OR input B is 1, then the output is also 1. If they are both 1, the output is still 1. If both inputs are 0, then the output is 0. \n",
    "![picture](https://raw.githubusercontent.com/anon36424/digital_design_colab/main/Dataflow/media/notgate.png)\n",
    "NOT, the output is false if a is true, if a is false, the output it true.\n",
    "NOT gates are called inverters, the output is the oposite of the input. `1` becomes `0` and `0` becomes `1`."
   ]
  },
  {
   "cell_type": "code",
   "execution_count": null,
   "metadata": {},
   "outputs": [],
   "source": [
    "#Add in the truth tables"
   ]
  },
  {
   "attachments": {},
   "cell_type": "markdown",
   "metadata": {},
   "source": [
    "### NAND, NOR, XOR, XNOR\n",
    "## Bubbles ##\n",
    "Bubbles are used to represent inverting a wire or signal. Just think of them as a NOT gate. \n",
    "\n",
    "\n",
    "![picture](https://raw.githubusercontent.com/anon36424/digital_design_colab/main/Dataflow/media/norgate.png)\n",
    "\n",
    "NOR Gates are OR gates, but the output is inverted. The dot is used to represent an invert or NOT gate.\n",
    "\n",
    "![picture](https://raw.githubusercontent.com/anon36424/digital_design_colab/main/Dataflow/media/nandgate.png)\n",
    "\n",
    "NAND gates are AND gates but the output is inverted\n",
    "\n",
    "![picture](https://raw.githubusercontent.com/anon36424/digital_design_colab/main/Dataflow/media/xorgate.png)\n",
    "\n",
    "XOR gates are exclusive OR gates. The output is only 1 if an odd number of the inputs are 1. In this example, if the two inputs are both 0 or they are both 1, the output is 0.\n",
    "\n",
    "![picture](https://raw.githubusercontent.com/anon36424/digital_design_colab/main/Dataflow/media/xnorgate.png)\n",
    "\n",
    "XNOR gates are XOR gates but the ouput is inverted. The oupt is 1 if an even number of inputs are the same. \n",
    "\n"
   ]
  },
  {
   "cell_type": "code",
   "execution_count": null,
   "metadata": {},
   "outputs": [],
   "source": [
    "#Add in the truth tables"
   ]
  },
  {
   "cell_type": "markdown",
   "metadata": {},
   "source": [
    "### Complex Diagrams"
   ]
  }
 ],
 "metadata": {
  "kernelspec": {
   "display_name": "Python 3",
   "language": "python",
   "name": "python3"
  },
  "language_info": {
   "name": "python",
   "version": "3.8.10"
  },
  "orig_nbformat": 4,
  "vscode": {
   "interpreter": {
    "hash": "31f2aee4e71d21fbe5cf8b01ff0e069b9275f58929596ceb00d14d90e3e16cd6"
   }
  }
 },
 "nbformat": 4,
 "nbformat_minor": 2
}
