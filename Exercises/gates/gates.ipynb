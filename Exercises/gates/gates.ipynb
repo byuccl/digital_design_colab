{
  "cells": [
    {
      "cell_type": "markdown",
      "metadata": {
        "id": "38UCLyotsM8s"
      },
      "source": [
        "## **Setup**\n",
        "Click the Play Button. No need to expand. Do not touch this. "
      ]
    },
    {
      "cell_type": "code",
      "source": [
        "#@title Import Files from Repo\n",
        "import ipywidgets as widgets\n",
        "from ipywidgets import GridspecLayout\n",
        "from ipywidgets import AppLayout, Button, Layout, jslink, IntText, IntSlider\n",
        "import requests\n",
        "#Creates a text document using the Raw github url. This text document will be used as a .py file for imports\n",
        "def import_text(text):\n",
        "  url = 'https://raw.githubusercontent.com/byuccl/digital_design_colab2/master/Exercises/gates/files/%s' % text\n",
        "  resp = requests.get(url)\n",
        "  with open(text, 'wb') as f:\n",
        "    f.write(resp.content)\n",
        "\n",
        "\n",
        "import_text(\"tt_gates.py\")\n",
        "import_text(\"frq_gates.py\")\n",
        "\n",
        "\n",
        "\n",
        "\n",
        "#Load in the files as functions\n",
        "from tt_gates import *\n",
        "from frq_gates import *"
      ],
      "metadata": {
        "id": "mNRlleRVafXw",
        "cellView": "form"
      },
      "execution_count": null,
      "outputs": []
    },
    {
      "cell_type": "markdown",
      "source": [
        "## **Logic Gates**"
      ],
      "metadata": {
        "id": "gVfO7wtVagOY"
      }
    },
    {
      "cell_type": "markdown",
      "source": [
        "After learning about boolean algerba you might be thinking: \"That's kind of interesting, but how is this useful?\" The trick is that you can implement boolean logic in hardware to help computers make decisions. You do this with logic gates. A simple logic gate will have 2 inputs, and 1 output. These inputs and outputs represent digital signals. The signals can either be high or low. High means that the signal has a positive voltage. This is represented as a 1, and is the same as \"true\" when using boolean logic. Low means that the signal has not voltage. This can be represented as a 0, or \"false\" when using bolean logic. When you put a bunch of these gates together is strategic ways, you can create complex systems that make up computers."
      ],
      "metadata": {
        "id": "JupKQcsddiRR"
      }
    },
    {
      "cell_type": "markdown",
      "metadata": {
        "id": "m5Nq9wa-sM8x"
      },
      "source": [
        "### AND, OR, NOT\n",
        "\n",
        "These gates should be a review of the ideas you learned about with boolean algebrea in the previes section. Here you will learn the symbols we use to represent each type of gate in diagrams.\n",
        "\n",
        "<p align=\"left\">\n",
        "<img src=\"https://raw.githubusercontent.com/byuccl/digital_design_colab2/master/Exercises/gates/media/andgate.png\"\n",
        "width=\"250\" height=\"\" style=\"display: block; margin: 0 auto\" />\n",
        "</p>\n",
        "\n",
        "AND: The output is high when both inbuts a, and b are high. Otherwise, the output is low.\n",
        "\n",
        "<p align=\"left\">\n",
        "<img src=\"https://raw.githubusercontent.com/byuccl/digital_design_colab2/master/Exercises/gates/media/orgate.png\"\n",
        "width=\"250\" height=\"\" style=\"display: block; margin: 0 auto\" />\n",
        "</p>\n",
        "\n",
        "OR: The output is high when either one of the inputs is high. If both inputs are low, the output is low.\n",
        "\n",
        "<p align=\"left\">\n",
        "<img src=\"https://raw.githubusercontent.com/byuccl/digital_design_colab2/master/Exercises/gates/media/notgate.png\"\n",
        "width=\"250\" height=\"\" style=\"display: block; margin: 0 auto\" />\n",
        "</p>\n",
        "\n",
        "\n",
        "NOT: The output is alwasys the oposite of the input."
      ]
    },
    {
      "cell_type": "code",
      "execution_count": null,
      "metadata": {
        "id": "uiS2b9dvsM8y"
      },
      "outputs": [],
      "source": [
        "#@title  { display-mode: \"form\" }\n",
        "#@title  { vertical-output: true }\n",
        "#@markdown ### To make sure you have all of these input/output relationships down, press play to fill out some truth tables\n",
        "print_tt_grid(1)\n",
        "print(\"\\n\\n\")\n",
        "print_tt_grid(2)\n",
        "print(\"\\n\\n\")\n",
        "print_tt_grid(3)"
      ]
    },
    {
      "cell_type": "markdown",
      "metadata": {
        "id": "GWOjilKvsM8z"
      },
      "source": [
        "### NAND, NOR, XOR, XNOR\n",
        "\n",
        "\n",
        "Bubbles are used to represent inverting a wire or signal. Just think of them as a NOT gate. \n",
        "\n",
        "<p align=\"left\">\n",
        "<img src=\"https://raw.githubusercontent.com/byuccl/digital_design_colab2/master/Exercises/gates/media/norgate.png\"\n",
        "width=\"250\" height=\"\" style=\"display: block; margin: 0 auto\" />\n",
        "</p>\n",
        "\n",
        "NOR Gates are OR gates, but the output is inverted. The dot is used to represent an invert or NOT gate.\n",
        "\n",
        "<p align=\"left\">\n",
        "<img src=\"https://raw.githubusercontent.com/byuccl/digital_design_colab2/master/Exercises/gates/media/nandgate.png\"\n",
        "width=\"250\" height=\"\" style=\"display: block; margin: 0 auto\" />\n",
        "</p>\n",
        "\n",
        "NAND gates are AND gates but the output is inverted\n",
        "\n",
        "<p align=\"left\">\n",
        "<img src= \"https://raw.githubusercontent.com/byuccl/digital_design_colab2/master/Exercises/gates/media/xorgate.png\"\n",
        "width=\"250\" height=\"\" style=\"display: block; margin: 0 auto\" />\n",
        "</p>\n",
        "\n",
        "\n",
        "XOR gates are exclusive OR gates. The output is only 1 if an odd number of the inputs are 1. In this example, if the two inputs are both 0 or they are both 1, the output is 0.\n",
        "\n",
        "<p align=\"left\">\n",
        "<img src=\"https://raw.githubusercontent.com/byuccl/digital_design_colab2/master/Exercises/gates/media/xnorgate.png\"\n",
        "width=\"250\" height=\"\" style=\"display: block; margin: 0 auto\" />\n",
        "</p>\n",
        "\n",
        "\n",
        "XNOR gates are XOR gates but the ouput is inverted. The oupt is 1 if an even number of inputs are the same. \n",
        "\n"
      ]
    },
    {
      "cell_type": "code",
      "execution_count": null,
      "metadata": {
        "id": "2gh7STMbsM80"
      },
      "outputs": [],
      "source": [
        "#@title  { display-mode: \"form\" }\n",
        "#@title  { vertical-output: true }\n",
        "#@markdown ### Try filling out the truth tables for these new gates\n",
        "print_tt_grid(4)\n",
        "print('\\n\\n')\n",
        "print_tt_grid(5)\n",
        "print('\\n\\n')\n",
        "print_tt_grid(6)\n",
        "print('\\n\\n')\n",
        "print_tt_grid(7)"
      ]
    },
    {
      "cell_type": "markdown",
      "metadata": {
        "id": "KnEq00ZusM81"
      },
      "source": [
        "## **Complex Diagrams**\n",
        "\n",
        "More explanation\n",
        "\n"
      ]
    },
    {
      "cell_type": "code",
      "source": [
        "#@title  { display-mode: \"form\" }\n",
        "#@title  { display-mode: \"form\" }\n",
        "#@markdown Use this diagram for the following questions\\\n",
        "#@markdown ![picture](https://raw.githubusercontent.com/byuccl/digital_design_colab2/master/Exercises/gates/media/circuit_1.png)\n",
        "print_frq_grid(1)\n",
        "print('\\n\\n')\n",
        "print_frq_grid(2)"
      ],
      "metadata": {
        "id": "ZF8m00Wekzzk"
      },
      "execution_count": null,
      "outputs": []
    }
  ],
  "metadata": {
    "kernelspec": {
      "display_name": "Python 3",
      "language": "python",
      "name": "python3"
    },
    "language_info": {
      "name": "python",
      "version": "3.8.10"
    },
    "orig_nbformat": 4,
    "vscode": {
      "interpreter": {
        "hash": "31f2aee4e71d21fbe5cf8b01ff0e069b9275f58929596ceb00d14d90e3e16cd6"
      }
    },
    "colab": {
      "provenance": [],
      "collapsed_sections": [
        "38UCLyotsM8s"
      ]
    }
  },
  "nbformat": 4,
  "nbformat_minor": 0
}