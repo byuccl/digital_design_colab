{
  "cells": [
    {
      "cell_type": "code",
      "execution_count": 2,
      "metadata": {
        "cellView": "form",
        "id": "mNRlleRVafXw"
      },
      "outputs": [],
      "source": [
        "#@markdown ## **Setup**\n",
        "import ipywidgets as widgets\n",
        "from ipywidgets import GridspecLayout\n",
        "from ipywidgets import AppLayout, Button, Layout, jslink, IntText, IntSlider\n",
        "import requests\n",
        "#Creates a text document using the Raw github url. This text document will be used as a .py file for imports\n",
        "def import_text(location, file):\n",
        "  url = 'https://raw.githubusercontent.com/byuccl/digital_design_colab2/master/%s/%s' % (location, file)\n",
        "  resp = requests.get(url)\n",
        "  with open(file, 'wb') as f:\n",
        "    f.write(resp.content)\n",
        "\n",
        "\n",
        "import_text(\"Exercises/gates/files/\", \"tt_gates.py\")\n",
        "import_text(\"Exercises/gates/files/\", \"frq_gates.py\")\n",
        "import_text(\"Templates/\", \"frqTemplate.py\")\n",
        "import_text(\"Templates/\", \"tt_template.py\")\n",
        "\n",
        "#Load in the files as functions\n",
        "from tt_gates import *\n",
        "from frq_gates import *\n",
        "from frqTemplate import *\n",
        "from tt_template import *  \n",
        "create_frq_dictionary(get_data())\n",
        "create_tt_dictionary(get_tt_data()) "
      ]
    },
    {
      "attachments": {},
      "cell_type": "markdown",
      "metadata": {
        "id": "gVfO7wtVagOY"
      },
      "source": [
        "## **Logic Gates**"
      ]
    },
    {
      "attachments": {},
      "cell_type": "markdown",
      "metadata": {
        "id": "JupKQcsddiRR"
      },
      "source": [
        "After learning about boolean algebra, it's time to see how we can actually use it in computers. You can use logic gates to implement boolean logic in hardware to help computers make decisions. A simple logic gate will have 2 inputs, and 1 output. These inputs and outputs represent digital signals. The signals can either be high or low. High means that the signal has a positive voltage. This is represented as a 1, and is the same as \"true\" when using boolean logic. Low means that the signal has no voltage. This can be represented as a 0, or \"false\" when using bolean logic. When you combine many of these gates in strategic ways, you can create the complex systems that make up computers."
      ]
    },
    {
      "attachments": {},
      "cell_type": "markdown",
      "metadata": {
        "id": "m5Nq9wa-sM8x"
      },
      "source": [
        "### AND, OR, NOT\n",
        "\n",
        "These gates should be a review of the ideas you learned about with boolean algebrea in the previes section. Here you will learn the symbols we use to represent each type of gate in diagrams.\n",
        "\n",
        "<p align=\"left\">\n",
        "<img src=\"https://raw.githubusercontent.com/byuccl/digital_design_colab2/master/Exercises/gates/media/andgate.png\"\n",
        "width=\"250\" height=\"\" style=\"display: block; margin: 0 auto\" />\n",
        "</p>\n",
        "\n",
        "AND: The output is high when both inbuts a, and b are high. Otherwise, the output is low.\n",
        "\n",
        "<p align=\"left\">\n",
        "<img src=\"https://raw.githubusercontent.com/byuccl/digital_design_colab2/master/Exercises/gates/media/orgate.png\"\n",
        "width=\"250\" height=\"\" style=\"display: block; margin: 0 auto\" />\n",
        "</p>\n",
        "\n",
        "OR: The output is high when either one of the inputs is high. If both inputs are low, the output is low.\n",
        "\n",
        "<p align=\"left\">\n",
        "<img src=\"https://raw.githubusercontent.com/byuccl/digital_design_colab2/master/Exercises/gates/media/notgate.png\"\n",
        "width=\"250\" height=\"\" style=\"display: block; margin: 0 auto\" />\n",
        "</p>\n",
        "\n",
        "\n",
        "NOT: The output is alwasys the oposite of the input."
      ]
    },
    {
      "cell_type": "code",
      "execution_count": null,
      "metadata": {
        "id": "uiS2b9dvsM8y"
      },
      "outputs": [],
      "source": [
        "#@title  { display-mode: \"form\" }\n",
        "#@title  { vertical-output: true }\n",
        "#@markdown ### To make sure you have all of these input/output relationships down, press play to fill out some truth tables\n",
        "print_tt_grid(1)\n",
        "print(\"\\n\\n\")\n",
        "print_tt_grid(2)\n",
        "print(\"\\n\\n\")\n",
        "print_tt_grid(3)"
      ]
    },
    {
      "attachments": {},
      "cell_type": "markdown",
      "metadata": {
        "id": "GWOjilKvsM8z"
      },
      "source": [
        "### NAND, NOR, XOR, XNOR\n",
        "\n",
        "\n",
        "Bubbles are used to represent inverting a wire or signal. Just think of them as a NOT gate. \n",
        "\n",
        "<p align=\"left\">\n",
        "<img src=\"https://raw.githubusercontent.com/byuccl/digital_design_colab2/master/Exercises/gates/media/norgate.png\"\n",
        "width=\"250\" height=\"\" style=\"display: block; margin: 0 auto\" />\n",
        "</p>\n",
        "\n",
        "NOR Gates are OR gates, but the output is inverted. The dot is used to represent an invert or NOT gate.\n",
        "\n",
        "<p align=\"left\">\n",
        "<img src=\"https://raw.githubusercontent.com/byuccl/digital_design_colab2/master/Exercises/gates/media/nandgate.png\"\n",
        "width=\"250\" height=\"\" style=\"display: block; margin: 0 auto\" />\n",
        "</p>\n",
        "\n",
        "NAND gates are AND gates but the output is inverted\n",
        "\n",
        "<p align=\"left\">\n",
        "<img src= \"https://raw.githubusercontent.com/byuccl/digital_design_colab2/master/Exercises/gates/media/xorgate.png\"\n",
        "width=\"250\" height=\"\" style=\"display: block; margin: 0 auto\" />\n",
        "</p>\n",
        "\n",
        "\n",
        "XOR gates are exclusive OR gates. The output is only 1 if an odd number of the inputs are 1. In this example, if the two inputs are both 0 or they are both 1, the output is 0.\n",
        "\n",
        "<p align=\"left\">\n",
        "<img src=\"https://raw.githubusercontent.com/byuccl/digital_design_colab2/master/Exercises/gates/media/xnorgate.png\"\n",
        "width=\"250\" height=\"\" style=\"display: block; margin: 0 auto\" />\n",
        "</p>\n",
        "\n",
        "\n",
        "XNOR gates are XOR gates but the ouput is inverted. The ouput is 1 if an even number of inputs are 1. \n",
        "\n"
      ]
    },
    {
      "cell_type": "code",
      "execution_count": null,
      "metadata": {
        "id": "2gh7STMbsM80"
      },
      "outputs": [],
      "source": [
        "#@title  { display-mode: \"form\" }\n",
        "#@title  { vertical-output: true }\n",
        "#@markdown ### Try filling out the truth tables for these new gates\n",
        "print_tt_grid(4)\n",
        "print('\\n\\n')\n",
        "print_tt_grid(5)\n",
        "print('\\n\\n')\n",
        "print_tt_grid(6)\n",
        "print('\\n\\n')\n",
        "print_tt_grid(7)"
      ]
    },
    {
      "attachments": {},
      "cell_type": "markdown",
      "metadata": {
        "id": "KnEq00ZusM81"
      },
      "source": [
        "## **Complex Diagrams**\n",
        "\n",
        "You can combine these logic gates to implement a function with multiple inputs and a single output. \n",
        "Here is an example:\n",
        "\n",
        "<p align=\"left\"> <img src=\"https://raw.githubusercontent.com/byuccl/digital_design_colab2/master/Exercises/gates/media/example_circuit.png\" width=\"250\" height=\"\" style=\"display: block; margin: 0 auto\" /> </p>\n",
        "\n",
        "This circuit implement boolean logic that takes inputs A, B, C, and outputs Y. \n",
        "The output of the top NAND gate is (AB)', the output of the middile NOR gate is (A+C)', and the output of the botton AND gate is BC.\n",
        "These three signals go into the final OR gate to produce the output Y = (AB)'+(A+C)'+BC.\n",
        "This is really cool when you think about what is going on here!\n",
        "You can can design a system that does somthing based on a complex set of conditions.\n",
        "You could use this strategey to implement if-else statements, and as you put more and more of them together you can even build a computer!\n",
        "Also notice from this circuit that logic gates can have more than 2 inputs. \n",
        "In these cases, they still work in exactly the same way.\n",
        "An AND gate will need all of its inputs to be high for its output to be high. \n",
        "An or gate will only need at least 1 of its inputs to be high for its output to be high."
      ]
    },
    {
      "attachments": {},
      "cell_type": "markdown",
      "metadata": {
        "id": "-QqwPTKtsWgr"
      },
      "source": [
        "## **Questions**"
      ]
    },
    {
      "cell_type": "code",
      "execution_count": null,
      "metadata": {
        "id": "ZF8m00Wekzzk"
      },
      "outputs": [],
      "source": [
        "#@title  { display-mode: \"form\" }\n",
        "#@title  { display-mode: \"form\" }\n",
        "#@markdown Use this diagram for the following questions\n",
        "#@markdown <p align=\"left\"> <img src=\"https://raw.githubusercontent.com/byuccl/digital_design_colab2/master/Exercises/gates/media/circuit_1.png\" width=\"250\" height=\"\" style=\"display: block; margin: 0 auto\" /> </p>\n",
        "#@markdown \n",
        "print_frq_grid(1)\n",
        "print('\\n\\n')\n",
        "print_frq_grid(2)"
      ]
    },
    {
      "cell_type": "code",
      "execution_count": null,
      "metadata": {
        "cellView": "form",
        "id": "yZ6jB6p2aZ-l"
      },
      "outputs": [],
      "source": [
        "#@title  { vertical-output: true }\n",
        "#@title  { display-mode: \"form\" }\n",
        "#@markdown Use this diagram for the following questions\n",
        "#@markdown <p align=\"left\"> <img src=\"https://raw.githubusercontent.com/byuccl/digital_design_colab2/master/Exercises/gates/media/circuit_2.png\" width=\"250\" height=\"\" style=\"display: block; margin: 0 auto\" /> </p>\n",
        "\n",
        "print_frq_grid(3)\n",
        "print('\\n\\n')\n",
        "print_frq_grid(4)"
      ]
    },
    {
      "cell_type": "code",
      "execution_count": null,
      "metadata": {
        "id": "EVQdXKXhabAF"
      },
      "outputs": [],
      "source": [
        "#@title  { display-mode: \"form\" }\n",
        "#@title  { display-mode: \"form\" }\n",
        "#@markdown Use this diagram for the following questions\n",
        "#@markdown <p align=\"left\"> <img src=\"https://raw.githubusercontent.com/byuccl/digital_design_colab2/master/Exercises/gates/media/circuit_3.png\" width=\"250\" height=\"\" style=\"display: block; margin: 0 auto\" /> </p>\n",
        "print_frq_grid(5)\n",
        "print('\\n\\n')\n",
        "print_frq_grid(6)"
      ]
    },
    {
      "attachments": {},
      "cell_type": "markdown",
      "metadata": {},
      "source": [
        "Click [Here](https://colab.research.google.com/github/byuccl/digital_design_colab2/blob/master/Labs/gates_lab/gates_lab.ipynb) to move on to the Logic Gates Lab."
      ]
    }
  ],
  "metadata": {
    "colab": {
      "collapsed_sections": [
        "38UCLyotsM8s"
      ],
      "provenance": []
    },
    "kernelspec": {
      "display_name": "Python 3.10.6 64-bit",
      "language": "python",
      "name": "python3"
    },
    "language_info": {
      "codemirror_mode": {
        "name": "ipython",
        "version": 3
      },
      "file_extension": ".py",
      "mimetype": "text/x-python",
      "name": "python",
      "nbconvert_exporter": "python",
      "pygments_lexer": "ipython3",
      "version": "3.10.12"
    },
    "orig_nbformat": 4,
    "vscode": {
      "interpreter": {
        "hash": "e7370f93d1d0cde622a1f8e1c04877d8463912d04d973331ad4851f04de6915a"
      }
    }
  },
  "nbformat": 4,
  "nbformat_minor": 0
}
