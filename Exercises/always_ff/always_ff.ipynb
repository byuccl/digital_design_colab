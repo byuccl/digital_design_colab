{
 "cells": [
  {
   "cell_type": "markdown",
   "metadata": {},
   "source": [
    "## **Setup**\n",
    "Click the Play Button. No need to expand. Do not touch this. "
   ]
  },
  {
   "attachments": {},
   "cell_type": "markdown",
   "metadata": {},
   "source": [
    "###Frequency Vs Period\n",
    "\n",
    "Frequency is the number of times something occurs in a given time frame, while period is the amount of time it takes for something to occur. They are inverses of one another. $Period = \\frac{1}{Frequency}$ and $Frequency = \\frac{1}{Period}$. \n",
    "\n",
    "This is important when dealing with Clocks in circuits.\n",
    "\n",
    "Example:  \n",
    "You are running around a pillar while \n",
    "playing tag. \n",
    "\n",
    "You run around it 3 times every minute. That is your frequency.  \n",
    "\n",
    "The period would be $\\frac{1}{Frequency}$, so every 1/3 of a minute or 20 seconds you would complete a circle. This is the period.\n",
    "\n",
    "\n",
    "So why does Frequency and Period matter?    \n",
    "\n",
    "Timing is very important because of the FPGAs built in clock. The clock keeps all elements in the circuit working together and prevents conflicts.    \n",
    "\n",
    "In this lab, inorder to create a stopwatch, you will need to know how many clock cycles occur in a given time frame, then after counting that many, increment the stopwatch."
   ]
  },
  {
   "attachments": {},
   "cell_type": "markdown",
   "metadata": {},
   "source": [
    "####Clock\n",
    "\n",
    "\n",
    "You've probably seen a computer say that it has a 2.1 GHZ clock speed. This means that it clocks goes from `1` to `0` 2.1*10^9 times every a second.   \n",
    "<br>\n",
    "\n",
    "The clock is used in making sure all parts of the circuit are synchronized. We have only been working with combination logic which doesn't require a clock, but now we will discuss sequential logic. \n",
    "\n",
    "As you've noticed, one downside of combinational logic is that our circuit cannot store any values. We will now discuss how gate level logic could store a value in a circuit."
   ]
  },
  {
   "attachments": {},
   "cell_type": "markdown",
   "metadata": {},
   "source": [
    "Instead of using `always_comb` blocks we will now use a `always_ff` block. The standard is `always_ff @(posedge clk)`  \n",
    "\n",
    "`@(posedge clk)` means that the block will trigger every time the signal, in the case `clk`, goes from low to high. \n",
    "\n",
    "The simplest example is a counter.\n",
    "\n",
    "```\n",
    "always_ff @(posedge clk)\n",
    "q<= q + 1;\n",
    "```\n",
    "\n",
    "Once per clock cycle, `q` will increase by one. \n",
    "\n",
    "This is the basic element of our stopwatch. A simple sequential counter. Using some if/else statements we can have it reset when Q reaches a certain value. \n",
    "\n",
    "Though one obvious problem is that a clock cycle is a very small fraction of a second. With a 100MHZ clock, the counter goes up every 0.00000001 seconds. \n",
    "\n",
    "So we must calculate how many cycles we want before one hundreth of a second passes. \n",
    "Then we will use the rollover value, a separate signal that is high after the counter resets, to increment the next module. "
   ]
  }
 ],
 "metadata": {
  "kernelspec": {
   "display_name": "Python 3.9.15 64-bit",
   "language": "python",
   "name": "python3"
  },
  "language_info": {
   "name": "python",
   "version": "3.9.15"
  },
  "orig_nbformat": 4,
  "vscode": {
   "interpreter": {
    "hash": "f9f85f796d01129d0dd105a088854619f454435301f6ffec2fea96ecbd9be4ac"
   }
  }
 },
 "nbformat": 4,
 "nbformat_minor": 2
}
