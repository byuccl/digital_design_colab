{
 "cells": [
  {
   "cell_type": "markdown",
   "metadata": {},
   "source": [
    "## **Setup**\n",
    "Click the Play Button. No need to expand. Do not touch this. "
   ]
  },
  {
   "attachments": {},
   "cell_type": "markdown",
   "metadata": {},
   "source": [
    "Instead of using `always_comb` blocks we will now use a `always_ff` block. The standard is `always_ff @(posedge clk)`  \n",
    "\n",
    "`@(posedge clk)` means that the block will trigger every time the signal, in the case `clk`, goes from low to high. \n",
    "\n",
    "The simplest example is a counter.\n",
    "\n",
    "```\n",
    "always_ff @(posedge clk)\n",
    "q<= q + 1;\n",
    "```\n",
    "\n",
    "Once per clock cycle, `q` will increase by one. \n",
    "\n",
    "This is the basic element of our stopwatch. A simple sequential counter. Using some if/else statements we can have it reset when Q reaches a certain value. \n",
    "\n",
    "Though one obvious problem is that a clock cycle is a very small fraction of a second. With a 100MHZ clock, the counter goes up every 0.00000001 seconds. \n",
    "\n",
    "So we must calculate how many cycles we want before one hundreth of a second passes. \n",
    "Then we will use the rollover value, a separate signal that is high after the counter resets, to increment the next module. "
   ]
  }
 ],
 "metadata": {
  "kernelspec": {
   "display_name": "Python 3.9.15 64-bit",
   "language": "python",
   "name": "python3"
  },
  "language_info": {
   "name": "python",
   "version": "3.9.15"
  },
  "orig_nbformat": 4,
  "vscode": {
   "interpreter": {
    "hash": "f9f85f796d01129d0dd105a088854619f454435301f6ffec2fea96ecbd9be4ac"
   }
  }
 },
 "nbformat": 4,
 "nbformat_minor": 2
}
