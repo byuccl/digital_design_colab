{
  "cells": [
    {
      "cell_type": "code",
      "execution_count": null,
      "metadata": {
        "cellView": "form",
        "id": "bxohLD2rQC7B"
      },
      "outputs": [],
      "source": [
        "#@title Setup\n",
        "import ipywidgets as widgets\n",
        "from ipywidgets import GridspecLayout\n",
        "from ipywidgets import AppLayout, Button, Layout, jslink, IntText, IntSlider\n",
        "import requests\n",
        "def import_text(location, file):\n",
        "  url = 'https://raw.githubusercontent.com/byuccl/digital_design_colab2/master/%s/%s' % (location, file)\n",
        "  resp = requests.get(url)\n",
        "  with open(file, 'wb') as f:\n",
        "    f.write(resp.content)\n",
        "\n",
        "import_text(\"Exercises/registers/files/\", \"frqRegisters.py\")\n",
        "import_text(\"Templates/\", \"frqTemplate.py\")\n",
        "from frqRegisters import *\n",
        "\n",
        "from frqTemplate import *\n",
        "create_frq_dictionary(get_data())"
      ]
    },
    {
      "cell_type": "markdown",
      "metadata": {
        "id": "dqpeuARCSf3G"
      },
      "source": [
        "##**Registers**\n",
        "\n",
        "To truly allow flip flops to be used to store data, we need to add one more thing.\n",
        "We will add a mux to select input D that chooses between the output of the flip flop and a new input.\n",
        "\n",
        "<img src=\"https://raw.githubusercontent.com/byuccl/digital_design_colab2/master/Exercises/registers/media/register.png\"\n",
        "width=\"300\" height=\"200\" style=\"display: block; margin: 0 auto \" />\n",
        "\n",
        "This is called a register.\n",
        "With this strategy, whenever we want to put data in the register, we set the LOAD signal to 1.\n",
        "Then when we set LOAD back to 0, the register will continue to hold this value becuase the new input it recives is tied to its output.\n",
        "With our data stored safely, we can use it however we want in other parts of the circuit.\n",
        "If we need to change the value in the register, we can just raise the LOAD signal again.\n",
        "This LOAD signal is sometimes tied to the CLK, so the register can update every clock cycle."
      ]
    },
    {
      "cell_type": "markdown",
      "metadata": {
        "id": "qMRgR4VGSRkG"
      },
      "source": [
        "##**Timing Diagrams**\n",
        "\n",
        "When working with circuits, knowing when things will happen is just as important as knowing what will happen. We can visualize this using timing diagrams. A timing daigram has all of the signals on the y-axis and time on the x-axis. Here is an example of a circuit with a timing diagram that shows what happens when A changes.\n",
        "\n",
        "<img src=\"https://raw.githubusercontent.com/byuccl/digital_design_colab2/master/Exercises/registers/media/Circuit1.png\"\n",
        "width=\"300\" height=\"150\" style=\"display: block; margin: 0 auto \" />\n",
        "\n",
        "<img src=\"https://raw.githubusercontent.com/byuccl/digital_design_colab2/master/Exercises/registers/media/timing_diagram1.png\"\n",
        "width=\"300\" height=\"240\" style=\"display: block; margin: 0 auto \" />\n",
        "\n",
        "\n",
        "\n",
        "Each signal has a waveform that represents its value over time.\n",
        "You can tell when the signal is high or low by seeing if this waveform is up or down.\n",
        "We could also include B and C in the diagram, but they are high the whole time and don't provide necessary information.\n",
        "A is the only input, and all of the other signals react to a change in A.\n",
        "You can see the initial value of each signal by seeing if it is high or low when the timing diagram starts.\n",
        "You can see that when A goes low, A' takes a second to go high becuase it takes time for the new value to go through the not gate.\n",
        "This means that g2 changes before g1, and there is a second when both of these signals are low.\n",
        "While the output F ends up being the same as it was initially, you are able to follow the changes that happen in each part of the circuit to produce the output.\n",
        "\n",
        "\n"
      ]
    },
    {
      "cell_type": "markdown",
      "metadata": {
        "id": "ciKvL-IpSXrO"
      },
      "source": [
        "##**Timing Diagrams with a clock**"
      ]
    },
    {
      "cell_type": "markdown",
      "metadata": {
        "id": "khDsH_u_rO39"
      },
      "source": [
        "Lets put everything together and make a really cool circuit that counts.\n",
        "We will use 3 registers to hold counting values, which means we can hold an 3 bit number.\n",
        "\n",
        "<img src=\"https://raw.githubusercontent.com/byuccl/digital_design_colab2/master/Exercises/registers/media/count_circuit.png\"\n",
        "width=\"400\" height=\"200\" style=\"display: block; margin: 0 auto \" />\n",
        "\n",
        "The slashes going into and out of the registers mean they are 3 bit wires, which can combine in 8 different ways and in our case will be able to count from 0 to 7.\n",
        "The output of the registers will loop back to the input, but they will branch off to be incremented.\n",
        "The INC signal will select between the current value from the registers or an incremented value.\n",
        "This circuit also has a clock.\n",
        "The clock signal countinously switches between 1 and 0 at a constant rate.\n",
        "One period of the clock being high and low is called a clock cycle.\n",
        "The output of the registers (Count) will update once per clock cycle, each time the clock switches from low to high.\n",
        "This is because of the master-slave setup that you learned about with flip flops.\n",
        "We can simulate what will happen in this circuit with a timing diagram. This time, there will be a clock signal in the diagram.\n",
        "\n",
        "<img src=\"https://raw.githubusercontent.com/byuccl/digital_design_colab2/master/Exercises/registers/media/count_diagram.png\"\n",
        "width=\"500\" height=\"150\" style=\"display: block; margin: 0 auto \" />\n",
        "\n",
        "The value of Count is updated every time the clock has a rising edge. This are marked by the vertical dotten lines. At the end of the first clock cycle, INC is still low so when Count updates it is still 0. At the next rising edge, INC is high so Count becomes one in the next clock cycle."
      ]
    },
    {
      "cell_type": "code",
      "execution_count": null,
      "metadata": {
        "cellView": "form",
        "id": "psenOA4C8M-W"
      },
      "outputs": [],
      "source": [
        "#@title  { vertical-output: true }\n",
        "#@title  { display-mode: \"form\" }\n",
        "#@markdown Below is a diagram of a 4-bit clearable up-counter.\n",
        "#@markdown\n",
        "#@markdown When CLR/INC = '10', the register loads all 0's, which has the effect of clearing the register. When CLR/INC='01', the register loads its current value plus one.\n",
        "#@markdown\n",
        "#@markdown In all other cases, it loads its old value.\n",
        "#@markdown <p align=\"left\"> <img src=\"https://raw.githubusercontent.com/byuccl/digital_design_colab2/master/Exercises/registers/media/four_bit_clearable_upcounter.png\" width=\"500\" height=\"\" style=\"display: block; margin: 0 auto\" /> </p>\n",
        "#@markdown\n",
        "#@markdown Use this diagram for the following questions.\n",
        "#@markdown <p align=\"left\"> <img src=\"https://raw.githubusercontent.com/byuccl/digital_design_colab2/master/Exercises/registers/media/four_bit_clearable_upcounter_timetable.png\" width=\"500\" height=\"\" style=\"display: block; margin: 0 auto\" /> </p>\n",
        "\n",
        "print_frq_grid(1)\n",
        "print('\\n\\n')\n",
        "print_frq_grid(2)\n",
        "print('\\n\\n')\n",
        "print_frq_grid(3)\n",
        "print('\\n\\n')\n",
        "print_frq_grid(4)\n",
        "print('\\n\\n')\n",
        "print_frq_grid(5)\n"
      ]
    },
    {
      "cell_type": "code",
      "execution_count": null,
      "metadata": {
        "cellView": "form",
        "id": "ccgoDOeWXdEo"
      },
      "outputs": [],
      "source": [
        "#@title  { vertical-output: true }\n",
        "#@title  { display-mode: \"form\" }\n",
        "#@markdown Use the diagram below of a gated D latch for the following problems.\n",
        "#@markdown <p align=\"left\"> <img src=\"https://raw.githubusercontent.com/byuccl/digital_design_colab2/master/Exercises/registers/media/sr_latch_diagram.png\" width=\"500\" height=\"\" style=\"display: block; margin: 0 auto\" /> </p>\n",
        "#@markdown\n",
        "#@markdown For this problem, fill out the timing diagram below and answer the following questions. Use the following delays: tNOT = 1 ns, tAND = 3 ns, tNOR = 2 ns.\n",
        "#@markdown\n",
        "#@markdown As an example, to say that the rising edge of signal D occurs in the time interval between nanoseconds 2 and 3, my answer would be \"2-3\".\n",
        "#@markdown <p align=\"left\"> <img src=\"https://raw.githubusercontent.com/byuccl/digital_design_colab2/master/Exercises/registers/media/sr_latch_timetable.png\" width=\"500\" height=\"\" style=\"display: block; margin: 0 auto\" /> </p>\n",
        "\n",
        "print_frq_grid(6)\n",
        "print('\\n\\n')\n",
        "print_frq_grid(7)\n",
        "print('\\n\\n')\n",
        "print_frq_grid(8)\n",
        "print('\\n\\n')\n",
        "print_frq_grid(9)"
      ]
    },
    {
      "cell_type": "markdown",
      "metadata": {
        "id": "ZUdeQlOwXdEo"
      },
      "source": [
        "Click [Here](https://colab.research.google.com/github/byuccl/digital_design_colab2/blob/master/Labs/arithmetic_lab/arithmetic_lab.ipynb) to move on to the Arithmetic Lab."
      ]
    }
  ],
  "metadata": {
    "colab": {
      "provenance": []
    },
    "kernelspec": {
      "display_name": "Python 3.10.6 64-bit",
      "language": "python",
      "name": "python3"
    },
    "language_info": {
      "codemirror_mode": {
        "name": "ipython",
        "version": 3
      },
      "file_extension": ".py",
      "mimetype": "text/x-python",
      "name": "python",
      "nbconvert_exporter": "python",
      "pygments_lexer": "ipython3",
      "version": "3.10.6"
    },
    "vscode": {
      "interpreter": {
        "hash": "e7370f93d1d0cde622a1f8e1c04877d8463912d04d973331ad4851f04de6915a"
      }
    }
  },
  "nbformat": 4,
  "nbformat_minor": 0
}