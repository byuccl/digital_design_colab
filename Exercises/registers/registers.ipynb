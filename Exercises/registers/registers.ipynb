{
  "nbformat": 4,
  "nbformat_minor": 0,
  "metadata": {
    "colab": {
      "provenance": []
    },
    "kernelspec": {
      "name": "python3",
      "display_name": "Python 3"
    },
    "language_info": {
      "name": "python"
    }
  },
  "cells": [
    {
      "cell_type": "code",
      "execution_count": null,
      "metadata": {
        "id": "bxohLD2rQC7B",
        "cellView": "form"
      },
      "outputs": [],
      "source": [
        "#@title Setup\n",
        "import ipywidgets as widgets\n",
        "from ipywidgets import GridspecLayout\n",
        "from ipywidgets import AppLayout, Button, Layout, jslink, IntText, IntSlider\n",
        "import requests\n",
        "def import_text(text):\n",
        "  url = 'https://raw.githubusercontent.com/byuccl/digital_design_colab2/master/Exercises/registers/files/%s' %text\n",
        "  resp = requests.get(url)\n",
        "  with open(text, 'wb') as f:\n",
        "    f.write(resp.content)\n",
        "\n",
        "import_text(\"frqRegisters.py\")\n",
        "from frqRegisters import *"
      ]
    },
    {
      "cell_type": "markdown",
      "source": [
        "##**Registers**\n",
        "\n",
        "To truly allow flip flops to be used to store data, we need to add one more thing. \n",
        "We will select D input with a mux that chooses between the output of the flip flop and a new input. \n",
        "\n",
        "<img src=\"https://raw.githubusercontent.com/byuccl/digital_design_colab2/master/Exercises/registers/media/register.png\"\n",
        "width=\"300\" height=\"200\" style=\"display: block; margin: 0 auto \" />\n",
        "\n",
        "This is called a register.\n",
        "With this strategy, whenever we want to put data in the register, we set the LOAD signal to 1.\n",
        "Then when set load back to 0, the register will continue to hold this value becuase the new input it recives is tied to its output.\n",
        "With our data stored safely, we can use it however we want in other parts of the circuit.\n",
        "If we need to change the value in the register, we can just raise the load signal again. \n",
        "This load signal is sometimes tied to the CLK, so the register can update every clock cycle. "
      ],
      "metadata": {
        "id": "dqpeuARCSf3G"
      }
    },
    {
      "cell_type": "markdown",
      "source": [
        "##**Timing Diagrams**\n",
        "\n",
        "When working with circuits, it is just as important to know when things will happen as it is to know what will happen. We can visualize this using timing diagrams. A timing daigram has all of the signals on the y-axis and time on the x-axis. Here is an example of a circuit with a timing diagram that shows what happens when A changes. \n",
        "\n",
        "<img src=\"https://raw.githubusercontent.com/byuccl/digital_design_colab2/master/Exercises/registers/media/Circuit1.png\"\n",
        "width=\"300\" height=\"150\" style=\"display: block; margin: 0 auto \" />\n",
        "\n",
        "<img src=\"https://raw.githubusercontent.com/byuccl/digital_design_colab2/master/Exercises/registers/media/timing_diagram1.png\"\n",
        "width=\"300\" height=\"240\" style=\"display: block; margin: 0 auto \" />\n",
        "\n",
        "\n",
        "\n",
        "Each signal has a wavform that represents its value over time.\n",
        "You can tell when the signal is high or low by seeing if this waveform is up or down.\n",
        "We could also include B and C in the diagram, but they are high the whole time so it is not necessary information.\n",
        "This means that A is the only input, and all of the other signals react to a change in A.\n",
        "You can see the initial value of each signal by seeing if it is high or low when the timing diagram starts.\n",
        "You can see that when A goes low, A' takes a second to go high becuase it takes time for the new value to go through the not gate.\n",
        "This means that g2 changes before g1, and there is a second when both of these signals are low.\n",
        "While the out F ends up being the same as it was initially, you are able to follow the changes that happen in each part of the circuit to produce the output.\n",
        "\n",
        "\n"
      ],
      "metadata": {
        "id": "qMRgR4VGSRkG"
      }
    },
    {
      "cell_type": "markdown",
      "source": [
        "##**Timing Diagrams with a clock**"
      ],
      "metadata": {
        "id": "ciKvL-IpSXrO"
      }
    },
    {
      "cell_type": "markdown",
      "source": [
        "Lets put everything together and make a really cool circuit that counts.\n",
        "We will use 3 registers to hold counting values, which means we can hold an 3 bit number.\n",
        "\n",
        "<img src=\"https://raw.githubusercontent.com/byuccl/digital_design_colab2/master/Exercises/registers/media/count_circuit.png\"\n",
        "width=\"400\" height=\"200\" style=\"display: block; margin: 0 auto \" />\n",
        "\n",
        "The slashes going into and out of the registers means they are 3 bit wires, which can combine in 8 different ways and in our case will be able to count from 0 to 7.\n",
        "The output of the registers will loop back to be the input, but it will branch off to be incremented.\n",
        "The INC signal will select between the current value from the registers, or an incremented value. \n",
        "This circuit also has a clock.\n",
        "The clock signal countinously switches between 1 and 0 and a constant rate.\n",
        "One period of the clock being high and low is called a clock cycle.\n",
        "The output of the registers (Count) will update once per clock cycle, each time the clock switches from low to high.\n",
        "This is because of the master-slave setup that you learned about with flip flops.\n",
        "We can simulate what will happen in this circuit with a timing diagram. This time, there will be a clock signal in the diagram. \n",
        "\n",
        "<img src=\"https://raw.githubusercontent.com/byuccl/digital_design_colab2/master/Exercises/registers/media/count_diagram.png\"\n",
        "width=\"500\" height=\"150\" style=\"display: block; margin: 0 auto \" />\n",
        "\n",
        "The value of Count is updated every time the clock has a rising edge. This are marked by the vertical dotten lines. At the end of the first clock cycle, INC is still low so when Count updates it is still 0. At the next rising edge, INC is high so Count becomes one in the next clock cycle."
      ],
      "metadata": {
        "id": "khDsH_u_rO39"
      }
    },
    {
      "cell_type": "code",
      "source": [
        "#@markdown Add timing diagram question from 220"
      ],
      "metadata": {
        "cellView": "form",
        "id": "psenOA4C8M-W"
      },
      "execution_count": null,
      "outputs": []
    }
  ]
}