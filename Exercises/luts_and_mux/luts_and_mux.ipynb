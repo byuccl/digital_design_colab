{
  "cells": [
    {
      "cell_type": "markdown",
      "metadata": {
        "id": "DD-CwooP-CYd"
      },
      "source": [
        "### Setup"
      ]
    },
    {
      "cell_type": "code",
      "execution_count": 2,
      "metadata": {
        "cellView": "form",
        "id": "WYY4GQcY_kBJ"
      },
      "outputs": [],
      "source": [
        "#@markdown ## **Setup**\n",
        "import ipywidgets as widgets\n",
        "from ipywidgets import GridspecLayout\n",
        "from ipywidgets import AppLayout, Button, Layout, jslink, IntText, IntSlider\n",
        "import requests\n",
        "#Creates a text document using the Raw github url. This text document will be used as a .py file for imports\n",
        "def import_text(text):\n",
        "  url = 'https://raw.githubusercontent.com/byuccl/digital_design_colab2/master/Exercises/luts_and_mux/files/%s' % text\n",
        "  resp = requests.get(url)\n",
        "  with open(text, 'wb') as f:\n",
        "    f.write(resp.content)\n",
        "\n",
        "\n",
        "import_text(\"frq_luts_mux.py\")\n",
        "import_text(\"mc_luts_mux.py\")\n",
        "\n",
        "from frq_luts_mux import *\n",
        "from mc_luts_mux import *\n",
        "\n"
      ]
    },
    {
      "cell_type": "markdown",
      "metadata": {
        "id": "1OXaklv0-CYg"
      },
      "source": [
        "# What is a MUX\n",
        "\n",
        "MUX is short for multiplexer. To show how it is used lets consider a scenario.  \n",
        "Often we code using `if` and `else` blocks. If the signal is high, do this, else do this. So, how can we represent that in gate level logic?  \n",
        "In this case we can use a MUX.\n",
        "\n",
        "<p align=\"left\">\n",
        "<img src=\"https://raw.githubusercontent.com/byuccl/digital_design_colab2/Luts-and-Mux/Exercises/luts_and_mux/media/Mux_&_table.png\"\n",
        "width=\"250\" height=\"\" style=\"display: block; margin: 0 auto\" />\n",
        "</p>\n",
        "\n",
        "\n",
        "The Mux works by setting the output to high if A is high and S (the signal used to choose) is high, or if S is low and B is high.  \n",
        "\n",
        "|A|B|S|F|\n",
        "|-|-|-|-|\n",
        "|0|0|0|0|\n",
        "|1|0|0|0|\n",
        "|0|1|0|1|\n",
        "|1|1|0|1|\n",
        "|0|0|1|0|\n",
        "|1|0|1|1|\n",
        "|0|1|1|0|\n",
        "|1|1|1|1|\n",
        "\n",
        "The truth table shows the behavior of the Mux. \n",
        "\n",
        "Mux's are sometimes used as 4:1, or in other words, it uses 2 signals, S0, S1 to choose between 4 different functions.\n",
        "\n",
        "|S0|S1|F|\n",
        "|-|-|-|\n",
        "|0|0|A|\n",
        "|0|1|B|\n",
        "|1|0|C|\n",
        "|1|1|D|\n",
        "\n",
        "Mux's are often used in stacks. For example, lets say we have 2 8 bit signals we want to choose between. What we end up doing is using a single control signal that goes to all 8 mux's and feeding each of the individual bits into a different Mux. \n"
      ]
    },
    {
      "cell_type": "markdown",
      "metadata": {
        "id": "19S6oPru-CYh"
      },
      "source": [
        "# What is a LUT\n",
        "\n",
        "LUT stands for Look up table. These hold a certain amount of values and can be indexed using the inputs. For example, a LUT could hold 8 values, so 3 bits would be needed to select between these 8 values. This can also be called Read Only Memory or ROM."
      ]
    },
    {
      "cell_type": "markdown",
      "metadata": {
        "id": "cmCTc7Fv-CYh"
      },
      "source": [
        "# What makes these things so important?\n",
        "\n",
        "One of the biggest reasons is because an FPGA is just made of a bunch of LUTs and MUXs with flipflops. The LUTs are used to simulate any kind of Gate level logic with 3 inputs. You can use multiple LUTs chained together to achieve this is more than 3 signals are needed."
      ]
    },
    {
      "cell_type": "markdown",
      "metadata": {
        "id": "K52Oin7b-CYi"
      },
      "source": [
        "# Practice Questions    "
      ]
    },
    {
      "cell_type": "code",
      "execution_count": null,
      "metadata": {
        "cellView": "form",
        "id": "bQMS9COz-CYi"
      },
      "outputs": [],
      "source": [
        "#@markdown Q1\n",
        "print_frq_grid(1)"
      ]
    },
    {
      "cell_type": "code",
      "execution_count": null,
      "metadata": {
        "cellView": "form",
        "id": "HorH5TCS-CYj"
      },
      "outputs": [],
      "source": [
        "#@markdown Q2\n",
        "print_frq_grid(2)"
      ]
    },
    {
      "cell_type": "code",
      "execution_count": null,
      "metadata": {
        "cellView": "form",
        "id": "MTErOY8i-CYj"
      },
      "outputs": [],
      "source": [
        "#@markdown Q3\n",
        "print_frq_grid(3)"
      ]
    },
    {
      "cell_type": "code",
      "execution_count": null,
      "metadata": {
        "cellView": "form",
        "id": "mvotabL9-CYk"
      },
      "outputs": [],
      "source": [
        "#@markdown Q4\n",
        "print_frq_grid(4)"
      ]
    },
    {
      "cell_type": "code",
      "execution_count": null,
      "metadata": {
        "cellView": "form",
        "id": "N-StHdDz-CYk"
      },
      "outputs": [],
      "source": [
        "#@markdown Q5\n",
        "print_frq_grid(5)"
      ]
    },
    {
      "cell_type": "code",
      "execution_count": null,
      "metadata": {
        "cellView": "form",
        "id": "sAB3M-gA-CYl"
      },
      "outputs": [],
      "source": [
        "#@markdown Q6\n",
        "print_frq_grid(6)"
      ]
    }
  ],
  "metadata": {
    "colab": {
      "provenance": []
    },
    "kernelspec": {
      "display_name": "Python 3.9.15 64-bit",
      "language": "python",
      "name": "python3"
    },
    "language_info": {
      "name": "python",
      "version": "3.9.15"
    },
    "orig_nbformat": 4,
    "vscode": {
      "interpreter": {
        "hash": "f9f85f796d01129d0dd105a088854619f454435301f6ffec2fea96ecbd9be4ac"
      }
    }
  },
  "nbformat": 4,
  "nbformat_minor": 0
}
