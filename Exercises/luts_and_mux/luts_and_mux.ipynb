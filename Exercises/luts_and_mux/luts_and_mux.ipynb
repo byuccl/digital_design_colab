{
  "cells": [
    {
      "cell_type": "markdown",
      "metadata": {
        "id": "DD-CwooP-CYd"
      },
      "source": [
        "### Setup"
      ]
    },
    {
      "cell_type": "code",
      "execution_count": null,
      "metadata": {
        "cellView": "form",
        "id": "WYY4GQcY_kBJ"
      },
      "outputs": [],
      "source": [
        "#@markdown ## **Setup**\n",
        "import ipywidgets as widgets\n",
        "from ipywidgets import GridspecLayout\n",
        "from ipywidgets import AppLayout, Button, Layout, jslink, IntText, IntSlider\n",
        "import requests\n",
        "#Creates a text document using the Raw github url. This text document will be used as a .py file for imports\n",
        "def import_text(location, file):\n",
        "  url = 'https://raw.githubusercontent.com/byuccl/digital_design_colab2/master/%s/%s' % (location, file)\n",
        "  resp = requests.get(url)\n",
        "  with open(file, 'wb') as f:\n",
        "    f.write(resp.content)\n",
        "\n",
        "\n",
        "import_text(\"Exercises/luts_and_mux/files/\", \"frq_luts_mux.py\")\n",
        "import_text(\"Exercises/luts_and_mux/files/\", \"mc_luts_mux.py\")\n",
        "import_text(\"Exercises/luts_and_mux/files/\", \"tt_luts_mux.py\")\n",
        "import_text(\"Templates/\", \"mcTemplate.py\")\n",
        "import_text(\"Templates/\", \"frqTemplate.py\")\n",
        "import_text(\"Templates/\", \"tt_template.py\")\n",
        "\n",
        "from mc_luts_mux import *\n",
        "\n",
        "from mcTemplate import *\n",
        "create_mc_dict(get_data())\n",
        "\n",
        "from frq_luts_mux import *\n",
        "\n",
        "from frqTemplate import *\n",
        "create_frq_dictionary(get_data())\n",
        "\n",
        "\n",
        "from tt_luts_mux import *\n",
        "from tt_template import *\n",
        "create_tt_dictionary(get_tt_data())"
      ]
    },
    {
      "cell_type": "markdown",
      "metadata": {
        "id": "1OXaklv0-CYg"
      },
      "source": [
        "# What is a MUX\n",
        "\n",
        "A MUX, short for multiplexer, is a digital device that can be used to select between multiple inputs. This can be very useful when trying to implement complicated logic with many inputs. In the first example we have 2 options A or B. The select signal can be driven to select A when sel (selected line or signal) is low or to select B when sel is high. We can increase our select options by increasing the number of inputs we have. The number of inputs a mux can support can be calculated by solving 2^n where n is the number of select signals (Example: In a 8:1 MUX, there must be three select lines as 2^3 = 8). In order to select the input you want simply count from the top to the bottom starting at 0 until you reach your signal (For the second image, A = 0, B = 1, C = 2, etc). Then, convert that number into binary and input that number through the select signals. For example, if I wanted to select C on the 4:1 MUX (2nd image), I would count 0,1,2, (C = 2), then convert that 2 to binary 10. That is the signal I need to pass to the select signal S1 = 1 & S2 = 0 to get the output of C. The mapping of select signals to binary output goes as follows: A = 00, B = 01, C = 10, D = 11.\n",
        "\n",
        "<div style=\"display: flex;\">\n",
        "  <div style=\"flex: 1;\">\n",
        "    <img src=\"https://raw.githubusercontent.com/byuccl/digital_design_colab2/master/Exercises/luts_and_mux/media/2:1Mux.png\"\n",
        "      width=\"250\" height=\"\" style=\"display: block; margin: 0 auto\" />\n",
        "  </div>\n",
        "  <div style=\"flex: 1;\">\n",
        "    <img src=\"https://raw.githubusercontent.com/byuccl/digital_design_colab2/master/Exercises/luts_and_mux/media/4:1Mux.png\"\n",
        "      width=\"200\" height=\"\" style=\"display: block; margin: 0 auto\" />\n",
        "  </div>\n",
        "</div>\n",
        "\n",
        "\n",
        "\n",
        "We can convert the MUX into a truth table to see what the value of the output is in every possible input scenario. To do this, start by counting in binary down the input signals A, B, and the select signal S. Then go back and fill in the output signal. Remember the select signal is simply deciding which signal to pass to the output. In this simple example this means that if S = 0 then the Output = A, if S = 1, then the Output = B. We could continue this example by making a truth table for 4 inputs. However there would be 32 possible inputs due to the 4 input signals and 2 select signals, creating a table to large to be shown here. So we will simply work with a 2:1 MUX. Fill out the table below"
      ]
    },
    {
      "cell_type": "code",
      "execution_count": null,
      "metadata": {
        "cellView": "form",
        "id": "C5dM5UbeVVzD"
      },
      "outputs": [],
      "source": [
        "#@title 2:1 MUX Table\n",
        "print_tt_grid(1)"
      ]
    },
    {
      "cell_type": "markdown",
      "metadata": {
        "id": "DWF_bX6gVVzE"
      },
      "source": [
        "Mux's are often used in stacks. For example, lets say we have 2 8 bit signals we want to choose between. What we end up doing is using a single control signal that goes to all 8 mux's and feeding each of the individual bits into a different Mux."
      ]
    },
    {
      "cell_type": "markdown",
      "metadata": {
        "id": "M0qMuR4LS9Tj"
      },
      "source": [
        "# Chaining Multiplexers\n",
        "\n",
        "Sometimes we may not have the right size of mux that we need. We can achieve different size by chaining MUX's together. For example say we only had 2:1 MUX's available. Is it possible to build a 4:1 mux? The answer is yes but at a cost. We will need not only 2 but 3 2:1 multiplexers to achieve this. In the picture below we connect the first 2 MUX's together using the same select signal. However these 2 MUX's have 2 outputs that must be then tied into a 3rd mux where the second select signal chooses the final output. This form of chaining can be used to create any size mux we need.\n",
        "\n",
        "<p align=\"left\">\n",
        "<img src=\"https://raw.githubusercontent.com/byuccl/digital_design_colab2/master/Exercises/luts_and_mux/media/4:1-2:1.png\"\n",
        "width=\"300\" height=\"\" style=\"display: block; margin: 0 auto\" />\n",
        "</p>"
      ]
    },
    {
      "cell_type": "markdown",
      "metadata": {
        "id": "CPK8evJIS9Tk"
      },
      "source": [
        "# Building a Logic Gate with a Multiplexer\n",
        "\n",
        "Another tool to add to our belt is the ability to build logic gates out of multiplexers. As we will soon find out, our F.P.G.A's implement a lot of logic through built in multiplexers. Before we can discuss why this is significant let's look at how it is done. In the first image we have an example of an implemented AND gate. We drive the signal at s0 to a constant low state. We then feed the 2 inputs through the select and S1. This may seem a little strange at first, however it is perfectly fine to feed an input through the select port. The truth table on the right demonstrates that we have created an AND gate using a 2:1 multiplexer. The 2nd image is a demonstration of building a NOR gate. Some gates require more than just 2 inputs to be implemented, for example an OR gate cannot be implemented with just a 2:1 multiplexer.\n",
        "\n",
        "<div style=\"display: flex;\">\n",
        "  <div style=\"flex: 1;\">\n",
        "    <img src=\"https://raw.githubusercontent.com/byuccl/digital_design_colab2/master/Exercises/luts_and_mux/media/AND_GATE_MUX.png\"\n",
        "      width=\"350\" height=\"\" style=\"display: block; margin: 0 auto\" />\n",
        "  </div>\n",
        "  <div style=\"flex: 1;\">\n",
        "    <img src=\"https://raw.githubusercontent.com/byuccl/digital_design_colab2/master/Exercises/luts_and_mux/media/NOR_Gate_MUX.png\"\n",
        "      width=\"350\" height=\"\" style=\"display: block; margin: 0 auto\" />\n",
        "  </div>\n",
        "</div>"
      ]
    },
    {
      "cell_type": "markdown",
      "metadata": {
        "id": "19S6oPru-CYh"
      },
      "source": [
        "# What is a LUT\n",
        "\n",
        "LUT stands for Look up table. This is a fancy name for a multiplexer who's inputs are pre-determined and constant. For example, a LUT could hold 16 values, so 4 bits would be needed to select between these 16 values. This essentially allows us to set the initial values of all the inputs and then select between these signals later creating a small memory space. This can also be called Read Only Memory or ROM.\n",
        "\n",
        "<p align=\"left\">\n",
        "<img src=\"https://raw.githubusercontent.com/byuccl/digital_design_colab2/master/Exercises/luts_and_mux/media/Lut.png\"\n",
        "width=\"400\" height=\"\" style=\"display: block; margin: 0 auto\" />\n",
        "</p>"
      ]
    },
    {
      "cell_type": "markdown",
      "metadata": {
        "id": "cmCTc7Fv-CYh"
      },
      "source": [
        "# What makes these things so important?\n",
        "\n",
        "These simple principles are what make and F.P.G.A (Field programmable logic array) possible. An F.P.G.A is essentially a lot of luts and muxes aligned in rows and columns forming a large grid. When you begin to code in an hdl language you are programming logical statements with memory. Constants can be stored in these luts and dynamic memory can be stored in flip flops. We can use muxes to implement all levels of logic. What this means is when we Synthesize and implement our design the CAD tool is taking our logic statements and implementing it through Muxes, Luts and flip flops. The way these are activated is through the bitstream that is generated. This stream simply holds a bunch of 1's and 0's that go through the F.P.G.A and turn elements either on or off. Giving us a way to program hardware in the field."
      ]
    },
    {
      "cell_type": "markdown",
      "metadata": {
        "id": "K52Oin7b-CYi"
      },
      "source": [
        "# Practice Questions    "
      ]
    },
    {
      "cell_type": "code",
      "execution_count": null,
      "metadata": {
        "cellView": "form",
        "id": "bQMS9COz-CYi"
      },
      "outputs": [],
      "source": [
        "#@markdown Q1\n",
        "print_frq_grid(1)"
      ]
    },
    {
      "cell_type": "code",
      "execution_count": null,
      "metadata": {
        "cellView": "form",
        "id": "HorH5TCS-CYj"
      },
      "outputs": [],
      "source": [
        "#@markdown Q2\n",
        "print_mc_grid(1)"
      ]
    },
    {
      "cell_type": "code",
      "execution_count": null,
      "metadata": {
        "cellView": "form",
        "id": "MTErOY8i-CYj"
      },
      "outputs": [],
      "source": [
        "#@markdown Q3\n",
        "print_mc_grid(2)"
      ]
    },
    {
      "cell_type": "code",
      "execution_count": null,
      "metadata": {
        "cellView": "form",
        "id": "mvotabL9-CYk"
      },
      "outputs": [],
      "source": [
        "#@markdown Q4\n",
        "print_frq_grid(4)"
      ]
    },
    {
      "cell_type": "code",
      "execution_count": null,
      "metadata": {
        "cellView": "form",
        "id": "v7yUs70PS9To"
      },
      "outputs": [],
      "source": [
        "#@markdown Q5\n",
        "print_frq_grid(5)"
      ]
    },
    {
      "cell_type": "code",
      "execution_count": null,
      "metadata": {
        "cellView": "form",
        "id": "N-StHdDz-CYk"
      },
      "outputs": [],
      "source": [
        "#@markdown Q6\n",
        "print_frq_grid(6)"
      ]
    },
    {
      "cell_type": "markdown",
      "metadata": {
        "id": "i93ym7RyS9Tp"
      },
      "source": [
        "Click [Here](https://colab.research.google.com/github/byuccl/digital_design_colab2/blob/master/Exercises/assign_operators/assign_operators.ipynb) to move on to the Assign Operators Lesson."
      ]
    }
  ],
  "metadata": {
    "colab": {
      "provenance": []
    },
    "kernelspec": {
      "display_name": "Python 3.10.6 64-bit",
      "language": "python",
      "name": "python3"
    },
    "language_info": {
      "codemirror_mode": {
        "name": "ipython",
        "version": 3
      },
      "file_extension": ".py",
      "mimetype": "text/x-python",
      "name": "python",
      "nbconvert_exporter": "python",
      "pygments_lexer": "ipython3",
      "version": "3.10.12"
    },
    "orig_nbformat": 4,
    "vscode": {
      "interpreter": {
        "hash": "e7370f93d1d0cde622a1f8e1c04877d8463912d04d973331ad4851f04de6915a"
      }
    }
  },
  "nbformat": 4,
  "nbformat_minor": 0
}