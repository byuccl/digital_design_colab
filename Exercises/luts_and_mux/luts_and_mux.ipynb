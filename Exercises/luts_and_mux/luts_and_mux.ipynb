{
 "cells": [
  {
   "cell_type": "markdown",
   "metadata": {},
   "source": [
    "### Setup"
   ]
  },
  {
   "cell_type": "markdown",
   "metadata": {},
   "source": [
    "\n",
    "import_text(\"frq_luts_mux.py\")\n",
    "import_text(\"mc_luts_mux.py\")\n",
    "\n",
    "from frqBH import *"
   ]
  },
  {
   "cell_type": "markdown",
   "metadata": {},
   "source": [
    "# What is a MUX\n",
    "\n",
    "MUX is short for multiplexer. To show how it is used lets consider a scenario.  \n",
    "Often we code using `if` and `else` blocks. If the signal is high, do this, else do this. So, how can we represent that in gate level logic?  \n",
    "In this case we can use a MUX.\n",
    "\n",
    "\n",
    "The Mux works by setting the output to high if A is high and S (the signal used to choose) is high, or if S is low and B is high.  \n",
    "\n",
    "|A|B|S|F|\n",
    "|-|-|-|-|\n",
    "|0|0|0|0|\n",
    "|1|0|0|0|\n",
    "|0|1|0|1|\n",
    "|1|1|0|1|\n",
    "|0|0|1|0|\n",
    "|1|0|1|1|\n",
    "|0|1|1|0|\n",
    "|1|1|1|1|\n",
    "\n",
    "The truth table shows the behavior of the Mux. \n",
    "\n",
    "Mux's are sometimes used as 4:1, or in other words, it uses 2 signals, S0, S1 to choose between 4 different functions.\n",
    "\n",
    "|S0|S1|F|\n",
    "|-|-|-|\n",
    "|0|0|A|\n",
    "|0|1|B|\n",
    "|1|0|C|\n",
    "|1|1|D|\n",
    "\n",
    "Mux's are often used in stacks. For example, lets say we have 2 8 bit signals we want to choose between. What we end up doing is using a single control signal that goes to all 8 mux's and feeding each of the individual bits into a different Mux. \n"
   ]
  },
  {
   "cell_type": "markdown",
   "metadata": {},
   "source": [
    "# What is a LUT\n",
    "\n",
    "LUT stands for Look up table. These hold a certain amount of values and can be indexed using the inputs. For example, a LUT could hold 8 values, so 3 bits would be needed to select between these 8 values. This can also be called Read Only Memory or ROM."
   ]
  },
  {
   "cell_type": "markdown",
   "metadata": {},
   "source": [
    "# What makes these things so important?\n",
    "\n",
    "One of the biggest reasons is because an FPGA is just made of a bunch of LUTs and MUXs with flipflops. The LUTs are used to simulate any kind of Gate level logic with 3 inputs. You can use multiple LUTs chained together to achieve this is more than 3 signals are needed."
   ]
  },
  {
   "cell_type": "markdown",
   "metadata": {},
   "source": [
    "# Practice Questions    "
   ]
  },
  {
   "cell_type": "code",
   "execution_count": null,
   "metadata": {},
   "outputs": [],
   "source": [
    "#@markdown\n",
    "print_frq_grid(1)"
   ]
  },
  {
   "cell_type": "code",
   "execution_count": null,
   "metadata": {},
   "outputs": [],
   "source": [
    "#@markdown\n",
    "print_frq_grid(2)"
   ]
  },
  {
   "cell_type": "code",
   "execution_count": null,
   "metadata": {},
   "outputs": [],
   "source": [
    "#@markdown\n",
    "print_frq_grid(3)"
   ]
  },
  {
   "cell_type": "code",
   "execution_count": null,
   "metadata": {},
   "outputs": [],
   "source": [
    "#@markdown\n",
    "print_frq_grid(4)"
   ]
  },
  {
   "cell_type": "code",
   "execution_count": null,
   "metadata": {},
   "outputs": [],
   "source": [
    "#@markdown\n",
    "print_frq_grid(5)"
   ]
  },
  {
   "cell_type": "code",
   "execution_count": null,
   "metadata": {},
   "outputs": [],
   "source": [
    "#@markdown\n",
    "print_frq_grid(6)"
   ]
  }
 ],
 "metadata": {
  "kernelspec": {
   "display_name": "Python 3.9.15 64-bit",
   "language": "python",
   "name": "python3"
  },
  "language_info": {
   "name": "python",
   "version": "3.9.15"
  },
  "orig_nbformat": 4,
  "vscode": {
   "interpreter": {
    "hash": "f9f85f796d01129d0dd105a088854619f454435301f6ffec2fea96ecbd9be4ac"
   }
  }
 },
 "nbformat": 4,
 "nbformat_minor": 2
}
