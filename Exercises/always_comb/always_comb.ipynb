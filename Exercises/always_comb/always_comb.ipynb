{
 "cells": [
  {
   "cell_type": "markdown",
   "metadata": {},
   "source": [
    "## **Setup**\n",
    "Click the Play Button. No need to expand. Do not touch this. "
   ]
  },
  {
   "attachments": {},
   "cell_type": "markdown",
   "metadata": {},
   "source": [
    "### Representing Gate Level Logic\n",
    "\n",
    "When we code in SystemVerilog, it is important to understand what the code represents.  \n",
    "When we are representing datalog, we are implementing gate level logic.  \n",
    "Unlike with C++ code for example, the code doesn't implement line after line.  \n",
    "Instead its like an active circuit of gates, all the code blocks are happening simultaneously.  \n",
    "To implement this we have two ways, `assign` blocks and `always_comb` blocks.\n"
   ]
  },
  {
   "cell_type": "markdown",
   "metadata": {},
   "source": [
    "### Signal line can be an assign "
   ]
  },
  {
   "attachments": {},
   "cell_type": "markdown",
   "metadata": {},
   "source": [
    "**Always_comb blocks:**\n",
    "\n",
    "What if we want to use If Else branches or multiple lines without using Assign over and over? We can use an always_comb block.\n",
    "This turns everything inside into combinational logic.\n",
    "\n",
    "Always_comb blocks are contained in `begin` and `end` keywords. \n",
    "`begin` and `end` keywords are needed when other statements are more than one line long.  \n",
    "\n",
    "```\n",
    "always_comb\n",
    "begin\n",
    "...\n",
    "...\n",
    "end\n",
    "```"
   ]
  },
  {
   "attachments": {},
   "cell_type": "markdown",
   "metadata": {},
   "source": [
    "**If Else Branches:**\n",
    "\n",
    "We can use if else branches inside an always_comb block.   \n",
    "NOTE: If you want to have multiple lines after your `if`, `else if` or `else` statement add `begin` and `end`.\n",
    "\n",
    "These are formed like just like in other programming languages.\n",
    "```\n",
    "if (a == 1) begin\n",
    "...\n",
    "end\n",
    "else if (a == 0) begin\n",
    "...\n",
    "end\n",
    "else begin\n",
    "...\n",
    "end\n",
    "```"
   ]
  },
  {
   "attachments": {},
   "cell_type": "markdown",
   "metadata": {},
   "source": [
    "** Latches **\n",
    "\n",
    "One thing you must be careful about is latches. We won't discuss what a latch here is but we will discuss why its a problem.  \n",
    "If you think about circuit made of gates. In an If/Else block, only one set of statements will be active at a time, the If or the Else.  \n",
    "Now think about what happens if we set a signal in the If to high, but we don't specify what we set it to low.  \n",
    "Nothing will be driving the signal. We don't know what it will be. So, the compiler will infer a latch and  will fail to compile.  \n",
    "There are two ways to avoid this, the easy way is to set all signals to a default at the beginning of the `always_comb` block.  \n",
    "Any line giving a signal a after the default will override it. This is the simplest way.  \n",
    "The harder way is to make sure that any signal thats value is set in a branch, is also set in every other branch.   \n",
    "This way is prone to error as it is easy to forget a single signal in a single branch.\n",
    "\n",
    "Example 1:\n",
    "```\n",
    "always_comb begin\n",
    "    a = 1'b0;\n",
    "    b = 1'b0;\n",
    "    c = 1'b0;\n",
    "    if(sw == 2'b01) a=1'b1;\n",
    "    else if(sw == 2'b10) b=1'b1;\n",
    "    else c=1'b1;\n",
    "end\n",
    "```\n",
    "\n",
    "Example 2:\n",
    "```\n",
    "always_comb begin\n",
    "    if(sw == 2'b01)begin\n",
    "        a = 1'b1;\n",
    "        b = 1'b0;\n",
    "        c = 1'b0;\n",
    "    end\n",
    "    else if(sw == 2'b10) begin\n",
    "        a = 1'b0;\n",
    "        b = 1'b1;\n",
    "        c = 1'b0;    \n",
    "    end\n",
    "    else begin \n",
    "        a = 1'b0;\n",
    "        b = 1'b0;\n",
    "        c = 1'b1;    \n",
    "    end\n",
    "end\n",
    "```\n"
   ]
  },
  {
   "cell_type": "code",
   "execution_count": null,
   "metadata": {},
   "outputs": [],
   "source": []
  },
  {
   "cell_type": "markdown",
   "metadata": {},
   "source": [
    "### always comb allows multiple lines. "
   ]
  },
  {
   "cell_type": "markdown",
   "metadata": {},
   "source": [
    "### Try out a few simple Gate configurations"
   ]
  }
 ],
 "metadata": {
  "kernelspec": {
   "display_name": "Python 3",
   "language": "python",
   "name": "python3"
  },
  "language_info": {
   "name": "python",
   "version": "3.8.10"
  },
  "orig_nbformat": 4,
  "vscode": {
   "interpreter": {
    "hash": "31f2aee4e71d21fbe5cf8b01ff0e069b9275f58929596ceb00d14d90e3e16cd6"
   }
  }
 },
 "nbformat": 4,
 "nbformat_minor": 2
}
