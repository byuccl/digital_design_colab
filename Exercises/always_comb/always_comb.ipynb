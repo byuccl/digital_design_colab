{
 "cells": [
  {
   "cell_type": "markdown",
   "metadata": {},
   "source": [
    "## **Setup**\n",
    "Click the Play Button. No need to expand. Do not touch this. "
   ]
  },
  {
   "cell_type": "markdown",
   "metadata": {},
   "source": [
    "### Representing Gate Level Logic\n"
   ]
  },
  {
   "cell_type": "markdown",
   "metadata": {},
   "source": [
    "### Signal line can be an assign "
   ]
  },
  {
   "attachments": {},
   "cell_type": "markdown",
   "metadata": {},
   "source": [
    "**Always_comb blocks:**\n",
    "\n",
    "What if we want to use If Else branches or multiple lines without using Assign over and over? We can use an always_comb block.\n",
    "This turns everything inside into combinational logic.\n",
    "\n",
    "Always_comb blocks are contained in `begin` and `end` keywords. \n",
    "`begin` and `end` keywords are needed when other statements are more than one line long.  \n",
    "\n",
    "```\n",
    "always_comb\n",
    "begin\n",
    "...\n",
    "...\n",
    "end\n",
    "```"
   ]
  },
  {
   "attachments": {},
   "cell_type": "markdown",
   "metadata": {},
   "source": [
    "**If Else Branches:**\n",
    "\n",
    "We can use if else branches inside an always_comb block.   \n",
    "NOTE: If you want to have multiple lines after your `if`, `else if` or `else` statement add `begin` and `end`.\n",
    "\n",
    "These are formed like just like in other programming languages.\n",
    "```\n",
    "if (a == 1) begin\n",
    "...\n",
    "end\n",
    "else if (a == 0) begin\n",
    "...\n",
    "end\n",
    "else begin\n",
    "...\n",
    "end\n",
    "```"
   ]
  },
  {
   "attachments": {},
   "cell_type": "markdown",
   "metadata": {},
   "source": []
  },
  {
   "cell_type": "markdown",
   "metadata": {},
   "source": [
    "### always comb allows multiple lines. "
   ]
  },
  {
   "cell_type": "markdown",
   "metadata": {},
   "source": [
    "### Try out a few simple Gate configurations"
   ]
  }
 ],
 "metadata": {
  "kernelspec": {
   "display_name": "Python 3",
   "language": "python",
   "name": "python3"
  },
  "language_info": {
   "name": "python",
   "version": "3.8.10"
  },
  "orig_nbformat": 4,
  "vscode": {
   "interpreter": {
    "hash": "31f2aee4e71d21fbe5cf8b01ff0e069b9275f58929596ceb00d14d90e3e16cd6"
   }
  }
 },
 "nbformat": 4,
 "nbformat_minor": 2
}
