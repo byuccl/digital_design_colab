{
  "cells": [
    {
      "cell_type": "code",
      "execution_count": 1,
      "metadata": {
        "cellView": "form",
        "id": "JsmrK7iG-Cjt"
      },
      "outputs": [],
      "source": [
        "#@markdown ## **Setup**\n",
        "import ipywidgets as widgets\n",
        "from ipywidgets import GridspecLayout\n",
        "from ipywidgets import AppLayout, Button, Layout, jslink, IntText, IntSlider\n",
        "import requests\n",
        "#Creates a text document using the Raw github url. This text document will be used as a .py file for imports\n",
        "def import_text(text):\n",
        "  url = 'https://raw.githubusercontent.com/byuccl/digital_design_colab2/master/Exercises/assign_operators/files/%s' % text\n",
        "  resp = requests.get(url)\n",
        "  with open(text, 'wb') as f:\n",
        "    f.write(resp.content)\n",
        "\n",
        "\n",
        "import_text(\"frq_assign.py\")\n",
        "\n",
        "\n",
        "\n",
        "\n",
        "from frq_assign import *\n"
      ]
    },
    {
      "cell_type": "markdown",
      "metadata": {
        "id": "lAenr7Wg-Cju"
      },
      "source": [
        "### Representing Gate Level Logic\n"
      ]
    },
    {
      "cell_type": "markdown",
      "metadata": {
        "id": "sLD_NkM6-Cjv"
      },
      "source": [
        "**Defining Signals**\n",
        "\n",
        "In SystemVerilog you need to set the size of signals and their type. The most common type is `logic`.   \n",
        "For example, we need to define an input, with a length of 4 bits. `input logic [3:0] signal_name`\n",
        "\n",
        "Types of Signals:\n",
        "`input`: This represents a signal coming from an outside source. For example, a signal from a button, or input from a different module. You cannot directly change an input in a module.\n",
        "`output`: This represents a signal you want to send to an outside source. For example, to send to an LED or to a different module. You must assign output signals a value. \n",
        "`logic`: All signals you will create in this lab will be of the type logic. This is the most standard data type for SystemVerilog. This is not a data type in Verilog.\n",
        "\n",
        "When using numbers, you need to specify their base, using the format `[width]'[type][value]`\n",
        "* Binary (Base 2): `b`, width `4`, `4'b10001` = `17`\n",
        "* Decimal (Base 10): `d`, width `2`, `2'd17` or `17` = `17`\n",
        "* Octal (Base 8): `o`, width `2`, `2'o21` = `17`\n",
        "* Hex (Base 16): `h`, width `2`, `2'h11` = `17`"
      ]
    },
    {
      "cell_type": "markdown",
      "metadata": {
        "id": "rziRJyC6-Cjw"
      },
      "source": [
        "**RTL**\n",
        "\n",
        "SystemVerilog is considered RTL (Register Transfer Logic). Unlike other languages, which are compiled into machine code, SystemVerilog is transformed into physical hardware. This means we must code it a bit differently.\n",
        "\n",
        "For the most part, SystemVerilog isn't run line by line, all lines will execute simultaneously. \n",
        "\n",
        "There are 3 types of signals, Inputs, Outputs and everything else.   \n",
        "\n",
        "* Inputs: Usually mapped to a physical component, (e.g. Switches)\n",
        "* Outputs: Usually mapped to a physical component (e.g. LEDs)\n",
        "* Signals: All of your other variables\n",
        "\n",
        "In this lab, your inputs will be the switches, and outputs will be the LEDs. "
      ]
    },
    {
      "cell_type": "markdown",
      "metadata": {
        "id": "Tu2djBZi-Cjw"
      },
      "source": [
        "**Assign blocks:**\n",
        "\n",
        "The simplest way to assign variables to values is using an `assign` statement.     \n",
        "NOTE: Assigning a multiple values to the same signal will cause an error as all statements are evaluated at the same time. It's like trying to plug in multiple cords to the same USB slot. It just doesn't work.\n",
        "\n",
        "The key word `assign` is used. The statement afterwards is constantly evaluated.   \n",
        "Examples `assign a = b & c`;  \n",
        "\n",
        "An Assign block only works with a single line."
      ]
    },
    {
      "cell_type": "markdown",
      "metadata": {
        "id": "LiKlux0T-Cjx"
      },
      "source": [
        "### Operators ###\n"
      ]
    },
    {
      "cell_type": "markdown",
      "metadata": {
        "id": "04FJz1Di-Cjx"
      },
      "source": [
        "## **Binary**\n",
        "Bitwise Operators: Operators take 2 binary numbers. It then performs an operation on each pair of bits. E.g. It takes the first bits from each operand and does something, then the second set of bits and so on.\n",
        "\n",
        "`&` : The equivalent of AND, this operator will AND every bit in the input with the other input starting from left to right and return either a `0` or a `1`. (Eg. `1011 & 0110` -> `0010`)\n",
        "\n",
        "`|` : The equivalent of OR, this operator will OR every bit in the input with the other input starting from left to right and return either a `0` or a `1`. (eg. `1001 | 0011` -> `1011`)\n",
        "\n",
        "`~` : The equivalent of NOT, this operator will invert every bit of the given input. (Eg. `~1011` -> `0100`)\n",
        "\n",
        "`^` : The equivalent of XOR, this operator will XOR every bit of the inputs and return a `0` is there is an even number of `1`'s or a `1` if there is an odd number of `1`'s. (Eg. `1000 ^ 1101` -> `0101`)"
      ]
    },
    {
      "cell_type": "markdown",
      "metadata": {
        "id": "GCup5S0W-Cjy"
      },
      "source": [
        "## Reduction ##\n",
        "Reduction operators convert a string of bits into a single bit. This single bit is the result of performing the operator on every single other bit.\n",
        "Reductions only take one argument.  \n",
        "You can think of it as creating a gate with many inputs.\n",
        "\n",
        "* AND `&`: ANDs every bit (E.g. `&1011`-> `0`, `&1111`-> `1`)\n",
        "* OR `|`: ORs every bit. (E.g. `|1000` -> `1`)\n",
        "* XOR `^`: If the number of 1's is odd, its `1` (E.g. `^1101` -> `1`)\n",
        "* NOT `!`: If the number is `1` or greater it becomes `0`, if it is `0` it becomes `1`. (E.g. `!1011` -> `0`)"
      ]
    },
    {
      "cell_type": "markdown",
      "metadata": {
        "id": "QMR3c13L-Cjy"
      },
      "source": [
        "## Bitwise ##\n",
        "This takes two operands and performs the operation on both. It should be used for just single bit wide signals. If it is given a value greater than `1` (`10` OR `111`), it will treat it as `1`. \n",
        "* AND `&&`: ANDs the two values (e.g. `101&&100`-> `1`)\n",
        "* OR `||`: ORs the two values (e.g. `100||000` -> `1`)\n",
        "* XOR `^^`: XORs the two values"
      ]
    },
    {
      "cell_type": "markdown",
      "metadata": {
        "id": "zvzuf9B--Cjy"
      },
      "source": [
        "**Slice:** \n",
        "Often, you just want a single bit or a section of bits from a signal you may take a slice of it. `SignalName[X:Y]` where X is the starting bit and Y is the ending bit.\n",
        "E.g\n",
        "* A = `4'b0001`, `A[0]` = `1`, `A[1]` = `0`, `A[3:1]` = `000`\n",
        "\n",
        "Beware that indices start at 0 and that it is inclusive."
      ]
    },
    {
      "cell_type": "markdown",
      "metadata": {
        "id": "utnwPv6G-Cjy"
      },
      "source": [
        "\n",
        "**Bit Shift:**\n",
        "\n",
        "The `<<` shifts bits to the left, `>>` to the right. The argument on the left is what you want shifted, the argument on the right is how many bits are too be shifted. The new bits are filled with `0`s.  \n",
        "E.g.   \n",
        "-   `4'b1010<<2` -> `4'b1000`\n",
        "- `4'b1111 >> 3` -> `4'b0001`\n",
        "- `8'b10101010 << 3` -> `8'b01010000`\n",
        "\n",
        "This is the easiest way for computers to multiply or divide by powers of two."
      ]
    },
    {
      "cell_type": "markdown",
      "metadata": {
        "id": "jG0l201c-Cjz"
      },
      "source": [
        "**Concatenate:**  \n",
        "If you want to combine two different signals into one, then you use concatenation `{ }`\n",
        "This combines the two or signals delimited by a `,`.\n",
        "* `{2'b10, 2'b01}` -> `1001`"
      ]
    },
    {
      "cell_type": "markdown",
      "metadata": {
        "id": "FfQRm_EO-Cjz"
      },
      "source": [
        "**Replicate:**  \n",
        "You can designate for certain signals to be duplicated using the `{X{Y}}` X is the number of times and Y is the signal or value.  \n",
        "E.g.  \n",
        "* `{4{1'b1}}` -> `1111` \n",
        "* When a = 2'b10: `{{2{2'b10}}, {2{a[0]}}}` -> `101000`\n",
        "\n",
        "When using both replicate and concatenate in a single statement, make sure that replicate gets its own set of brackets for each time it is used."
      ]
    },
    {
      "cell_type": "markdown",
      "metadata": {
        "id": "H-WUPtbW-Cjz"
      },
      "source": [
        "### Practice Questions"
      ]
    },
    {
      "cell_type": "code",
      "execution_count": null,
      "metadata": {
        "cellView": "form",
        "id": "AjtLa8x8-Cjz"
      },
      "outputs": [],
      "source": [
        "#@markdown Q1\n",
        "print_frq_grid(1)"
      ]
    },
    {
      "cell_type": "code",
      "execution_count": null,
      "metadata": {
        "cellView": "form",
        "id": "0oyfnEJQ-Cj0"
      },
      "outputs": [],
      "source": [
        "#@markdown Q2\n",
        "print_frq_grid(2)"
      ]
    },
    {
      "cell_type": "code",
      "execution_count": null,
      "metadata": {
        "cellView": "form",
        "id": "rUHmsHnj-Cj0"
      },
      "outputs": [],
      "source": [
        "#@markdown Q3\n",
        "print_frq_grid(3)"
      ]
    },
    {
      "cell_type": "code",
      "execution_count": null,
      "metadata": {
        "cellView": "form",
        "id": "0zEzhbeU-Cj0"
      },
      "outputs": [],
      "source": [
        "#@markdown Q4\n",
        "print_frq_grid(4)"
      ]
    },
    {
      "cell_type": "code",
      "execution_count": null,
      "metadata": {
        "cellView": "form",
        "id": "cM9Wpesk-Cj0"
      },
      "outputs": [],
      "source": [
        "#@markdown Q5\n",
        "print_frq_grid(5)"
      ]
    },
    {
      "cell_type": "code",
      "execution_count": null,
      "metadata": {
        "cellView": "form",
        "id": "a41PVxNF-Cj0"
      },
      "outputs": [],
      "source": [
        "#@markdown Q6\n",
        "print_frq_grid(6)"
      ]
    },
    {
      "cell_type": "code",
      "execution_count": null,
      "metadata": {
        "cellView": "form",
        "id": "qhf3AYiR-Cj0"
      },
      "outputs": [],
      "source": [
        "#@markdown Q7\n",
        "print_frq_grid(7)"
      ]
    },
    {
      "cell_type": "code",
      "execution_count": null,
      "metadata": {
        "cellView": "form",
        "id": "VcUOfywL-Cj1"
      },
      "outputs": [],
      "source": [
        "#@markdown Q8\n",
        "print_frq_grid(8)"
      ]
    },
    {
      "cell_type": "code",
      "execution_count": null,
      "metadata": {
        "cellView": "form",
        "id": "I67XWAOV-Cj1"
      },
      "outputs": [],
      "source": [
        "#@markdown Q9\n",
        "print_frq_grid(9)"
      ]
    },
    {
      "cell_type": "code",
      "execution_count": null,
      "metadata": {
        "cellView": "form",
        "id": "97h32kDm-Cj1"
      },
      "outputs": [],
      "source": [
        "#@markdown Q10\n",
        "print_frq_grid(10)"
      ]
    },
    {
      "attachments": {},
      "cell_type": "markdown",
      "metadata": {},
      "source": [
        "#### Multiline Operations\n",
        "\n",
        "**Always_comb blocks:**\n",
        "\n",
        "What if we want to use If Else branches or multiple lines without using Assign over and over? We can use an always_comb block.\n",
        "This turns everything inside into combinational logic.\n",
        "\n",
        "Always_comb blocks are contained in `begin` and `end` keywords. \n",
        "`begin` and `end` keywords are needed when other statements are more than one line long.  \n",
        "\n",
        "```\n",
        "always_comb\n",
        "begin\n",
        "...\n",
        "...\n",
        "end\n",
        "```"
      ]
    },
    {
      "attachments": {},
      "cell_type": "markdown",
      "metadata": {},
      "source": [
        "**If Else Branches:**\n",
        "\n",
        "We can use if else branches inside an always_comb block.   \n",
        "NOTE: If you want to have multiple lines after your `if`, `else if` or `else` statement add `begin` and `end`.\n",
        "\n",
        "These are formed like just like in other programming languages.\n",
        "```\n",
        "if (a == 1) begin\n",
        "...\n",
        "end\n",
        "else if (a == 0) begin\n",
        "...\n",
        "end\n",
        "else begin\n",
        "...\n",
        "end\n",
        "```"
      ]
    },
    {
      "attachments": {},
      "cell_type": "markdown",
      "metadata": {},
      "source": [
        "** Latches **\n",
        "\n",
        "One thing you must be careful about is latches. We won't discuss what a latch here is but we will discuss why its a problem.  \n",
        "If you think about circuit made of gates. In an If/Else block, only one set of statements will be active at a time, the If or the Else.   \n",
        "\n",
        "Now think about what happens if we set a signal in the If to high, but we don't specify what we set it to low.   \n",
        "\n",
        "Nothing will be driving the signal. We don't know what it will be. So, the compiler will infer a latch and  will fail to compile. \n",
        "\n",
        "There are two ways to avoid this, the easy way is to set all signals to a default at the beginning of the `always_comb` block.   \n",
        "\n",
        "Any line giving a signal a after the default will override it. This is the simplest way.  \n",
        " \n",
        "The harder way is to make sure that any signal thats value is set in a branch, is also set in every other branch.   \n",
        "This way is prone to error as it is easy to forget a single signal in a single branch.\n",
        "\n",
        "Example 1:\n",
        "```\n",
        "always_comb begin\n",
        "    a = 1'b0;\n",
        "    b = 1'b0;\n",
        "    c = 1'b0;\n",
        "    if(sw == 2'b01) a=1'b1;\n",
        "    else if(sw == 2'b10) b=1'b1;\n",
        "    else c=1'b1;\n",
        "end\n",
        "```\n",
        "\n",
        "Example 2:\n",
        "```\n",
        "always_comb begin\n",
        "    if(sw == 2'b01)begin\n",
        "        a = 1'b1;\n",
        "        b = 1'b0;\n",
        "        c = 1'b0;\n",
        "    end\n",
        "    else if(sw == 2'b10) begin\n",
        "        a = 1'b0;\n",
        "        b = 1'b1;\n",
        "        c = 1'b0;    \n",
        "    end\n",
        "    else begin \n",
        "        a = 1'b0;\n",
        "        b = 1'b0;\n",
        "        c = 1'b1;    \n",
        "    end\n",
        "end\n",
        "```\n"
      ]
    }
  ],
  "metadata": {
    "colab": {
      "provenance": []
    },
    "kernelspec": {
      "display_name": "Python 3",
      "language": "python",
      "name": "python3"
    },
    "language_info": {
      "name": "python",
      "version": "3.8.10"
    },
    "orig_nbformat": 4,
    "vscode": {
      "interpreter": {
        "hash": "31f2aee4e71d21fbe5cf8b01ff0e069b9275f58929596ceb00d14d90e3e16cd6"
      }
    }
  },
  "nbformat": 4,
  "nbformat_minor": 0
}
