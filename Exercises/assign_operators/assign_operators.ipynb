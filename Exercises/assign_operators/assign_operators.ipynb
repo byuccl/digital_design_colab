{
  "cells": [
    {
      "cell_type": "code",
      "execution_count": null,
      "metadata": {
        "cellView": "form",
        "id": "JsmrK7iG-Cjt"
      },
      "outputs": [],
      "source": [
        "#@markdown ## **Setup**\n",
        "import ipywidgets as widgets\n",
        "from ipywidgets import GridspecLayout\n",
        "from ipywidgets import AppLayout, Button, Layout, jslink, IntText, IntSlider\n",
        "import requests\n",
        "#Creates a text document using the Raw github url. This text document will be used as a .py file for imports\n",
        "def import_text(text):\n",
        "  url = 'https://raw.githubusercontent.com/byuccl/digital_design_colab2/master/Exercises/assign_operators/files/%s' % text\n",
        "  resp = requests.get(url)\n",
        "  with open(text, 'wb') as f:\n",
        "    f.write(resp.content)\n",
        "\n",
        "\n",
        "import_text(\"frq_assign.py\")\n",
        "\n",
        "\n",
        "\n",
        "\n",
        "from frq_assign import *\n"
      ]
    },
    {
      "cell_type": "markdown",
      "metadata": {
        "id": "lAenr7Wg-Cju"
      },
      "source": [
        "### Representing Gate Level Logic\n"
      ]
    },
    {
      "cell_type": "markdown",
      "metadata": {
        "id": "sLD_NkM6-Cjv"
      },
      "source": [
        "##Defining Signals\n",
        "\n",
        "In SystemVerilog you need to set the size of type and size. The most common signal type is `logic`.\n",
        "\n",
        "For example, we need to define an input, with a length of 4 bits. `input logic [3:0] signal_name`\n",
        "\n",
        "Types of Signals:\n",
        "* `input`: This represents a signal coming from an outside source, i.e., a signal from a button or the `output` of a different module. You cannot directly change an `input` inside the module.\n",
        "* `output`: This represents a signal you are sending to an outside source. For example, to send to an LED or a different module. You must assign all `output` signals with a value.\n",
        "* `logic`: All signals you will create in this lab will be of the type `logic`. This is the most standard data type in SystemVerilog. This is not a data type in Verilog.\n",
        "\n",
        "When defining a new signal, there are the following parameters: `[width]'[type][value]`\n",
        "\n",
        "`width` is a numerical value of the number of digits in the signal.\n",
        "\n",
        "`type` is a letter specifying the base as shown below.\n",
        "\n",
        "`value` is the representation of whatever value the signal will hold according to the appropriate base, also shown below.\n",
        "* Binary (Base 2): `b`, width `4`, `4'b10001` = `17`\n",
        "* Decimal (Base 10): `d`, width `2`, `2'd17` or `17` = `17`\n",
        "* Octal (Base 8): `o`, width `2`, `2'o21` = `17`\n",
        "* Hex (Base 16): `h`, width `2`, `2'h11` = `17`\n"
      ]
    },
    {
      "cell_type": "markdown",
      "metadata": {
        "id": "rziRJyC6-Cjw"
      },
      "source": [
        "##RTL\n",
        "\n",
        "SystemVerilog is considered an RTL (Register Transfer Logic) programming language. Unlike most other programming languages, which are compiled into machine code, SystemVerilog is transformed into physical hardware. This means we must code it differently. For the most part, SystemVerilog isn't run line by line, all lines will execute simultaneously.\n",
        "\n",
        "There are 3 types of signals: Inputs, Outputs and everything else.\n",
        "\n",
        "* Inputs: Usually mapped to a physical component going into the module (e.g. Switches)\n",
        "* Outputs: Usually mapped to a physical component leaving the module (e.g. LEDs)\n",
        "* Signals: All of your other variables that connect the inside of the module\n",
        "\n",
        "In this lab, your inputs will be switches, and outputs will be LEDs. "
      ]
    },
    {
      "cell_type": "markdown",
      "metadata": {
        "id": "Tu2djBZi-Cjw"
      },
      "source": [
        "##Assign blocks:\n",
        "\n",
        "The simplest way to assign variables to values is using an `assign` statement.\n",
        "\n",
        "NOTE: Assigning multiple values to the same signal will cause an error because all statements are evaluated at the same time. It's like trying to plug in multiple cords to the same USB slot. It just doesn't work.\n",
        "\n",
        "The key word `assign` is used. The statement afterwards is constantly evaluated.   \n",
        "Example:\n",
        "* `assign a = b & c`;  \n",
        "\n",
        "An Assign block only works with a single line."
      ]
    },
    {
      "cell_type": "markdown",
      "metadata": {
        "id": "LiKlux0T-Cjx"
      },
      "source": [
        "#Binary Operators"
      ]
    },
    {
      "cell_type": "markdown",
      "metadata": {
        "id": "04FJz1Di-Cjx"
      },
      "source": [
        "## Bitwise\n",
        "Bitwise Operators take 2 binary numbers then performs an operation on each pair of bits. It takes the first bits from each operand and does something, then the second set of bits and so on.\n",
        "\n",
        "* `&` : The equivalent of AND. This operator will AND every bit in the input with the other input starting from left to right and return either a `0` or a `1`. Remember, AND will only return `1` if both bits are `1`. (e.g. `1011&0110` -> `0010`)\n",
        "* `|` : The equivalent of OR. This operator will OR every bit in the input with the other input starting from left to right and return either a `0` or a `1`. Remember, OR will return `1` if either or both bits is `1`. (e.g. `1001|0011` -> `1011`)\n",
        "* `~` : The equivalent of NOT. This operator will invert every bit of the given input. (e.g. `~1011` -> `0100`)\n",
        "* `^` : The equivalent of XOR, or exculsive or. This operator will XOR every bit of the inputs and return a `0` if there is an even number of `1`'s or a `1` if there is an odd number of `1`'s. (e.g. `1000^1101` -> `0101`)"
      ]
    },
    {
      "cell_type": "markdown",
      "metadata": {
        "id": "QMR3c13L-Cjy"
      },
      "source": [
        "## Logical\n",
        "This takes two operands and performs the operation on both. It should be used for just single bit wide signals. If it is given a value greater than `1` (`10` or `111`), it will treat it as `1`. \n",
        "* `&&`: ANDs the two values (e.g. `101&&100`-> `1`, `011&&000` -> `0`)\n",
        "* `||`: ORs the two values (e.g. `110||000` -> `1`, `000&&000` -> `0`)\n",
        "* `^^`: XORs the two values (e.g. `101^^010` -> `0`, `01^^00` -> `1`)"
      ]
    },
    {
      "cell_type": "markdown",
      "metadata": {
        "id": "GCup5S0W-Cjy"
      },
      "source": [
        "## Reduction\n",
        "Reduction operators convert a single string of bits into a single bit. This single bit is the result of performing the operator on every other bit in the string.<br>\n",
        "Reductions only take one argument.  \n",
        "You can think of it as creating a gate with many single bit inputs.\n",
        "\n",
        "* `&`: ANDs every bit. (e.g. `&1011`-> `0`, `&1111`-> `1`)\n",
        "* `|`: ORs every bit. (e.g. `|1000` -> `1`)\n",
        "* `^`: XORs the string. Returns `1` if there is an odd number of `1`'s. Otherwise returns `0`. (e.g. `^1101` -> `1`, `^0110` -> `0`)\n",
        "* `!`: NOTs the whole string. If the input is `1` or greater, returns `0`, if it is `0`, returns `1`. (e.g. `!1011` -> `0`, `!0000` -> `1`)"
      ]
    },
    {
      "cell_type": "markdown",
      "metadata": {
        "id": "zvzuf9B--Cjy"
      },
      "source": [
        "##Slice\n",
        "A single bit or a section of bits from an input signal of a larger size is called a slice. `signal_name[X:Y]` where X is the starting bit and Y is the ending bit.  \n",
        "Examples:\n",
        "* `A = 4'b0001`, `A[0]` -> `1`\n",
        "* `A[1]` -> `0`, `A[3:1]` -> `000`\n",
        "\n",
        "Note that indices start on the right side at 0 and that it is inclusive."
      ]
    },
    {
      "cell_type": "markdown",
      "metadata": {
        "id": "utnwPv6G-Cjy"
      },
      "source": [
        "##Bit Shift\n",
        "\n",
        "The `<<` shifts bits to the left, `>>` to the right. The argument on the left is what you want shifted, the argument on the right is how many bits are too be shifted. This function does not change the size of the bit string, so any bits that get cut off are gone forever. In addition, new bits are filled with `0`'s.\n",
        "\n",
        "Examples:\n",
        "- `4'b1010 << 2` -> `4'b1000`\n",
        "- `4'b1111 >> 3` -> `4'b0001`\n",
        "- `8'b10101010 << 3` -> `8'b01010000`\n",
        "\n",
        "This is the easiest way for computers to multiply or divide by powers of two."
      ]
    },
    {
      "cell_type": "markdown",
      "metadata": {
        "id": "jG0l201c-Cjz"
      },
      "source": [
        "##Concatenate\n",
        "If you want to combine two different signals into one, then you use concatenation `{ }`. Signals are separated by a `,`. The length of the new string is the sum of the lengths inside the `{ }`.\n",
        "\n",
        "Example:\n",
        "* `{2'b10, 2'b01}` -> `4'b1001`"
      ]
    },
    {
      "cell_type": "markdown",
      "metadata": {
        "id": "FfQRm_EO-Cjz"
      },
      "source": [
        "##Replicate  \n",
        "You can designate for certain signals to be duplicated using the `{X{Y}}` X is the number of repititions and Y is the signal or value.\n",
        "\n",
        "Examples:  \n",
        "* `{4{1'b1}}` -> `4'b1111` \n",
        "* If `a = 2'b01`, then `{{2{2'b11}}, {2{a}}}` -> `8'b11110101`\n",
        "* If `b = 2'b10`, then `{{2{2'b10}}, {2{b[0]}}}` -> `6'b101000`\n",
        "\n",
        "When using both replicate and concatenate in a single statement, make sure that replicate gets its own set of brackets for each time it is used."
      ]
    },
    {
      "cell_type": "markdown",
      "metadata": {
        "id": "H-WUPtbW-Cjz"
      },
      "source": [
        "# Practice Questions"
      ]
    },
    {
      "cell_type": "code",
      "execution_count": null,
      "metadata": {
        "id": "AjtLa8x8-Cjz"
      },
      "outputs": [],
      "source": [
        "#@markdown Q1\n",
        "print_frq_grid(1)"
      ]
    },
    {
      "cell_type": "code",
      "execution_count": null,
      "metadata": {
        "cellView": "form",
        "id": "0oyfnEJQ-Cj0"
      },
      "outputs": [],
      "source": [
        "#@markdown Q2\n",
        "print_frq_grid(2)"
      ]
    },
    {
      "cell_type": "code",
      "execution_count": null,
      "metadata": {
        "cellView": "form",
        "id": "rUHmsHnj-Cj0"
      },
      "outputs": [],
      "source": [
        "#@markdown Q3\n",
        "print_frq_grid(3)"
      ]
    },
    {
      "cell_type": "code",
      "execution_count": null,
      "metadata": {
        "cellView": "form",
        "id": "0zEzhbeU-Cj0"
      },
      "outputs": [],
      "source": [
        "#@markdown Q4\n",
        "print_frq_grid(4)"
      ]
    },
    {
      "cell_type": "code",
      "execution_count": null,
      "metadata": {
        "cellView": "form",
        "id": "cM9Wpesk-Cj0"
      },
      "outputs": [],
      "source": [
        "#@markdown Q5\n",
        "print_frq_grid(5)"
      ]
    },
    {
      "cell_type": "code",
      "execution_count": null,
      "metadata": {
        "cellView": "form",
        "id": "a41PVxNF-Cj0"
      },
      "outputs": [],
      "source": [
        "#@markdown Q6\n",
        "print_frq_grid(6)"
      ]
    },
    {
      "cell_type": "code",
      "execution_count": null,
      "metadata": {
        "cellView": "form",
        "id": "qhf3AYiR-Cj0"
      },
      "outputs": [],
      "source": [
        "#@markdown Q7\n",
        "print_frq_grid(7)"
      ]
    },
    {
      "cell_type": "code",
      "execution_count": null,
      "metadata": {
        "cellView": "form",
        "id": "VcUOfywL-Cj1"
      },
      "outputs": [],
      "source": [
        "#@markdown Q8\n",
        "print_frq_grid(8)"
      ]
    },
    {
      "cell_type": "code",
      "execution_count": null,
      "metadata": {
        "cellView": "form",
        "id": "I67XWAOV-Cj1"
      },
      "outputs": [],
      "source": [
        "#@markdown Q9\n",
        "print_frq_grid(9)"
      ]
    },
    {
      "cell_type": "code",
      "execution_count": null,
      "metadata": {
        "cellView": "form",
        "id": "97h32kDm-Cj1"
      },
      "outputs": [],
      "source": [
        "#@markdown Q10\n",
        "print_frq_grid(10)"
      ]
    },
    {
      "cell_type": "markdown",
      "source": [
        "# Multiline Operations"
      ],
      "metadata": {
        "id": "Mrj3JhX9v9Uv"
      }
    },
    {
      "cell_type": "markdown",
      "metadata": {
        "id": "IpMjYRvlscgO"
      },
      "source": [
        "## Always Comb Blocks:\n",
        "\n",
        "What if we want to use If Else branches or multiple lines without using Assign over and over? We can use an `always_comb` block. This turns everything inside into combinational logic.\n",
        "\n",
        "Always_comb blocks are contained in `begin` and `end` keywords. \n",
        "The keywords `begin` and `end` are also needed when other statements are more than one line long.  \n",
        "\n",
        "```\n",
        "always_comb begin\n",
        "  ...\n",
        "  ...\n",
        "end\n",
        "```"
      ]
    },
    {
      "cell_type": "markdown",
      "metadata": {
        "id": "IrkyWtIdscgP"
      },
      "source": [
        "## If/Else Branches:\n",
        "\n",
        "We can use if else branches inside an always_comb block.\n",
        "\n",
        "NOTE: If you want to have multiple lines after your `if`, `else if` or `else` statement, add `begin` and `end`.\n",
        "\n",
        "These are formed like just like in other programming languages.\n",
        "```\n",
        "if (a == 1) begin\n",
        "  ...\n",
        "end\n",
        "else if (a == 0) begin\n",
        "  ...\n",
        "end\n",
        "else begin\n",
        "  ...\n",
        "end\n",
        "```"
      ]
    },
    {
      "cell_type": "markdown",
      "metadata": {
        "id": "yztk9t0gscgP"
      },
      "source": [
        "## Latches\n",
        "\n",
        "One thing you must be careful about is latches. We won't discuss what a latch is here but we will discuss why they are a problem. Think about a circuit made of gates. In an If/Else block, only one set of statements will be active at a time, the `if` or the `else`, never both.\n",
        "\n",
        "Suppose we have a two bit switch called `sw`. When only the right bit is high, we want the signal `a` to be high. When only the left bit is high, we want `b` to be high. Otherwise, we want `c` to be set to high. You might think an easy solution would be:\n",
        "```\n",
        "always_comb begin\n",
        "    if(sw == 2'b01) a=1'b1;\n",
        "    else if(sw == 2'b10) b=1'b1;\n",
        "    else c=1'b1;\n",
        "end\n",
        "```\n",
        "### BUT YOU WOULD BE WRONG.\n",
        "\n",
        "The above will actually result in a latch, which is bad. We don't know what would happen to any of the other signals from just one branch. Remember, SystemVerilog is supposed to represent a physical circuit. All possible signals are going to be connected one way or the other. The signals `a`, `b`, and `c` are connected to the rest of the circuit even if one doesn't really get used. \n",
        "\n",
        "In the first case, when only the right bit is high, the circuit won't know what to do with both `b` and `c` and so the compiler will infer a latch and fail to compile. There are two easy ways to avoid this:\n",
        "* The easiest way is to default all signals to low at the beginning of the `always_comb` block. Any line giving a signal after the default will override it. This method has the least amount of code.\n",
        "```\n",
        "always_comb begin\n",
        "    a = 1'b0;\n",
        "    b = 1'b0;\n",
        "    c = 1'b0;\n",
        "    if(sw == 2'b01) a = 1'b1;\n",
        "    else if(sw == 2'b10) b = 1'b1;\n",
        "    else c = 1'b1;\n",
        "end\n",
        "```\n",
        "* The other way is to make sure that every signal is set to something in every branch. This method is prone to error as it is easy to forget a single signal in a single branch.\n",
        "```\n",
        "always_comb begin\n",
        "    if(sw == 2'b01)begin\n",
        "        a = 1'b1;\n",
        "        b = 1'b0;\n",
        "        c = 1'b0;\n",
        "    end\n",
        "    else if(sw == 2'b10) begin\n",
        "        a = 1'b0;\n",
        "        b = 1'b1;\n",
        "        c = 1'b0;    \n",
        "    end\n",
        "    else begin \n",
        "        a = 1'b0;\n",
        "        b = 1'b0;\n",
        "        c = 1'b1;    \n",
        "    end\n",
        "end\n",
        "```"
      ]
    }
  ],
  "metadata": {
    "colab": {
      "provenance": []
    },
    "kernelspec": {
      "display_name": "Python 3",
      "language": "python",
      "name": "python3"
    },
    "language_info": {
      "name": "python",
      "version": "3.8.10"
    },
    "orig_nbformat": 4,
    "vscode": {
      "interpreter": {
        "hash": "31f2aee4e71d21fbe5cf8b01ff0e069b9275f58929596ceb00d14d90e3e16cd6"
      }
    }
  },
  "nbformat": 4,
  "nbformat_minor": 0
}