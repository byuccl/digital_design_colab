{
  "cells": [
    {
      "cell_type": "markdown",
      "metadata": {
        "id": "z2TXhJuUF0CW"
      },
      "source": [
        "## **Setup**\n",
        "Click the Play Button. No need to expand. Do not touch this. \n",
        "<details><summary>Packages to be downloaded</summary>\n",
        "Things it needs to install:  <br>\n",
        "\n",
        " *    Verilator- the simulator  <br>\n",
        " *    PyGithub - Helps with simulation    <br>\n",
        " *    VCD - Generates waveforms from `.vcd` files  <br>\n",
        " *    Widgets - Each widget must first be generated then will be loaded when played\n",
        "</details>"
      ]
    },
    {
      "cell_type": "code",
      "execution_count": null,
      "metadata": {
        "cellView": "form",
        "id": "AAQYti20F-u_"
      },
      "outputs": [],
      "source": [
        "#@title Install VCD\n",
        "!git clone https://github.com/yne/vcd.git\n",
        "!make -C /content/vcd\n",
        "%cd /content/vcd\n",
        "!make install\n",
        "%cd /"
      ]
    },
    {
      "cell_type": "code",
      "execution_count": 2,
      "metadata": {
        "cellView": "form",
        "id": "Oqk7oLdHMm_R"
      },
      "outputs": [],
      "source": [
        "#@title Import Files from Repo\n",
        "import ipywidgets as widgets\n",
        "from ipywidgets import GridspecLayout\n",
        "from ipywidgets import AppLayout, Button, Layout, jslink, IntText, IntSlider\n",
        "import requests\n",
        "\n",
        "!mkdir -p /content/tmp_code\n",
        "#Creates a text document using the Raw github url. This text document will be used as a .py file for imports\n",
        "def import_text(text):\n",
        "  url = \"https://raw.githubusercontent.com/byuccl/digital_design_colab/master/Labs/stopwatch_lab/files/%s\" % text\n",
        "  resp = requests.get(url)\n",
        "  with open(text, 'wb') as f:\n",
        "    f.write(resp.content)\n",
        "\n",
        "import_text(\"import_all.py\")\n",
        "from import_all import *\n",
        "import_source()\n",
        "import_packages()\n",
        "from simulation import *\n",
        "from vcd2wd import *"
      ]
    },
    {
      "cell_type": "code",
      "execution_count": 3,
      "metadata": {
        "cellView": "form",
        "id": "TBXE9hMnN6uj"
      },
      "outputs": [],
      "source": [
        "#@title Install Verilator\n",
        "!apt-get install verilator >/dev/null"
      ]
    },
    {
      "cell_type": "code",
      "execution_count": null,
      "metadata": {
        "cellView": "form",
        "id": "NLN6p4TTZI5v"
      },
      "outputs": [],
      "source": [
        "#@title Install Wavedrom Extension\n",
        "!pip install --upgrade git+https://github.com/anon36424/nb_js_diagrammers.git\n",
        "%load_ext nb_js_diagrammers"
      ]
    },
    {
      "cell_type": "markdown",
      "metadata": {
        "id": "jAVVCY9_utFo"
      },
      "source": [
        "\n",
        "# Stopwatch"
      ]
    },
    {
      "cell_type": "markdown",
      "metadata": {
        "id": "MMdexx0J9gfC"
      },
      "source": [
        "###Frequency Vs Period\n",
        "\n",
        "Frequency is the number of times something occurs in a given time frame, while period is the amount of time it takes for something to occur. They are inverses of one another. $Period = \\frac{1}{Frequency}$ and $Frequency = \\frac{1}{Period}$. \n",
        "\n",
        "This is important when dealing with Clocks in circuits.\n",
        "\n",
        "Example:  \n",
        "You are running around a pillar while \n",
        "playing tag. \n",
        "\n",
        "You run around it 3 times every minute. That is your frequency.  \n",
        "\n",
        "The period would be $\\frac{1}{Frequency}$, so every 1/3 of a minute or 20 seconds you would complete a circle. This is the period.\n",
        "\n",
        "\n",
        "So why does Frequency and Period matter?    \n",
        "\n",
        "Timing is very important because of the FPGAs built in clock. The clock keeps all elements in the circuit working together and prevents conflicts.    \n",
        "\n",
        "In this lab, inorder to create a stopwatch, you will need to know how many clock cycles occur in a given time frame, then after counting that many, increment the stopwatch."
      ]
    },
    {
      "cell_type": "markdown",
      "metadata": {
        "id": "Mj6UYRUWxXDC"
      },
      "source": [
        "### The Counter Module"
      ]
    },
    {
      "cell_type": "markdown",
      "metadata": {
        "id": "u1AI5_rwLFQs"
      },
      "source": [
        "<img src=\"https://raw.githubusercontent.com/byuccl/digital_design_colab/master/Labs/stopwatch_lab/media/mod_counter.png\"\n",
        "width=\"400\" height=\"150\" style=\"display: block; margin: 0 auto \" />\n",
        "<br>\n",
        "\n",
        "| Module Name: | mod_counter|||\n",
        "| -- --------- | ----------- |--|--|\n",
        "| Port Name      | Direction       |Width|Function|\n",
        "|reset \t|Input \t|1| Active high reset|\n",
        "|clk \t|Input \t|1| Clock used for timing|\n",
        "|increment \t|Input \t|1 | should only increment when enable if its high|\n",
        "| MOD_VALUE|\tParameter| \tN/A| Value at which counter should reset, default of 10 \t|\n",
        "| rollover\t|Output \t|1| \tHigh for one cycle when counter rolls over|\n",
        "|count| \tOutput \t|4| \tCurrent value of the counter|\n",
        "\n",
        "\n",
        "<br>\n",
        "\n",
        "When increment is high, the counter should begin increasing. When it reaches the MOD_VALUE, it should reset to zero and rollover should be high for that clock cycle. \n",
        "\n"
      ]
    },
    {
      "cell_type": "code",
      "execution_count": null,
      "metadata": {
        "cellView": "form",
        "id": "ZAYksz5ipeit"
      },
      "outputs": [],
      "source": [
        "#@title Launch Simulation Workspace\n",
        "createSimulationWorkSpace(\"tmp_code/mod_counter\")\n"
      ]
    },
    {
      "cell_type": "markdown",
      "metadata": {
        "id": "Y382G0GtxdBR"
      },
      "source": [
        "### The Stopwatch Module\n",
        "\n"
      ]
    },
    {
      "cell_type": "markdown",
      "metadata": {
        "id": "h8_j0wA4RH4X"
      },
      "source": [
        "<img src=\"https://raw.githubusercontent.com/byuccl/digital_design_colab/master/Labs/stopwatch_lab/media/stopwatch_module.jpg\"\n",
        "width=\"500\" style=\"display: block; margin: 0 auto \" />\n",
        "<br><br>\n",
        "\n",
        "| Module Name: | stopwatch |||\n",
        "| -- --------- | ----------- |--|--|\n",
        "| Port Name      | Direction       |Width|Function|\n",
        "|clk \t|Input \t|1| The Clock Signal|\n",
        "|reset \t|Input \t|1| Active high reset|  \n",
        "|run \t|Input \t|1 | High when timer should be running|\n",
        "| digit0\t|Output \t|4| The value of the hundredths of a second digit|\n",
        "| digit1\t|Output \t|4| The value of the tenths of a second digit|\n",
        "| digit2\t|Output \t|4| The value of the seconds digit|\n",
        "| digit3\t|Output \t|4| The value of the tens of seconds digit|\n",
        "\n",
        "<br>\n",
        "\n",
        "\n",
        "You will  have to create a separate counter. This one will reset and give a rollover value every .01s. This cannot be an instantiation of `mod_counter` because its `count` value will be wider than 4 bits. This `rollover` will be fed into `digit0` as the `increment`.\n",
        "\n",
        "\n",
        "You will also have to instantiate 4 different instances of `mod_counter`, `digit0` through `digit3`.\n",
        "\n",
        "When `digit0` reaches 9 it should increment `digit1` and go back to `0`. So on for all 4 digits. `digit3` should rollver at `5` (60 seconds in a minute after all)"
      ]
    },
    {
      "cell_type": "code",
      "execution_count": null,
      "metadata": {
        "cellView": "form",
        "id": "zb6lJ8Q6vewy"
      },
      "outputs": [],
      "source": [
        "#@title Launch Simulation Workspace\n",
        "createSimulationWorkSpace(\"tmp_code/stopwatch\")"
      ]
    },
    {
      "cell_type": "markdown",
      "metadata": {
        "id": "UUCB26A_vQTz"
      },
      "source": [
        "\n",
        "## Creating a Top Module"
      ]
    },
    {
      "cell_type": "markdown",
      "metadata": {
        "id": "BM2qnET1Tqh5"
      },
      "source": [
        "# Top Level Module\n",
        "| Module Name: | stopwatch_top|||\n",
        "| -- --------- | ----------- |--|--|\n",
        "| Port Name      | Direction       |Width|Function|\n",
        "|clk \t|Input \t|1| The Clock Signal |\n",
        "| btnc \t|Input \t|1 | Active High Reset|\n",
        "| sw\t|Input \t|1| High when stopwatch should be running |\n",
        "| anode\t|Output \t|4| Seven-segment anode values, from Seven-Segment Controller|\n",
        "| segment\t|Output \t|8| Seven-segment segment values,  from Seven-Segment Controller|  \n",
        "\n",
        "The `clk` signal is defined in the XDC.  \n",
        "\n",
        "When `btnc` is pressed, the stopwatch should go to `0` for all digits.\n",
        "\n",
        "While the switch is high, the stopwatch should begin to increment. You should time it with a different stopwatch to make sure that your stopwatch is keeping accurate time.  \n",
        "\n",
        "You can concatenate the 4 digits together to create the `datain` signal for `SevenSegmentControl`.\n",
        "\n"
      ]
    },
    {
      "cell_type": "markdown",
      "metadata": {
        "id": "uP0wuOwu82R6"
      },
      "source": [
        "NOTE: We are giving you the Seven Segement Control Module. This allows you to show 4 unique digits by quickly alternativing between the 4 different valuse faster than your eyes can see.   \n",
        "\n",
        "* `dataIn`: 16 bits, each 4 bits are a hex value which is shown as a digit.  \n",
        "* `digitDisplay`: 4 bits, if you want all 4 digits, pass `1111` into it.  \n",
        "* `digitPoint`: This determines which digit point is on.   \n",
        "* `anode`: Hook this up to the output `anode` signal \n",
        "* `segment`: Hook up to the output `segment` signal \n",
        "* `reset`, and `clk`: Self-explanatory inputs"
      ]
    },
    {
      "cell_type": "code",
      "execution_count": null,
      "metadata": {
        "cellView": "form",
        "id": "N2eL6OBHveTY"
      },
      "outputs": [],
      "source": [
        "#@title Launch Simulation Workspace\n",
        "createSimulationWorkSpace(\"tmp_code/stopwatch_top\")"
      ]
    },
    {
      "cell_type": "markdown",
      "metadata": {
        "id": "_toaZpwTui3E"
      },
      "source": [
        "\n",
        "## Compiling with the F4PGA Toolchain\n"
      ]
    },
    {
      "cell_type": "markdown",
      "metadata": {
        "id": "IQd2K_jAwbFS"
      },
      "source": [
        "### Installing the Toolchain"
      ]
    },
    {
      "cell_type": "code",
      "execution_count": null,
      "metadata": {
        "id": "ZQFNmbQquBYV"
      },
      "outputs": [],
      "source": [
        "!apt install -y git wget xz-utils"
      ]
    },
    {
      "cell_type": "code",
      "execution_count": null,
      "metadata": {
        "id": "rF1gehMvuC1L"
      },
      "outputs": [],
      "source": [
        "%%bash\n",
        "cd /content\n",
        "git clone https://github.com/chipsalliance/f4pga-examples\n",
        "cd f4pga-examples\n",
        "wget https://repo.continuum.io/miniconda/Miniconda3-latest-Linux-x86_64.sh -O conda_installer.sh\n"
      ]
    },
    {
      "cell_type": "code",
      "execution_count": null,
      "metadata": {
        "id": "4RV_Okw2uJYm"
      },
      "outputs": [],
      "source": [
        "%%bash\n",
        "cd /content/f4pga-examples\n",
        "export F4PGA_INSTALL_DIR=~/opt/f4pga\n",
        "export FPGA_FAM=xc7\n",
        "bash conda_installer.sh -u -b -p $F4PGA_INSTALL_DIR/$FPGA_FAM/conda;\n",
        "source \"$F4PGA_INSTALL_DIR/$FPGA_FAM/conda/etc/profile.d/conda.sh\";\n",
        "conda env create -f $FPGA_FAM/environment.yml"
      ]
    },
    {
      "cell_type": "code",
      "execution_count": null,
      "metadata": {
        "id": "FBqTs5CsuLb6"
      },
      "outputs": [],
      "source": [
        "#Download F4PGA Arch Defs\n",
        "%%bash\n",
        "export F4PGA_INSTALL_DIR=~/opt/f4pga\n",
        "export FPGA_FAM=xc7\n",
        "source \"$F4PGA_INSTALL_DIR/$FPGA_FAM/conda/etc/profile.d/conda.sh\";\n",
        "conda activate xc7\n",
        "mkdir -p $F4PGA_INSTALL_DIR/xc7/install\n",
        "\n",
        "F4PGA_TIMESTAMP='20220907-210059'\n",
        "F4PGA_HASH='66a976d'\n",
        "export F4PGA_PACKAGES='install-xc7 xc7a50t_test'\n",
        "\n",
        "for PKG in $F4PGA_PACKAGES; do\n",
        "  wget -qO- https://storage.googleapis.com/symbiflow-arch-defs/artifacts/prod/foss-fpga-tools/symbiflow-arch-defs/continuous/install/${F4PGA_TIMESTAMP}/symbiflow-arch-defs-${PKG}-${F4PGA_HASH}.tar.xz | tar -xJC $F4PGA_INSTALL_DIR/${FPGA_FAM}\n",
        "done"
      ]
    },
    {
      "cell_type": "code",
      "execution_count": null,
      "metadata": {
        "id": "XbY-EqRLPKrP"
      },
      "outputs": [],
      "source": [
        "#@title Generate an XDC File\n",
        "%%bash -c 'cat > /content/tmp_code/xdc.xdc'\n",
        "###################################################################\n",
        "###################################################################\n",
        "set_property -dict { PACKAGE_PIN W5   IOSTANDARD LVCMOS33 } [get_ports clk]\n",
        "create_clock -add -name sys_clk_pin -period 10.00 -waveform {0 5} [get_ports clk]\n",
        "\n",
        "## Buttons\n",
        "\n",
        "set_property -dict { PACKAGE_PIN U18   IOSTANDARD LVCMOS33 } [get_ports { btnc }];\n",
        "# set_property -dict { PACKAGE_PIN T18   IOSTANDARD LVCMOS33 } [get_ports { btnu }];\n",
        "# set_property -dict { PACKAGE_PIN W19   IOSTANDARD LVCMOS33 } [get_ports { btnl }];\n",
        "# set_property -dict { PACKAGE_PIN T17   IOSTANDARD LVCMOS33 } [get_ports { btnr }];\n",
        "# set_property -dict { PACKAGE_PIN U17   IOSTANDARD LVCMOS33 } [get_ports { btnd }];\n",
        "\n",
        "## Switches\n",
        "set_property -dict { PACKAGE_PIN V17   IOSTANDARD LVCMOS33 } [get_ports { sw }];\n",
        "# set_property -dict { PACKAGE_PIN V16   IOSTANDARD LVCMOS33 } [get_ports { sw[1] }];\n",
        "# set_property -dict { PACKAGE_PIN W16   IOSTANDARD LVCMOS33 } [get_ports { sw[2] }];\n",
        "# set_property -dict { PACKAGE_PIN W17   IOSTANDARD LVCMOS33 } [get_ports { sw[3] }];\n",
        "# set_property -dict { PACKAGE_PIN W15   IOSTANDARD LVCMOS33 } [get_ports { sw[4] }];\n",
        "# set_property -dict { PACKAGE_PIN V15   IOSTANDARD LVCMOS33 } [get_ports { sw[5] }];\n",
        "# set_property -dict { PACKAGE_PIN W14   IOSTANDARD LVCMOS33 } [get_ports { sw[6] }];\n",
        "# set_property -dict { PACKAGE_PIN W13   IOSTANDARD LVCMOS33 } [get_ports { sw[7] }];\n",
        "# set_property -dict { PACKAGE_PIN V2    IOSTANDARD LVCMOS33 } [get_ports { sw[8] }];\n",
        "# set_property -dict { PACKAGE_PIN T3    IOSTANDARD LVCMOS33 } [get_ports { sw[9] }];\n",
        "# set_property -dict { PACKAGE_PIN T2    IOSTANDARD LVCMOS33 } [get_ports { sw[10] }];\n",
        "# set_property -dict { PACKAGE_PIN R3    IOSTANDARD LVCMOS33 } [get_ports { sw[11] }];\n",
        "# set_property -dict { PACKAGE_PIN W2    IOSTANDARD LVCMOS33 } [get_ports { sw[12] }];\n",
        "# set_property -dict { PACKAGE_PIN U1    IOSTANDARD LVCMOS33 } [get_ports { sw[13] }];\n",
        "# set_property -dict { PACKAGE_PIN T1    IOSTANDARD LVCMOS33 } [get_ports { sw[14] }];\n",
        "# set_property -dict { PACKAGE_PIN R2    IOSTANDARD LVCMOS33 } [get_ports { sw[15] }];\n",
        "##7 Segment Display\n",
        "set_property -dict { PACKAGE_PIN W7   IOSTANDARD LVCMOS33 } [get_ports {segment[0]}]\n",
        "set_property -dict { PACKAGE_PIN W6   IOSTANDARD LVCMOS33 } [get_ports {segment[1]}]\n",
        "set_property -dict { PACKAGE_PIN U8   IOSTANDARD LVCMOS33 } [get_ports {segment[2]}]\n",
        "set_property -dict { PACKAGE_PIN V8   IOSTANDARD LVCMOS33 } [get_ports {segment[3]}]\n",
        "set_property -dict { PACKAGE_PIN U5   IOSTANDARD LVCMOS33 } [get_ports {segment[4]}]\n",
        "set_property -dict { PACKAGE_PIN V5   IOSTANDARD LVCMOS33 } [get_ports {segment[5]}]\n",
        "set_property -dict { PACKAGE_PIN U7   IOSTANDARD LVCMOS33 } [get_ports {segment[6]}]\n",
        "\n",
        "#Anodes \n",
        "\n",
        "set_property -dict { PACKAGE_PIN U2   IOSTANDARD LVCMOS33 } [get_ports {anode[0]}]\n",
        "set_property -dict { PACKAGE_PIN U4   IOSTANDARD LVCMOS33 } [get_ports {anode[1]}]\n",
        "set_property -dict { PACKAGE_PIN V4   IOSTANDARD LVCMOS33 } [get_ports {anode[2]}]\n",
        "set_property -dict { PACKAGE_PIN W4   IOSTANDARD LVCMOS33 } [get_ports {anode[3]}]\n",
        "##"
      ]
    },
    {
      "cell_type": "markdown",
      "metadata": {
        "id": "EzO5bK_Awg2q"
      },
      "source": [
        "### Compiling with the Toolchain"
      ]
    },
    {
      "cell_type": "code",
      "execution_count": null,
      "metadata": {
        "id": "ZnnVzP55uSCL"
      },
      "outputs": [],
      "source": [
        "#This creates the Makefile\n",
        "with open(\"/content/tmp_code/Makefile\", \"w\") as f:\n",
        "  f.write(\"\"\"current_dir := ${CURDIR}\n",
        "TARGET := basys3\n",
        "\n",
        "TOP := stopwatch_top\n",
        "\n",
        "XDC := ${current_dir}/*.xdc\n",
        "\n",
        "SOURCES := $(wildcard ${current_dir}/*.v ${current_dir}/*.sv)\n",
        "\n",
        "include /content/f4pga-examples/common/common.mk\n",
        "\"\"\")"
      ]
    },
    {
      "cell_type": "code",
      "execution_count": null,
      "metadata": {
        "id": "RmnDxe2MuPcG"
      },
      "outputs": [],
      "source": [
        "#Make the project\n",
        "%%bash\n",
        "export F4PGA_INSTALL_DIR=~/opt/f4pga\n",
        "export FPGA_FAM=xc7\n",
        "export TARGET=basys3\n",
        "source \"$F4PGA_INSTALL_DIR/$FPGA_FAM/conda/etc/profile.d/conda.sh\";\n",
        "conda activate xc7\n",
        "mkdir -p /content/Stopwatch\n",
        "cd /content/tmp_code\n",
        "cp *.sv /content/Stopwatch/\n",
        "cp Makefile /content/Stopwatch\n",
        "cp *.xdc /content/Stopwatch\n",
        "cd /content/Stopwatch\n",
        "time python3 errorFeedback.py 2> ./error.log 1>./compile.log\n",
        "cp ./build/basys3/*.bit ./stopwatch_top.bit"
      ]
    },
    {
      "cell_type": "markdown",
      "metadata": {
        "id": "jkKm3WaizMYC"
      },
      "source": [
        "## Testing it on the board"
      ]
    },
    {
      "cell_type": "markdown",
      "metadata": {
        "id": "l8q3n6CAd5Br"
      },
      "source": [
        "You can use this configuration file and the program openOCD to download the bitstream to your board. You will need to download this file and the bitstream to your local machine."
      ]
    },
    {
      "cell_type": "code",
      "execution_count": null,
      "metadata": {
        "cellView": "form",
        "id": "1XrEe8VTuUdg"
      },
      "outputs": [],
      "source": [
        "#@title Create File for openocd\n",
        "with open(\"/content/stopwatch_top.cfg\", \"w\") as f:\n",
        "  f.write(\"\"\"interface ftdi\n",
        "ftdi_device_desc \"Digilent USB Device\"\n",
        "ftdi_vid_pid 0x0403 0x6010\n",
        "# channel 1 does not have any functionality\n",
        "ftdi_channel 0\n",
        "# just TCK TDI TDO TMS, no reset\n",
        "ftdi_layout_init 0x0088 0x008b\n",
        "reset_config none\n",
        "adapter_khz 10000\n",
        "\n",
        "source [find cpld/xilinx-xc7.cfg]\n",
        "source [find cpld/jtagspi.cfg]\n",
        "init\n",
        "\n",
        "puts [irscan xc7.tap 0x09]\n",
        "\n",
        "set xc7a35t \"0362D093\"\n",
        "set xc7a100t \"13631093\"\n",
        "set code [drscan xc7.tap 32 0]  \n",
        "puts $code\n",
        "\n",
        "if { $code == $xc7a35t} {\n",
        "    puts \"The board has an xc7a35t\"\n",
        "}\n",
        "\n",
        "if { $code == $xc7a100t} {\n",
        "    puts \"The board has an xc7a100t\"\n",
        "}\n",
        "\n",
        "puts \"Programming...\"\n",
        "pld load 0 stopwatch_top.bit\n",
        "exit\"\"\"\n",
        ")"
      ]
    },
    {
      "cell_type": "code",
      "execution_count": null,
      "metadata": {
        "cellView": "form",
        "id": "nvYE0S0zd5g-"
      },
      "outputs": [],
      "source": [
        "#@title Create Zip\n",
        "%%bash\n",
        "cd /content\n",
        "mv Stopwatch/build/basys3/*.bit ./\n",
        "zip stopwatch.zip *.bit *.cfg"
      ]
    },
    {
      "attachments": {},
      "cell_type": "markdown",
      "metadata": {},
      "source": [
        "Click [Here](https://colab.research.google.com/github/byuccl/digital_design_colab2/blob/master/Labs/state_machine_lab/state_machine_lab.ipynb) to move on to the State Machines Lab."
      ]
    }
  ],
  "metadata": {
    "colab": {
      "collapsed_sections": [
        "z2TXhJuUF0CW",
        "IQd2K_jAwbFS",
        "EzO5bK_Awg2q"
      ],
      "provenance": []
    },
    "kernelspec": {
      "display_name": "Python 3.10.6 64-bit",
      "language": "python",
      "name": "python3"
    },
    "language_info": {
      "name": "python",
      "version": "3.10.6"
    },
    "vscode": {
      "interpreter": {
        "hash": "916dbcbb3f70747c44a77c7bcd40155683ae19c65e1c03b4aa3499c5328201f1"
      }
    }
  },
  "nbformat": 4,
  "nbformat_minor": 0
}
