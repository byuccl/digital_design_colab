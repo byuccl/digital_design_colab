{
  "cells": [
    {
      "attachments": {},
      "cell_type": "markdown",
      "metadata": {
        "id": "z2TXhJuUF0CW"
      },
      "source": [
        "## **Setup**\n",
        "Click the Play Button. No need to expand. Do not touch this. \n",
        "<details><summary>Packages to be downloaded</summary>\n",
        "Things it needs to install:  <br>\n",
        "\n",
        " *    Verilator- the simulator  <br>\n",
        " *    PyGithub - Helps with simulation    <br>\n",
        " *    VCD - Generates waveforms from `.vcd` files  <br>\n",
        " *    Widgets - Each widget must first be generated then will be loaded when played\n",
        "</details>"
      ]
    },
    {
      "cell_type": "code",
      "execution_count": null,
      "metadata": {
        "cellView": "form",
        "id": "AAQYti20F-u_"
      },
      "outputs": [],
      "source": [
        "#@title Install VCD\n",
        "!git clone https://github.com/yne/vcd.git\n",
        "!make -C /content/vcd\n",
        "%cd /content/vcd\n",
        "!make install\n",
        "%cd /\n"
      ]
    },
    {
      "cell_type": "code",
      "execution_count": 2,
      "metadata": {
        "cellView": "form",
        "id": "hu21sdtzCrDQ"
      },
      "outputs": [],
      "source": [
        "#@title Import Files from Repo\n",
        "import ipywidgets as widgets\n",
        "from ipywidgets import GridspecLayout\n",
        "from ipywidgets import AppLayout, Button, Layout, jslink, IntText, IntSlider\n",
        "import requests\n",
        "\n",
        "!mkdir -p /content/tmp_code\n",
        "#Creates a text document using the Raw github url. This text document will be used as a .py file for imports\n",
        "def import_text(text):\n",
        "  url = \"https://raw.githubusercontent.com/byuccl/digital_design_colab/master/Labs/arithmetic_lab/files/%s\" % text\n",
        "  resp = requests.get(url)\n",
        "  with open(text, 'wb') as f:\n",
        "    f.write(resp.content)\n",
        "\n",
        "import_text(\"import_all.py\")\n",
        "from import_all import *\n",
        "import_source()\n",
        "import_packages()\n",
        "from simulation import *\n",
        "from vcd2df import *"
      ]
    },
    {
      "cell_type": "code",
      "execution_count": 3,
      "metadata": {
        "cellView": "form",
        "id": "5IwhqnCQCq8u"
      },
      "outputs": [],
      "source": [
        "#@title Install Verilator\n",
        "!apt-get install verilator >/dev/null"
      ]
    },
    {
      "cell_type": "code",
      "execution_count": null,
      "metadata": {
        "cellView": "form",
        "id": "M3fVAoO3Cquc"
      },
      "outputs": [],
      "source": [
        "#@title Install Wavedrom Extension\n",
        "!pip install --upgrade git+https://github.com/anon36424/nb_js_diagrammers.git\n",
        "%load_ext nb_js_diagrammers"
      ]
    },
    {
      "attachments": {},
      "cell_type": "markdown",
      "metadata": {
        "id": "M-9JZWfGGgyx"
      },
      "source": [
        "## The Lab"
      ]
    },
    {
      "attachments": {},
      "cell_type": "markdown",
      "metadata": {
        "id": "bMD_Mc1xc55O"
      },
      "source": [
        "### Full Adder"
      ]
    },
    {
      "attachments": {},
      "cell_type": "markdown",
      "metadata": {
        "id": "qu4X6uLTc7cB"
      },
      "source": [
        "The first building block of your Circuit will be the full adder.  \n",
        "\n",
        "![picture](https://raw.githubusercontent.com/byuccl/digital_design_colab/master/Labs/arithmetic_lab/media/adder.png)\n",
        "\n",
        "| Module Name: |Full_Add|||\n",
        "| ----------- | ----------- |--|--|\n",
        "| Port Name      | Direction       |Width|Function|\n",
        "|a \t|Input \t|1| \t‘a’ operand input|\n",
        "|b \t|Input \t|1 |\t‘b’ operand input|\n",
        "|cin |\tInput| \t1| \tCarry in|\n",
        "|s \t|Output \t|1| \tSum output|\n",
        "|co| \tOutput \t|1| \tCarry out output|\n",
        "\n",
        "It will add together `a` and `b` and a carry over from another module. (If it is the first bit the `Cin` will be `0`)   \n",
        "It will then give `s` is the sum of the inputs. If there is a carry out, `co` should be `1`.\n"
      ]
    },
    {
      "cell_type": "code",
      "execution_count": null,
      "metadata": {
        "cellView": "form",
        "id": "QnQAj8ZnXCn4"
      },
      "outputs": [],
      "source": [
        "#@title Launch Simulation Workspace \n",
        "createSimulationWorkSpace(\"tmp_code/full_add\")\n"
      ]
    },
    {
      "cell_type": "code",
      "execution_count": null,
      "metadata": {
        "cellView": "form",
        "id": "N_hIGoVtFFlK"
      },
      "outputs": [],
      "source": [
        "#@title Verilator TestBench\n",
        "# !verilator --cc full_add \n",
        "!verilator -Wall --trace -cc full_add.sv --exe tb_full_add.cpp\n",
        "!make -C obj_dir -f Vfull_add.mk Vfull_add > /dev/null\n",
        "!./obj_dir/Vfull_add"
      ]
    },
    {
      "cell_type": "code",
      "execution_count": 7,
      "metadata": {
        "cellView": "form",
        "id": "4g-ANoIRJJ6X"
      },
      "outputs": [],
      "source": [
        "#@title Create WaveDrom\n",
        "df2wd(\"full_add\")"
      ]
    },
    {
      "cell_type": "code",
      "execution_count": null,
      "metadata": {
        "cellView": "form",
        "id": "ysUu_xFOe9nn"
      },
      "outputs": [],
      "source": [
        "#@title Show WaveDrom\n",
        "%%wavedrom_magic -h 200 -o /content/tmp_code/full_add.txt\n",
        "---"
      ]
    },
    {
      "attachments": {},
      "cell_type": "markdown",
      "metadata": {
        "id": "GkCsfdysihUy"
      },
      "source": [
        "###What is a module?  \n"
      ]
    },
    {
      "attachments": {},
      "cell_type": "markdown",
      "metadata": {
        "id": "SqM9BUQLGjkR"
      },
      "source": [
        "\n",
        "Instead of copying and pasting a Full-Adder over and over, we can instantiate it again as a module.  \n",
        "This is the same concept as making a function call in python or C++. We are just reusing code we have already written.  \n",
        "It follows the following format:  \n",
        "`module_name module_title (.first_signal(first_connection), .second_signal(second_connection));`  \n",
        "The first line will be whatever you have called your module. In this case it will be `Full_Add`.  \n",
        "Then you must give each full adder a name. This part isn't important, but if its name has meaning it will be easier to understand your code. So, label each adder depending on its position.\n",
        "Now you must define which internal signals go to which external signals.  \n",
        "For example, if we want to add 8 bits together, for the first full adder, a should be the first bit of an a bit input. The `Cin` should be `0`. `s` should be the first bit of an output and `co` should be neither an input nor an output, but should instead be an intermediate signal that is used for the second bit.\n"
      ]
    },
    {
      "attachments": {},
      "cell_type": "markdown",
      "metadata": {
        "id": "7JKNsub0ifFg"
      },
      "source": [
        "###Creating an 8-bit adder\n"
      ]
    },
    {
      "attachments": {},
      "cell_type": "markdown",
      "metadata": {
        "id": "fLf58Ofeh5xL"
      },
      "source": [
        "To create an 8-bit adder, you will need 8 one bit adders all linked together.\n",
        "\n",
        "![picture](https://raw.githubusercontent.com/byuccl/digital_design_colab/master/Labs/arithmetic_lab/media/add8.png)\n",
        "\n",
        "| Module Name: |8Add|||\n",
        "| ----------- | ----------- |--|--|\n",
        "| Port Name      | Direction       |Width|Function|\n",
        "|a \t|Input \t|8| \t‘a’ operand input|\n",
        "|b \t|Input \t|8 |\t‘b’ operand input|\n",
        "|cin |\tInput| 1\t| \tCarry in|\n",
        "|s \t|Output \t|8| \tSum output|\n",
        "|co| \tOutput \t|1| \tCarry out output of the last bit|\n",
        "\n",
        "\n",
        "You can use various internal signals for `Cin` and `Cout`.  \n",
        "This module should have 8 instances of your Full_Add module."
      ]
    },
    {
      "cell_type": "code",
      "execution_count": null,
      "metadata": {
        "cellView": "form",
        "id": "ovLjAbfiXEk-"
      },
      "outputs": [],
      "source": [
        "#@title Launch Simulation Workspace\n",
        "createSimulationWorkSpace(\"tmp_code/add_8\")"
      ]
    },
    {
      "cell_type": "code",
      "execution_count": null,
      "metadata": {
        "cellView": "form",
        "id": "jI50N43Q719R"
      },
      "outputs": [],
      "source": [
        "#@title Verilator TestBench\n",
        "!verilator --cc add_8 \n",
        "!verilator -Wall --trace -cc add_8.sv --exe tb_add_8.cpp\n",
        "!make -C obj_dir -f Vadd_8.mk Vadd_8 > /dev/null\n",
        "!./obj_dir/Vadd_8"
      ]
    },
    {
      "attachments": {},
      "cell_type": "markdown",
      "metadata": {
        "id": "rZEjkZbNidn6"
      },
      "source": [
        "### Top level module"
      ]
    },
    {
      "attachments": {},
      "cell_type": "markdown",
      "metadata": {
        "id": "rvQouWKJi2ik"
      },
      "source": [
        "![picture](https://raw.githubusercontent.com/byuccl/digital_design_colab/master/Labs/arithmetic_lab/media/lab_top.png)\n",
        "\n",
        "You probably noticed that there is no `led` or `sw` signal yet. This will be contained in a top level module. You will instantiate 8Add and feed into it all the necessary signals.\n",
        "\n",
        "| Module Name: |arithemtic_top|||\n",
        "| ----------- | ----------- |--|--|\n",
        "| Port Name      | Direction       |Width|Function|\n",
        "|sw \t|Input \t|16| Switches (`sw[15:8]` = `b`, `sw[7:0]` = `a` operand)\t|\n",
        "|btnc |\tInput| 1\t| Subtract when pressed|\n",
        "|led\t|Output \t|9| \tLEDs (`led[8]`= overflow, `led[7:0]` = sum)|  \n",
        "\n",
        "While `btnc` is high, `b` should be inverted to subtract `b` from `a`.  \n",
        "Led[8] should be high if overflow occurs.\n",
        "\n"
      ]
    },
    {
      "attachments": {},
      "cell_type": "markdown",
      "metadata": {
        "id": "4oIpbwI62-qs"
      },
      "source": [
        "### Overflow Detection  \n",
        "\n",
        "\n"
      ]
    },
    {
      "attachments": {},
      "cell_type": "markdown",
      "metadata": {
        "id": "wmntNYkakOcw"
      },
      "source": [
        "###How to find of Overflow Occured"
      ]
    },
    {
      "attachments": {},
      "cell_type": "markdown",
      "metadata": {
        "id": "PNdFlMCb8V65"
      },
      "source": [
        "While using two's complement we can easily check for overflow. \n",
        "If the MSB's are the same, but the output is different then overflow has occurred. For example, `1111`+`1000`, both MSB are `1`. The output would be `0111`. Since `0`, the MSB, is different than `1`, we can tell that overflow has occurred.    \n",
        "\n",
        "\n",
        "In other words, if you add two negative numbers and get a positive number, overflow has occurred. If you add two negative numbers and the output is positive, overflow has occurred.\n",
        "\n"
      ]
    },
    {
      "attachments": {},
      "cell_type": "markdown",
      "metadata": {
        "id": "861NUFPikQud"
      },
      "source": [
        "###How does subtraction work?\n",
        "As we explained earlier, there are two ways to do subtraction with two's complement, either using borrows like in elementary school, or inverting the second operator.  \n",
        "Unfortunately, our computers never went to elementary school, so they will have to do the second option.  \n",
        "Luckily, inverting `b` is quite simple.  \n",
        "But you must also add `1` when inverting. Also, we have a carry in signal for our first bit, which acts exactly like adding `1`.    \n",
        "This means that we can write our code such that if that carry in is high, then subtraction should occur."
      ]
    },
    {
      "cell_type": "code",
      "execution_count": null,
      "metadata": {
        "cellView": "form",
        "id": "uMVj89sVHM_g"
      },
      "outputs": [],
      "source": [
        "#@title Create Simluation Workspace\n",
        "createSimulationWorkSpace(\"tmp_code/arithmetic_top\")"
      ]
    },
    {
      "cell_type": "code",
      "execution_count": 13,
      "metadata": {
        "cellView": "form",
        "id": "CbwKAG3-nvpq"
      },
      "outputs": [],
      "source": [
        "#@title Generate an XDC File\n",
        "%%bash -c 'cat > /content/tmp_code/xdc.xdc'\n",
        "###################################################################\n",
        "###################################################################\n",
        "## Buttons\n",
        "set_property -dict { PACKAGE_PIN U18   IOSTANDARD LVCMOS33 } [get_ports { btnc }];\n",
        "# set_property -dict { PACKAGE_PIN T18   IOSTANDARD LVCMOS33 } [get_ports { btnu }];\n",
        "# set_property -dict { PACKAGE_PIN W19   IOSTANDARD LVCMOS33 } [get_ports { btnl }];\n",
        "# set_property -dict { PACKAGE_PIN T17   IOSTANDARD LVCMOS33 } [get_ports { btnr }];\n",
        "# set_property -dict { PACKAGE_PIN U17   IOSTANDARD LVCMOS33 } [get_ports { btnd }];\n",
        "\n",
        "## Switches\n",
        "set_property -dict { PACKAGE_PIN V17   IOSTANDARD LVCMOS33 } [get_ports { sw[0] }];\n",
        "set_property -dict { PACKAGE_PIN V16   IOSTANDARD LVCMOS33 } [get_ports { sw[1] }];\n",
        "set_property -dict { PACKAGE_PIN W16   IOSTANDARD LVCMOS33 } [get_ports { sw[2] }];\n",
        "set_property -dict { PACKAGE_PIN W17   IOSTANDARD LVCMOS33 } [get_ports { sw[3] }];\n",
        "set_property -dict { PACKAGE_PIN W15   IOSTANDARD LVCMOS33 } [get_ports { sw[4] }];\n",
        "set_property -dict { PACKAGE_PIN V15   IOSTANDARD LVCMOS33 } [get_ports { sw[5] }];\n",
        "set_property -dict { PACKAGE_PIN W14   IOSTANDARD LVCMOS33 } [get_ports { sw[6] }];\n",
        "set_property -dict { PACKAGE_PIN W13   IOSTANDARD LVCMOS33 } [get_ports { sw[7] }];\n",
        "set_property -dict { PACKAGE_PIN V2    IOSTANDARD LVCMOS33 } [get_ports { sw[8] }];\n",
        "set_property -dict { PACKAGE_PIN T3    IOSTANDARD LVCMOS33 } [get_ports { sw[9] }];\n",
        "set_property -dict { PACKAGE_PIN T2    IOSTANDARD LVCMOS33 } [get_ports { sw[10] }];\n",
        "set_property -dict { PACKAGE_PIN R3    IOSTANDARD LVCMOS33 } [get_ports { sw[11] }];\n",
        "set_property -dict { PACKAGE_PIN W2    IOSTANDARD LVCMOS33 } [get_ports { sw[12] }];\n",
        "set_property -dict { PACKAGE_PIN U1    IOSTANDARD LVCMOS33 } [get_ports { sw[13] }];\n",
        "set_property -dict { PACKAGE_PIN T1    IOSTANDARD LVCMOS33 } [get_ports { sw[14] }];\n",
        "set_property -dict { PACKAGE_PIN R2    IOSTANDARD LVCMOS33 } [get_ports { sw[15] }];\n",
        "\n",
        "## LEDs\n",
        "set_property -dict { PACKAGE_PIN U16   IOSTANDARD LVCMOS33 } [get_ports { led[0] }];\n",
        "set_property -dict { PACKAGE_PIN E19   IOSTANDARD LVCMOS33 } [get_ports { led[1] }];\n",
        "set_property -dict { PACKAGE_PIN U19   IOSTANDARD LVCMOS33 } [get_ports { led[2] }];\n",
        "set_property -dict { PACKAGE_PIN V19   IOSTANDARD LVCMOS33 } [get_ports { led[3] }];\n",
        "set_property -dict { PACKAGE_PIN W18   IOSTANDARD LVCMOS33 } [get_ports { led[4] }];\n",
        "set_property -dict { PACKAGE_PIN U15   IOSTANDARD LVCMOS33 } [get_ports { led[5] }];\n",
        "set_property -dict { PACKAGE_PIN U14   IOSTANDARD LVCMOS33 } [get_ports { led[6] }];\n",
        "set_property -dict { PACKAGE_PIN V14   IOSTANDARD LVCMOS33 } [get_ports { led[7] }];\n",
        "set_property -dict { PACKAGE_PIN V13   IOSTANDARD LVCMOS33 } [get_ports { led[8] }];\n",
        "# set_property -dict { PACKAGE_PIN V3    IOSTANDARD LVCMOS33 } [get_ports { led[9] }];\n",
        "# set_property -dict { PACKAGE_PIN W3    IOSTANDARD LVCMOS33 } [get_ports { led[10] }];\n",
        "# set_property -dict { PACKAGE_PIN U3    IOSTANDARD LVCMOS33 } [get_ports { led[11] }];\n",
        "# set_property -dict { PACKAGE_PIN P3    IOSTANDARD LVCMOS33 } [get_ports { led[12] }];\n",
        "# set_property -dict { PACKAGE_PIN N3    IOSTANDARD LVCMOS33 } [get_ports { led[13] }];\n",
        "# set_property -dict { PACKAGE_PIN P1    IOSTANDARD LVCMOS33 } [get_ports { led[14] }];\n",
        "# set_property -dict { PACKAGE_PIN L1    IOSTANDARD LVCMOS33 } [get_ports { led[15] }];\n"
      ]
    },
    {
      "attachments": {},
      "cell_type": "markdown",
      "metadata": {
        "id": "_toaZpwTui3E"
      },
      "source": [
        "\n",
        "## Compiling with the F4PGA Toolchain\n"
      ]
    },
    {
      "attachments": {},
      "cell_type": "markdown",
      "metadata": {
        "id": "IQd2K_jAwbFS"
      },
      "source": [
        "### Installing the Toolchain"
      ]
    },
    {
      "cell_type": "code",
      "execution_count": null,
      "metadata": {
        "cellView": "form",
        "id": "ZQFNmbQquBYV"
      },
      "outputs": [],
      "source": [
        "#@title Install Dependencies\n",
        "!apt install -y git wget xz-utils"
      ]
    },
    {
      "cell_type": "code",
      "execution_count": null,
      "metadata": {
        "cellView": "form",
        "id": "hXXiL-7stTKB"
      },
      "outputs": [],
      "source": [
        "#@title Clone Repo\n",
        "%%bash\n",
        "cd /content\n",
        "git clone https://github.com/chipsalliance/f4pga-examples\n",
        "cd f4pga-examples\n",
        "time wget https://repo.continuum.io/miniconda/Miniconda3-latest-Linux-x86_64.sh -O conda_installer.sh\n"
      ]
    },
    {
      "cell_type": "code",
      "execution_count": null,
      "metadata": {
        "cellView": "form",
        "id": "4RV_Okw2uJYm"
      },
      "outputs": [],
      "source": [
        "#@title Create the Conda Environment\n",
        "%%bash\n",
        "cd /content/f4pga-examples\n",
        "export F4PGA_INSTALL_DIR=~/opt/f4pga\n",
        "export FPGA_FAM=xc7\n",
        "time bash conda_installer.sh -u -b -p $F4PGA_INSTALL_DIR/$FPGA_FAM/conda;\n",
        "time source \"$F4PGA_INSTALL_DIR/$FPGA_FAM/conda/etc/profile.d/conda.sh\";\n",
        "time conda env create -f $FPGA_FAM/environment.yml"
      ]
    },
    {
      "cell_type": "code",
      "execution_count": 17,
      "metadata": {
        "cellView": "form",
        "id": "FBqTs5CsuLb6"
      },
      "outputs": [],
      "source": [
        "#@title Download F4PGA Arch Defs\n",
        "%%bash\n",
        "export F4PGA_INSTALL_DIR=~/opt/f4pga\n",
        "export FPGA_FAM=xc7\n",
        "source \"$F4PGA_INSTALL_DIR/$FPGA_FAM/conda/etc/profile.d/conda.sh\";\n",
        "conda activate xc7\n",
        "mkdir -p $F4PGA_INSTALL_DIR/xc7/install\n",
        "\n",
        "F4PGA_TIMESTAMP='20220907-210059'\n",
        "F4PGA_HASH='66a976d'\n",
        "export F4PGA_PACKAGES='install-xc7 xc7a50t_test'\n",
        "\n",
        "for PKG in $F4PGA_PACKAGES; do\n",
        "  wget -qO- https://storage.googleapis.com/symbiflow-arch-defs/artifacts/prod/foss-fpga-tools/symbiflow-arch-defs/continuous/install/${F4PGA_TIMESTAMP}/symbiflow-arch-defs-${PKG}-${F4PGA_HASH}.tar.xz | tar -xJC $F4PGA_INSTALL_DIR/${FPGA_FAM}\n",
        "done"
      ]
    },
    {
      "attachments": {},
      "cell_type": "markdown",
      "metadata": {
        "id": "EzO5bK_Awg2q"
      },
      "source": [
        "### Compiling with the Toolchain"
      ]
    },
    {
      "cell_type": "code",
      "execution_count": 21,
      "metadata": {
        "cellView": "form",
        "id": "ZnnVzP55uSCL"
      },
      "outputs": [],
      "source": [
        "#@title Create Makefile\n",
        "with open(\"/content/tmp_code/Makefile\", \"w\") as f:\n",
        "  f.write(\"\"\"current_dir := ${CURDIR}\n",
        "TARGET := basys3\n",
        "\n",
        "TOP := arithmetic_top\n",
        "\n",
        "XDC := ${current_dir}/*.xdc\n",
        "\n",
        "SOURCES := $(wildcard ${current_dir}/*.v ${current_dir}/*.sv)\n",
        "\n",
        "include /content/f4pga-examples/common/common.mk\n",
        "\"\"\")"
      ]
    },
    {
      "cell_type": "code",
      "execution_count": 22,
      "metadata": {
        "cellView": "form",
        "id": "RmnDxe2MuPcG"
      },
      "outputs": [],
      "source": [
        "#Make the project\n",
        "%%bash\n",
        "export F4PGA_INSTALL_DIR=~/opt/f4pga\n",
        "export FPGA_FAM=xc7\n",
        "export TARGET=basys3\n",
        "export FOLDER=Arithmetic\n",
        "export FILES=\"Makefile xdc.xdc arithmetic_top.sv full_add.sv add_8.sv\"\n",
        "source \"$F4PGA_INSTALL_DIR/$FPGA_FAM/conda/etc/profile.d/conda.sh\";\n",
        "mkdir /content/\"$FOLDER\"\n",
        "cd /content/tmp_code\n",
        "for file in $FILES\n",
        "do \n",
        "    mv $file /content/\"$FOLDER\"/$file\n",
        "done\n",
        "conda activate xc7\n",
        "cd /content/$FOLDER\n",
        "cp /content/tmp_code/errorFeedback.py ./\n",
        "time python3 errorFeedback.py 2> ./error.log 1>./compile.log\n",
        "if [ -f \"/content/$FOLDER/build/basys3/*.bit\" ]; then\n",
        "    cp /content/$FOLDER/build/basys3/*.bit /content/$FOLDER.bit\n",
        "else\n",
        "    echo \"An Error has occurred and the bit stream has not been generated:\"\n",
        "    cat ./compile.log\n",
        "    cat ./error.log\n",
        "fi"
      ]
    },
    {
      "attachments": {},
      "cell_type": "markdown",
      "metadata": {
        "id": "jkKm3WaizMYC"
      },
      "source": [
        "## Testing it on the board"
      ]
    },
    {
      "attachments": {},
      "cell_type": "markdown",
      "metadata": {
        "id": "cmT9nvN5dori"
      },
      "source": [
        "You can use this configuration file and the program openOCD to download the bitstream to your board. You will need to download this file and the bitstream to your local machine."
      ]
    },
    {
      "cell_type": "code",
      "execution_count": null,
      "metadata": {
        "cellView": "form",
        "id": "1XrEe8VTuUdg"
      },
      "outputs": [],
      "source": [
        "#@title Create File for openocd\n",
        "folder = \"Arithmetic\"\n",
        "\n",
        "with open(f\"/content/{folder}.cfg\", \"w\") as f:\n",
        "  f.write(\"\"\"interface ftdi\n",
        "ftdi_device_desc \"Digilent USB Device\"\n",
        "ftdi_vid_pid 0x0403 0x6010\n",
        "# channel 1 does not have any functionality\n",
        "ftdi_channel 0\n",
        "# just TCK TDI TDO TMS, no reset\n",
        "ftdi_layout_init 0x0088 0x008b\n",
        "reset_config none\n",
        "adapter_khz 10000\n",
        "\n",
        "source [find cpld/xilinx-xc7.cfg]\n",
        "source [find cpld/jtagspi.cfg]\n",
        "init\n",
        "\n",
        "puts [irscan xc7.tap 0x09]\n",
        "\n",
        "set xc7a35t \"0362D093\"\n",
        "set xc7a100t \"13631093\"\n",
        "set code [drscan xc7.tap 32 0]  \n",
        "puts $code\n",
        "\n",
        "if { $code == $xc7a35t} {\n",
        "    puts \"The board has an xc7a35t\"\n",
        "}\n",
        "\n",
        "if { $code == $xc7a100t} {\n",
        "    puts \"The board has an xc7a100t\"\n",
        "}\n",
        "\n",
        "puts \"Programming...\"\n",
        "\"\"\"\n",
        "+\n",
        "f\"\"\"\n",
        "pld load 0 {folder}.bit\n",
        "exit\"\"\"\n",
        ")"
      ]
    },
    {
      "attachments": {},
      "cell_type": "markdown",
      "metadata": {
        "id": "Sa9YvtXndp7W"
      },
      "source": [
        "The following code will download a zip file with the configuration file and bitstream. This will only download if you are using Chrome. If you are using something else, click the file icon on the left, and click the zip file in the content folder to download it."
      ]
    },
    {
      "cell_type": "code",
      "execution_count": null,
      "metadata": {
        "cellView": "form",
        "id": "713KtVpEdqUh"
      },
      "outputs": [],
      "source": [
        "#@title Create Zip\n",
        "%%bash\n",
        "cd /content\n",
        "export FOLDER=Arithmetic\n",
        "cp $FOLDER/build/basys3/*.bit ./\n",
        "zip $FOLDER.zip *.bit $FOLDER.cfg"
      ]
    },
    {
      "attachments": {},
      "cell_type": "markdown",
      "metadata": {},
      "source": [
        "Click [Here](https://colab.research.google.com/github/byuccl/digital_design_colab2/blob/master/Labs/seven_segment_lab/seven_segment_lab.ipynb) to move on to the Seven Segment Display Lab."
      ]
    }
  ],
  "metadata": {
    "colab": {
      "collapsed_sections": [
        "z2TXhJuUF0CW",
        "IQd2K_jAwbFS",
        "EzO5bK_Awg2q"
      ],
      "provenance": []
    },
    "kernelspec": {
      "display_name": "Python 3.10.6 64-bit",
      "language": "python",
      "name": "python3"
    },
    "language_info": {
      "name": "python",
      "version": "3.10.6"
    },
    "vscode": {
      "interpreter": {
        "hash": "916dbcbb3f70747c44a77c7bcd40155683ae19c65e1c03b4aa3499c5328201f1"
      }
    }
  },
  "nbformat": 4,
  "nbformat_minor": 0
}
