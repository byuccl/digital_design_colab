{
  "cells": [
    {
      "attachments": {},
      "cell_type": "markdown",
      "metadata": {
        "id": "SNHwhR5ed9Da"
      },
      "source": [
        "<details><summary>Packages to be downloaded</summary>\n",
        "Things it needs to install:  <br>\n",
        "\n",
        " *    Verilator- the simulator  <br>\n",
        " *    VCD - Generates waveforms from `.vcd` files  <br>\n",
        " *    Widgets - Each widget must first be generated then will be loaded when played\n",
        "</details>"
      ]
    },
    {
      "cell_type": "code",
      "execution_count": null,
      "metadata": {
        "cellView": "form",
        "id": "9coZGYriFDAb"
      },
      "outputs": [],
      "source": [
        "#@markdown ## **Setup**\n",
        "!cd /content\n",
        "!git clone https://github.com/yne/vcd.git\n",
        "!make -C /content/vcd\n",
        "%cd /content/vcd\n",
        "!make install\n",
        "%cd /\n",
        "import ipywidgets as widgets\n",
        "from ipywidgets import GridspecLayout\n",
        "from ipywidgets import AppLayout, Button, Layout, jslink, IntText, IntSlider\n",
        "import requests\n",
        "\n",
        "!mkdir -p /content/tmp_code\n",
        "#Creates a text document using the Raw github url. This text document will be used as a .py file for imports\n",
        "def import_text(text):\n",
        "  url = \"https://raw.githubusercontent.com/byuccl/digital_design_colab/master/Labs/dataflow_lab/files/%s\" % text\n",
        "  resp = requests.get(url)\n",
        "  with open(text, 'wb') as f:\n",
        "    f.write(resp.content)\n",
        "\n",
        "import_text(\"import_all.py\")\n",
        "from import_all import *\n",
        "import_source()\n",
        "import_packages()\n",
        "from simulation import *\n",
        "from vcd2wd import *\n",
        "!apt-get install verilator >/dev/null\n",
        "!pip install --upgrade git+https://github.com/anon36424/nb_js_diagrammers.git\n",
        "%load_ext nb_js_diagrammers"
      ]
    },
    {
      "attachments": {},
      "cell_type": "markdown",
      "metadata": {
        "id": "Jh3RQZVnlCrh"
      },
      "source": [
        "## **The Lab**"
      ]
    },
    {
      "attachments": {},
      "cell_type": "markdown",
      "metadata": {
        "id": "aM9GnrFnlImY"
      },
      "source": [
        "<h3>\n",
        "\n",
        "<summary><b>Overview of the Project</b></summary>\n",
        " \n",
        "</h3>\n",
        "\n",
        "Because of how testbenches and Verilator works, it's important that you define all of your signals with the provided names and you define your modules with the provided names. If you used a different name you can change the name in Verilator but be careful.\n",
        " \n",
        "You will implement 4 different functions. Each function will only be active when its button is pressed. If no button is pressed, the LEDs should show which switches are flipped.\n",
        "\n",
        "Each function will take the input (switches) and change it. This will be displayed on the LEDs.\n"
      ]
    },
    {
      "attachments": {},
      "cell_type": "markdown",
      "metadata": {
        "id": "Q1Kd2xpYqUfL"
      },
      "source": [
        "#### ***Function 1:***\n"
      ]
    },
    {
      "attachments": {},
      "cell_type": "markdown",
      "metadata": {
        "id": "XPJjuCxY84LX"
      },
      "source": [
        "Down Button (btnd): Shift all the bits of the input to the left 3 times when you press the down button.  \n",
        "If the button is not pressed, the LEDs should show the value of the switches.  \n",
        "Input your code below for this function. When ready run it and it will be linted then tested. If it doesn't work, make changes and try again."
      ]
    },
    {
      "cell_type": "code",
      "execution_count": null,
      "metadata": {
        "cellView": "form",
        "id": "nMT-jR_7tBxu"
      },
      "outputs": [],
      "source": [
        "#@title Launch Simulation Workspace\n",
        "createSimulationWorkSpace(\"tmp_code/function1\")"
      ]
    },
    {
      "cell_type": "code",
      "execution_count": null,
      "metadata": {
        "cellView": "form",
        "id": "LsBCxFSVBFCB"
      },
      "outputs": [],
      "source": [
        "#@title Create WaveDrom\n",
        "df2wd(\"function1\")"
      ]
    },
    {
      "cell_type": "code",
      "execution_count": null,
      "metadata": {
        "cellView": "form",
        "id": "Nf4o3jwNA86t"
      },
      "outputs": [],
      "source": [
        "#@title Show WaveDrom\n",
        "%%wavedrom_magic -h 200 -o /content/tmp_code/function1.txt\n",
        "---"
      ]
    },
    {
      "cell_type": "code",
      "execution_count": null,
      "metadata": {
        "cellView": "form",
        "id": "FpOHuLeJe6IC"
      },
      "outputs": [],
      "source": [
        "#@title Verilator TestBench\n",
        "!verilator --cc function1.sv \n",
        "!verilator -Wall --trace -cc function1.sv --exe tb_function1.cpp\n",
        "!make -C obj_dir -f Vfunction1.mk Vfunction1 > /dev/null\n",
        "!./obj_dir/Vfunction1"
      ]
    },
    {
      "attachments": {},
      "cell_type": "markdown",
      "metadata": {
        "id": "0rSoILuHqi2Q"
      },
      "source": [
        "#### ***Function 2:***\n"
      ]
    },
    {
      "attachments": {},
      "cell_type": "markdown",
      "metadata": {
        "id": "k-WKM47Z9ciw"
      },
      "source": [
        "Left Button (btnl): Using all 16 switches and LEDs, do a bitwise XOR with the left and right half of the input. Set the left half of the output to 0, and the right half as the result of the XOR  \n",
        "\n",
        "If the button is not pressed, the LEDs should show the value of the switches.\n"
      ]
    },
    {
      "cell_type": "code",
      "execution_count": null,
      "metadata": {
        "cellView": "form",
        "id": "OhmRee8FPT-G"
      },
      "outputs": [],
      "source": [
        "#@title Launch Simulation Workspace\n",
        "createSimulationWorkSpace(\"tmp_code/function2\")"
      ]
    },
    {
      "cell_type": "code",
      "execution_count": null,
      "metadata": {
        "cellView": "form",
        "id": "pJNJLnoWIOSc"
      },
      "outputs": [],
      "source": [
        "#@title Create WaveDrom\n",
        "df2wd(\"function2\")"
      ]
    },
    {
      "cell_type": "code",
      "execution_count": null,
      "metadata": {
        "cellView": "form",
        "id": "6x_a1ozCIQrx"
      },
      "outputs": [],
      "source": [
        "#@title Show WaveDrom\n",
        "%%wavedrom_magic -h 200 -o /content/tmp_code/function2.txt\n",
        "---"
      ]
    },
    {
      "cell_type": "code",
      "execution_count": null,
      "metadata": {
        "cellView": "form",
        "id": "igp29sdGgY-0"
      },
      "outputs": [],
      "source": [
        "#@title Verilator TestBench\n",
        "!verilator -Wall -cc function2.sv --exe tb_function2.cpp\n",
        "!make -C obj_dir -f Vfunction2.mk Vfunction2 > /dev/null\n",
        "!./obj_dir/Vfunction2"
      ]
    },
    {
      "attachments": {},
      "cell_type": "markdown",
      "metadata": {
        "id": "ZglTH2t0qpzZ"
      },
      "source": [
        "#### ***Function 3:***\n"
      ]
    },
    {
      "attachments": {},
      "cell_type": "markdown",
      "metadata": {
        "id": "x26xDiHo9iVv"
      },
      "source": [
        "Down button (btnr): Implement the following function while btnr is high:  \n",
        "![picture](https://raw.githubusercontent.com/anon36424/digital_design_colab/main/Dataflow/media/function3.png)\n",
        "  \n",
        "If btnr is low, then have the LED be equal to sw.\n",
        "\n",
        "NOTE: A will be the first switch, B the second and C the third. F will be the first LED\n",
        "\n",
        "Hint: `A = sw[0]`. You may also create intermediate signals if you prefer\n",
        "  \n",
        "\n",
        "If the button is not pressed, the LEDs should show the value of the switches.\n"
      ]
    },
    {
      "cell_type": "code",
      "execution_count": null,
      "metadata": {
        "cellView": "form",
        "id": "hUo0Suc2qxtm"
      },
      "outputs": [],
      "source": [
        "#@title Launch Simulation Workspace\n",
        "\n",
        "createSimulationWorkSpace(\"tmp_code/function3\")"
      ]
    },
    {
      "cell_type": "code",
      "execution_count": null,
      "metadata": {
        "cellView": "form",
        "id": "6XXHmp12I3SB"
      },
      "outputs": [],
      "source": [
        "#@title Create WaveDrom\n",
        "df2wd(\"function3\")\n"
      ]
    },
    {
      "cell_type": "code",
      "execution_count": null,
      "metadata": {
        "cellView": "form",
        "id": "egx3t9Rvw7af"
      },
      "outputs": [],
      "source": [
        "#@title Show WaveDrom\n",
        "%%wavedrom_magic -h 200 -o /content/tmp_code/function3.txt\n",
        "---"
      ]
    },
    {
      "cell_type": "code",
      "execution_count": null,
      "metadata": {
        "cellView": "form",
        "id": "8cvwAvtyxOC8"
      },
      "outputs": [],
      "source": [
        "#@title Verilator TestBench\n",
        "!verilator -Wall -cc function3.sv --exe tb_function3.cpp\n",
        "!make -C obj_dir -f Vfunction3.mk Vfunction3 > /dev/null\n",
        "!./obj_dir/Vfunction3"
      ]
    },
    {
      "attachments": {},
      "cell_type": "markdown",
      "metadata": {
        "id": "oSWJS53uq1Md"
      },
      "source": [
        "#### ***Function 4:***\n"
      ]
    },
    {
      "attachments": {},
      "cell_type": "markdown",
      "metadata": {
        "id": "Z6bU3UkE6v4Z"
      },
      "source": [
        "Up Button btnu:  \n",
        "The door to the digital design lab has an electronic lock. When someone swipes their ID card, it could be a student or a professor. If it is a student, and it is between 7am and 10pm, the door will unlock. If it is a professor, the door will open no matter what time it is. Implement this functionality when the up button is pressed.\n",
        "\n",
        "**Inputs:**  \n",
        "Sw[0] - is student?  \n",
        "Sw[1] - is professor?  \n",
        "Sw[2] - 0 = am, 1 = pm  \n",
        "Sw[6:3] - binary representation of the hour of the day  \n",
        "**Output:**  \n",
        "If the door unlocks, turn on all LEDs\n",
        "\n",
        "**Note:** If the student input and the professor input are both high, the door should stay locked (this should not be possible—it is an imposter). If you receive an invalid time (ex: 15:00am) the door should also stay locked.  \n",
        "\n",
        "\n",
        "If the button is not pressed, the LEDs should show the value of the switches.\n"
      ]
    },
    {
      "cell_type": "code",
      "execution_count": null,
      "metadata": {
        "cellView": "form",
        "id": "kIbaNx_1xAzZ"
      },
      "outputs": [],
      "source": [
        "#@title Launch Simulation Workspace\n",
        "createSimulationWorkSpace(\"tmp_code/function4\")"
      ]
    },
    {
      "cell_type": "code",
      "execution_count": null,
      "metadata": {
        "cellView": "form",
        "id": "iEk68_TDJLG8"
      },
      "outputs": [],
      "source": [
        "#@title Create WaveDrom\n",
        "df2wd(\"function4\")\n"
      ]
    },
    {
      "cell_type": "code",
      "execution_count": null,
      "metadata": {
        "cellView": "form",
        "id": "Nr9fhyEtJOCY"
      },
      "outputs": [],
      "source": [
        "#@title Show WaveDrom\n",
        "%%wavedrom_magic -h 200 -o /content/tmp_code/function4.txt\n",
        "---"
      ]
    },
    {
      "cell_type": "code",
      "execution_count": null,
      "metadata": {
        "cellView": "form",
        "id": "GybOtnQn5S5C"
      },
      "outputs": [],
      "source": [
        "#@title Verilator TestBench\n",
        "!verilator -Wall -cc function4.sv --exe tb_function4.cpp\n",
        "!make -C obj_dir -f Vfunction4.mk Vfunction4 > /dev/null\n",
        "!./obj_dir/Vfunction4"
      ]
    },
    {
      "attachments": {},
      "cell_type": "markdown",
      "metadata": {
        "id": "ImInl-76evm5"
      },
      "source": [
        "#### ***Bringing it together***\n",
        "\n",
        "\n",
        "\n"
      ]
    },
    {
      "attachments": {},
      "cell_type": "markdown",
      "metadata": {
        "id": "NmSZaSjZ92GP"
      },
      "source": [
        "Now add all of your functions together. When a certain button is pressed it should implement that function. When no button is pressed, it the leds should show the value of the switches.\n",
        "\n",
        "You will just combine all of your functions together.\n",
        "\n",
        "The module should be called `dataflow_sv`\n",
        "It should have `sw` as a 16 bit wide inputs.\n",
        "It should have `btnl`, `btnd`, `btnr`, and `btnu` as single bit inputs.\n",
        "It should have `led` as a 16 bit wide output\n",
        "\n",
        "You will have to rename and refactor some of your inputs. For example, on Function 3, instead of having A, B, and C be inputs, you will need to assign them as intermediate signals:\n",
        "```\n",
        "assign A = sw[2];\n",
        "assign B = sw[1];\n",
        "assign C = sw[0];\n",
        "```\n",
        "\n",
        "This is because one input is mapped to one signal.\n",
        "\n",
        "You should use if/else if/else branches to switch between your 4 functions.\n",
        "\n",
        "\n",
        "| Module Name: |dataflow_sv|||\n",
        "| ----------- | ----------- |--|--|\n",
        "| Port Name      | Direction       |Width|Function|\n",
        "|btnd \t|Input \t|1| Activates Function1\t|\n",
        "|btnl \t|Input \t|1| Activates Function2\t|\n",
        "|btnr \t|Input \t|1| Activates Function3\t|\n",
        "|btnu \t|Input \t|1| Activates Function4\t|\n",
        "|sw \t|Input \t|16 |\tThe value of the switches|\n",
        "|led| \tOutput \t|16| The value to display on the LEDs|"
      ]
    },
    {
      "cell_type": "code",
      "execution_count": null,
      "metadata": {
        "cellView": "form",
        "colab": {
          "base_uri": "https://localhost:8080/",
          "height": 66
        },
        "id": "6sCQiRJ_edN2",
        "outputId": "74074874-854c-4332-be1d-621160000d4d"
      },
      "outputs": [],
      "source": [
        "#@title Hint\n",
        "%%html\n",
        "\n",
        "<style>\n",
        "div.warn {    \n",
        "    color: #356A89;\n",
        "    background-color: #D4EAF7;\n",
        "    border-left: 5px solid #3C82E3;\n",
        "    padding: 0.5em;\n",
        "    }\n",
        " </style>\n",
        "<div class=warn>\n",
        "The module should be called dataflow. It should have sw as a 16 bit wide inputs. <br> \n",
        "It should have btnl, btnd, btnr, and btnu as single bit inputs. It should have led as a 16 bit wide output.\n",
        "</div>\n"
      ]
    },
    {
      "cell_type": "code",
      "execution_count": null,
      "metadata": {
        "cellView": "form",
        "id": "NWHHLGZXm3tc"
      },
      "outputs": [],
      "source": [
        "#@title Launch Simulation Workspace\n",
        "createSimulationWorkSpace(\"tmp_code/dataflow\")"
      ]
    },
    {
      "attachments": {},
      "cell_type": "markdown",
      "metadata": {
        "id": "2rMAfvod84Fr"
      },
      "source": [
        "#### ***XDC Files:***\n",
        "\n"
      ]
    },
    {
      "attachments": {},
      "cell_type": "markdown",
      "metadata": {
        "id": "BoUoInjG-U4q"
      },
      "source": [
        "\n",
        "XDC stands for Xilinx Design Constraints. The master XDC file  has each of the ports for input and output on the Basys3 board. The XDC file connects signals with physical hardware. This will be needed to bind signals to switches, LEDs and buttons. \n",
        "\n",
        "Uncomment the lines containing `btnr`, `btnl`, `btnu`, and `btnd`. This tells the FPGA what input is linked to button.\n",
        "\n",
        "***NOTE***: In future labs, if you're clever about how you name your signals in your top level module, you won't need to rename any signals in the .xdc but will just uncomment the lines that you need.\n",
        "\n",
        "You will need to uncomment the lines that contain the button signals.\n",
        "The lines look like this:  \n",
        "`# set_property -dict { PACKAGE_PIN U18   IOSTANDARD LVCMOS33 } [get_ports { btnc }];`\n",
        "\n",
        "Then run the codeblock to save your constraints file."
      ]
    },
    {
      "cell_type": "code",
      "execution_count": null,
      "metadata": {
        "cellView": "form",
        "id": "LK5-Msjq05GW"
      },
      "outputs": [],
      "source": [
        "#@title Generate an XDC File\n",
        "%%bash -c 'cat > /content/tmp_code/xdc.xdc'\n",
        "\n",
        "## Buttons\n",
        "# set_property -dict { PACKAGE_PIN U18   IOSTANDARD LVCMOS33 } [get_ports { btnc }];\n",
        "set_property -dict { PACKAGE_PIN T18   IOSTANDARD LVCMOS33 } [get_ports { btnu }];\n",
        "set_property -dict { PACKAGE_PIN W19   IOSTANDARD LVCMOS33 } [get_ports { btnl }];\n",
        "set_property -dict { PACKAGE_PIN T17   IOSTANDARD LVCMOS33 } [get_ports { btnr }];\n",
        "set_property -dict { PACKAGE_PIN U17   IOSTANDARD LVCMOS33 } [get_ports { btnd }];\n",
        "\n",
        "## Switches\n",
        "set_property -dict { PACKAGE_PIN V17   IOSTANDARD LVCMOS33 } [get_ports { sw[0] }];\n",
        "set_property -dict { PACKAGE_PIN V16   IOSTANDARD LVCMOS33 } [get_ports { sw[1] }];\n",
        "set_property -dict { PACKAGE_PIN W16   IOSTANDARD LVCMOS33 } [get_ports { sw[2] }];\n",
        "set_property -dict { PACKAGE_PIN W17   IOSTANDARD LVCMOS33 } [get_ports { sw[3] }];\n",
        "set_property -dict { PACKAGE_PIN W15   IOSTANDARD LVCMOS33 } [get_ports { sw[4] }];\n",
        "set_property -dict { PACKAGE_PIN V15   IOSTANDARD LVCMOS33 } [get_ports { sw[5] }];\n",
        "set_property -dict { PACKAGE_PIN W14   IOSTANDARD LVCMOS33 } [get_ports { sw[6] }];\n",
        "set_property -dict { PACKAGE_PIN W13   IOSTANDARD LVCMOS33 } [get_ports { sw[7] }];\n",
        "set_property -dict { PACKAGE_PIN V2    IOSTANDARD LVCMOS33 } [get_ports { sw[8] }];\n",
        "set_property -dict { PACKAGE_PIN T3    IOSTANDARD LVCMOS33 } [get_ports { sw[9] }];\n",
        "set_property -dict { PACKAGE_PIN T2    IOSTANDARD LVCMOS33 } [get_ports { sw[10] }];\n",
        "set_property -dict { PACKAGE_PIN R3    IOSTANDARD LVCMOS33 } [get_ports { sw[11] }];\n",
        "set_property -dict { PACKAGE_PIN W2    IOSTANDARD LVCMOS33 } [get_ports { sw[12] }];\n",
        "set_property -dict { PACKAGE_PIN U1    IOSTANDARD LVCMOS33 } [get_ports { sw[13] }];\n",
        "set_property -dict { PACKAGE_PIN T1    IOSTANDARD LVCMOS33 } [get_ports { sw[14] }];\n",
        "set_property -dict { PACKAGE_PIN R2    IOSTANDARD LVCMOS33 } [get_ports { sw[15] }];\n",
        "\n",
        "## LEDs\n",
        "set_property -dict { PACKAGE_PIN U16   IOSTANDARD LVCMOS33 } [get_ports { led[0] }];\n",
        "set_property -dict { PACKAGE_PIN E19   IOSTANDARD LVCMOS33 } [get_ports { led[1] }];\n",
        "set_property -dict { PACKAGE_PIN U19   IOSTANDARD LVCMOS33 } [get_ports { led[2] }];\n",
        "set_property -dict { PACKAGE_PIN V19   IOSTANDARD LVCMOS33 } [get_ports { led[3] }];\n",
        "set_property -dict { PACKAGE_PIN W18   IOSTANDARD LVCMOS33 } [get_ports { led[4] }];\n",
        "set_property -dict { PACKAGE_PIN U15   IOSTANDARD LVCMOS33 } [get_ports { led[5] }];\n",
        "set_property -dict { PACKAGE_PIN U14   IOSTANDARD LVCMOS33 } [get_ports { led[6] }];\n",
        "set_property -dict { PACKAGE_PIN V14   IOSTANDARD LVCMOS33 } [get_ports { led[7] }];\n",
        "set_property -dict { PACKAGE_PIN V13   IOSTANDARD LVCMOS33 } [get_ports { led[8] }];\n",
        "set_property -dict { PACKAGE_PIN V3    IOSTANDARD LVCMOS33 } [get_ports { led[9] }];\n",
        "set_property -dict { PACKAGE_PIN W3    IOSTANDARD LVCMOS33 } [get_ports { led[10] }];\n",
        "set_property -dict { PACKAGE_PIN U3    IOSTANDARD LVCMOS33 } [get_ports { led[11] }];\n",
        "set_property -dict { PACKAGE_PIN P3    IOSTANDARD LVCMOS33 } [get_ports { led[12] }];\n",
        "set_property -dict { PACKAGE_PIN N3    IOSTANDARD LVCMOS33 } [get_ports { led[13] }];\n",
        "set_property -dict { PACKAGE_PIN P1    IOSTANDARD LVCMOS33 } [get_ports { led[14] }];\n",
        "set_property -dict { PACKAGE_PIN L1    IOSTANDARD LVCMOS33 } [get_ports { led[15] }];\n"
      ]
    },
    {
      "attachments": {},
      "cell_type": "markdown",
      "metadata": {
        "id": "_toaZpwTui3E"
      },
      "source": [
        "\n",
        "## **Compiling with the F4PGA Toolchain**\n"
      ]
    },
    {
      "attachments": {},
      "cell_type": "markdown",
      "metadata": {
        "id": "IQd2K_jAwbFS"
      },
      "source": [
        "### Installing the Toolchain\n",
        "\n",
        "Click play. This may take up to 4 minutes."
      ]
    },
    {
      "cell_type": "code",
      "execution_count": null,
      "metadata": {
        "colab": {
          "base_uri": "https://localhost:8080/"
        },
        "id": "ZQFNmbQquBYV",
        "outputId": "41e0bbd0-37ea-4d71-904e-d3fa104eef2d"
      },
      "outputs": [],
      "source": [
        "!apt install -y git wget xz-utils"
      ]
    },
    {
      "cell_type": "code",
      "execution_count": null,
      "metadata": {
        "colab": {
          "base_uri": "https://localhost:8080/"
        },
        "id": "rF1gehMvuC1L",
        "outputId": "20518c1e-8ff3-4490-ddd3-519622c69448"
      },
      "outputs": [],
      "source": [
        "%%bash\n",
        "cd /content\n",
        "git clone https://github.com/chipsalliance/f4pga-examples\n",
        "cd /content/f4pga-examples\n",
        "time wget https://repo.continuum.io/miniconda/Miniconda3-latest-Linux-x86_64.sh -O conda_installer.sh\n"
      ]
    },
    {
      "cell_type": "code",
      "execution_count": null,
      "metadata": {
        "colab": {
          "base_uri": "https://localhost:8080/"
        },
        "id": "4RV_Okw2uJYm",
        "outputId": "2549c344-be4b-4d7f-885c-d0455d69636d"
      },
      "outputs": [],
      "source": [
        "#Creates the Conda Environment\n",
        "%%bash\n",
        "cd /content/f4pga-examples\n",
        "export F4PGA_INSTALL_DIR=~/opt/f4pga\n",
        "export FPGA_FAM=xc7\n",
        "time bash conda_installer.sh -u -b -p $F4PGA_INSTALL_DIR/$FPGA_FAM/conda;\n",
        "time source \"$F4PGA_INSTALL_DIR/$FPGA_FAM/conda/etc/profile.d/conda.sh\";\n",
        "time conda env create -f $FPGA_FAM/environment.yml"
      ]
    },
    {
      "cell_type": "code",
      "execution_count": null,
      "metadata": {
        "id": "FBqTs5CsuLb6"
      },
      "outputs": [],
      "source": [
        "#Download F4PGA Arch Defs\n",
        "%%bash\n",
        "export F4PGA_INSTALL_DIR=~/opt/f4pga\n",
        "export FPGA_FAM=xc7\n",
        "source \"$F4PGA_INSTALL_DIR/$FPGA_FAM/conda/etc/profile.d/conda.sh\";\n",
        "conda activate xc7\n",
        "mkdir -p $F4PGA_INSTALL_DIR/xc7/install\n",
        "\n",
        "F4PGA_TIMESTAMP='20220920-124259'\n",
        "F4PGA_HASH='007d1c1'\n",
        "export F4PGA_PACKAGES='install-xc7 xc7a50t_test'\n",
        "\n",
        "for PKG in $F4PGA_PACKAGES; do\n",
        "  wget -qO- https://storage.googleapis.com/symbiflow-arch-defs/artifacts/prod/foss-fpga-tools/symbiflow-arch-defs/continuous/install/${F4PGA_TIMESTAMP}/symbiflow-arch-defs-${PKG}-${F4PGA_HASH}.tar.xz | tar -xJC $F4PGA_INSTALL_DIR/${FPGA_FAM}\n",
        "done"
      ]
    },
    {
      "attachments": {},
      "cell_type": "markdown",
      "metadata": {
        "id": "EzO5bK_Awg2q"
      },
      "source": [
        "### Compiling the Lab with the Toolchain\n",
        "This should take up to 3 minutes"
      ]
    },
    {
      "cell_type": "code",
      "execution_count": null,
      "metadata": {
        "id": "ZnnVzP55uSCL"
      },
      "outputs": [
        {
          "ename": "",
          "evalue": "",
          "output_type": "error",
          "traceback": [
            "\u001b[1;31mRunning cells with 'Python 3.8.10 64-bit' requires ipykernel package.\n",
            "\u001b[1;31mRun the following command to install 'ipykernel' into the Python environment. \n",
            "\u001b[1;31mCommand: '/bin/python3 -m pip install ipykernel -U --user --force-reinstall'"
          ]
        }
      ],
      "source": [
        "#This creates the Makefile\n",
        "with open(\"/content/tmp_code/Makefile\", \"w\") as f:\n",
        "  f.write(\"\"\"current_dir := ${CURDIR}\n",
        "TARGET := basys3\n",
        "\n",
        "TOP := dataflow_sv\n",
        "\n",
        "XDC := ${current_dir}/*.xdc\n",
        "\n",
        "SOURCES := ${current_dir}/dataflow.sv\n",
        "\n",
        "include /content/f4pga-examples/common/common.mk\n",
        "\"\"\")"
      ]
    },
    {
      "cell_type": "code",
      "execution_count": null,
      "metadata": {
        "colab": {
          "base_uri": "https://localhost:8080/"
        },
        "id": "RmnDxe2MuPcG",
        "outputId": "4193cd82-6567-4760-ce45-17f9a95e212d"
      },
      "outputs": [],
      "source": [
        "#Make the project\n",
        "%%bash\n",
        "export F4PGA_INSTALL_DIR=~/opt/f4pga\n",
        "export FPGA_FAM=xc7\n",
        "export TARGET=basys3\n",
        "export FOLDER=Dataflow_SV\n",
        "export FILES=\"Makefile xdc.xdc dataflow.sv\"\n",
        "source \"$F4PGA_INSTALL_DIR/$FPGA_FAM/conda/etc/profile.d/conda.sh\";\n",
        "mkdir -p /content/\"$FOLDER\"\n",
        "cd /content/tmp_code\n",
        "for file in $FILES\n",
        "do \n",
        "    cp \"$file\" /content/\"$FOLDER\"/\n",
        "done\n",
        "conda activate xc7\n",
        "cd /content/$FOLDER\n",
        "cp /content/tmp_code/errorFeedback.py ./\n",
        "time SURELOG_CMD=\"-parse\" make 2> ./error.txt 1>./compile.txt\n",
        "python errorFeedback.py"
      ]
    },
    {
      "attachments": {},
      "cell_type": "markdown",
      "metadata": {
        "id": "jkKm3WaizMYC"
      },
      "source": [
        "## **Testing it on the board**\n",
        "\n",
        "To Download it to the board you will need OpenOCD.  \n",
        "\n",
        "First create a folder to house the files on your local machine. Then download the OpenOCD configure file and the bitstream from this Notebook and add then to your folder (they will be in a zip file in /content/dataflow_sv.zip). On command line go into the folder and run the command   \n",
        "\n",
        "`openocd --file Dataflow_SV.cfg`\n",
        "\n",
        "It should only take a few moments to download to the board."
      ]
    },
    {
      "cell_type": "code",
      "execution_count": null,
      "metadata": {
        "cellView": "form",
        "id": "1XrEe8VTuUdg"
      },
      "outputs": [],
      "source": [
        "#@title Create File for openocd\n",
        "folder = \"Dataflow_SV\"\n",
        "\n",
        "with open(f\"/content/{folder}.cfg\", \"w\") as f:\n",
        "  f.write(\"\"\"interface ftdi\n",
        "ftdi_device_desc \"Digilent USB Device\"\n",
        "ftdi_vid_pid 0x0403 0x6010\n",
        "# channel 1 does not have any functionality\n",
        "ftdi_channel 0\n",
        "# just TCK TDI TDO TMS, no reset\n",
        "ftdi_layout_init 0x0088 0x008b\n",
        "reset_config none\n",
        "adapter_khz 10000\n",
        "\n",
        "source [find cpld/xilinx-xc7.cfg]\n",
        "source [find cpld/jtagspi.cfg]\n",
        "init\n",
        "\n",
        "puts [irscan xc7.tap 0x09]\n",
        "\n",
        "set xc7a35t \"0362D093\"\n",
        "set xc7a100t \"13631093\"\n",
        "set code [drscan xc7.tap 32 0]  \n",
        "puts $code\n",
        "\n",
        "if { $code == $xc7a35t} {\n",
        "    puts \"The board has an xc7a35t\"\n",
        "}\n",
        "\n",
        "if { $code == $xc7a100t} {\n",
        "    puts \"The board has an xc7a100t\"\n",
        "}\n",
        "\"\"\"\n",
        "+\n",
        "f\"\"\"\n",
        "puts \"Programming...\"\n",
        "pld load 0 {folder}.bit\n",
        "exit\"\"\"\n",
        ")"
      ]
    },
    {
      "cell_type": "code",
      "execution_count": null,
      "metadata": {
        "cellView": "form",
        "id": "sA9d33SUkNdc"
      },
      "outputs": [],
      "source": [
        "#@title Create Zip\n",
        "%%bash\n",
        "cd /content\n",
        "export FOLDER=Dataflow_SV\n",
        "cp $FOLDER/build/basys3/*.bit ./\n",
        "zip $FOLDER.zip *.bit $FOLDER.cfg\n"
      ]
    },
    {
      "attachments": {},
      "cell_type": "markdown",
      "metadata": {},
      "source": [
        "Click [Here](https://colab.research.google.com/github/byuccl/digital_design_colab2/blob/master/Exercises/twos_complement/twos_complement.ipynb) to move on to the Two's Complement Lesson."
      ]
    }
  ],
  "metadata": {
    "colab": {
      "collapsed_sections": [
        "SNHwhR5ed9Da",
        "IQd2K_jAwbFS",
        "EzO5bK_Awg2q"
      ],
      "provenance": []
    },
    "kernelspec": {
      "display_name": "Python 3.10.6 64-bit",
      "language": "python",
      "name": "python3"
    },
    "language_info": {
      "name": "python",
      "version": "3.10.12"
    },
    "vscode": {
      "interpreter": {
        "hash": "916dbcbb3f70747c44a77c7bcd40155683ae19c65e1c03b4aa3499c5328201f1"
      }
    }
  },
  "nbformat": 4,
  "nbformat_minor": 0
}
