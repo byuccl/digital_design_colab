{
  "cells": [
    {
      "attachments": {},
      "cell_type": "markdown",
      "metadata": {
        "colab_type": "text",
        "id": "view-in-github"
      },
      "source": [
        "<a href=\"https://colab.research.google.com/github/byuccl/digital_design_colab/blob/dev/Lab5_State_Machines.ipynb\" target=\"_parent\"><img src=\"https://colab.research.google.com/assets/colab-badge.svg\" alt=\"Open In Colab\"/></a>"
      ]
    },
    {
      "attachments": {},
      "cell_type": "markdown",
      "metadata": {
        "id": "z2TXhJuUF0CW"
      },
      "source": [
        "## **Setup**\n",
        "Click the Play Button. No need to expand. Do not touch this. \n",
        "<details><summary>Packages to be downloaded</summary>\n",
        "Things it needs to install:  <br>\n",
        "\n",
        " *    Verilator- the simulator  <br>\n",
        " *    PyGithub - Helps with simulation    <br>\n",
        " *    VCD - Generates waveforms from `.vcd` files  <br>\n",
        " *    Widgets - Each widget must first be generated then will be loaded when played\n",
        "</details>"
      ]
    },
    {
      "cell_type": "code",
      "execution_count": null,
      "metadata": {},
      "outputs": [],
      "source": [
        "#@title Setup\n",
        "!cd /content\n",
        "!git clone https://github.com/yne/vcd.git\n",
        "!make -C /content/vcd\n",
        "%cd /content/vcd\n",
        "!make install\n",
        "%cd /\n",
        "import ipywidgets as widgets\n",
        "from ipywidgets import GridspecLayout\n",
        "from ipywidgets import AppLayout, Button, Layout, jslink, IntText, IntSlider\n",
        "import requests\n",
        "\n",
        "!mkdir -p /content/tmp_code\n",
        "#Creates a text document using the Raw github url. This text document will be used as a .py file for imports\n",
        "def import_text(text):\n",
        "  url = \"https://raw.githubusercontent.com/byuccl/digital_design_colab/master/Labs/state_machine_lab/files/%s\" % text\n",
        "  resp = requests.get(url)\n",
        "  with open(text, 'wb') as f:\n",
        "    f.write(resp.content)\n",
        "\n",
        "import_text(\"import_all.py\")\n",
        "from import_all import *\n",
        "import_source()\n",
        "import_packages()\n",
        "from simulation import *\n",
        "from vcd2wd import *\n",
        "!apt-get install verilator >/dev/null\n",
        "def quiz_func(a):\n",
        "  quiz_bot.quiz_func(a)\n",
        "!pip install --upgrade git+https://github.com/anon36424/nb_js_diagrammers.git\n",
        "%load_ext nb_js_diagrammers"
      ]
    },
    {
      "attachments": {},
      "cell_type": "markdown",
      "metadata": {},
      "source": [
        "# One Shot "
      ]
    },
    {
      "attachments": {},
      "cell_type": "markdown",
      "metadata": {},
      "source": [
        "One large problem when dealing with inputs is that they are read every single cycle.  \n",
        "It is impossible to press a button for a single clock cycle. So if we press the button\n",
        "it may be pressed for thousands of clock cycles. This is where a one shot helps us.  \n",
        "\n",
        "It only reads the button press for cycle. It does this by converting the button into a different signal which after one cycle goes low. Releasing and pressing again can reset the oneshot.\n",
        "\n",
        "One Shot should have 3 states, IDLE, ONESHOT, WAIT.  \n",
        "    IDLE: Waiting for an input. When in goes high, transitions to ONESHOT.\n",
        "    ONESHOT: Input received, out is high for one cycle. Goes to WAIT.\n",
        "    WAIT: Waits for the input to go low. Out is low. When out goes to low, transitions to IDLE.  \n",
        "\n",
        "| Module Name: | OneShot |||\n",
        "| -- --------- | ----------- |--|--|\n",
        "| Port Name      | Direction       |Width|Function|\n",
        "| reset \t|Input \t|1| Active high reset|\n",
        "| in \t|Input \t|1| Signal to One Shot|\n",
        "| out |Output |1| One Shot signal|\n",
        "| clk \t|Input \t|1| Clock Signal |\n"
      ]
    },
    {
      "attachments": {},
      "cell_type": "markdown",
      "metadata": {},
      "source": [
        "# Safe Combination State Machine"
      ]
    },
    {
      "attachments": {},
      "cell_type": "markdown",
      "metadata": {},
      "source": [
        "For this lab you will design a combination lock state machine.\n",
        "States:  \n",
        "\n",
        "\n",
        "\n",
        "<img src=\"https://raw.githubusercontent.com/byuccl/digital_design_colab/main/State_Machine/media/StateDiagram.svg\"\n",
        "width=\"500\" height=\"300\" style=\"display: block; margin: 0 auto \" />\n",
        "<br>\n",
        "\n",
        "Intermediate Signals:  \n",
        "CODE: If the correct code for the current state is input, then CODE is high, else, CODE is low.  \n",
        "Q: If any button is pressed, Q is high. This represents entering the code.  \n",
        "\n",
        "\n",
        "State Machine:  \n",
        "\n",
        "IDLE: The state machine will wait for BTNC to be pressed.\n",
        "\n",
        "COMBINATION_ONE: IF Q is low, nothing happens. If Q is High and Code is high, the correct code has been entered and go to next state. If Q is High and Code is Low, the incorrect code has been entered so go back to the IDLE state. In this state, LED should be given a value of `1`. \n",
        "\n",
        "COMBINATION_TWO: IF Q is low, nothing happens. If Q is High and Code is high, the correct code has been entered and go to next state. If Q is High and Code is Low, the incorrect code has been entered so go back to the IDLE state.  LED should be given a value of `2`. \n",
        "\n",
        "\n",
        "COMBINATION_THREE: IF Q is low, nothing happens. If Q is High and Code is high, the correct code has been entered and go to next state. If Q is High and Code is Low, the incorrect code has been entered so go back to the IDLE state.  LED should be given a value of `3`. \n",
        "\n",
        "OPEN: After the 3 codes have been entered, the safe will 'open' and show an LED code. If BTNC is pressed the safe will go back to IDLE state.  \n",
        "\n",
        "\n",
        "| Module Name: | State Machine |||\n",
        "| -- --------- | ----------- |--|--|\n",
        "| Port Name      | Direction       |Width|Function|\n",
        "|clk \t|Input \t|1| Clock used for timing|\n",
        "|btnu \t|Input \t|1| Button Up|\n",
        "|btnd \t|Input \t|1| Button Down|\n",
        "|btnc \t|Input \t|1| Button Center|\n",
        "|btnl \t|Input \t|1| Button Left|\n",
        "|btnr \t|Input \t|1| Button Right|\n",
        "|sw \t|Input \t|16 | Input used for the code|\n",
        "| led | Output | 16 | Output for the State Machine |\n",
        "\n",
        "\n",
        "\n",
        " \n",
        "Specifications:\n",
        "\n",
        "Q: If btnu, btnd, btnc, btnr, or btnl are high, then Q is high.\n",
        "\n",
        "CODE:  \n",
        "Combination 1: btnd, and sw = `16'b0000000000000001`\n",
        "\n",
        "Combination 2: btnr and sw = `16'b1111001111001111`\n",
        "\n",
        "Combination 3: btnc and sw = `16'b0100101010100111`"
      ]
    },
    {
      "attachments": {},
      "cell_type": "markdown",
      "metadata": {
        "id": "UUCB26A_vQTz"
      },
      "source": [
        "\n",
        "## Creating a Module"
      ]
    },
    {
      "cell_type": "code",
      "execution_count": null,
      "metadata": {
        "cellView": "form",
        "id": "N2eL6OBHveTY"
      },
      "outputs": [],
      "source": [
        "#@title\n",
        "createSimulationWorkSpace(\"tmp_code/statemachine\")"
      ]
    },
    {
      "cell_type": "code",
      "execution_count": null,
      "metadata": {
        "cellView": "form",
        "id": "UKp9A_W1txnq"
      },
      "outputs": [],
      "source": [
        "#@title Create WaveDrom\n",
        "df2wd(\"sm\")"
      ]
    },
    {
      "cell_type": "code",
      "execution_count": null,
      "metadata": {
        "cellView": "form",
        "id": "qsGeKCiJt0nt"
      },
      "outputs": [],
      "source": [
        "#@title Show WaveDrom\n",
        "%%wavedrom_magic -h 200 -o /content/tmp_code/sm.txt\n",
        "---"
      ]
    },
    {
      "attachments": {},
      "cell_type": "markdown",
      "metadata": {
        "id": "Ej_RS56DikGK"
      },
      "source": [
        "###XDC Files"
      ]
    },
    {
      "cell_type": "code",
      "execution_count": null,
      "metadata": {
        "id": "1AXBeZbBAQ2y"
      },
      "outputs": [],
      "source": [
        "#Set this up yourself\n",
        "%%bash -c 'cat > /content/tmp_code/xdc.xdc'\n",
        "###################################################################\n",
        "# basys3_220.xdc\n",
        "#\n",
        "# This is a master constraints file for laboratory assignments used\n",
        "# at BYU for ECEN 220.\n",
        "#\n",
        "# You should uncomment those lines that define ports that you used\n",
        "# in your top-level design. You should also change the name of the\n",
        "# port in the .xdc file to match your corresponding top-level port.\n",
        "#\n",
        "###################################################################\n",
        "\n",
        "# ## Clock\n",
        "# set_property -dict { PACKAGE_PIN W5   IOSTANDARD LVCMOS33 } [get_ports clk]\n",
        "# create_clock -add -name sys_clk_pin -period 10.00 -waveform {0 5} [get_ports clk]\n",
        "\n",
        "# ## Buttons\n",
        "# set_property -dict { PACKAGE_PIN U18   IOSTANDARD LVCMOS33 } [get_ports { btnc }];\n",
        "# set_property -dict { PACKAGE_PIN T18   IOSTANDARD LVCMOS33 } [get_ports { btnu }];\n",
        "# set_property -dict { PACKAGE_PIN W19   IOSTANDARD LVCMOS33 } [get_ports { btnl }];\n",
        "# set_property -dict { PACKAGE_PIN T17   IOSTANDARD LVCMOS33 } [get_ports { btnr }];\n",
        "# set_property -dict { PACKAGE_PIN U17   IOSTANDARD LVCMOS33 } [get_ports { btnd }];\n",
        "\n",
        "# ## Switches\n",
        "# set_property -dict { PACKAGE_PIN V17   IOSTANDARD LVCMOS33 } [get_ports { sw[0] }];\n",
        "# set_property -dict { PACKAGE_PIN V16   IOSTANDARD LVCMOS33 } [get_ports { sw[1] }];\n",
        "# set_property -dict { PACKAGE_PIN W16   IOSTANDARD LVCMOS33 } [get_ports { sw[2] }];\n",
        "# set_property -dict { PACKAGE_PIN W17   IOSTANDARD LVCMOS33 } [get_ports { sw[3] }];\n",
        "# set_property -dict { PACKAGE_PIN W15   IOSTANDARD LVCMOS33 } [get_ports { sw[4] }];\n",
        "# set_property -dict { PACKAGE_PIN V15   IOSTANDARD LVCMOS33 } [get_ports { sw[5] }];\n",
        "# set_property -dict { PACKAGE_PIN W14   IOSTANDARD LVCMOS33 } [get_ports { sw[6] }];\n",
        "# set_property -dict { PACKAGE_PIN W13   IOSTANDARD LVCMOS33 } [get_ports { sw[7] }];\n",
        "# set_property -dict { PACKAGE_PIN V2    IOSTANDARD LVCMOS33 } [get_ports { sw[8] }];\n",
        "# set_property -dict { PACKAGE_PIN T3    IOSTANDARD LVCMOS33 } [get_ports { sw[9] }];\n",
        "# set_property -dict { PACKAGE_PIN T2    IOSTANDARD LVCMOS33 } [get_ports { sw[10] }];\n",
        "# set_property -dict { PACKAGE_PIN R3    IOSTANDARD LVCMOS33 } [get_ports { sw[11] }];\n",
        "# set_property -dict { PACKAGE_PIN W2    IOSTANDARD LVCMOS33 } [get_ports { sw[12] }];\n",
        "# set_property -dict { PACKAGE_PIN U1    IOSTANDARD LVCMOS33 } [get_ports { sw[13] }];\n",
        "# set_property -dict { PACKAGE_PIN T1    IOSTANDARD LVCMOS33 } [get_ports { sw[14] }];\n",
        "# set_property -dict { PACKAGE_PIN R2    IOSTANDARD LVCMOS33 } [get_ports { sw[15] }];\n",
        "\n",
        "# # LEDs\n",
        "# set_property -dict { PACKAGE_PIN U16   IOSTANDARD LVCMOS33 } [get_ports { led[0] }];\n",
        "# set_property -dict { PACKAGE_PIN E19   IOSTANDARD LVCMOS33 } [get_ports { led[1] }];\n",
        "# set_property -dict { PACKAGE_PIN U19   IOSTANDARD LVCMOS33 } [get_ports { led[2] }];\n",
        "# set_property -dict { PACKAGE_PIN V19   IOSTANDARD LVCMOS33 } [get_ports { led[3] }];\n",
        "# set_property -dict { PACKAGE_PIN W18   IOSTANDARD LVCMOS33 } [get_ports { led[4] }];\n",
        "# set_property -dict { PACKAGE_PIN U15   IOSTANDARD LVCMOS33 } [get_ports { led[5] }];\n",
        "# set_property -dict { PACKAGE_PIN U14   IOSTANDARD LVCMOS33 } [get_ports { led[6] }];\n",
        "# set_property -dict { PACKAGE_PIN V14   IOSTANDARD LVCMOS33 } [get_ports { led[7] }];\n",
        "# set_property -dict { PACKAGE_PIN V13   IOSTANDARD LVCMOS33 } [get_ports { led[8] }];\n",
        "# set_property -dict { PACKAGE_PIN V3    IOSTANDARD LVCMOS33 } [get_ports { led[9] }];\n",
        "# set_property -dict { PACKAGE_PIN W3    IOSTANDARD LVCMOS33 } [get_ports { led[10] }];\n",
        "# set_property -dict { PACKAGE_PIN U3    IOSTANDARD LVCMOS33 } [get_ports { led[11] }];\n",
        "# set_property -dict { PACKAGE_PIN P3    IOSTANDARD LVCMOS33 } [get_ports { led[12] }];\n",
        "# set_property -dict { PACKAGE_PIN N3    IOSTANDARD LVCMOS33 } [get_ports { led[13] }];\n",
        "# set_property -dict { PACKAGE_PIN P1    IOSTANDARD LVCMOS33 } [get_ports { led[14] }];\n",
        "# set_property -dict { PACKAGE_PIN L1    IOSTANDARD LVCMOS33 } [get_ports { led[15] }];\n",
        "\n",
        "## Segment Display\n",
        "#set_property -dict { PACKAGE_PIN W7   IOSTANDARD LVCMOS33 } [get_ports {segment[0]}]\n",
        "#set_property -dict { PACKAGE_PIN W6   IOSTANDARD LVCMOS33 } [get_ports {segment[1]}]\n",
        "#set_property -dict { PACKAGE_PIN U8   IOSTANDARD LVCMOS33 } [get_ports {segment[2]}]\n",
        "#set_property -dict { PACKAGE_PIN V8   IOSTANDARD LVCMOS33 } [get_ports {segment[3]}]\n",
        "#set_property -dict { PACKAGE_PIN U5   IOSTANDARD LVCMOS33 } [get_ports {segment[4]}]\n",
        "#set_property -dict { PACKAGE_PIN V5   IOSTANDARD LVCMOS33 } [get_ports {segment[5]}]\n",
        "#set_property -dict { PACKAGE_PIN U7   IOSTANDARD LVCMOS33 } [get_ports {segment[6]}]\n",
        "\n",
        "##Anodes \n",
        "#set_property -dict { PACKAGE_PIN U2   IOSTANDARD LVCMOS33 } [get_ports {anode[0]}]\n",
        "#set_property -dict { PACKAGE_PIN U4   IOSTANDARD LVCMOS33 } [get_ports {anode[1]}]\n",
        "#set_property -dict { PACKAGE_PIN V4   IOSTANDARD LVCMOS33 } [get_ports {anode[2]}]\n",
        "#set_property -dict { PACKAGE_PIN W4   IOSTANDARD LVCMOS33 } [get_ports {anode[3]}]\n",
        "##\n"
      ]
    },
    {
      "attachments": {},
      "cell_type": "markdown",
      "metadata": {
        "id": "_toaZpwTui3E"
      },
      "source": [
        "\n",
        "## Compiling with the F4PGA Toolchain\n"
      ]
    },
    {
      "attachments": {},
      "cell_type": "markdown",
      "metadata": {
        "id": "IQd2K_jAwbFS"
      },
      "source": [
        "### Installing the Toolchain"
      ]
    },
    {
      "cell_type": "code",
      "execution_count": null,
      "metadata": {
        "id": "_Kiqepttt8OK"
      },
      "outputs": [],
      "source": [
        "# !pip install -q condacolab\n",
        "# import condacolab\n",
        "# condacolab.install()"
      ]
    },
    {
      "cell_type": "code",
      "execution_count": null,
      "metadata": {
        "id": "ZQFNmbQquBYV"
      },
      "outputs": [],
      "source": [
        "!apt install -y git wget xz-utils"
      ]
    },
    {
      "cell_type": "code",
      "execution_count": null,
      "metadata": {
        "id": "rF1gehMvuC1L"
      },
      "outputs": [],
      "source": [
        "%%bash\n",
        "cd /content\n",
        "git clone https://github.com/chipsalliance/f4pga-examples\n",
        "cd f4pga-examples\n",
        "wget https://repo.continuum.io/miniconda/Miniconda3-latest-Linux-x86_64.sh -O conda_installer.sh\n"
      ]
    },
    {
      "cell_type": "code",
      "execution_count": null,
      "metadata": {
        "id": "4RV_Okw2uJYm"
      },
      "outputs": [],
      "source": [
        "#Creates the Conda Environment\n",
        "%%bash\n",
        "cd /content/f4pga-examples\n",
        "export F4PGA_INSTALL_DIR=~/opt/f4pga\n",
        "export FPGA_FAM=xc7\n",
        "bash conda_installer.sh -u -b -p $F4PGA_INSTALL_DIR/$FPGA_FAM/conda;\n",
        "source \"$F4PGA_INSTALL_DIR/$FPGA_FAM/conda/etc/profile.d/conda.sh\";\n",
        "conda env create -f $FPGA_FAM/environment.yml"
      ]
    },
    {
      "cell_type": "code",
      "execution_count": null,
      "metadata": {
        "id": "FBqTs5CsuLb6"
      },
      "outputs": [],
      "source": [
        "#Download F4PGA Arch Defs\n",
        "%%bash\n",
        "export F4PGA_INSTALL_DIR=~/opt/f4pga\n",
        "export FPGA_FAM=xc7\n",
        "source \"$F4PGA_INSTALL_DIR/$FPGA_FAM/conda/etc/profile.d/conda.sh\";\n",
        "conda activate xc7\n",
        "mkdir -p $F4PGA_INSTALL_DIR/xc7/install\n",
        "\n",
        "F4PGA_TIMESTAMP='20220907-210059'\n",
        "F4PGA_HASH='66a976d'\n",
        "export F4PGA_PACKAGES='install-xc7 xc7a50t_test'\n",
        "\n",
        "for PKG in $F4PGA_PACKAGES; do\n",
        "  wget -qO- https://storage.googleapis.com/symbiflow-arch-defs/artifacts/prod/foss-fpga-tools/symbiflow-arch-defs/continuous/install/${F4PGA_TIMESTAMP}/symbiflow-arch-defs-${PKG}-${F4PGA_HASH}.tar.xz | tar -xJC $F4PGA_INSTALL_DIR/${FPGA_FAM}\n",
        "done"
      ]
    },
    {
      "attachments": {},
      "cell_type": "markdown",
      "metadata": {
        "id": "EzO5bK_Awg2q"
      },
      "source": [
        "### Compiling with the Toolchain"
      ]
    },
    {
      "cell_type": "code",
      "execution_count": null,
      "metadata": {
        "id": "ZnnVzP55uSCL"
      },
      "outputs": [],
      "source": [
        "#This creates the Makefile\n",
        "with open(\"/content/tmp_code/Makefile\", \"w\") as f:\n",
        "  f.write(\"\"\"current_dir := ${CURDIR}\n",
        "TARGET := basys3\n",
        "\n",
        "TOP := StateMachine\n",
        "\n",
        "XDC := ${current_dir}/*.xdc\n",
        "\n",
        "SOURCES := $(wildcard ${current_dir}/*.v ${current_dir}/*.sv)\n",
        "\n",
        "include /content/f4pga-examples/common/common.mk\n",
        "\"\"\")"
      ]
    },
    {
      "cell_type": "code",
      "execution_count": null,
      "metadata": {
        "id": "RmnDxe2MuPcG"
      },
      "outputs": [],
      "source": [
        "#Make the project\n",
        "%%bash\n",
        "export F4PGA_INSTALL_DIR=~/opt/f4pga\n",
        "export FPGA_FAM=xc7\n",
        "export TARGET=basys3\n",
        "export FOLDER=State_Machine\n",
        "export FILES=\"Makefile xdc.xdc StateMachine.sv OneShot.sv\"\n",
        "source \"$F4PGA_INSTALL_DIR/$FPGA_FAM/conda/etc/profile.d/conda.sh\";\n",
        "mkdir -p /content/\"$FOLDER\"\n",
        "cd /content/tmp_code\n",
        "for file in $FILES\n",
        "do \n",
        "    cp $file /content/\"$FOLDER\"/$file\n",
        "done\n",
        "conda activate xc7\n",
        "cd /content/$FOLDER\n",
        "cp /content/tmp_code/errorFeedback.py ./\n",
        "time SURELOG_CMD=\"-parse\" make 2> ./error.txt 1>./compile.txt\n",
        "python errorFeedback.py"
      ]
    },
    {
      "attachments": {},
      "cell_type": "markdown",
      "metadata": {
        "id": "jkKm3WaizMYC"
      },
      "source": [
        "## Testing it on the board"
      ]
    },
    {
      "attachments": {},
      "cell_type": "markdown",
      "metadata": {
        "id": "sRrGK3LkIbXK"
      },
      "source": [
        "You can use this configuration file and the program openOCD to download the bitstream to your board. You will need to download this file and the bitstream to your local machine."
      ]
    },
    {
      "cell_type": "code",
      "execution_count": null,
      "metadata": {
        "cellView": "form",
        "id": "1XrEe8VTuUdg"
      },
      "outputs": [],
      "source": [
        "#@title Create File for openocd\n",
        "folder = \"State_Machine\"\n",
        "bitfile = \"StateMachine\"\n",
        "\n",
        "with open(f\"/content/{folder}.cfg\", \"w\") as f:\n",
        "  f.write(\"\"\"interface ftdi\n",
        "ftdi_device_desc \"Digilent USB Device\"\n",
        "ftdi_vid_pid 0x0403 0x6010\n",
        "# channel 1 does not have any functionality\n",
        "ftdi_channel 0\n",
        "# just TCK TDI TDO TMS, no reset\n",
        "ftdi_layout_init 0x0088 0x008b\n",
        "reset_config none\n",
        "adapter_khz 10000\n",
        "\n",
        "source [find cpld/xilinx-xc7.cfg]\n",
        "source [find cpld/jtagspi.cfg]\n",
        "init\n",
        "\n",
        "puts [irscan xc7.tap 0x09]\n",
        "\n",
        "set xc7a35t \"0362D093\"\n",
        "set xc7a100t \"13631093\"\n",
        "set code [drscan xc7.tap 32 0]  \n",
        "puts $code\n",
        "\n",
        "if { $code == $xc7a35t} {\n",
        "    puts \"The board has an xc7a35t\"\n",
        "}\n",
        "\n",
        "if { $code == $xc7a100t} {\n",
        "    puts \"The board has an xc7a100t\"\n",
        "}\n",
        "\n",
        "puts \"Programming...\"\n",
        "\"\"\"\n",
        "+\n",
        "f\"\"\"\n",
        "pld load 0 {bitfile}.bit\n",
        "exit\"\"\"\n",
        ")"
      ]
    },
    {
      "cell_type": "code",
      "execution_count": null,
      "metadata": {
        "cellView": "form",
        "id": "sdL0pwYseGPK"
      },
      "outputs": [],
      "source": [
        "#@title Create Zip\n",
        "%%bash\n",
        "cd /content\n",
        "export FOLDER=State_Machine\n",
        "cp $FOLDER/build/basys3/*.bit ./\n",
        "zip $FOLDER.zip *.bit $FOLDER.cfg"
      ]
    }
  ],
  "metadata": {
    "colab": {
      "collapsed_sections": [
        "IQd2K_jAwbFS",
        "EzO5bK_Awg2q"
      ],
      "provenance": []
    },
    "kernelspec": {
      "display_name": "Python 3.10.6 64-bit",
      "language": "python",
      "name": "python3"
    },
    "language_info": {
      "name": "python",
      "version": "3.10.12"
    },
    "vscode": {
      "interpreter": {
        "hash": "916dbcbb3f70747c44a77c7bcd40155683ae19c65e1c03b4aa3499c5328201f1"
      }
    }
  },
  "nbformat": 4,
  "nbformat_minor": 0
}
