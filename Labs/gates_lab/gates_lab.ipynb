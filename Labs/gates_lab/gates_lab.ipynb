{
  "cells": [
    {
      "attachments": {},
      "cell_type": "markdown",
      "metadata": {
        "id": "SNHwhR5ed9Da"
      },
      "source": [
        "## **Setup**\n",
        "Click the Play Button. No need to expand. Do not touch this. \n",
        "<details><summary>Packages to be downloaded</summary>\n",
        "Things it needs to install:  <br>\n",
        "\n",
        " *    Verilator- the simulator  <br>\n",
        " *    PyGithub - Helps with simulation    <br>\n",
        " *    VCD - Generates waveforms from `.vcd` files  <br>\n",
        " *    Widgets - Each widget must first be generated then will be loaded when played\n",
        "</details>"
      ]
    },
    {
      "cell_type": "code",
      "execution_count": null,
      "metadata": {
        "cellView": "form",
        "id": "hDSPqXoE3ipR"
      },
      "outputs": [],
      "source": [
        "#@markdown ## **Setup**\n",
        "!git clone https://github.com/yne/vcd.git\n",
        "!make -C /content/vcd\n",
        "%cd /content/vcd\n",
        "!make install\n",
        "!apt-get install verilator >/dev/null\n",
        "%cd /\n",
        "import ipywidgets as widgets\n",
        "from ipywidgets import GridspecLayout\n",
        "from ipywidgets import AppLayout, Button, Layout, jslink, IntText, IntSlider\n",
        "import requests\n",
        "\n",
        "!mkdir -p /content/tmp_code\n",
        "#Creates a text document using the Raw github url. This text document will be used as a .py file for imports\n",
        "def import_text(text):\n",
        "  url = \"https://raw.githubusercontent.com/byuccl/digital_design_colab/master/Labs/gates_lab/files/%s\" % text\n",
        "  resp = requests.get(url)\n",
        "  with open(text, 'wb') as f:\n",
        "    f.write(resp.content)\n",
        "\n",
        "import_text(\"import_all.py\")\n",
        "from import_all import *\n",
        "import_source()\n",
        "import_packages()\n",
        "from simulation import *\n",
        "from vcd2wd import *\n",
        "!pip install --upgrade git+https://github.com/anon36424/nb_js_diagrammers.git\n",
        "%load_ext nb_js_diagrammers\n",
        "\n",
        "\n",
        "# Import lab questions\n",
        "import_text(\"frq_gates_lab.py\")\n",
        "from frq_gates_lab import *"
      ]
    },
    {
      "attachments": {},
      "cell_type": "markdown",
      "metadata": {
        "id": "Jh3RQZVnlCrh"
      },
      "source": [
        "## **SystemVerilog**"
      ]
    },
    {
      "attachments": {},
      "cell_type": "markdown",
      "metadata": {
        "id": "96xw_NPbEhjg"
      },
      "source": [
        "In this lab you will be implementing 2 different logic fuctions using structural system verilog.\n",
        "SystemVerilog is a Hardware Description Language (HDL).\n",
        "Unlike other languages, which are compiled and executed on a processor, SystemVerilog is transformed into physical hardware.\n",
        "This means that, for the most part, SystemVerilog isn't run line by line, but is describing the circuit design that you want.\n",
        "You can often switch the order of 2 lines and it won't make a difference.\n",
        "In this lab, you will only be using the logic gates that are built into the SystemVerilog language.\n",
        "You will also practice simulating your design and getting information from the waveform.\n",
        "To do this, you will need to know a few things about SystemVerilog.\n",
        "\n"
      ]
    },
    {
      "attachments": {},
      "cell_type": "markdown",
      "metadata": {
        "id": "Nam7FWYYmeoQ"
      },
      "source": [
        "<h3>\n",
        "\n",
        "<summary><b>Creating a Module</b></summary>\n",
        " \n",
        "</h3>\n",
        "\n",
        "The fundamental coding blocks of SystemVerilog are called Modules.   \n",
        "\n",
        "Think of modules as what you would call functions in other programming languages. You can call other modules and assign different signals to their inputs and outputs.\n",
        "To Define a module, first use the keyword `module` then give the module a name. \n",
        "Then inside `();` define all of the inputs and outputs separated by `,`.  \n",
        "\n",
        "After that, write any code you want in this module.  \n",
        "Finally, use the keyword `endmodule` to finish it.   \n",
        "Example: \n",
        "```\n",
        "module moduleName( \n",
        "  input logic a,\n",
        "  output logic b\n",
        "  );\n",
        "\n",
        "  // Write code here\n",
        "\n",
        "endmodule\n",
        "```\n",
        "\n",
        "\n",
        "<h3>\n",
        "\n",
        "<summary><b>Logic Gates</b></summary>\n",
        " \n",
        "</h3>\n",
        "\n",
        "System verilog has build in support for logic gates. \n",
        "You can instantiate a gate by using the format gateType(output, input1, input2).\n",
        "For example we can use the code `and(out, A, B)` to represent the following AND gate.\n",
        "\n",
        "<p align=\"left\">\n",
        "<img src=\"https://raw.githubusercontent.com/byuccl/digital_design_colab2/master/Labs/gates_lab/media/and_gate.png\"\n",
        "width=\"150\" height=\"\" style=\"display: block; margin: 0 auto\" />\n",
        "</p>\n",
        "\n",
        "You can use this same format for NOT, OR, NOR, and NAND gates.\n",
        "\n",
        "<h3>\n",
        "\n",
        "<summary><b>Internal Signals</b></summary>\n",
        " \n",
        "</h3>\n",
        "\n",
        "While you list all your module inputs and outputs at the beginning of a module, you will always need more signals to connect different parts of your circuit.\n",
        "These are called internal signals.\n",
        "For example look at the circuit below. \n",
        "\n",
        "<p align=\"left\">\n",
        "<img src=\"https://raw.githubusercontent.com/byuccl/digital_design_colab2/master/Labs/gates_lab/media/example_circuit.png\"\n",
        "width=\"250\" height=\"\" style=\"display: block; margin: 0 auto\" />\n",
        "</p>\n",
        "\n",
        "You will need intermediate signals to represent the outputs of the AND gates that become the inputs of the OR gate.\n",
        "You can declare an internal signal in sytem verilog by simply using `logic signalName`.\n",
        "So maybe for the example above you can write:\n",
        "```\n",
        "logic output1;\n",
        "logic output2;\n",
        "```\n",
        "And then you can use these signals as outputs in the AND gates, and inputs in the OR gate. \n"
      ]
    },
    {
      "attachments": {},
      "cell_type": "markdown",
      "metadata": {
        "id": "aM9GnrFnlImY"
      },
      "source": [
        "#### **Task 1**\n",
        "\n",
        "The first thing you will do is implement the following circuit in system verilog.\n",
        "\n",
        "<p align=\"left\">\n",
        "<img src=\"https://raw.githubusercontent.com/byuccl/digital_design_colab2/master/Labs/gates_lab/media/assignment_circuit.png\"\n",
        "width=\"350\" height=\"\" style=\"display: block; margin: 0 auto\" />\n",
        "</p>\n",
        "\n",
        "Start out by creating a module as shown above with 4 inputs and 1 output.\n",
        "Name your inputs A, B, C, D, and name your output Q.\n",
        "Name your module circuit.\n",
        "The next thing you may want to do is create all the internal signals that you will need to connect the gates. \n",
        "If you forget how to use the simulation workspace review the [tutorial notebook](https://colab.research.google.com/github/byuccl/digital_design_colab2/blob/master/Tutorials/using_simulation_tools/using_simulation_tools.ipynb) on the subject. \n"
      ]
    },
    {
      "cell_type": "code",
      "execution_count": null,
      "metadata": {
        "cellView": "form",
        "id": "hUo0Suc2qxtm"
      },
      "outputs": [],
      "source": [
        "#@title Launch Simulation Workspace\n",
        "\n",
        "createSimulationWorkSpace(\"tmp_code/circuit\")"
      ]
    },
    {
      "cell_type": "code",
      "execution_count": null,
      "metadata": {
        "cellView": "form",
        "id": "6XXHmp12I3SB"
      },
      "outputs": [],
      "source": [
        "#@title Create WaveDrom\n",
        "df2wd(\"function3\")\n"
      ]
    },
    {
      "cell_type": "code",
      "execution_count": null,
      "metadata": {
        "cellView": "form",
        "id": "egx3t9Rvw7af"
      },
      "outputs": [],
      "source": [
        "#@title Show WaveDrom\n",
        "%%wavedrom_magic -h 200 -o /content/tmp_code/function3.txt\n",
        "---"
      ]
    },
    {
      "cell_type": "code",
      "execution_count": null,
      "metadata": {},
      "outputs": [],
      "source": [
        "#@title Verilator TestBench\n",
        "!verilator --cc circuit.sv \n",
        "!verilator -Wall --trace -cc circuit.sv --exe tb_task1.cpp\n",
        "!make -C obj_dir -f Vcircuit.mk Vcircuit > /dev/null\n",
        "!./obj_dir/Vcircuit"
      ]
    },
    {
      "cell_type": "code",
      "execution_count": null,
      "metadata": {
        "cellView": "form",
        "id": "L7ItDpxeibMD"
      },
      "outputs": [],
      "source": [
        "#@title Task 1 Questions\n",
        "print_frq_grid(1)\n",
        "print(\"\\n\\n\")\n",
        "print_frq_grid(2)\n",
        "print(\"\\n\\n\")\n",
        "print_frq_grid(3)\n",
        "print(\"\\n\\n\")\n"
      ]
    },
    {
      "attachments": {},
      "cell_type": "markdown",
      "metadata": {
        "id": "oSWJS53uq1Md"
      },
      "source": [
        "#### **Task 2**\n"
      ]
    },
    {
      "attachments": {},
      "cell_type": "markdown",
      "metadata": {
        "id": "Z6bU3UkE6v4Z"
      },
      "source": [
        "Follow the same procedure from task 1 to implement the following boolean expression.\n",
        "\n",
        "F = AB+AC'D+(BD)'\n",
        "\n",
        "Name the module expression.\n"
      ]
    },
    {
      "cell_type": "code",
      "execution_count": null,
      "metadata": {
        "cellView": "form",
        "id": "kIbaNx_1xAzZ"
      },
      "outputs": [],
      "source": [
        "#@title Launch Simulation Workspace\n",
        "createSimulationWorkSpace(\"tmp_code/expression\")"
      ]
    },
    {
      "cell_type": "code",
      "execution_count": null,
      "metadata": {
        "cellView": "form",
        "id": "iEk68_TDJLG8"
      },
      "outputs": [],
      "source": [
        "#@title Create WaveDrom\n",
        "df2wd(\"function4\")\n"
      ]
    },
    {
      "cell_type": "code",
      "execution_count": null,
      "metadata": {
        "cellView": "form",
        "id": "Nr9fhyEtJOCY"
      },
      "outputs": [],
      "source": [
        "#@title Show WaveDrom\n",
        "%%wavedrom_magic -h 200 -o /content/tmp_code/function4.txt\n",
        "---"
      ]
    },
    {
      "cell_type": "code",
      "execution_count": null,
      "metadata": {},
      "outputs": [],
      "source": [
        "#@title Verilator TestBench\n",
        "!verilator --cc expression.sv \n",
        "!verilator -Wall --trace -cc expression.sv --exe tb_task2.cpp\n",
        "!make -C obj_dir -f Vexpression.mk Vexpression > /dev/null\n",
        "!./obj_dir/Vexpression\n",
        "\n"
      ]
    },
    {
      "attachments": {},
      "cell_type": "markdown",
      "metadata": {},
      "source": [
        "Click [Here](https://colab.research.google.com/github/byuccl/digital_design_colab2/blob/master/Exercises/karnaugh_maps/karnaugh_maps.ipynb) to move on to the Karnaugh Maps Lesson."
      ]
    }
  ],
  "metadata": {
    "colab": {
      "collapsed_sections": [
        "SNHwhR5ed9Da"
      ],
      "provenance": []
    },
    "kernelspec": {
      "display_name": "Python 3.8.10 64-bit",
      "language": "python",
      "name": "python3"
    },
    "language_info": {
      "name": "python",
      "version": "3.8.10 (default, Nov 14 2022, 12:59:47) \n[GCC 9.4.0]"
    },
    "vscode": {
      "interpreter": {
        "hash": "916dbcbb3f70747c44a77c7bcd40155683ae19c65e1c03b4aa3499c5328201f1"
      }
    }
  },
  "nbformat": 4,
  "nbformat_minor": 0
}
