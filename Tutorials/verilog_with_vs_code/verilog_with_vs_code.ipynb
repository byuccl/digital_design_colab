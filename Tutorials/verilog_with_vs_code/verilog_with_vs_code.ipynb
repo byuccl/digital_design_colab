{
  "cells": [
    {
      "cell_type": "markdown",
      "metadata": {
        "id": "eBeHm7zeLWGB"
      },
      "source": [
        "## **Writing SystemVerilog**\n",
        "\n",
        "Now that you have learned more about digital design, your next labs will require more complexity in your SystemVerilog coding.\n",
        "Since these notebooks are still under developement, the simluation workspace has only a small box to write code in and no syntax highlighting.\n",
        "To remedy this, we will suggest that write your SystemVerilog code using another platform and then paste in into our notebook for simulation and synthesis.\n",
        "A free and lightwieght options is Visual Studio code.\n",
        "This notebook will walk you through the steps of installing VS code and using a SystemVerilog extension with it.\n"
      ]
    },
    {
      "cell_type": "markdown",
      "metadata": {
        "id": "0_AYAIclLWKw"
      },
      "source": [
        "### **Installation**\n",
        "\n",
        "All you have to do is go to [this website](https://code.visualstudio.com/download), or find the website by google searching \"download VS vode\".\n",
        "From here, you simply download the proper installation files according to your operating system.\n",
        "For Mac and Windows you will need to double click the zip file and the installer will give you instructions to follow.\n",
        "On a Linux machine, you will need to execute the following commands after the files is downloaded:\n",
        "```\n",
        "cd ~/Downloads\n",
        "sudo dpkg -i [filename].deb\n",
        "```\n"
      ]
    },
    {
      "cell_type": "markdown",
      "metadata": {
        "id": "oEMuBL4zLWNI"
      },
      "source": [
        "### **Setup**\n",
        "\n",
        "Once you launch VS Code you can create a new file and store it wherever you like.\n",
        "Make sure to give your file the .sv file extension.\n",
        "On the sidebar, click the icon that looks like this <img src=\"https://raw.githubusercontent.com/byuccl/digital_design_colab2/master/Tutorials/verilog_with_vs_code/media/extensions.png\"  width=\"25\" height=\"\"> to open the extensions tab.\n",
        "Search \"systemverilog\" and choose one of the extenstions that pop up. \n",
        "We recommend the extension called [Verilog-HDL/SystemVerilog/Bluespec SystemVerilog](https://marketplace.visualstudio.com/items?itemName=mshr-h.VerilogHDL), but any extension with a high number of installs should be dependable. \n",
        "Click the blue install button, and it will be ready. \n",
        "Now any time you open a SystemVerilog file it will be recogized and this extension will come into effect for syntax highlighting and suggestions."
      ]
    },
    {
      "cell_type": "code",
      "execution_count": null,
      "metadata": {},
      "outputs": [],
      "source": [
        "Click [Here](https://colab.research.google.com/github/byuccl/digital_design_colab2/blob/master/Tutorials/bash_file_system/bash_file_system.ipynb) to move on to the Verilog with VS Code Tutorial."
      ]
    }
  ],
  "metadata": {
    "colab": {
      "provenance": []
    },
    "kernelspec": {
      "display_name": "Python 3",
      "name": "python3"
    },
    "language_info": {
      "name": "python"
    }
  },
  "nbformat": 4,
  "nbformat_minor": 0
}
