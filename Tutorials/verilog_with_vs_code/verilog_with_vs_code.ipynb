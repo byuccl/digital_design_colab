{
  "nbformat": 4,
  "nbformat_minor": 0,
  "metadata": {
    "colab": {
      "provenance": []
    },
    "kernelspec": {
      "name": "python3",
      "display_name": "Python 3"
    },
    "language_info": {
      "name": "python"
    }
  },
  "cells": [
    {
      "cell_type": "markdown",
      "source": [
        "## **Writing SystemVerilog**\n",
        "\n",
        "Now that you have learned more about digital design, your next labs will require more complexity in your SystemVerilog coding.\n",
        "Since these notebooks are still under developement, the simluation workspace has only a small box to write code in and no syntax highlighting.\n",
        "To remedy this, we will suggest that write your SystemVerilog code using another platform and then paste in into our notebook for simulation and synthesis.\n",
        "A free and lightwieght options is Visual Studio code.\n",
        "This notebook will walk you through the steps of installing VS code and using a SystemVerilog extension with it.\n"
      ],
      "metadata": {
        "id": "eBeHm7zeLWGB"
      }
    },
    {
      "cell_type": "markdown",
      "source": [
        "### **Installation**\n",
        "\n",
        "All you have to do is go to [this website](https://code.visualstudio.com/download), or find the website by google searching \"download VS vode\".\n",
        "From here, you simply download the proper installation files according to your operating system.\n",
        "For Mac and Windows you will need to double click the zip file and the installer will give you instructions to follow.\n",
        "On a Linux machine, you will need to execute the following commands after the files is downloaded:\n",
        "```\n",
        "cd ~/Downloads\n",
        "sudo dpkg -i [filename].deb\n",
        "```\n"
      ],
      "metadata": {
        "id": "0_AYAIclLWKw"
      }
    },
    {
      "cell_type": "markdown",
      "source": [
        "### **Setup**\n",
        "\n",
        "Once you launch VS Code you can create a new file and store it wherever you like.\n",
        "Make sure to give your file the .sv file extension.\n",
        "On the sidebar, click the icon that looks like this ![picture](https://raw.githubusercontent.com/byuccl/digital_design_colab2/master/Tutorials/verilog_with_vs_code/media/extensions.png) to open the extensions tab.\n",
        "Search \"systemverilog\" and choose one of the extenstions that pop up. \n",
        "We recommend the extension called [Verilog-HDL/SystemVerilog/Bluespec SystemVerilog](https://marketplace.visualstudio.com/items?itemName=mshr-h.VerilogHDL), but any extension with a high number of installs should be dependable. \n",
        "Click the blue install button, and it will be ready. \n",
        "Now any time you open a SystemVerilog file it will be recogized and this extension will come into effect for syntax highlighting and suggestions."
      ],
      "metadata": {
        "id": "oEMuBL4zLWNI"
      }
    }
  ]
}