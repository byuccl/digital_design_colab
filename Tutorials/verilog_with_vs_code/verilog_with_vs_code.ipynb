{
  "cells": [
    {
      "attachments": {},
      "cell_type": "markdown",
      "metadata": {
        "id": "eBeHm7zeLWGB"
      },
      "source": [
        "## **Writing SystemVerilog**\n",
        "\n",
        "Now that you have learned more about digital design, your next labs will require more complex SystemVerilog coding.\n",
        "Since these notebooks are still under developement, the simluation workspace has only a small box to write code in and no syntax highlighting.\n",
        "To remedy this, we will suggest that write your SystemVerilog code using another platform and then paste in into our notebook for simulation and synthesis.\n",
        "A free and lightwieght option is Visual Studio Code.\n",
        "This notebook will walk you through the steps of installing VS Code and using a SystemVerilog extension with it.\n"
      ]
    },
    {
      "attachments": {},
      "cell_type": "markdown",
      "metadata": {
        "id": "0_AYAIclLWKw"
      },
      "source": [
        "### **Installation**\n",
        "\n",
        "All you have to do is go to [this website](https://code.visualstudio.com/download) and download the proper installation files for your operating system.\n",
        "For Mac and Windows you will need to double click the downloaded file and the installer will give you instructions to follow.\n",
        "On a Linux machine, you will need to execute the following commands after the files is downloaded (where \\[filename\\] is the name of the file you downloaded):\n",
        "```\n",
        "cd ~/Downloads\n",
        "sudo dpkg -i [filename].deb\n",
        "```\n"
      ]
    },
    {
      "attachments": {},
      "cell_type": "markdown",
      "metadata": {
        "id": "oEMuBL4zLWNI"
      },
      "source": [
        "### **Setup**\n",
        "\n",
        "Once you launch VS Code you can create a new files and store them wherever you like.\n",
        "Give your SystemVerilog code files the .sv file extension for SystemVerilog. \n",
        "\n",
        "For features such as syntax highlighting, you need to install an extension for VS Code. To do open the extensions tab by clicking the icon that looks like this <img src=\"https://raw.githubusercontent.com/byuccl/digital_design_colab2/master/Tutorials/verilog_with_vs_code/media/extensions.png\"  width=\"25\" height=\"\">.\n",
        "Search \"SystemVerilog\" and choose one of the extenstions that pop up. \n",
        "We recommend the extension called [Verilog-HDL/SystemVerilog/Bluespec SystemVerilog](https://marketplace.visualstudio.com/items?itemName=mshr-h.VerilogHDL), but any extension with a high number of installs should be dependable. Click the blue install button to add the extension to your VS Code. Now any time you open a SystemVerilog file, it will be recogized and this extension will come into effect for syntax highlighting and suggestions."
      ]
    }
  ],
  "metadata": {
    "colab": {
      "provenance": []
    },
    "kernelspec": {
      "display_name": "Python 3",
      "name": "python3"
    },
    "language_info": {
      "name": "python"
    }
  },
  "nbformat": 4,
  "nbformat_minor": 0
}
