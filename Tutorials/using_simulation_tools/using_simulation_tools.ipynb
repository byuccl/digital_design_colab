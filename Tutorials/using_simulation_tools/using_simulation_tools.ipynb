{
  "cells": [
    {
      "cell_type": "markdown",
      "metadata": {
        "id": "9oJxbLOoc8Nx"
      },
      "source": [
        "## **Setup**\n",
        "Click the Play Button. No need to expand. Do not touch this. "
      ]
    },
    {
      "cell_type": "code",
      "source": [
        "#@title Install VCD\n",
        "!git clone https://github.com/yne/vcd.git\n",
        "!make -C /content/vcd\n",
        "%cd /content/vcd\n",
        "!make install\n",
        "%cd /"
      ],
      "metadata": {
        "id": "XNtO2SbD8NWt",
        "cellView": "form"
      },
      "execution_count": null,
      "outputs": []
    },
    {
      "cell_type": "code",
      "source": [
        "#@title Set Up Widgets\n",
        "import ipywidgets as widgets\n",
        "from ipywidgets import GridspecLayout\n",
        "from ipywidgets import AppLayout, Button, Layout, jslink, IntText, IntSlider"
      ],
      "metadata": {
        "id": "T1nfK1pChkJk",
        "cellView": "form"
      },
      "execution_count": null,
      "outputs": []
    },
    {
      "cell_type": "code",
      "source": [
        "#@title Import Files from Repo\n",
        "!mkdir -p /content/tmp_code\n",
        "import requests\n",
        "#Creates a text document using the Raw github url. This text document will be used as a .py file for imports\n",
        "def import_text(text):\n",
        "  url = \"https://raw.githubusercontent.com/byuccl/digital_design_colab2/master/Tutorials/using_simulation_tools/files/%s\" % text\n",
        "  resp = requests.get(url)\n",
        "  with open(text, 'wb') as f:\n",
        "    f.write(resp.content)\n",
        "\n",
        "import_text(\"import_all.py\")\n",
        "from import_all import *\n",
        "import_source()\n",
        "import_packages()\n",
        "from simulation import *\n",
        "from convertData import *"
      ],
      "metadata": {
        "id": "OqRu3m92dYf5",
        "cellView": "form"
      },
      "execution_count": null,
      "outputs": []
    },
    {
      "cell_type": "code",
      "source": [
        "#@title Install Verilator\n",
        "!apt-get install verilator >/dev/null"
      ],
      "metadata": {
        "id": "DX4MhsQZuZ1k",
        "cellView": "form"
      },
      "execution_count": null,
      "outputs": []
    },
    {
      "cell_type": "code",
      "source": [
        "#@title Install Wavedrom Extension\n",
        "!pip install --upgrade git+https://github.com/anon36424/nb_js_diagrammers.git\n",
        "%load_ext nb_js_diagrammers"
      ],
      "metadata": {
        "colab": {
          "base_uri": "https://localhost:8080/"
        },
        "cellView": "form",
        "id": "iopSydL9065Q",
        "outputId": "944715e5-916c-4690-8ede-c8cefd08cef9"
      },
      "execution_count": null,
      "outputs": [
        {
          "output_type": "stream",
          "name": "stdout",
          "text": [
            "Looking in indexes: https://pypi.org/simple, https://us-python.pkg.dev/colab-wheels/public/simple/\n",
            "Collecting git+https://github.com/anon36424/nb_js_diagrammers.git\n",
            "  Cloning https://github.com/anon36424/nb_js_diagrammers.git to /tmp/pip-req-build-h_nlu1gr\n",
            "  Running command git clone --filter=blob:none --quiet https://github.com/anon36424/nb_js_diagrammers.git /tmp/pip-req-build-h_nlu1gr\n",
            "  Resolved https://github.com/anon36424/nb_js_diagrammers.git to commit e5c241f9b76d69134b22ec2b1ed44023ee3e8443\n",
            "  Preparing metadata (setup.py) ... \u001b[?25l\u001b[?25hdone\n",
            "Collecting pyflowchart\n",
            "  Downloading pyflowchart-0.2.3-py3-none-any.whl (18 kB)\n",
            "Requirement already satisfied: astunparse in /usr/local/lib/python3.8/dist-packages (from pyflowchart->nb-js-diagrammers==0.0.7) (1.6.3)\n",
            "Requirement already satisfied: chardet in /usr/local/lib/python3.8/dist-packages (from pyflowchart->nb-js-diagrammers==0.0.7) (4.0.0)\n",
            "Requirement already satisfied: wheel<1.0,>=0.23.0 in /usr/local/lib/python3.8/dist-packages (from astunparse->pyflowchart->nb-js-diagrammers==0.0.7) (0.38.4)\n",
            "Requirement already satisfied: six<2.0,>=1.6.1 in /usr/local/lib/python3.8/dist-packages (from astunparse->pyflowchart->nb-js-diagrammers==0.0.7) (1.15.0)\n",
            "Building wheels for collected packages: nb-js-diagrammers\n",
            "  Building wheel for nb-js-diagrammers (setup.py) ... \u001b[?25l\u001b[?25hdone\n",
            "  Created wheel for nb-js-diagrammers: filename=nb_js_diagrammers-0.0.7-py3-none-any.whl size=8911 sha256=3c26ef31cebe504b106de493142981c01e92dc14e3faa8bd3a0016fda0385997\n",
            "  Stored in directory: /tmp/pip-ephem-wheel-cache-gad50gxj/wheels/73/04/f3/34cee683713c2088e67c8f7503b0cd0328af6aa0ccd4f71c73\n",
            "Successfully built nb-js-diagrammers\n",
            "Installing collected packages: pyflowchart, nb-js-diagrammers\n",
            "Successfully installed nb-js-diagrammers-0.0.7 pyflowchart-0.2.3\n"
          ]
        }
      ]
    },
    {
      "cell_type": "code",
      "source": [
        "from simulationA import *"
      ],
      "metadata": {
        "id": "ymUwlHN9_GCp"
      },
      "execution_count": null,
      "outputs": []
    },
    {
      "cell_type": "markdown",
      "source": [
        "## **Simlation**\n",
        "\n",
        "Simulation is an important part of the hardware design process. Writing a SystemVerilog module is very different than writing a program in C++ or Python. SystemVerilog is describing a hardware configuration that you want to implement, rather than giving a list of instructions for a processor to execute. After you create a design in SystemVerilog, there a many many steps that need to be done before you can download it to an FPGA board, including synthesis, placeing and routing, and bitstream generation. These tools perform complicated analysis to optimize the the hardwre implementation of your design, and this takes time. If you make a change in your design, you don't want wait for the whole process to complete just to see if it works or not before you can move on. This is one reason why simulation is important. "
      ],
      "metadata": {
        "id": "rCDQ-Yo9F2Do"
      }
    },
    {
      "cell_type": "markdown",
      "source": [
        "## **Practice**"
      ],
      "metadata": {
        "id": "4LGtiqwDuTD9"
      }
    },
    {
      "cell_type": "code",
      "source": [
        "#@title Silumation Workspace\n",
        "createSimulationWorkSpace(\"tmp_code/bitwiseAnd\")"
      ],
      "metadata": {
        "id": "Sh5Fyn99fIaJ",
        "cellView": "form"
      },
      "execution_count": null,
      "outputs": []
    }
  ],
  "metadata": {
    "kernelspec": {
      "display_name": "Python 3.9.15 64-bit",
      "language": "python",
      "name": "python3"
    },
    "language_info": {
      "name": "python",
      "version": "3.9.15"
    },
    "orig_nbformat": 4,
    "vscode": {
      "interpreter": {
        "hash": "f9f85f796d01129d0dd105a088854619f454435301f6ffec2fea96ecbd9be4ac"
      }
    },
    "colab": {
      "provenance": [],
      "collapsed_sections": [
        "9oJxbLOoc8Nx"
      ]
    }
  },
  "nbformat": 4,
  "nbformat_minor": 0
}