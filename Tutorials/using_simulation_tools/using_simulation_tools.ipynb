{
  "cells": [
    {
      "cell_type": "markdown",
      "metadata": {
        "id": "9oJxbLOoc8Nx"
      },
      "source": [
        "## **Setup**\n",
        "Click the Play Button. No need to expand. Do not touch this. "
      ]
    },
    {
      "cell_type": "code",
      "execution_count": null,
      "metadata": {
        "cellView": "form",
        "id": "XNtO2SbD8NWt"
      },
      "outputs": [],
      "source": [
        "#@title Install VCD\n",
        "!git clone https://github.com/yne/vcd.git\n",
        "!make -C /content/vcd\n",
        "%cd /content/vcd\n",
        "!make install\n",
        "%cd /"
      ]
    },
    {
      "cell_type": "code",
      "execution_count": 2,
      "metadata": {
        "cellView": "form",
        "id": "T1nfK1pChkJk"
      },
      "outputs": [],
      "source": [
        "#@title Set Up Widgets\n",
        "import ipywidgets as widgets\n",
        "from ipywidgets import GridspecLayout\n",
        "from ipywidgets import AppLayout, Button, Layout, jslink, IntText, IntSlider"
      ]
    },
    {
      "cell_type": "code",
      "execution_count": 3,
      "metadata": {
        "cellView": "form",
        "id": "OqRu3m92dYf5"
      },
      "outputs": [],
      "source": [
        "#@title Import Files from Repo\n",
        "!mkdir -p /content/tmp_code\n",
        "import requests\n",
        "#Creates a text document using the Raw github url. This text document will be used as a .py file for imports\n",
        "def import_text(text):\n",
        "  url = \"https://raw.githubusercontent.com/byuccl/digital_design_colab2/master/Tutorials/using_simulation_tools/files/%s\" % text\n",
        "  resp = requests.get(url)\n",
        "  with open(text, 'wb') as f:\n",
        "    f.write(resp.content)\n",
        "\n",
        "import_text(\"import_all.py\")\n",
        "from import_all import *\n",
        "import_source()\n",
        "import_packages()\n",
        "from simulation import *\n",
        "from convertData import *"
      ]
    },
    {
      "cell_type": "code",
      "execution_count": 4,
      "metadata": {
        "cellView": "form",
        "id": "DX4MhsQZuZ1k"
      },
      "outputs": [],
      "source": [
        "#@title Install Verilator\n",
        "!apt-get install verilator >/dev/null"
      ]
    },
    {
      "cell_type": "code",
      "execution_count": null,
      "metadata": {
        "cellView": "form",
        "id": "iopSydL9065Q"
      },
      "outputs": [],
      "source": [
        "#@title Install Wavedrom Extension\n",
        "!pip install --upgrade git+https://github.com/anon36424/nb_js_diagrammers.git\n",
        "%load_ext nb_js_diagrammers"
      ]
    },
    {
      "cell_type": "markdown",
      "metadata": {
        "id": "rCDQ-Yo9F2Do"
      },
      "source": [
        "## **Simulation**\n",
        "\n"
      ]
    },
    {
      "cell_type": "markdown",
      "metadata": {
        "id": "LXmeV2WgS7eu"
      },
      "source": [
        "Simulation is an important part of the hardware design process. Writing a SystemVerilog module is very different than writing a program in C++ or Python. SystemVerilog is describing a hardware configuration that you want to implement, rather than giving a list of instructions for a processor to execute. After you create a design in SystemVerilog, there a many many steps that need to be done before you can download it to an FPGA board, including synthesis, placeing and routing, and bitstream generation. These tools perform complicated analysis to optimize the the hardwre implementation of your design, and this takes time. If you make a change in your design, you don't want wait for the whole process to complete just to see if it works or not before you can move on. This is one reason why simulation is important. "
      ]
    },
    {
      "cell_type": "markdown",
      "metadata": {
        "id": "2P4un-BPS8FO"
      },
      "source": [
        "#### **Workspace**\n",
        "\n",
        "Below is an image of the simulation workspace with each feature labeled. \n",
        "\n",
        "<p align=\"left\">\n",
        "<img src=\"https://raw.githubusercontent.com/byuccl/digital_design_colab2/master/Tutorials/using_simulation_tools/media/SimWorkSpace.jpg\"\n",
        "width=\"500\" height=\"\" style=\"display: block; margin: 0 auto\" />\n",
        "</p>\n",
        "\n",
        "\n",
        "1. This is where you will see the system verilog code that will be simulated. If you have a bug, you can make quick changes from here.\n",
        "\n",
        "2. This is where  you can edit the .stm file that says what things will be simulated. This file formate is quite simple. The first line will either say \"comb\" or \"clk\". Use \"comb\" for simple combinational circuits and \"clk\" if the disign uses timing and registers. The second line will always have the name of each input signal separated by spaces. These are the signals that you will be able to stimulate to see what output is produced. All lines after the first two are essentially a list of values that you want to assign to the input signals. Yous separete the values in each row just like you did with the signal names, with each column corresponding to a signal from the second line.\n",
        "\n",
        "3. This selects the number system that you will be using in your .stm simulation file. By clicking the dropdown on the right side of the bar you can select between decimal, hexadecimal, and binary. \n",
        "\n",
        "4. You can select and deselect this box to print out the source code below the text display of the simulation waveform. This is useful if you want to double check that the changes to your code were saved before simulation.\n",
        "\n",
        "5. Click this button to run the simulation. It will print out your simulation waveform if the simulation was successful, or it will print out an error message if something went wrong. Always click the \"Save Code\" button (6) before clicking the run simulation button.\n",
        "\n",
        "6. Click this button to save your code before running your simulation. It will save your files in the current runtime of the Notebook, but if you close the notebook and come back later, it will reload the default version of the files. \n",
        "\n",
        "7. This button can your design file to it's last saved version. For example, if you press \"save code\", and then make  a few changes, and then decide that these changes won't work, you can press restore code to go back the design you had when you pressed \"save code\". Each time you press \"save code\" it will overwrite the design to be restored. "
      ]
    },
    {
      "cell_type": "markdown",
      "metadata": {
        "id": "7A7o8UUdjzP5"
      },
      "source": [
        "#### **Wavedrom Display**\n",
        "\n",
        "After running the simulation, you can display your waveform again using the wavedrom tool. This tool produces an image that is easier to look at than the default output from the simulation workspace. To produce the wavedrom display, you just need to run the 2 code blocks that follow the simulation workspace widget. First press play on the \"Create Wavedrom\" block, and then press play on the \"Show Wavedrom\" block. "
      ]
    },
    {
      "cell_type": "markdown",
      "metadata": {
        "id": "4LGtiqwDuTD9"
      },
      "source": [
        "## **Practice**"
      ]
    },
    {
      "cell_type": "markdown",
      "metadata": {
        "id": "I5W6mn4xmAFh"
      },
      "source": [
        "We have given you a sample design so you can practice using the simulation tools. This design has 3 inputs: sw1, sw2, and btnc. sw1 and sw2 are each a set of 4 switches, and btnc is a button. If btnc is pressed then a bitwise and will be performed on sw1 and sw2 and the result will be displayed on some leds. Try writing a simulation sciript that will test this module, there are prompts for each line of the .stm file."
      ]
    },
    {
      "cell_type": "code",
      "execution_count": null,
      "metadata": {
        "cellView": "form",
        "id": "Sh5Fyn99fIaJ"
      },
      "outputs": [],
      "source": [
        "#@title Simulation Workspace\n",
        "createSimulationWorkSpace(\"tmp_code/bitwiseAnd\")"
      ]
    },
    {
      "cell_type": "code",
      "execution_count": null,
      "metadata": {
        "cellView": "form",
        "id": "hvck_WfkMui0"
      },
      "outputs": [],
      "source": [
        "#@title Create WaveDrom\n",
        "df2wd(\"bitwiseAnd\")"
      ]
    },
    {
      "cell_type": "code",
      "execution_count": null,
      "metadata": {
        "cellView": "form",
        "id": "oOOHsCFXM4LU"
      },
      "outputs": [],
      "source": [
        "#@title Show WaveDrom\n",
        "%%wavedrom_magic -h 200 -o /content/tmp_code/bitwiseAnd.txt\n",
        "---"
      ]
    },
    {
      "attachments": {},
      "cell_type": "markdown",
      "metadata": {},
      "source": [
        "Click [Here](https://colab.research.google.com/github/byuccl/digital_design_colab2/blob/master/Labs/dataflow_lab/dataflow_lab.ipynb) to move on to the Dataflow System Verilog Lab."
      ]
    }
  ],
  "metadata": {
    "colab": {
      "collapsed_sections": [
        "9oJxbLOoc8Nx"
      ],
      "provenance": []
    },
    "kernelspec": {
      "display_name": "Python 3",
      "language": "python",
      "name": "python3"
    },
    "language_info": {
      "name": "python",
      "version": "3.8.10 (default, Nov 14 2022, 12:59:47) \n[GCC 9.4.0]"
    },
    "orig_nbformat": 4,
    "vscode": {
      "interpreter": {
        "hash": "916dbcbb3f70747c44a77c7bcd40155683ae19c65e1c03b4aa3499c5328201f1"
      }
    }
  },
  "nbformat": 4,
  "nbformat_minor": 0
}
