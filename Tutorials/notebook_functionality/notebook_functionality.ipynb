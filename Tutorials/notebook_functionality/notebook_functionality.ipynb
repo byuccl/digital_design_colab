{
  "cells": [
    {
      "cell_type": "markdown",
      "source": [
        "# Overview\n",
        " \n",
        "## What is a Google Colab Notebook?\n",
        " \n",
        "\"Colab notebooks are Jupyter notebooks that run in the cloud and are highly integrated with Google Drive, making them easy to set up, access, and share\" - Google\n",
        "\n",
        "These notebooks make it easy for us to share with you interactive notebooks which are run on virtual machines. This makes it much easier because it doesn't matter what operating system you are running, you can easily download any needed software on the VM.\n",
        "\n",
        "Another advantage is that you can run the code one block at a time. This allows you to not have to rerun some blocks more than once. \n",
        "\n",
        "\n",
        "\n",
        "\n",
        "\n",
        "\n",
        "\n",
        "\n",
        "\n"
      ],
      "metadata": {
        "id": "xcArwE2Zgq91"
      }
    },
    {
      "cell_type": "markdown",
      "source": [
        "##What is the point of this notebook?\n",
        "\n",
        "The goal of this notebook is for you to learn some of the basics of Google Colab notebooks and to be able to move forward with other notebooks effectively."
      ],
      "metadata": {
        "id": "fi8Q7FgDHIG8"
      }
    },
    {
      "cell_type": "markdown",
      "source": [
        "## How do I use this notebook?\n",
        "A notebook consists of a collection of cells.  Some cells display information.  Others contain code.  You interact with cells by \"running\" them.  For example, the Setup block of code is shown below. Code cells are setup to execute python code by default.\n",
        "\n"
      ],
      "metadata": {
        "id": "h26ehIf2HRVA"
      }
    },
    {
      "cell_type": "code",
      "source": [
        "#@title Setup\n",
        "var = \"Hello world\"\n",
        "print(var)"
      ],
      "metadata": {
        "colab": {
          "base_uri": "https://localhost:8080/"
        },
        "id": "SIb_W2RPH19h",
        "outputId": "a9d4b89e-c2d3-4ef3-9f95-43952bf7deb2"
      },
      "execution_count": 1,
      "outputs": [
        {
          "output_type": "stream",
          "name": "stdout",
          "text": [
            "Hello world\n"
          ]
        }
      ]
    },
    {
      "cell_type": "markdown",
      "source": [
        "There are two types of arrows shown in the code block above. The arrow next to the word \"Setup\" allows you to expand and collapse groups of cells. In this series of notebooks there will often be a `Setup` block of code that will be collapsed to start with. There is no need to expand the cells, but you can do so if you want to see the specifics of the code.\n",
        "\n",
        "Another kind of button is shown when you hover over the code block itself. This type of button is a \"run button\". Clicking that specific button will execute the code to setup the notebook and thus would be the first run button you would click. The run button can also be found to the left of any code block.\n",
        "\n",
        "When you click a run button you may see a dashed circle around it which slowly fills in to a solid circle - this is the progress bar for that run action.  Some run buttons may take a minute or two to fully run the code they control and so the progress bar will help you see what is happening.  In addition, status messsages at the bottom of your screen show the progress of the running cell.\n",
        "\n",
        "Only one block of code can run at a time. When a block of code is running, its run button will have a square inside it which can be used to stop it running.  However, stopping blocks of code, especially when downloading things may take some time. "
      ],
      "metadata": {
        "id": "p0RHfUGEH2Ze"
      }
    },
    {
      "cell_type": "markdown",
      "source": [
        "## How do widgets work?\n",
        " \n",
        "Widgets are interactive modules that enhance the user experience. One such widget is a truth table widget shown below\n",
        "\n",
        "Pressing its play button (above a widget) will load it into the notebook. You can then answer the given question by changing values or clicking on the boxes. Hitting \"Click to Check\" button will check the answers provided. You can try as many times as you want."
      ],
      "metadata": {
        "id": "FJcq0HpnHVYk"
      }
    },
    {
      "cell_type": "markdown",
      "source": [
        "## Does it save my progress?\n",
        " \n",
        "Any edits you make to this file will not be saved. In order to save your changes, the File menu item at the top of the notebook will allow you to make a copy of this notebook by saving it to your drive that you can edit however you please.\n",
        "\n",
        "Another thing to note is that if you stop using the notebook for a certain length of time, you will be disconnected from your Virtual Machine. This means anything downloaded or any files saved will be lost. So if this happens, just rerun setup code blocks and any code blocks that generated files. \n",
        "In other words, it will save changes made to the notebook but not any files or changes to the virtual machine."
      ],
      "metadata": {
        "id": "L3EI3KQLHY6o"
      }
    },
    {
      "cell_type": "markdown",
      "source": [
        "## Moving On\n",
        "At this point you can now start working through the notebooks. To get an overview of the Lab notebooks that you'll be doing periodically as projects, feel free to optionally go over [this]() before moving on to the first Exercise notebook. Otherwise, click [here](https://colab.research.google.com/github/byuccl/digital_design_colab2/blob/master/Exercises/boolean_algebra/boolean_algebra.ipynb) to jump into the first Exercise notebook.\n",
        "\n",
        "<hr>"
      ],
      "metadata": {
        "id": "x294HBL4HfW7"
      }
    }
  ],
  "metadata": {
    "kernelspec": {
      "display_name": "Python 3.9.15 64-bit",
      "language": "python",
      "name": "python3"
    },
    "language_info": {
      "name": "python",
      "version": "3.9.15"
    },
    "orig_nbformat": 4,
    "vscode": {
      "interpreter": {
        "hash": "f9f85f796d01129d0dd105a088854619f454435301f6ffec2fea96ecbd9be4ac"
      }
    },
    "colab": {
      "provenance": []
    }
  },
  "nbformat": 4,
  "nbformat_minor": 0
}