{
  "cells": [
    {
      "cell_type": "markdown",
      "metadata": {
        "id": "0SDKn71IgNrU"
      },
      "source": [
        "## **Setup**\n",
        "Click the Play Button. No need to expand. Do not touch this. "
      ]
    },
    {
      "cell_type": "markdown",
      "source": [
        "# Overview\n",
        " \n",
        "## What is a Google Colab Notebook?\n",
        " \n",
        "\"Colab notebooks are Jupyter notebooks that run in the cloud and are highly integrated with Google Drive, making them easy to set up, access, and share\" - Google\n",
        "\n",
        "These notebooks make it easy for us to share with you interactive notebooks which are run on virtual machines. This makes it much easier because it doesn't matter what operating system you are running, you can easily download any needed software on the VM.\n",
        "\n",
        "Another advantage is that you can run the code one block at a time. This allows you to not have to rerun some blocks more than once. \n",
        "\n",
        "## What is the point of this notebook?\n",
        "\n",
        "The goal of this notebook is for you to learn some of the basics of Google Colab notebooks and to be able to move forward with other notebooks effectively.\n",
        "\n",
        "## How do I use this notebook?\n",
        "A notebook consists of a collection of cells.  Some cells display information.  Others contain code.  You interact with cells by \"running\" them.  For example, the Setup block of code is shown below (note: this is simply a picture of what you will see below - its buttons are not clickable).\n",
        "\n",
        "![picture](https://github.com/byuccl/digital_design_colab2/blob/master/Tutorials/notebook_functionality/Dataflow/media/Setup.png?raw=1)\n",
        "\n",
        "There are two types of arrows shown in the figure.  The arrow next to the word \"Setup\" allows you to expand and collapse groups of cells.  Similarly, the arrow next to the phrase \"Packages to be downloaded\" allows you to collapse or expand the code blocks that are associated with that section.\n",
        "\n",
        "However, a different kind of button is shown when you hover over the text \"15 cells hidden\".  This type of button is a \"run button\". Clicking that specific button will execute the code to setup the notebook and thus would be the first run button you would click. The run button can also be found to the left of any code block.\n",
        "\n",
        "When you click a run button you may see a dashed circle around it which slowly fills in to a solid circle - this is the progress bar for that run action.  Some run buttons may take a minute or two to fully run the code they control and so the progress bar will help you see what is happening.  In addition, status messsages at the bottom of your screen show the progress of the running cell.\n",
        "\n",
        "Only one block of code can run at a time. When a block of code is running, its run button will have a square inside it which can be used to stop it running.  However, stopping blocks of code, especially when downloading things may take some time. \n",
        "\n",
        "## How do widgets work?\n",
        " \n",
        "Widgets are interactive modules that enhance the user experience. One such widget is a truth table widget shown below(note: this is simply a picture of what you will see below - its buttons are not clickable).\n",
        "\n",
        "![picture](https://github.com/byuccl/digital_design_colab2/blob/master/Tutorials/notebook_functionality/Dataflow/media/notTT.png?raw=1)\n",
        "\n",
        "Pressing its play button (above a widget) will load it into the notebook. You can then answer the given question by changing values or clicking on the boxes. Hitting \"Click to Check\" button will check the answers provided. You can try as many times as you want.\n",
        "\n",
        "## Does it save my progress?\n",
        " \n",
        "The File menu item at the top of the notebook will allow you to make a copy of this notebook by saving it to your drive. \n",
        "\n",
        "Another thing to note is that if you stop using the notebook for a certain length of time, you will be disconnected from your Virtual Machine. This means anything downloaded or any files saved will be lost. So if this happens, just rerun setup code blocks and any code blocks that generated files. \n",
        "In other words, it will save changes made to the notebook but not any files or changes to the virtual machine.\n",
        "\n",
        "## Previous Knowledge Required For This Notebook\n",
        "  * Basic understanding of Binary number system \n",
        "  * Ability to read Truth Tables\n",
        "  * Basic knowledge of Programming including variables and branches\n",
        "  * Have access to a BASYS 3 board from Xilinx\n",
        "\n",
        "## Moving On\n",
        "At this point you can now start executing the cells of the notebook below and working through the exercises.\n",
        "\n",
        "<hr>"
      ],
      "metadata": {
        "id": "xcArwE2Zgq91"
      }
    }
  ],
  "metadata": {
    "kernelspec": {
      "display_name": "Python 3.9.15 64-bit",
      "language": "python",
      "name": "python3"
    },
    "language_info": {
      "name": "python",
      "version": "3.9.15"
    },
    "orig_nbformat": 4,
    "vscode": {
      "interpreter": {
        "hash": "f9f85f796d01129d0dd105a088854619f454435301f6ffec2fea96ecbd9be4ac"
      }
    },
    "colab": {
      "provenance": []
    }
  },
  "nbformat": 4,
  "nbformat_minor": 0
}