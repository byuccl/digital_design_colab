{
 "cells": [
  {
   "cell_type": "markdown",
   "metadata": {},
   "source": [
    "Create a branch in the repo to create this lesson.\n",
    "chechkout into the branch to start making the changes.\n",
    "Copy the creating_lesson from Tutorials folder into the exercises folder to start making changes there.\n",
    "\n",
    "There are three cells under the steup cell. Each cell correspond to the different type of questions you are going to display in your lesson.\n",
    "Choose one or more of these cells and create a file for each one with the questions and the get data function inside each file. After creating the needed files, delete the 3 cells under the setup cell.\n",
    "\n",
    "Go back to the setup cell and uncomment the sections of the files you have chosen. \n",
    "\n",
    "edit the cells, add necessary text, and import the correct files to make your lesson.\n",
    "save the collab and test it.\n",
    "If everything is working, commit the changes and make a pull request to merge you branch with the master branch."
   ]
  },
  {
   "cell_type": "code",
   "execution_count": null,
   "metadata": {},
   "outputs": [],
   "source": [
    "#@markdown ## **Setup**\n",
    "import ipywidgets as widgets\n",
    "from ipywidgets import GridspecLayout\n",
    "from ipywidgets import AppLayout, Button, Layout, jslink, IntText, IntSlider\n",
    "import requests\n",
    "#Creates a text document using the Raw github url. This text document will be used as a .py file for imports\n",
    "def import_text(location, file):\n",
    "  url = 'https://raw.githubusercontent.com/byuccl/digital_design_colab2/master/%s/%s' % (location, file)\n",
    "  resp = requests.get(url)\n",
    "  with open(file, 'wb') as f:\n",
    "    f.write(resp.content)\n",
    "    \n",
    "#uncomment this section if you want to use frqTemplate:\n",
    "\n",
    "    # import_text(\"file directory\", \"name of your file your frq file just uploaded into the notebook\")\n",
    "    # import_text(\"Templates/\", \"frqTemplate.py\")\n",
    "\n",
    "    # #Load in the files as functions\n",
    "    # from your_file import *\n",
    "    # from frqTemplate import *\n",
    "    # create_frq_dictionary(get_data())\n",
    "\n",
    "\n",
    "#uncomment this section if you want to use mcTemplate:\n",
    "\n",
    "    # import_text(\"file directory\", \"name of your file your frq file just uploaded into the notebook\")\n",
    "    # import_text(\"Templates/\", \"mcTemplate.py\")\n",
    "\n",
    "    # #Load in the files as functions\n",
    "    # from your_file import *\n",
    "    # from mcTemplate import *\n",
    "    # create_frq_dictionary(get_data())\n",
    "\n",
    "#uncomment this section if you want to use ms_template:\n",
    "\n",
    "    # import_text(\"file directory\", \"name of your file your frq file just uploaded into the notebook\")\n",
    "    # import_text(\"Templates/\", \"ms_template.py\")\n",
    "\n",
    "    # #Load in the files as functions\n",
    "    # from your_file import *\n",
    "    # from mcTemplate import *\n",
    "    # create_frq_dictionary(get_ms_data())\n"
   ]
  },
  {
   "cell_type": "code",
   "execution_count": null,
   "metadata": {},
   "outputs": [],
   "source": [
    "# if you want questions where the answer is an integer use frqTemplate:\n",
    "\n",
    "#create an frq.py python file of this form and add it to the files directory.\n",
    "\n",
    "# The dictionary that holds the questions and the answers.\n",
    "# Answers can be String or Int type. This does change the function used to create the grid object as shown\n",
    "# The key is Q + Question Index.\n",
    "# \"\"\"\n",
    "# frquestions = {\n",
    "#     \"Q1\": [\"here goes the question\", here goes the answer (no quotations), \"here goes the question number\"],\n",
    "#     // see the example below for question 2.\n",
    "#     \"Q2\": [\"What is `0111` + `0011` in Binary? (Its unsigned)\", 1010, \"Question 2\"],\n",
    "\n",
    "#     // keep adding as many as you want.\n",
    "# }\n",
    "\n",
    "# def get_data():\n",
    "#     return frquestions\n",
    "\n"
   ]
  },
  {
   "cell_type": "code",
   "execution_count": null,
   "metadata": {},
   "outputs": [],
   "source": [
    "# if you want questions where the question is a table and you select the correct answer use mcTemplate:\n",
    "\n",
    "#create an mc.py python file of this form and add it to the files directory.\n",
    "\n",
    "# \"\"\"\n",
    "# key: The question number\n",
    "# pair: [List of all the options, can be any length], Answer(This must be the same str value as the choice), Question\n",
    "# \"\"\"\n",
    "# mc_dict = {\n",
    "#     \"1\": [\n",
    "#         [\"A. Option 1\",\n",
    "#         \"B .Option 2\",\n",
    "#         \"C. Option 3\",\n",
    "#         \"D. Option 4\",],\n",
    "#         \"the correct answer\",\n",
    "#         \"The question\",\n",
    "#     ],\n",
    "#     an example is provided below:\n",
    "#     \"2\": [\n",
    "#         [\"A. BC + AC\",\n",
    "#         \"B. A'B + AB\",\n",
    "#         \"C. AC + A'B\",\n",
    "#         \"D. AB' + AC\",],\n",
    "#         \"C\",\n",
    "#         \"Which of the following match the truth table?\",\n",
    "#     ],\n",
    "# }\n",
    "\n",
    "\n",
    "# def get_data():\n",
    "#   return mc_dict\n",
    "\n"
   ]
  },
  {
   "cell_type": "code",
   "execution_count": null,
   "metadata": {},
   "outputs": [],
   "source": [
    "# if you want questions where the question is a table and you select the correct answer use mcTemplate:\n",
    "\n",
    "#create an ms.py python file of this form and add it to the files directory.\n",
    "\n",
    "# key: The question number\n",
    "# pair: This should be a list. indexes 0 - -3 are the choices. You can have up to 10 choices. -2 is the answer. -1 is the question\n",
    "# answer: This should be a string made up of the letters of the correct answers. For example, if the first and second answer are correct, the answer is \"AB\"\n",
    "# question: This is used as the header text\n",
    "# \"\"\"\n",
    "# ms_dict = {\n",
    "#     \"1\": [\n",
    "#         \"A\",\n",
    "#         \"B\",\n",
    "#         \"C\",\n",
    "#         \"D\",\n",
    "#         \"E\",\n",
    "#         \"E\",\n",
    "#         \"Which States are Complete?\",\n",
    "#     ],\n",
    "#     \"2\": [\"A\", \"B\", \"C\", \"D\", \"E\", \"ABCD\", \"Which States are Incomplete?\"],\n",
    "#     \"3\": [\"A\", \"B\", \"C\", \"D\", \"E\", \"ABCD\", \"Which States are Conflicting?\"],\n",
    "# }\n",
    "\n",
    "\n",
    "\n",
    "# def get_ms_data():\n",
    "#   return mc_dict\n"
   ]
  },
  {
   "cell_type": "markdown",
   "metadata": {},
   "source": [
    "Text you want to add as examples or explanation\n",
    "you can add as many cells as neccessary by inserting a cell whether its a code cell or a text cell."
   ]
  },
  {
   "cell_type": "code",
   "execution_count": null,
   "metadata": {},
   "outputs": [],
   "source": [
    "#@markdown Q1\n",
    "#uncomment the one you use\n",
    "# print_frq_grid(1)\n",
    "# print_mc_grid(1)\n",
    "# print_ms_grid(1)"
   ]
  },
  {
   "cell_type": "code",
   "execution_count": null,
   "metadata": {},
   "outputs": [],
   "source": [
    "#@markdown Q2\n",
    "#uncomment the one you use\n",
    "\n",
    "# print_frq_grid(2)\n",
    "# print_mc_grid(2)\n",
    "# print_ms_grid(2)"
   ]
  },
  {
   "cell_type": "code",
   "execution_count": null,
   "metadata": {},
   "outputs": [],
   "source": [
    "#@markdown Q3\n",
    "#uncomment the one you use\n",
    "\n",
    "# print_frq_grid(3)\n",
    "# print_mc_grid(3)\n",
    "# print_ms_grid(3)"
   ]
  },
  {
   "cell_type": "markdown",
   "metadata": {},
   "source": [
    "Keep adding code cells to print your questions depending on how many questions you have created in your questions file for this specific lesson."
   ]
  }
 ],
 "metadata": {
  "language_info": {
   "name": "python"
  }
 },
 "nbformat": 4,
 "nbformat_minor": 2
}
