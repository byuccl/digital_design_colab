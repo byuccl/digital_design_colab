{
 "cells": [
  {
   "cell_type": "markdown",
   "metadata": {},
   "source": [
    "Create a branch in the repo to create this lesson.\n",
    "chechkout into the branch to start making the changes.\n",
    "Copy the creating_lesson from Tutorials folder into the exercises folder to start making changes there.\n",
    "\n",
    "Under the files directory of this lesson, there are 3 different files corressponding to different types of showing questions. Depeending on which file you want to use in this lesson, uncomment the import statemenets from the setup cell.\n",
    "\n",
    "\n",
    "edit the cells, add necessary text, and import the correct files to make your lesson.\n",
    "save the collab and test it.\n",
    "If everything is working, commit the changes and make a pull request to merge you branch with the master branch."
   ]
  },
  {
   "cell_type": "code",
   "execution_count": null,
   "metadata": {},
   "outputs": [],
   "source": [
    "#@markdown ## **Setup**\n",
    "import ipywidgets as widgets\n",
    "from ipywidgets import GridspecLayout\n",
    "from ipywidgets import AppLayout, Button, Layout, jslink, IntText, IntSlider\n",
    "import requests\n",
    "#Creates a text document using the Raw github url. This text document will be used as a .py file for imports\n",
    "def import_text(location, file):\n",
    "  url = 'https://raw.githubusercontent.com/byuccl/digital_design_colab2/master/%s/%s' % (location, file)\n",
    "  resp = requests.get(url)\n",
    "  with open(file, 'wb') as f:\n",
    "    f.write(resp.content)\n",
    "    \n",
    "#uncomment this section if you want to use frqTemplate:\n",
    "\n",
    "    # import_text(\"file directory\", \"name of your file your frq file just uploaded into the notebook\")\n",
    "    # import_text(\"Templates/\", \"frqTemplate.py\")\n",
    "\n",
    "    # #Load in the files as functions\n",
    "    # from your_file import *\n",
    "    # from frqTemplate import *\n",
    "    # create_frq_dictionary(get_data())\n",
    "\n",
    "\n",
    "#uncomment this section if you want to use mcTemplate:\n",
    "\n",
    "    # import_text(\"file directory\", \"name of your file your frq file just uploaded into the notebook\")\n",
    "    # import_text(\"Templates/\", \"mcTemplate.py\")\n",
    "\n",
    "    # #Load in the files as functions\n",
    "    # from your_file import *\n",
    "    # from mcTemplate import *\n",
    "    # create_frq_dictionary(get_data())\n",
    "\n",
    "#uncomment this section if you want to use ms_template:\n",
    "\n",
    "    # import_text(\"file directory\", \"name of your file your frq file just uploaded into the notebook\")\n",
    "    # import_text(\"Templates/\", \"ms_template.py\")\n",
    "\n",
    "    # #Load in the files as functions\n",
    "    # from your_file import *a\n",
    "    # from mcTemplate import *\n",
    "    # create_frq_dictionary(get_ms_data())\n"
   ]
  },
  {
   "cell_type": "markdown",
   "metadata": {},
   "source": [
    "Text you want to add as examples or explanation\n",
    "you can add as many cells as neccessary by inserting a cell whether its a code cell or a text cell."
   ]
  },
  {
   "cell_type": "code",
   "execution_count": null,
   "metadata": {},
   "outputs": [],
   "source": [
    "#@markdown Q1\n",
    "#uncomment the one you use\n",
    "# print_frq_grid(1)\n",
    "# print_mc_grid(1)\n",
    "# print_ms_grid(1)"
   ]
  },
  {
   "cell_type": "code",
   "execution_count": null,
   "metadata": {},
   "outputs": [],
   "source": [
    "#@markdown Q2\n",
    "#uncomment the one you use\n",
    "\n",
    "# print_frq_grid(2)\n",
    "# print_mc_grid(2)\n",
    "# print_ms_grid(2)"
   ]
  },
  {
   "cell_type": "code",
   "execution_count": null,
   "metadata": {},
   "outputs": [],
   "source": [
    "#@markdown Q3\n",
    "#uncomment the one you use\n",
    "\n",
    "# print_frq_grid(3)\n",
    "# print_mc_grid(3)\n",
    "# print_ms_grid(3)"
   ]
  },
  {
   "cell_type": "markdown",
   "metadata": {},
   "source": [
    "Keep adding code cells to print your questions depending on how many questions you have created in your questions file for this specific lesson."
   ]
  }
 ],
 "metadata": {
  "language_info": {
   "name": "python"
  }
 },
 "nbformat": 4,
 "nbformat_minor": 2
}
