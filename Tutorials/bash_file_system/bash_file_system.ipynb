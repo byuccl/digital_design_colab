{
 "cells": [
  {
   "cell_type": "markdown",
   "metadata": {},
   "source": [
    "## **Setup**\n",
    "Click the Play Button. No need to expand. Do not touch this. "
   ]
  },
  {
   "cell_type": "code",
   "execution_count": null,
   "metadata": {},
   "outputs": [],
   "source": [
    "#@markdown ## **Setup**\n",
    "import ipywidgets as widgets\n",
    "from ipywidgets import GridspecLayout\n",
    "from ipywidgets import AppLayout, Button, Layout, jslink, IntText, IntSlider\n",
    "import requests\n",
    "#Creates a text document using the Raw github url. This text document will be used as a .py file for imports\n",
    "def import_text(text):\n",
    "  url = 'https://raw.githubusercontent.com/byuccl/digital_design_colab2/master/Tutorials/bash_file_system/files/%s' % text\n",
    "  resp = requests.get(url)\n",
    "  with open(text, 'wb') as f:\n",
    "    f.write(resp.content)\n",
    "\n",
    "\n",
    "import_text(\"questioncheck.py\")\n",
    "import_text(\"questions.sh\")\n",
    "\n",
    "\n",
    "\n",
    "\n",
    "\n",
    "#Load in the files as functions\n",
    "from questioncheck import *\n",
    "!source /content/questions.sh"
   ]
  },
  {
   "cell_type": "markdown",
   "metadata": {},
   "source": [
    "### The Bash File System\n",
    "\n",
    "The Linux Terminal, also known as the command-line interface (CLI), is a powerful tool that allows you to interact with your computer's operating system by typing commands. The terminal provides a text-based interface that allows you to perform various tasks, including file management.  \n",
    "\n",
    "File management is the process of organizing and manipulating files and directories on your computer. In the terminal, you can navigate, create, modify, move, and delete files and directories using simple commands.  \n",
    "\n",
    "Many programs can't be used or accessed except through the terminal. This is because many lack a GUI (Graphical User Interface). So to use them you need to understand the file system and how to navigate it.  \n",
    "\n",
    "In Linux, directories are used to organize files in a hierarchical structure. Directories are similar to folders in a graphical user interface (GUI) and can contain files and other directories.\n",
    "\n",
    "The home directory is the default directory that is created for each user when they are added to the system. The home directory is usually located at /home/username, where username is the name of the user.  \n",
    "\n",
    "`cd`: Change Directory is used to change where the user currently is. This is important for navigating and will be one of the most used commands.   \n",
    "\n",
    "&emsp; Example: \n",
    "\n",
    "&emsp;&emsp; `cd /`   Just typing `cd /` will bring the  user to the root directory  \n",
    "&emsp;&emsp; `cd ~`   This takes the user to the home directory                                     \n",
    "&emsp;&emsp; `cd ..`  This takes the user one directory back. `..` can always be used to represent going to the parent directory (one directory out).  \n",
    "&emsp;&emsp; `cd /tmp`  This takes the user to the lowest level of the file system, then into the `tmp` folder. Usually, instead we want to access files in our home   directory.    \n",
    "&emsp;&emsp; `cd ~/testing`  This takes the user to the home directory, and then to the testing folder there.  \n",
    "&emsp;&emsp; `cd ./testing`  This takes the user to the testing folder that is in the current directory. \n",
    "\n",
    "  &emsp;&emsp;You can use `cd` to get to any folder anywhere at any time.     \n",
    "   &emsp;&emsp; `cd ../../testing/math`  Go back two folders, then go to testing then the math folder.  \n",
    "\n",
    "`pwd`: Print Working Directory is used to output the current location of the user.  \n",
    "\n",
    "&emsp;   Example: `pwd`: Output: `/home/user/testing/math`\n",
    "       \n",
    " &emsp;&emsp;       This is useful to get an absolute path. \n",
    "\n",
    "Absolute VS. Relative Paths.  \n",
    "      Imagine you need to give directions to the grocery store. You can give the directions from an absolute point of reference, like from your house, or you can give directions based of where you currently are. This is what absolute path and relative paths are. Absolute path is the entire path of a file or folder, and relative is how to get to that folder or file from you current working directory.  \n",
    "\n",
    "`ls`: List is used to print the contents of the current working directory. It prints both files and folders.  \n",
    "    &emsp;    Example: `ls`: Output `README.md /Exercises /Temp text.txt`\n",
    "\n",
    "Note: Folders or files that begin with `.` (`.git/`), will not appear with a regular `ls`.  \n",
    "\n",
    "Tips: When in a terminal you can use tab to autocomplete. If there is more than one option, you can press tab twice and it will print all valid options.  \n",
    "\n",
    "`mkdir`: Make Directory creates a directory at the given location.  \n",
    "    &emsp;    Example:   \n",
    "    &emsp;&emsp;    `mkdir plants` creates the plants directory in the current working directory.  \n",
    "    &emsp;&emsp;             `mkdir ~/plants` creates the plants directory in the home directory.  \n",
    "    &emsp;&emsp;            `mkdir /plants` creates the plants directory in the root directory  \n",
    "\n",
    "\n",
    "`touch`: Touch creates a file with the specified name    \n",
    "    &emsp;    Example: `touch text.txt` creates an empty `.txt` file named text  \n",
    "  \n",
    "`nano`: Nano is a simple built in editor. You can specify a file name, if the file doesn't exist it will create it.  \n",
    "     &emsp;   Example: `nano text.txt` opens or creates `text.txt` and allows you to edit it.  \n",
    "\n",
    "`cat`: Concatenate prints a files contents.  \n",
    "     &emsp;   Example: `cat text.txt` prints the contents of the `text.txt` file.  \n",
    "\n",
    "`mv`: Moves a file to a specific place. This is also the command to rename things. Be careful, it is easy to delete files by accident by  not giving them a valid name. This first argument is the file to move, the second argument is where to move it.  \n",
    " &emsp;       Example: `mv text.txt not_text.txt`: Renames text.txt to not_text.txt.   \n",
    " &emsp;&emsp;               `mv text.txt ./Test/text.txt` moves text.txt to the test folder in the current working directory.  \n",
    "  &emsp;&emsp;              `mv ./Test/text.txt ./A/text.xt` moves text.txt out of the Test folder and into the A folder.  \n",
    "\n",
    "\n",
    "`cp`: Copies a file to a specific place. \n",
    "     &emsp;   Example: `cp text.txt ./Test/` copies text.txt to the test folder     \n",
    "       &emsp;&emsp;         `cp text.txt ./Test/not_text.txt` copies text.txt to the test folder and renames it not_text.txt.    \n",
    "\n",
    "\n",
    "`rm`: Removes a file at a specific place.  \n",
    "    &emsp;    Example: `rm text.txt` deletes text.txt  \n",
    "\n",
    "`rmdir`: Deletes an empty directory.  \n",
    "     &emsp;   Example: `rmdir plants` removes the plants directory if its empty.  \n",
    "\n",
    "\n",
    "`code`: Opens or creates the file or folder in Visual Studio Code  \n",
    "    &emsp;    Example: `code text.txt` Opens or creates text.txt in Visual Studio Code  \n"
   ]
  },
  {
   "cell_type": "markdown",
   "metadata": {},
   "source": [
    "### Advanced Techniques\n",
    "\n",
    "Wildcard `*`:   \n",
    "&emsp;&emsp; What if you want to open or copy multiple files that all have the same extensions? You can use the wildcard. The wildcard (*) is used to represent zero or more characters in a filename or a command.    \n",
    "&emsp;&emsp;&emsp;Examples: `cp *.txt /testing/` copies all the files in the current directory to the the testing folder.  \n",
    "                \n",
    "`.`: This is used to represent the current working directory    \n",
    "  &emsp;&emsp;&emsp;      Example: `code .` opens the current folder in VS Code  \n",
    "\n",
    "Extra Arguments: Most commands have extra arguments you can add to augment them.  \n",
    "\n",
    "`ls`:  \n",
    " &emsp;&emsp;   `-l`: This argument (lowercase L) is used to display the long format listing of files and directories. It shows more information about each file, such as the file permissions, owner, size, and modification date and time.    \n",
    "&emsp;  &emsp;  `-a`: This argument (lowercase A) is used to display all files and directories, including hidden files that start with a dot (.). By default, ls does not show hidden files.  \n",
    " &emsp;&emsp;   `-h`: This argument (lowercase H) is used to display file sizes in a human-readable format, such as \"10K\" or \"5.2M\", instead of in bytes.  \n",
    " &emsp; &emsp;  `-t`: This argument is used to sort files by modification time, with the most recently modified files listed first.  \n",
    "  &emsp;&emsp;  `-r`: This argument is used to reverse the order of the sorting, so that files are listed in reverse order (e.g., from oldest to newest or from Z to A).  \n",
    "  &emsp;&emsp;  `-S`: This argument is used to sort files by size, with the largest files listed first.  \n",
    "\n",
    "\n",
    "`rm`:  \n",
    "&emsp;&emsp;    `-r`: This argument (lowercase R) is used to delete directories and their contents recursively. This is the best way to delete a folder and all of its contents.  \n",
    "&emsp;&emsp;    `-f`: This argument (lowercase F) is used to force the deletion of files and directories, without prompting for confirmation and without displaying error messages. This is often needed when deleting git folders.  \n",
    "\n",
    "`cp`:  \n",
    " &emsp;&emsp;   `-r`: This argument  (lowercase R) is used to copy directories and their contents recursively. This is the best way to copy a folder that has multiple files inside of it. \n",
    "\n",
    "\n",
    "Redirection:  \n",
    " &emsp;   Often instead of having our output print to the command line we want to save it in a file. We can use the `>` redirect operator for this.  \n",
    " &emsp;       Example: `ls > text.txt` stores the printing of `ls` in `text.txt`  \n",
    "\n",
    "Piping:  \n",
    "  &emsp;  What if instead we wanted to send its output to a different command? Then we can use the `|` command.  \n",
    "  &emsp;      Example: `ls | grep '.txt'`: `grep` is used to filter the results of the `ls` command\n",
    "\n"
   ]
  },
  {
   "cell_type": "code",
   "execution_count": null,
   "metadata": {},
   "outputs": [],
   "source": [
    "#@title For each question Type your Bash code below and execute it with the play button.\n",
    "%%bash\n",
    "#Put your code here\n",
    "cd /content"
   ]
  },
  {
   "cell_type": "code",
   "execution_count": null,
   "metadata": {},
   "outputs": [],
   "source": [
    "#@title Question 1\n",
    "print_frq_grid(1)"
   ]
  },
  {
   "cell_type": "code",
   "execution_count": null,
   "metadata": {},
   "outputs": [],
   "source": [
    "#@title Question 2: Create the directory plants in the QuestionTwo folder\n",
    "print_button(2)"
   ]
  },
  {
   "cell_type": "code",
   "execution_count": null,
   "metadata": {},
   "outputs": [],
   "source": [
    "#@title Question 3: Create copy the QuestionOne folder into the QuestionThree folder with all of its contents\n",
    "print_button(3)"
   ]
  },
  {
   "cell_type": "code",
   "execution_count": null,
   "metadata": {},
   "outputs": [],
   "source": [
    "#@title Question 4: Rename the file \"text.txt\" that is in the QuestionFour folder to \"q4.q4\"\n",
    "print_button(4)"
   ]
  },
  {
   "cell_type": "code",
   "execution_count": null,
   "metadata": {},
   "outputs": [],
   "source": [
    "#@ Question 5: Print the contents of the \"text.txt\" file in QuestionFive into a new file called \"q5.q5\"\n",
    "print_button(5)"
   ]
  },
  {
   "cell_type": "code",
   "execution_count": null,
   "metadata": {},
   "outputs": [],
   "source": [
    "#@title Question 6: Create an empty file called \"q6.q6\" in QuestionSix folder\n",
    "print_button(6)"
   ]
  },
  {
   "cell_type": "code",
   "execution_count": null,
   "metadata": {},
   "outputs": [],
   "source": [
    "#@title Remove the \"text.txt\" file in QuestionSeven directory\n",
    "print_button(7)"
   ]
  },
  {
   "attachments": {},
   "cell_type": "markdown",
   "metadata": {},
   "source": [
    "Click [Here](https://colab.research.google.com/github/byuccl/digital_design_colab2/blob/master/Tutorials/using_simulation_tools/using_simulation_tools.ipynb) to move on to the Simulation Tools Tutorial."
   ]
  }
 ],
 "metadata": {
  "kernelspec": {
   "display_name": "Python 3",
   "language": "python",
   "name": "python3"
  },
  "language_info": {
   "name": "python",
   "version": "3.8.10 (default, Nov 14 2022, 12:59:47) \n[GCC 9.4.0]"
  },
  "orig_nbformat": 4,
  "vscode": {
   "interpreter": {
    "hash": "916dbcbb3f70747c44a77c7bcd40155683ae19c65e1c03b4aa3499c5328201f1"
   }
  }
 },
 "nbformat": 4,
 "nbformat_minor": 2
}
