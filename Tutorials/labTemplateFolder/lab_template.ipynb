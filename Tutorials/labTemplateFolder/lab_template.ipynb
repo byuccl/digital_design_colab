{
 "cells": [
  {
   "cell_type": "markdown",
   "id": "ace1ff52",
   "metadata": {},
   "source": [
    "# Lab Title\n",
    "Briefly introduce the lab, including its objectives and what the student will learn or achieve by completing it."
   ]
  },
  {
   "cell_type": "markdown",
   "id": "6d15efc2",
   "metadata": {},
   "source": [
    "## **Setup**\n",
    "Provide detailed instructions on how to set up the environment for the lab. This may include installing software, setting up hardware, or preparing any necessary files or dependencies.\n",
    "The following cells is run, with the generic setup for the majority of labs. The Wavedrom Extension is not used as much, but can be used for specific instances.\n",
    "The Setup cell is commented with various information, that can be adapted for usage"
   ]
  },
  {
   "cell_type": "code",
   "execution_count": null,
   "id": "f69d2c04",
   "metadata": {
    "vscode": {
     "languageId": "plaintext"
    }
   },
   "outputs": [],
   "source": [
    "#@title Install VCD\n",
    "!git clone https://github.com/yne/vcd.git\n",
    "!make -C /content/vcd\n",
    "%cd /content/vcd\n",
    "!make install\n",
    "%cd /"
   ]
  },
  {
   "cell_type": "code",
   "execution_count": null,
   "id": "2e6f6bbd",
   "metadata": {
    "vscode": {
     "languageId": "plaintext"
    }
   },
   "outputs": [],
   "source": [
    "#@title Import Files from Repo\n",
    "import ipywidgets as widgets\n",
    "from ipywidgets import GridspecLayout\n",
    "from ipywidgets import AppLayout, Button, Layout, jslink, IntText, IntSlider\n",
    "import requests\n",
    "\n",
    "!mkdir -p /content/tmp_code\n",
    "#Creates a text document using the Raw github url. This text document will be used as a .py file for imports\n",
    "def import_text(text):\n",
    "  url = \"https://raw.githubusercontent.com/byuccl/digital_design_colab/master/Labs/arithmetic_lab/files/%s\" % text\n",
    "  resp = requests.get(url)\n",
    "  with open(text, 'wb') as f:\n",
    "    f.write(resp.content)\n",
    "\n",
    "import_text(\"import_all.py\")\n",
    "from import_all import *\n",
    "import_source()\n",
    "import_packages()\n",
    "from simulation import *\n",
    "from vcd2wd import *"
   ]
  },
  {
   "cell_type": "code",
   "execution_count": null,
   "id": "62ad3a0c",
   "metadata": {
    "vscode": {
     "languageId": "plaintext"
    }
   },
   "outputs": [],
   "source": [
    "#@title Install Verilator\n",
    "!apt-get install verilator >/dev/null"
   ]
  },
  {
   "cell_type": "code",
   "execution_count": null,
   "id": "a60338d8",
   "metadata": {
    "vscode": {
     "languageId": "plaintext"
    }
   },
   "outputs": [],
   "source": [
    "#@title Install Wavedrom Extension\n",
    "!pip install --upgrade git+https://github.com/anon36424/nb_js_diagrammers.git\n",
    "%load_ext nb_js_diagrammers"
   ]
  },
  {
   "cell_type": "markdown",
   "id": "6ed04607",
   "metadata": {},
   "source": [
    "## Introduction\n",
    "Introduce the main concepts and background information necessary to understand and complete the lab. This section should provide a solid foundation for the tasks that will be performed."
   ]
  },
  {
   "cell_type": "markdown",
   "id": "b88e63c4",
   "metadata": {},
   "source": [
    "## Common Tools\n",
    "The cells below outline a lot of the common tools and their usage throughout labs"
   ]
  },
  {
   "cell_type": "code",
   "execution_count": null,
   "id": "7ca7ea13",
   "metadata": {
    "vscode": {
     "languageId": "plaintext"
    }
   },
   "outputs": [],
   "source": [
    "#@title Launch Simulation Workspace \n",
    "createSimulationWorkSpace(\"tmp_code/full_add\")"
   ]
  },
  {
   "cell_type": "code",
   "execution_count": null,
   "id": "569b4201",
   "metadata": {
    "vscode": {
     "languageId": "plaintext"
    }
   },
   "outputs": [],
   "source": [
    "#@title Verilator TestBench\n",
    "# !verilator --cc full_add \n",
    "!verilator -Wall --trace -cc full_add.sv --exe tb_full_add.cpp\n",
    "!make -C obj_dir -f Vfull_add.mk Vfull_add > /dev/null\n",
    "!./obj_dir/Vfull_add"
   ]
  },
  {
   "cell_type": "code",
   "execution_count": null,
   "id": "77f8de86",
   "metadata": {
    "vscode": {
     "languageId": "plaintext"
    }
   },
   "outputs": [],
   "source": [
    "#@title Create WaveDrom\n",
    "df2wd(\"full_add\")"
   ]
  },
  {
   "cell_type": "code",
   "execution_count": null,
   "id": "f5e50789",
   "metadata": {
    "vscode": {
     "languageId": "plaintext"
    }
   },
   "outputs": [],
   "source": [
    "#@title Show WaveDrom\n",
    "%%wavedrom_magic -h 200 -o /content/tmp_code/full_add.txt\n",
    "---"
   ]
  },
  {
   "cell_type": "markdown",
   "id": "ed016405",
   "metadata": {},
   "source": [
    "## Objectives\n",
    "List the specific objectives or tasks that the student will accomplish in this lab. Objectives should be clear, measurable, and directly related to the learning goals of the lab."
   ]
  },
  {
   "cell_type": "markdown",
   "id": "afe2ed92",
   "metadata": {},
   "source": [
    "### Objective 1: [Title]\n",
    "- Description: Briefly describe what the student will do in this objective.\n",
    "- Steps: Outline the steps the student will follow to complete the objective.\n",
    "- Expected Outcome: Describe what success looks like for this objective."
   ]
  },
  {
   "cell_type": "markdown",
   "id": "312febfa",
   "metadata": {},
   "source": [
    "### Objective 2: [Title]\n",
    "- Description: Briefly describe what the student will do in this objective.\n",
    "- Steps: Outline the steps the student will follow to complete the objective.\n",
    "- Expected Outcome: Describe what success looks like for this objective."
   ]
  },
  {
   "cell_type": "markdown",
   "id": "b8347f4e",
   "metadata": {},
   "source": [
    "## Additional Concepts\n",
    "If there are additional concepts or advanced topics that the student will encounter, provide explanations or references here. This section can be used to deepen understanding or to introduce related topics that enhance the lab experience."
   ]
  },
  {
   "cell_type": "markdown",
   "id": "81687aee",
   "metadata": {},
   "source": [
    "## Conclusion\n",
    "Summarize what the student has learned and accomplished in the lab. Discuss how the skills or knowledge gained can be applied in other scenarios or future projects."
   ]
  },
  {
   "cell_type": "markdown",
   "id": "4686d20c",
   "metadata": {},
   "source": [
    "## Challenges (Optional)\n",
    "Provide optional challenges or extension activities for students who finish early or wish to explore further. These should build on the lab's content and encourage deeper engagement with the material."
   ]
  },
  {
   "cell_type": "markdown",
   "id": "aee1ea88",
   "metadata": {},
   "source": [
    "## References\n",
    "List any references, resources, or further reading that can help students understand the lab's topics in more depth."
   ]
  }
 ],
 "metadata": {
  "language_info": {
   "name": "python"
  }
 },
 "nbformat": 4,
 "nbformat_minor": 5
}
